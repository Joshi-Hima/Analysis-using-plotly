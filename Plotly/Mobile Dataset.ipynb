{
 "cells": [
  {
   "cell_type": "code",
   "execution_count": 1,
   "id": "3e6b2cf3",
   "metadata": {},
   "outputs": [
    {
     "data": {
      "text/html": [
       "        <script type=\"text/javascript\">\n",
       "        window.PlotlyConfig = {MathJaxConfig: 'local'};\n",
       "        if (window.MathJax && window.MathJax.Hub && window.MathJax.Hub.Config) {window.MathJax.Hub.Config({SVG: {font: \"STIX-Web\"}});}\n",
       "        if (typeof require !== 'undefined') {\n",
       "        require.undef(\"plotly\");\n",
       "        requirejs.config({\n",
       "            paths: {\n",
       "                'plotly': ['https://cdn.plot.ly/plotly-2.12.1.min']\n",
       "            }\n",
       "        });\n",
       "        require(['plotly'], function(Plotly) {\n",
       "            window._Plotly = Plotly;\n",
       "        });\n",
       "        }\n",
       "        </script>\n",
       "        "
      ]
     },
     "metadata": {},
     "output_type": "display_data"
    }
   ],
   "source": [
    "import pandas as pd\n",
    "import numpy as np\n",
    "import seaborn as sns\n",
    "\n",
    "#plotly library\n",
    "import chart_studio.plotly as py\n",
    "from plotly.offline import init_notebook_mode, iplot\n",
    "import plotly.graph_objs as go\n",
    "from plotly import tools\n",
    "init_notebook_mode(connected=True)\n",
    "\n",
    "import matplotlib.pyplot as plt\n",
    "\n",
    "from wordcloud import wordcloud\n",
    "\n",
    "#from a unix time to a date\n",
    "from time import strftime\n",
    "from datetime import datetime\n",
    "\n",
    "import warnings\n",
    "warnings.filterwarnings('ignore')"
   ]
  },
  {
   "cell_type": "code",
   "execution_count": 2,
   "id": "633f22a6",
   "metadata": {},
   "outputs": [],
   "source": [
    "df = pd.read_csv('mobile_sales.csv')"
   ]
  },
  {
   "cell_type": "code",
   "execution_count": 3,
   "id": "be87677f",
   "metadata": {},
   "outputs": [
    {
     "data": {
      "text/html": [
       "<div>\n",
       "<style scoped>\n",
       "    .dataframe tbody tr th:only-of-type {\n",
       "        vertical-align: middle;\n",
       "    }\n",
       "\n",
       "    .dataframe tbody tr th {\n",
       "        vertical-align: top;\n",
       "    }\n",
       "\n",
       "    .dataframe thead th {\n",
       "        text-align: right;\n",
       "    }\n",
       "</style>\n",
       "<table border=\"1\" class=\"dataframe\">\n",
       "  <thead>\n",
       "    <tr style=\"text-align: right;\">\n",
       "      <th></th>\n",
       "      <th>TransactionID</th>\n",
       "      <th>Date</th>\n",
       "      <th>MobileModel</th>\n",
       "      <th>Brand</th>\n",
       "      <th>Price</th>\n",
       "      <th>UnitsSold</th>\n",
       "      <th>TotalRevenue</th>\n",
       "      <th>CustomerAge</th>\n",
       "      <th>CustomerGender</th>\n",
       "      <th>Location</th>\n",
       "      <th>PaymentMethod</th>\n",
       "    </tr>\n",
       "  </thead>\n",
       "  <tbody>\n",
       "    <tr>\n",
       "      <th>0</th>\n",
       "      <td>79397f68-61ed-4ea8-bcb2-f918d4e6c05b</td>\n",
       "      <td>2024-01-06</td>\n",
       "      <td>direction</td>\n",
       "      <td>Green Inc</td>\n",
       "      <td>1196.95</td>\n",
       "      <td>85</td>\n",
       "      <td>28002.80</td>\n",
       "      <td>32</td>\n",
       "      <td>Female</td>\n",
       "      <td>Port Erik</td>\n",
       "      <td>Online</td>\n",
       "    </tr>\n",
       "    <tr>\n",
       "      <th>1</th>\n",
       "      <td>4f87d114-f522-4ead-93e3-f336402df6aa</td>\n",
       "      <td>2024-04-05</td>\n",
       "      <td>right</td>\n",
       "      <td>Thomas-Thompson</td>\n",
       "      <td>1010.34</td>\n",
       "      <td>64</td>\n",
       "      <td>2378.82</td>\n",
       "      <td>55</td>\n",
       "      <td>Female</td>\n",
       "      <td>East Linda</td>\n",
       "      <td>Credit Card</td>\n",
       "    </tr>\n",
       "    <tr>\n",
       "      <th>2</th>\n",
       "      <td>6750b7d6-dcc5-48c5-a76a-b6fc9d540fe1</td>\n",
       "      <td>2024-02-13</td>\n",
       "      <td>summer</td>\n",
       "      <td>Sanchez-Williams</td>\n",
       "      <td>400.80</td>\n",
       "      <td>95</td>\n",
       "      <td>31322.56</td>\n",
       "      <td>57</td>\n",
       "      <td>Male</td>\n",
       "      <td>East Angelicastad</td>\n",
       "      <td>Online</td>\n",
       "    </tr>\n",
       "    <tr>\n",
       "      <th>3</th>\n",
       "      <td>7da7de95-f772-4cc2-bce0-b0873f98233e</td>\n",
       "      <td>2024-04-17</td>\n",
       "      <td>keep</td>\n",
       "      <td>Greer and Sons</td>\n",
       "      <td>338.60</td>\n",
       "      <td>79</td>\n",
       "      <td>31159.75</td>\n",
       "      <td>46</td>\n",
       "      <td>Other</td>\n",
       "      <td>East Kevin</td>\n",
       "      <td>Cash</td>\n",
       "    </tr>\n",
       "    <tr>\n",
       "      <th>4</th>\n",
       "      <td>469044af-0d60-4d87-af66-c6603e844057</td>\n",
       "      <td>2024-06-02</td>\n",
       "      <td>option</td>\n",
       "      <td>Brown and Sons</td>\n",
       "      <td>839.79</td>\n",
       "      <td>41</td>\n",
       "      <td>11523.36</td>\n",
       "      <td>38</td>\n",
       "      <td>Male</td>\n",
       "      <td>New Lindaborough</td>\n",
       "      <td>Online</td>\n",
       "    </tr>\n",
       "    <tr>\n",
       "      <th>...</th>\n",
       "      <td>...</td>\n",
       "      <td>...</td>\n",
       "      <td>...</td>\n",
       "      <td>...</td>\n",
       "      <td>...</td>\n",
       "      <td>...</td>\n",
       "      <td>...</td>\n",
       "      <td>...</td>\n",
       "      <td>...</td>\n",
       "      <td>...</td>\n",
       "      <td>...</td>\n",
       "    </tr>\n",
       "    <tr>\n",
       "      <th>995</th>\n",
       "      <td>41f08915-addb-4966-8628-038c479c619a</td>\n",
       "      <td>2024-01-28</td>\n",
       "      <td>challenge</td>\n",
       "      <td>Brooks Ltd</td>\n",
       "      <td>1386.69</td>\n",
       "      <td>76</td>\n",
       "      <td>28865.70</td>\n",
       "      <td>39</td>\n",
       "      <td>Male</td>\n",
       "      <td>Ronaldchester</td>\n",
       "      <td>Credit Card</td>\n",
       "    </tr>\n",
       "    <tr>\n",
       "      <th>996</th>\n",
       "      <td>bcfa1912-5bd8-4894-900f-376fa48f022d</td>\n",
       "      <td>2024-07-13</td>\n",
       "      <td>least</td>\n",
       "      <td>Lang, Brown and Stone</td>\n",
       "      <td>1159.26</td>\n",
       "      <td>59</td>\n",
       "      <td>50471.42</td>\n",
       "      <td>21</td>\n",
       "      <td>Other</td>\n",
       "      <td>West Jenniferport</td>\n",
       "      <td>Credit Card</td>\n",
       "    </tr>\n",
       "    <tr>\n",
       "      <th>997</th>\n",
       "      <td>e6839305-a177-4cda-aada-3ac1f49eeeec</td>\n",
       "      <td>2024-01-13</td>\n",
       "      <td>enjoy</td>\n",
       "      <td>Atkinson, Moore and Nelson</td>\n",
       "      <td>544.31</td>\n",
       "      <td>59</td>\n",
       "      <td>1381.82</td>\n",
       "      <td>26</td>\n",
       "      <td>Female</td>\n",
       "      <td>Barneschester</td>\n",
       "      <td>Credit Card</td>\n",
       "    </tr>\n",
       "    <tr>\n",
       "      <th>998</th>\n",
       "      <td>12f7ac32-9063-4ae5-a122-385b06ba77af</td>\n",
       "      <td>2024-01-25</td>\n",
       "      <td>half</td>\n",
       "      <td>Kim, Maxwell and Moore</td>\n",
       "      <td>331.98</td>\n",
       "      <td>84</td>\n",
       "      <td>8557.32</td>\n",
       "      <td>20</td>\n",
       "      <td>Male</td>\n",
       "      <td>Jonesborough</td>\n",
       "      <td>Online</td>\n",
       "    </tr>\n",
       "    <tr>\n",
       "      <th>999</th>\n",
       "      <td>d3e82026-2084-40f2-8d5d-d2a94a198af9</td>\n",
       "      <td>2024-01-17</td>\n",
       "      <td>fill</td>\n",
       "      <td>Wallace LLC</td>\n",
       "      <td>973.97</td>\n",
       "      <td>79</td>\n",
       "      <td>70739.76</td>\n",
       "      <td>44</td>\n",
       "      <td>Female</td>\n",
       "      <td>Port Luis</td>\n",
       "      <td>Credit Card</td>\n",
       "    </tr>\n",
       "  </tbody>\n",
       "</table>\n",
       "<p>1000 rows × 11 columns</p>\n",
       "</div>"
      ],
      "text/plain": [
       "                            TransactionID        Date MobileModel  \\\n",
       "0    79397f68-61ed-4ea8-bcb2-f918d4e6c05b  2024-01-06   direction   \n",
       "1    4f87d114-f522-4ead-93e3-f336402df6aa  2024-04-05       right   \n",
       "2    6750b7d6-dcc5-48c5-a76a-b6fc9d540fe1  2024-02-13      summer   \n",
       "3    7da7de95-f772-4cc2-bce0-b0873f98233e  2024-04-17        keep   \n",
       "4    469044af-0d60-4d87-af66-c6603e844057  2024-06-02      option   \n",
       "..                                    ...         ...         ...   \n",
       "995  41f08915-addb-4966-8628-038c479c619a  2024-01-28   challenge   \n",
       "996  bcfa1912-5bd8-4894-900f-376fa48f022d  2024-07-13       least   \n",
       "997  e6839305-a177-4cda-aada-3ac1f49eeeec  2024-01-13       enjoy   \n",
       "998  12f7ac32-9063-4ae5-a122-385b06ba77af  2024-01-25        half   \n",
       "999  d3e82026-2084-40f2-8d5d-d2a94a198af9  2024-01-17        fill   \n",
       "\n",
       "                          Brand    Price  UnitsSold  TotalRevenue  \\\n",
       "0                     Green Inc  1196.95         85      28002.80   \n",
       "1               Thomas-Thompson  1010.34         64       2378.82   \n",
       "2              Sanchez-Williams   400.80         95      31322.56   \n",
       "3                Greer and Sons   338.60         79      31159.75   \n",
       "4                Brown and Sons   839.79         41      11523.36   \n",
       "..                          ...      ...        ...           ...   \n",
       "995                  Brooks Ltd  1386.69         76      28865.70   \n",
       "996       Lang, Brown and Stone  1159.26         59      50471.42   \n",
       "997  Atkinson, Moore and Nelson   544.31         59       1381.82   \n",
       "998      Kim, Maxwell and Moore   331.98         84       8557.32   \n",
       "999                 Wallace LLC   973.97         79      70739.76   \n",
       "\n",
       "     CustomerAge CustomerGender           Location PaymentMethod  \n",
       "0             32         Female          Port Erik        Online  \n",
       "1             55         Female         East Linda   Credit Card  \n",
       "2             57           Male  East Angelicastad        Online  \n",
       "3             46          Other         East Kevin          Cash  \n",
       "4             38           Male   New Lindaborough        Online  \n",
       "..           ...            ...                ...           ...  \n",
       "995           39           Male      Ronaldchester   Credit Card  \n",
       "996           21          Other  West Jenniferport   Credit Card  \n",
       "997           26         Female      Barneschester   Credit Card  \n",
       "998           20           Male       Jonesborough        Online  \n",
       "999           44         Female          Port Luis   Credit Card  \n",
       "\n",
       "[1000 rows x 11 columns]"
      ]
     },
     "execution_count": 3,
     "metadata": {},
     "output_type": "execute_result"
    }
   ],
   "source": [
    "df"
   ]
  },
  {
   "cell_type": "code",
   "execution_count": 4,
   "id": "5213a2cb",
   "metadata": {},
   "outputs": [
    {
     "name": "stdout",
     "output_type": "stream",
     "text": [
      "<class 'pandas.core.frame.DataFrame'>\n",
      "RangeIndex: 1000 entries, 0 to 999\n",
      "Data columns (total 11 columns):\n",
      " #   Column          Non-Null Count  Dtype  \n",
      "---  ------          --------------  -----  \n",
      " 0   TransactionID   1000 non-null   object \n",
      " 1   Date            1000 non-null   object \n",
      " 2   MobileModel     1000 non-null   object \n",
      " 3   Brand           1000 non-null   object \n",
      " 4   Price           1000 non-null   float64\n",
      " 5   UnitsSold       1000 non-null   int64  \n",
      " 6   TotalRevenue    1000 non-null   float64\n",
      " 7   CustomerAge     1000 non-null   int64  \n",
      " 8   CustomerGender  1000 non-null   object \n",
      " 9   Location        1000 non-null   object \n",
      " 10  PaymentMethod   1000 non-null   object \n",
      "dtypes: float64(2), int64(2), object(7)\n",
      "memory usage: 86.1+ KB\n"
     ]
    }
   ],
   "source": [
    "df.info()"
   ]
  },
  {
   "cell_type": "code",
   "execution_count": 5,
   "id": "77862e65",
   "metadata": {},
   "outputs": [
    {
     "data": {
      "text/html": [
       "<div>\n",
       "<style scoped>\n",
       "    .dataframe tbody tr th:only-of-type {\n",
       "        vertical-align: middle;\n",
       "    }\n",
       "\n",
       "    .dataframe tbody tr th {\n",
       "        vertical-align: top;\n",
       "    }\n",
       "\n",
       "    .dataframe thead th {\n",
       "        text-align: right;\n",
       "    }\n",
       "</style>\n",
       "<table border=\"1\" class=\"dataframe\">\n",
       "  <thead>\n",
       "    <tr style=\"text-align: right;\">\n",
       "      <th></th>\n",
       "      <th>Price</th>\n",
       "      <th>UnitsSold</th>\n",
       "      <th>TotalRevenue</th>\n",
       "      <th>CustomerAge</th>\n",
       "    </tr>\n",
       "  </thead>\n",
       "  <tbody>\n",
       "    <tr>\n",
       "      <th>count</th>\n",
       "      <td>1000.000000</td>\n",
       "      <td>1000.000000</td>\n",
       "      <td>1000.000000</td>\n",
       "      <td>1000.000000</td>\n",
       "    </tr>\n",
       "    <tr>\n",
       "      <th>mean</th>\n",
       "      <td>807.512970</td>\n",
       "      <td>50.074000</td>\n",
       "      <td>40218.445040</td>\n",
       "      <td>41.141000</td>\n",
       "    </tr>\n",
       "    <tr>\n",
       "      <th>std</th>\n",
       "      <td>402.489878</td>\n",
       "      <td>28.616804</td>\n",
       "      <td>32715.290358</td>\n",
       "      <td>13.528346</td>\n",
       "    </tr>\n",
       "    <tr>\n",
       "      <th>min</th>\n",
       "      <td>103.320000</td>\n",
       "      <td>1.000000</td>\n",
       "      <td>116.850000</td>\n",
       "      <td>18.000000</td>\n",
       "    </tr>\n",
       "    <tr>\n",
       "      <th>25%</th>\n",
       "      <td>458.037500</td>\n",
       "      <td>25.000000</td>\n",
       "      <td>13316.037500</td>\n",
       "      <td>29.000000</td>\n",
       "    </tr>\n",
       "    <tr>\n",
       "      <th>50%</th>\n",
       "      <td>823.730000</td>\n",
       "      <td>51.000000</td>\n",
       "      <td>30860.655000</td>\n",
       "      <td>41.000000</td>\n",
       "    </tr>\n",
       "    <tr>\n",
       "      <th>75%</th>\n",
       "      <td>1157.875000</td>\n",
       "      <td>75.000000</td>\n",
       "      <td>60770.435000</td>\n",
       "      <td>53.000000</td>\n",
       "    </tr>\n",
       "    <tr>\n",
       "      <th>max</th>\n",
       "      <td>1499.250000</td>\n",
       "      <td>99.000000</td>\n",
       "      <td>141411.840000</td>\n",
       "      <td>64.000000</td>\n",
       "    </tr>\n",
       "  </tbody>\n",
       "</table>\n",
       "</div>"
      ],
      "text/plain": [
       "             Price    UnitsSold   TotalRevenue  CustomerAge\n",
       "count  1000.000000  1000.000000    1000.000000  1000.000000\n",
       "mean    807.512970    50.074000   40218.445040    41.141000\n",
       "std     402.489878    28.616804   32715.290358    13.528346\n",
       "min     103.320000     1.000000     116.850000    18.000000\n",
       "25%     458.037500    25.000000   13316.037500    29.000000\n",
       "50%     823.730000    51.000000   30860.655000    41.000000\n",
       "75%    1157.875000    75.000000   60770.435000    53.000000\n",
       "max    1499.250000    99.000000  141411.840000    64.000000"
      ]
     },
     "execution_count": 5,
     "metadata": {},
     "output_type": "execute_result"
    }
   ],
   "source": [
    "df.describe()"
   ]
  },
  {
   "cell_type": "code",
   "execution_count": 6,
   "id": "61ff2814",
   "metadata": {},
   "outputs": [
    {
     "data": {
      "text/plain": [
       "TransactionID     0\n",
       "Date              0\n",
       "MobileModel       0\n",
       "Brand             0\n",
       "Price             0\n",
       "UnitsSold         0\n",
       "TotalRevenue      0\n",
       "CustomerAge       0\n",
       "CustomerGender    0\n",
       "Location          0\n",
       "PaymentMethod     0\n",
       "dtype: int64"
      ]
     },
     "execution_count": 6,
     "metadata": {},
     "output_type": "execute_result"
    }
   ],
   "source": [
    "df.isna().sum()"
   ]
  },
  {
   "cell_type": "code",
   "execution_count": 7,
   "id": "b385978b",
   "metadata": {},
   "outputs": [
    {
     "data": {
      "text/html": [
       "<div>\n",
       "<style scoped>\n",
       "    .dataframe tbody tr th:only-of-type {\n",
       "        vertical-align: middle;\n",
       "    }\n",
       "\n",
       "    .dataframe tbody tr th {\n",
       "        vertical-align: top;\n",
       "    }\n",
       "\n",
       "    .dataframe thead th {\n",
       "        text-align: right;\n",
       "    }\n",
       "</style>\n",
       "<table border=\"1\" class=\"dataframe\">\n",
       "  <thead>\n",
       "    <tr style=\"text-align: right;\">\n",
       "      <th></th>\n",
       "      <th>TransactionID</th>\n",
       "      <th>Date</th>\n",
       "      <th>MobileModel</th>\n",
       "      <th>Brand</th>\n",
       "      <th>Price</th>\n",
       "      <th>UnitsSold</th>\n",
       "      <th>TotalRevenue</th>\n",
       "      <th>CustomerAge</th>\n",
       "      <th>CustomerGender</th>\n",
       "      <th>Location</th>\n",
       "      <th>PaymentMethod</th>\n",
       "      <th>Year</th>\n",
       "      <th>Month</th>\n",
       "      <th>Day</th>\n",
       "    </tr>\n",
       "  </thead>\n",
       "  <tbody>\n",
       "    <tr>\n",
       "      <th>0</th>\n",
       "      <td>79397f68-61ed-4ea8-bcb2-f918d4e6c05b</td>\n",
       "      <td>2024-01-06</td>\n",
       "      <td>direction</td>\n",
       "      <td>Green Inc</td>\n",
       "      <td>1196.95</td>\n",
       "      <td>85</td>\n",
       "      <td>28002.80</td>\n",
       "      <td>32</td>\n",
       "      <td>Female</td>\n",
       "      <td>Port Erik</td>\n",
       "      <td>Online</td>\n",
       "      <td>2024</td>\n",
       "      <td>1</td>\n",
       "      <td>6</td>\n",
       "    </tr>\n",
       "    <tr>\n",
       "      <th>1</th>\n",
       "      <td>4f87d114-f522-4ead-93e3-f336402df6aa</td>\n",
       "      <td>2024-04-05</td>\n",
       "      <td>right</td>\n",
       "      <td>Thomas-Thompson</td>\n",
       "      <td>1010.34</td>\n",
       "      <td>64</td>\n",
       "      <td>2378.82</td>\n",
       "      <td>55</td>\n",
       "      <td>Female</td>\n",
       "      <td>East Linda</td>\n",
       "      <td>Credit Card</td>\n",
       "      <td>2024</td>\n",
       "      <td>4</td>\n",
       "      <td>5</td>\n",
       "    </tr>\n",
       "    <tr>\n",
       "      <th>2</th>\n",
       "      <td>6750b7d6-dcc5-48c5-a76a-b6fc9d540fe1</td>\n",
       "      <td>2024-02-13</td>\n",
       "      <td>summer</td>\n",
       "      <td>Sanchez-Williams</td>\n",
       "      <td>400.80</td>\n",
       "      <td>95</td>\n",
       "      <td>31322.56</td>\n",
       "      <td>57</td>\n",
       "      <td>Male</td>\n",
       "      <td>East Angelicastad</td>\n",
       "      <td>Online</td>\n",
       "      <td>2024</td>\n",
       "      <td>2</td>\n",
       "      <td>13</td>\n",
       "    </tr>\n",
       "    <tr>\n",
       "      <th>3</th>\n",
       "      <td>7da7de95-f772-4cc2-bce0-b0873f98233e</td>\n",
       "      <td>2024-04-17</td>\n",
       "      <td>keep</td>\n",
       "      <td>Greer and Sons</td>\n",
       "      <td>338.60</td>\n",
       "      <td>79</td>\n",
       "      <td>31159.75</td>\n",
       "      <td>46</td>\n",
       "      <td>Other</td>\n",
       "      <td>East Kevin</td>\n",
       "      <td>Cash</td>\n",
       "      <td>2024</td>\n",
       "      <td>4</td>\n",
       "      <td>17</td>\n",
       "    </tr>\n",
       "    <tr>\n",
       "      <th>4</th>\n",
       "      <td>469044af-0d60-4d87-af66-c6603e844057</td>\n",
       "      <td>2024-06-02</td>\n",
       "      <td>option</td>\n",
       "      <td>Brown and Sons</td>\n",
       "      <td>839.79</td>\n",
       "      <td>41</td>\n",
       "      <td>11523.36</td>\n",
       "      <td>38</td>\n",
       "      <td>Male</td>\n",
       "      <td>New Lindaborough</td>\n",
       "      <td>Online</td>\n",
       "      <td>2024</td>\n",
       "      <td>6</td>\n",
       "      <td>2</td>\n",
       "    </tr>\n",
       "    <tr>\n",
       "      <th>...</th>\n",
       "      <td>...</td>\n",
       "      <td>...</td>\n",
       "      <td>...</td>\n",
       "      <td>...</td>\n",
       "      <td>...</td>\n",
       "      <td>...</td>\n",
       "      <td>...</td>\n",
       "      <td>...</td>\n",
       "      <td>...</td>\n",
       "      <td>...</td>\n",
       "      <td>...</td>\n",
       "      <td>...</td>\n",
       "      <td>...</td>\n",
       "      <td>...</td>\n",
       "    </tr>\n",
       "    <tr>\n",
       "      <th>995</th>\n",
       "      <td>41f08915-addb-4966-8628-038c479c619a</td>\n",
       "      <td>2024-01-28</td>\n",
       "      <td>challenge</td>\n",
       "      <td>Brooks Ltd</td>\n",
       "      <td>1386.69</td>\n",
       "      <td>76</td>\n",
       "      <td>28865.70</td>\n",
       "      <td>39</td>\n",
       "      <td>Male</td>\n",
       "      <td>Ronaldchester</td>\n",
       "      <td>Credit Card</td>\n",
       "      <td>2024</td>\n",
       "      <td>1</td>\n",
       "      <td>28</td>\n",
       "    </tr>\n",
       "    <tr>\n",
       "      <th>996</th>\n",
       "      <td>bcfa1912-5bd8-4894-900f-376fa48f022d</td>\n",
       "      <td>2024-07-13</td>\n",
       "      <td>least</td>\n",
       "      <td>Lang, Brown and Stone</td>\n",
       "      <td>1159.26</td>\n",
       "      <td>59</td>\n",
       "      <td>50471.42</td>\n",
       "      <td>21</td>\n",
       "      <td>Other</td>\n",
       "      <td>West Jenniferport</td>\n",
       "      <td>Credit Card</td>\n",
       "      <td>2024</td>\n",
       "      <td>7</td>\n",
       "      <td>13</td>\n",
       "    </tr>\n",
       "    <tr>\n",
       "      <th>997</th>\n",
       "      <td>e6839305-a177-4cda-aada-3ac1f49eeeec</td>\n",
       "      <td>2024-01-13</td>\n",
       "      <td>enjoy</td>\n",
       "      <td>Atkinson, Moore and Nelson</td>\n",
       "      <td>544.31</td>\n",
       "      <td>59</td>\n",
       "      <td>1381.82</td>\n",
       "      <td>26</td>\n",
       "      <td>Female</td>\n",
       "      <td>Barneschester</td>\n",
       "      <td>Credit Card</td>\n",
       "      <td>2024</td>\n",
       "      <td>1</td>\n",
       "      <td>13</td>\n",
       "    </tr>\n",
       "    <tr>\n",
       "      <th>998</th>\n",
       "      <td>12f7ac32-9063-4ae5-a122-385b06ba77af</td>\n",
       "      <td>2024-01-25</td>\n",
       "      <td>half</td>\n",
       "      <td>Kim, Maxwell and Moore</td>\n",
       "      <td>331.98</td>\n",
       "      <td>84</td>\n",
       "      <td>8557.32</td>\n",
       "      <td>20</td>\n",
       "      <td>Male</td>\n",
       "      <td>Jonesborough</td>\n",
       "      <td>Online</td>\n",
       "      <td>2024</td>\n",
       "      <td>1</td>\n",
       "      <td>25</td>\n",
       "    </tr>\n",
       "    <tr>\n",
       "      <th>999</th>\n",
       "      <td>d3e82026-2084-40f2-8d5d-d2a94a198af9</td>\n",
       "      <td>2024-01-17</td>\n",
       "      <td>fill</td>\n",
       "      <td>Wallace LLC</td>\n",
       "      <td>973.97</td>\n",
       "      <td>79</td>\n",
       "      <td>70739.76</td>\n",
       "      <td>44</td>\n",
       "      <td>Female</td>\n",
       "      <td>Port Luis</td>\n",
       "      <td>Credit Card</td>\n",
       "      <td>2024</td>\n",
       "      <td>1</td>\n",
       "      <td>17</td>\n",
       "    </tr>\n",
       "  </tbody>\n",
       "</table>\n",
       "<p>1000 rows × 14 columns</p>\n",
       "</div>"
      ],
      "text/plain": [
       "                            TransactionID       Date MobileModel  \\\n",
       "0    79397f68-61ed-4ea8-bcb2-f918d4e6c05b 2024-01-06   direction   \n",
       "1    4f87d114-f522-4ead-93e3-f336402df6aa 2024-04-05       right   \n",
       "2    6750b7d6-dcc5-48c5-a76a-b6fc9d540fe1 2024-02-13      summer   \n",
       "3    7da7de95-f772-4cc2-bce0-b0873f98233e 2024-04-17        keep   \n",
       "4    469044af-0d60-4d87-af66-c6603e844057 2024-06-02      option   \n",
       "..                                    ...        ...         ...   \n",
       "995  41f08915-addb-4966-8628-038c479c619a 2024-01-28   challenge   \n",
       "996  bcfa1912-5bd8-4894-900f-376fa48f022d 2024-07-13       least   \n",
       "997  e6839305-a177-4cda-aada-3ac1f49eeeec 2024-01-13       enjoy   \n",
       "998  12f7ac32-9063-4ae5-a122-385b06ba77af 2024-01-25        half   \n",
       "999  d3e82026-2084-40f2-8d5d-d2a94a198af9 2024-01-17        fill   \n",
       "\n",
       "                          Brand    Price  UnitsSold  TotalRevenue  \\\n",
       "0                     Green Inc  1196.95         85      28002.80   \n",
       "1               Thomas-Thompson  1010.34         64       2378.82   \n",
       "2              Sanchez-Williams   400.80         95      31322.56   \n",
       "3                Greer and Sons   338.60         79      31159.75   \n",
       "4                Brown and Sons   839.79         41      11523.36   \n",
       "..                          ...      ...        ...           ...   \n",
       "995                  Brooks Ltd  1386.69         76      28865.70   \n",
       "996       Lang, Brown and Stone  1159.26         59      50471.42   \n",
       "997  Atkinson, Moore and Nelson   544.31         59       1381.82   \n",
       "998      Kim, Maxwell and Moore   331.98         84       8557.32   \n",
       "999                 Wallace LLC   973.97         79      70739.76   \n",
       "\n",
       "     CustomerAge CustomerGender           Location PaymentMethod  Year  Month  \\\n",
       "0             32         Female          Port Erik        Online  2024      1   \n",
       "1             55         Female         East Linda   Credit Card  2024      4   \n",
       "2             57           Male  East Angelicastad        Online  2024      2   \n",
       "3             46          Other         East Kevin          Cash  2024      4   \n",
       "4             38           Male   New Lindaborough        Online  2024      6   \n",
       "..           ...            ...                ...           ...   ...    ...   \n",
       "995           39           Male      Ronaldchester   Credit Card  2024      1   \n",
       "996           21          Other  West Jenniferport   Credit Card  2024      7   \n",
       "997           26         Female      Barneschester   Credit Card  2024      1   \n",
       "998           20           Male       Jonesborough        Online  2024      1   \n",
       "999           44         Female          Port Luis   Credit Card  2024      1   \n",
       "\n",
       "     Day  \n",
       "0      6  \n",
       "1      5  \n",
       "2     13  \n",
       "3     17  \n",
       "4      2  \n",
       "..   ...  \n",
       "995   28  \n",
       "996   13  \n",
       "997   13  \n",
       "998   25  \n",
       "999   17  \n",
       "\n",
       "[1000 rows x 14 columns]"
      ]
     },
     "execution_count": 7,
     "metadata": {},
     "output_type": "execute_result"
    }
   ],
   "source": [
    "df['Date'] = pd.to_datetime(df['Date'])\n",
    "\n",
    "#Extract year, month and day\n",
    "\n",
    "df['Year'] = df['Date'].dt.year\n",
    "df['Month'] = df['Date'].dt.month\n",
    "df['Day'] = df['Date'].dt.day\n",
    "\n",
    "df"
   ]
  },
  {
   "cell_type": "code",
   "execution_count": null,
   "id": "bad42399",
   "metadata": {},
   "outputs": [],
   "source": []
  },
  {
   "cell_type": "code",
   "execution_count": 8,
   "id": "ba0463f8",
   "metadata": {},
   "outputs": [],
   "source": [
    "betn_600_and_1400 = df[(df['Price'] > 600) & (df['Price'] <= 1400)]"
   ]
  },
  {
   "cell_type": "code",
   "execution_count": 9,
   "id": "a43fce07",
   "metadata": {},
   "outputs": [
    {
     "data": {
      "application/vnd.plotly.v1+json": {
       "config": {
        "linkText": "Export to plot.ly",
        "plotlyServerURL": "https://plot.ly",
        "showLink": false
       },
       "data": [
        {
         "marker": {
          "color": "rgba(80,27,80,0.7)"
         },
         "mode": "lines",
         "name": "Price",
         "text": [
          "Green Inc",
          "Thomas-Thompson",
          "Sanchez-Williams",
          "Greer and Sons",
          "Brown and Sons",
          "Massey, Nicholson and Young",
          "Coleman-Pena",
          "Brock, Cruz and Santiago",
          "Griffin, Boyle and Dawson",
          "Arroyo, Jones and Clayton",
          "Carlson, Mcdonald and Hatfield",
          "Mckenzie LLC",
          "Cross Inc",
          "Jackson-Garza",
          "Neal-Francis",
          "Shaw-Farmer",
          "Best, Ross and Smith",
          "Burton LLC",
          "Byrd, Thompson and Rhodes",
          "Taylor-Hutchinson",
          "Graves, Turner and Crawford",
          "Villanueva-Ramirez",
          "Miller-Price",
          "Hood Inc",
          "Miller-Harper",
          "Decker Ltd",
          "Nelson and Sons",
          "Mitchell Ltd",
          "Burch, Wilson and Yang",
          "Ross, Strickland and Johns",
          "Oliver-Oconnell",
          "Ho-Porter",
          "Fisher-Marshall",
          "Watson, Carter and Woodard",
          "Walters, Bennett and Barrett",
          "Jacobs, Shepherd and Green",
          "Smith-Walters",
          "Walker PLC",
          "Hill, Mann and Martinez",
          "Brooks LLC",
          "Stewart Group",
          "Harris and Sons",
          "Smith, Bean and Gallagher",
          "White-Hood",
          "Hammond, Fernandez and Davis",
          "King, Carpenter and George",
          "Wagner, Burton and Ashley",
          "Lee LLC",
          "Sullivan Ltd",
          "Snyder LLC",
          "Webb-Davila",
          "Martin-Gardner",
          "York Inc",
          "Lane Ltd",
          "Chaney and Sons",
          "Mack Group",
          "Paul, Andersen and Carr",
          "Smith, Miller and Cooper",
          "Adams LLC",
          "Wright-Green",
          "Peters, Hayes and Sanchez",
          "Hopkins-Mahoney",
          "Dean LLC",
          "Shah PLC",
          "Garcia Inc",
          "Ramos and Sons",
          "Gonzalez PLC",
          "Bonilla, Gordon and Petersen",
          "Jones Inc",
          "Bates and Sons",
          "Lee Ltd",
          "Miller-Robinson",
          "Ward Inc",
          "Rice PLC",
          "Mitchell-Barrett",
          "Roach-Strong",
          "Ortiz-Kaiser",
          "Shah, Blackwell and Adams",
          "Hoffman PLC",
          "Simpson and Sons",
          "Joseph, Santos and Nelson",
          "Weaver Ltd",
          "Hunter PLC",
          "James, Garcia and Brown",
          "Anderson and Sons",
          "Thompson, Chapman and Jones",
          "Smith Ltd",
          "Rowland, Monroe and Owen",
          "Jordan-Williams",
          "Johnson, Rogers and Daugherty",
          "Alvarado-Carter",
          "Robinson-King",
          "Hahn, Hamilton and Johnson",
          "Bryant-Miller",
          "Bishop, Rodriguez and Bell",
          "Rojas, Kelly and Scott",
          "Williams, King and Hayes",
          "Black and Sons",
          "Matthews Ltd",
          "Carlson, Brennan and Robinson",
          "Jones-Wilson",
          "Stewart, Gutierrez and Avila",
          "Turner, Vega and Green",
          "Perez LLC",
          "Herrera LLC",
          "Castro, Briggs and Gilmore",
          "Peterson Inc",
          "Harmon Group",
          "Thompson, Johnson and Wong",
          "Collins PLC",
          "Gilbert Inc",
          "Hull, Terrell and Buchanan",
          "Mccullough-Powell",
          "Hawkins PLC",
          "Burnett Inc",
          "Clark LLC",
          "Bernard Ltd",
          "Morrison-Andersen",
          "Gilbert Inc",
          "Fitzpatrick-Miller",
          "Morton and Sons",
          "Brown PLC",
          "Porter-Mcgee",
          "Smith-Stevens",
          "Williamson, Fuller and Ward",
          "Rice-Osborne",
          "Camacho, Fox and Smith",
          "Walker-White",
          "Lane Group",
          "Williams, Coffey and Garcia",
          "Martinez-Torres",
          "Watson-Dougherty",
          "Campbell, Shelton and Walker",
          "Nelson, Carroll and Marsh",
          "Marshall-Olsen",
          "Harris Group",
          "Galvan Group",
          "Patton and Sons",
          "Foster-White",
          "Kline, Johnson and Hall",
          "Brown, Parsons and Johnson",
          "Cole, Mckinney and Maddox",
          "Townsend PLC",
          "Paul, Goodman and Richardson",
          "Stewart Ltd",
          "Baldwin-Swanson",
          "Santiago, Jones and Bell",
          "Baird-Henderson",
          "Sanchez, Johnson and Mosley",
          "Goodman, Hughes and White",
          "Sanders-Estrada",
          "Odom-Green",
          "Walters and Sons",
          "Andrews LLC",
          "Wade-Hall",
          "Hebert Inc",
          "Young, Hill and Morgan",
          "Holloway, Brown and Mills",
          "Velazquez Inc",
          "Fleming, Cooper and Wilson",
          "Decker Inc",
          "Sawyer-Ramirez",
          "Morris and Sons",
          "Garrett, Schultz and Carlson",
          "Curtis-Collier",
          "Jackson-Carroll",
          "Schultz LLC",
          "Cruz-Arias",
          "Mason, Flores and Baker",
          "Pitts-Valenzuela",
          "Bates, Pearson and Hardy",
          "Perez PLC",
          "Williams-Palmer",
          "Bennett, Foster and Moreno",
          "Cruz, Callahan and Carpenter",
          "Rogers, Baker and Holmes",
          "Martin-Carson",
          "Esparza-Baker",
          "Black PLC",
          "Galvan, Jenkins and Peck",
          "Delgado and Sons",
          "Franklin, Cox and Lopez",
          "Gutierrez Inc",
          "Boyle, Collier and Marquez",
          "Williams Ltd",
          "Harris, Stevens and Hall",
          "Knight Group",
          "Robinson-Tucker",
          "Lopez, Collins and Rosario",
          "Colon, Phillips and Watkins",
          "Peterson PLC",
          "Miller Inc",
          "Massey, Long and Nguyen",
          "Ruiz Inc",
          "White, Kirby and Cross",
          "Cooper and Sons",
          "Martinez Ltd",
          "Anderson-White",
          "Wilkerson, Suarez and Ayala",
          "Scott-Davis",
          "Moran Ltd",
          "Beasley-Bailey",
          "Johnson-Johnson",
          "Cabrera-White",
          "Roy-Dalton",
          "Burgess, Wise and Lee",
          "Nelson LLC",
          "Kelly, Esparza and Carson",
          "Anderson, Huff and Sanchez",
          "Turner-Colon",
          "Murphy Group",
          "Sutton, Parsons and Rice",
          "Lloyd, Stone and Mcguire",
          "Martinez Inc",
          "Mitchell PLC",
          "Jones, Gonzalez and Camacho",
          "Michael-Lara",
          "Martin Group",
          "Collins Ltd",
          "Camacho Inc",
          "Mills PLC",
          "Lindsey-Strickland",
          "Vargas-Perez",
          "Walker-Daniels",
          "Murphy PLC",
          "White, Ford and Andrews",
          "Schultz-Baker",
          "Bradley, Rios and Perkins",
          "Wall-Reed",
          "Harding-Thomas",
          "Schmidt LLC",
          "Hall-Swanson",
          "Jones-Jones",
          "Perry, Thompson and Vargas",
          "Bell Group",
          "Porter, Leon and Reynolds",
          "White Group",
          "Mueller, Collier and Khan",
          "Miller-Lang",
          "Ware, May and Lopez",
          "Harris-Melton",
          "Simmons Ltd",
          "Cross, Myers and Mueller",
          "Tran-Johnson",
          "Moran-Hunter",
          "Hickman Ltd",
          "Barnes, Smith and Crawford",
          "Miller, Anderson and Davis",
          "Juarez Ltd",
          "Merritt, Thomas and Patterson",
          "Hall Inc",
          "Franco-Sanders",
          "Calderon, Barry and Roberts",
          "Johnson, Brennan and Thompson",
          "Campbell-Gonzalez",
          "Moreno, Dodson and Andrews",
          "Ramirez, Duffy and Beck",
          "Wilkinson-Anderson",
          "Hawkins-Russell",
          "Sanders-Baker",
          "Wilson-Beard",
          "Bryant-Lewis",
          "Bishop and Sons",
          "Hill LLC",
          "Smith, Ramirez and Campbell",
          "Hendrix-Murphy",
          "Chen Inc",
          "Martin, Smith and Patterson",
          "Baker, Martin and Saunders",
          "Parker-Griffith",
          "Wright and Sons",
          "Fuentes PLC",
          "Hess-Little",
          "Russo Inc",
          "Marquez-Garrett",
          "Faulkner, Lewis and Armstrong",
          "Flynn PLC",
          "Fernandez, Long and Nelson",
          "Martinez Ltd",
          "Jones, Soto and Johnson",
          "Newman-Anthony",
          "Crawford, Spencer and Patel",
          "Evans-Gillespie",
          "Jacobson-Arnold",
          "Smith-Williams",
          "Martinez Ltd",
          "Smith, Short and Butler",
          "Patterson-Nelson",
          "Christensen-Daniel",
          "Ferguson PLC",
          "Ritter-Wilson",
          "Wallace, Turner and Young",
          "Jordan-Norris",
          "Peck Ltd",
          "Nelson and Sons",
          "Padilla-Hernandez",
          "Brown, Becker and Jones",
          "Jackson-Hodges",
          "Sanders, Snow and Harrell",
          "Wells, Harris and Bowman",
          "May-Williams",
          "Beck, Choi and Thomas",
          "Warner Group",
          "Anderson, Atkinson and Garza",
          "Graham LLC",
          "Torres Inc",
          "Williams and Sons",
          "Hodge LLC",
          "Peterson Ltd",
          "Reid-Gilbert",
          "Perry Group",
          "Glenn, Miller and Griffin",
          "Richardson Group",
          "Coleman-Brown",
          "Garcia, Smith and Ramos",
          "Walton Inc",
          "Edwards Group",
          "Lewis, Sanchez and Turner",
          "Smith, Terry and Obrien",
          "Green-Rogers",
          "Henson PLC",
          "Phillips, Foster and Maynard",
          "Jackson Inc",
          "Ross, Clark and Webb",
          "Turner, Kim and Leonard",
          "Hamilton, Romero and West",
          "Perry-Davis",
          "Wilson, Terrell and Kim",
          "Becker LLC",
          "Kelly PLC",
          "Mendez and Sons",
          "Porter, Taylor and Moore",
          "Finley Group",
          "Mcguire-Sanders",
          "Drake, George and Davis",
          "Chandler-Palmer",
          "Williams-Smith",
          "Jackson, Collier and Barber",
          "Hill Ltd",
          "Perez and Sons",
          "Ayers and Sons",
          "Holland PLC",
          "Hill, Thompson and Anderson",
          "Hunter-Richardson",
          "Wallace-James",
          "Gomez-Burns",
          "Lam-Gregory",
          "Cooper, Mcclain and Cook",
          "Johnson LLC",
          "Thornton, Fisher and Santiago",
          "Marsh and Sons",
          "Rodriguez Inc",
          "Strickland and Sons",
          "Mason-Ramirez",
          "Jones, Johnson and Vasquez",
          "Holmes, Ramos and Hoffman",
          "Curry, Richards and Lane",
          "Decker, Smith and Wilson",
          "Davies, Thomas and Brooks",
          "Yu-Smith",
          "Nunez, Jefferson and Glover",
          "Smith PLC",
          "Holmes-Rivera",
          "Vasquez LLC",
          "Figueroa LLC",
          "Greene-Baxter",
          "Jenkins, Jones and Jenkins",
          "Christian-Velasquez",
          "Mccoy-Stevenson",
          "Galloway, Gutierrez and Vazquez",
          "Long, Hughes and Gallegos",
          "Miller, Hill and Lawson",
          "Sanchez-Hernandez",
          "Davis Group",
          "Skinner, Ramirez and Kelley",
          "Williamson-Clay",
          "Grant, Mcdonald and Watson",
          "Pearson, Jackson and Fox",
          "Wood-Wilson",
          "Bryant, Davis and Eaton",
          "Jennings-Leon",
          "Miller and Sons",
          "Lamb Inc",
          "Oconnor, Jacobs and Wise",
          "Stein-Bridges",
          "Singleton Group",
          "Lee Inc",
          "Marshall Inc",
          "Peterson, Franklin and Bender",
          "Morales Ltd",
          "Porter Ltd",
          "Brennan-Vasquez",
          "Pittman, Williams and Mejia",
          "Wallace-Prince",
          "Pham and Sons",
          "Nielsen, Rivera and Jones",
          "Diaz, Ball and Juarez",
          "Garrett, Bush and Butler",
          "Bradford-Poole",
          "Carter PLC",
          "Thomas-Alexander",
          "Adams-Sanchez",
          "Russell, Watts and Wade",
          "Gonzalez-Horn",
          "Graham Ltd",
          "Wagner-Carrillo",
          "Lee, Simpson and West",
          "Gonzalez, Lowe and Robinson",
          "Cameron, Hughes and Lara",
          "Hays LLC",
          "Martin-Morales",
          "Wilkinson-Reyes",
          "Buck LLC",
          "Hall LLC",
          "Garrett Group",
          "Thompson, Johnson and Smith",
          "Branch Ltd",
          "Bailey-Davis",
          "Morales, Hansen and Colon",
          "Ross PLC",
          "Hill Ltd",
          "Mayo PLC",
          "Adams Group",
          "Wilson, Wilson and Smith",
          "Valencia and Sons",
          "Hernandez PLC",
          "Ball-Clay",
          "Wiggins-Wallace",
          "Edwards, Davidson and Houston",
          "Morgan PLC",
          "Hernandez Ltd",
          "Cobb, Duffy and Roberts",
          "Brown Inc",
          "Cole and Sons",
          "Baker and Sons",
          "Mcknight, Moody and Mason",
          "Morris-Davis",
          "Price, Carpenter and Adams",
          "Smith-Barr",
          "Wheeler-Summers",
          "Washington, Burns and Li",
          "Rodriguez, Adams and Smith",
          "Walter-Lynn",
          "James PLC",
          "Mata-Burns",
          "Salazar, Myers and Mcmahon",
          "Jones-Leonard",
          "Little-Perez",
          "Smith-Stokes",
          "Cain Group",
          "Glenn-Fernandez",
          "Moore Ltd",
          "Potter, Bailey and Turner",
          "Cooley-Reed",
          "Peterson and Sons",
          "Brown-Solis",
          "Wilcox and Sons",
          "Whitney-Cook",
          "Hill, Hall and Hess",
          "Howard, Wood and Rosales",
          "Aguilar-Scott",
          "Garrett Group",
          "Nelson-Wright",
          "Wilkins-Price",
          "Evans, Taylor and Peterson",
          "Nunez, Porter and Bell",
          "Brooks, Rodriguez and Knight",
          "Willis, Watson and Monroe",
          "Taylor-Keller",
          "Ruiz LLC",
          "Richardson PLC",
          "Foster Ltd",
          "West, Potts and Santos",
          "Jones, Phillips and Mckinney",
          "Boone PLC",
          "Soto, Hubbard and Kim",
          "Spencer-Cardenas",
          "Webster-Sullivan",
          "Escobar and Sons",
          "Vincent, Oneill and Bryant",
          "Becker-Smith",
          "Morris, Gay and Spencer",
          "Kelly, Velasquez and Dickerson",
          "Coleman LLC",
          "Bradshaw Inc",
          "Noble Group",
          "Jones-Gross",
          "Roth, Franklin and Hernandez",
          "Brown Group",
          "Norman, West and Mata",
          "Day-Wang",
          "Lang, Arnold and Holmes",
          "Ayers, Reyes and Lee",
          "Lee, Rodgers and Jordan",
          "Larson, Ruiz and Beasley",
          "Hernandez and Sons",
          "Hodge-Perry",
          "Ibarra, Jackson and Potter",
          "Johnson, Figueroa and Jones",
          "Bailey, Roy and Barnes",
          "Cobb LLC",
          "Miller-Cortez",
          "Obrien-Arnold",
          "Gallagher-Campbell",
          "Payne Group",
          "Kim, Ortega and Jones",
          "Webb, Orr and Benson",
          "Duncan, Mendoza and Mcdowell",
          "Conrad Ltd",
          "Cooper, Johnson and Townsend",
          "Payne and Sons",
          "Miranda, Chang and Hansen",
          "Thompson-Orr",
          "Lopez-Clements",
          "Lang-Garza",
          "Roth-Crawford",
          "Andrews-Martin",
          "Mckay-Turner",
          "George, Miller and Pitts",
          "White LLC",
          "Pope, Delgado and Wood",
          "Smith-Rice",
          "Browning-Durham",
          "Mclaughlin, Wilson and Hunter",
          "Tanner, Schwartz and Weber",
          "Cochran LLC",
          "Rivera, Garcia and Lewis",
          "Washington Inc",
          "Washington PLC",
          "Rosario-Woods",
          "Foster PLC",
          "Bates, Miller and Burns",
          "Taylor, Rowe and Nelson",
          "Nichols, Morales and Knight",
          "Frost-Sutton",
          "Joseph, Trevino and Salinas",
          "Davis, Marquez and Ray",
          "Sanchez Inc",
          "Jackson, White and Brown",
          "Gillespie-Holland",
          "Oliver-Douglas",
          "Ramirez Group",
          "Ramos, Lewis and Romero",
          "Hanson, Smith and Davidson",
          "Rocha-Chapman",
          "Sanchez, Brooks and Mason",
          "Guzman, Evans and Reynolds",
          "Reyes, Parker and Conway",
          "Wilkins PLC",
          "Martin, Anderson and Garcia",
          "White Inc",
          "Johnson, Johnson and Zimmerman",
          "Shaffer, Oliver and Sanchez",
          "Cruz Ltd",
          "Mcmahon, Jones and Baker",
          "Sanchez-Weeks",
          "Weaver-Thompson",
          "Thornton, Daniel and Jensen",
          "Price, Ashley and Coleman",
          "Carroll, Woodard and Mccarty",
          "Cowan, Hamilton and Hancock",
          "Rivera-Berry",
          "Tran-Graham",
          "Chase Ltd",
          "Rivera-Watson",
          "Harrington, Sosa and Mccarty",
          "Aguilar Ltd",
          "Maxwell, Dunlap and Sanford",
          "Sims-Mason",
          "Brandt and Sons",
          "Woods, Gutierrez and Tapia",
          "Love-Grimes",
          "Banks Group",
          "Poole, Parker and Williams",
          "Parks-Steele",
          "Wilson-Bailey",
          "Lee-Jones",
          "Gordon PLC",
          "Nguyen Inc",
          "Gilbert Group",
          "Gray, Smith and Barnes",
          "Wallace LLC",
          "Wilcox PLC",
          "Cherry-Potts",
          "Norman, Miller and Smith",
          "Mcguire, Garcia and Ingram",
          "Thomas, Henderson and Morales",
          "Stokes, Cobb and Hunter",
          "Hull, Simmons and Robinson",
          "Kelley, Blair and Mckinney",
          "Ramos LLC",
          "Clark-Figueroa",
          "Hurst, Carpenter and Hoffman",
          "Kelley-Garcia",
          "Ortiz Ltd",
          "Burns, Davila and Camacho",
          "Gilbert, Garcia and Sellers",
          "Weber Group",
          "Thompson-Nguyen",
          "Lee, Boyd and Lewis",
          "Benson-Dixon",
          "Mccormick, Barron and Mooney",
          "Ramirez-Carroll",
          "Harris, Hamilton and Rose",
          "Patrick, Bailey and West",
          "Diaz, Brooks and Dixon",
          "Peterson, Long and Ward",
          "Smith-Tucker",
          "Walker-Bradford",
          "Holder, Thornton and Young",
          "Perry PLC",
          "Kirby, Oneill and Carter",
          "Fleming Group",
          "Jensen-Lowe",
          "Woods-Li",
          "Conley PLC",
          "Benson and Sons",
          "Anderson Inc",
          "Pierce, Schaefer and Walsh",
          "Jones-Boyd",
          "Snow, Miller and Phelps",
          "Cobb LLC",
          "Munoz-Smith",
          "Palmer-Gross",
          "Smith PLC",
          "Andrews PLC",
          "George, Garner and Zhang",
          "Ford LLC",
          "Stewart, Webster and Ford",
          "Woodward-Phillips",
          "Martin, Burgess and Cameron",
          "Rubio-Williams",
          "Davis-Paul",
          "Aguilar Group",
          "Roberts Ltd",
          "Holmes, Austin and Davidson",
          "Wolf, Hamilton and Rubio",
          "Fuller, Sanders and Molina",
          "Atkins LLC",
          "Sloan, Harris and Green",
          "Brown, Jenkins and Roberts",
          "Russell Ltd",
          "Mcdonald, Bright and Ward",
          "Hall, Weaver and Cook",
          "Holden, Figueroa and Bennett",
          "Velasquez-Baker",
          "Sanford-Moore",
          "Wilson-Green",
          "Kelley, Young and Price",
          "Pittman-Nelson",
          "Hernandez-Reed",
          "Nichols, Hill and Rice",
          "Edwards, Mcbride and Gonzalez",
          "Hart Group",
          "Todd PLC",
          "Thomas, Noble and Porter",
          "Drake, Martin and Jordan",
          "Santiago LLC",
          "Rodgers-Villarreal",
          "Nelson, Bowers and Larson",
          "Taylor-Ramirez",
          "Harding, Delgado and Prince",
          "Branch-Johnson",
          "Shepard, Montoya and Parks",
          "Johnson-Alvarez",
          "Meyer PLC",
          "Jackson-Thomas",
          "Ellison-May",
          "Madden PLC",
          "Bennett and Sons",
          "Conway Group",
          "Harris-Bell",
          "Wilkerson-Wood",
          "Moore-Larson",
          "Moore-Jimenez",
          "Graham-Swanson",
          "Garcia-Montgomery",
          "Shaw-Brown",
          "Camacho PLC",
          "Sanchez, Solomon and Chapman",
          "Brown-Montgomery",
          "Cunningham-Hawkins",
          "Brooks, Ross and Suarez",
          "Flowers-Erickson",
          "Ali, Hamilton and Yates",
          "Aguirre, Morris and Tran",
          "Nolan-Stuart",
          "Walker-Grant",
          "Taylor, Huffman and Miller",
          "Vasquez, Roberts and Johnson",
          "Holland Ltd",
          "Moore and Sons",
          "Black-Hamilton",
          "Berry, Anderson and Hernandez",
          "Brewer-Morrow",
          "Curtis, Fischer and Mendez",
          "Harris-Rogers",
          "Williams Inc",
          "Perry, Smith and Smith",
          "Vincent-Greene",
          "Ritter-Reed",
          "Blake Ltd",
          "Lee-Johnson",
          "Morrison, Leonard and Hill",
          "Johnson, Mcconnell and May",
          "Adkins, Robertson and Lindsey",
          "Joyce, Bowman and Ramirez",
          "Lin LLC",
          "Henry-Brooks",
          "Williamson, Martinez and Contreras",
          "Mercer-Williams",
          "Delgado Ltd",
          "Webb Group",
          "White, Buck and Suarez",
          "Bradley, Miller and Evans",
          "Spencer-Payne",
          "Fisher Ltd",
          "Bishop, Simpson and Nash",
          "Morse, Bishop and Smith",
          "Young Inc",
          "Mcguire, Brooks and Stuart",
          "Robertson-Obrien",
          "Brooks-Schroeder",
          "Clements and Sons",
          "Carter-Wilson",
          "Evans-Shelton",
          "Byrd-Jones",
          "Collins-Becker",
          "Mendez, Watkins and Andrews",
          "Thompson-Chan",
          "Ramos and Sons",
          "Salas, Ritter and Riddle",
          "Weaver, Young and King",
          "Wilson Ltd",
          "Nielsen-Reed",
          "Mueller-Hall",
          "Turner LLC",
          "Vaughan-Perez",
          "Warren, Taylor and Cole",
          "Duffy-Mcmillan",
          "Santana-Brewer",
          "Bush and Sons",
          "Anderson-Burns",
          "Fuller-Walters",
          "Robertson, Frye and Frost",
          "Ramsey, Freeman and Hamilton",
          "Williams LLC",
          "Sampson-Kennedy",
          "Thompson-Porter",
          "Sherman-Massey",
          "Sanchez, Shaw and Acevedo",
          "Hurley-Bush",
          "Watson PLC",
          "Taylor Group",
          "Jackson LLC",
          "Wright LLC",
          "Cooper-Ross",
          "Malone Inc",
          "Henry-Duke",
          "Lindsey, Avila and Brown",
          "Cole-Davis",
          "Nunez-Smith",
          "Williams Group",
          "Russell-Alvarez",
          "Valdez-Fuller",
          "Williams, Carrillo and Rice",
          "Smith-Scott",
          "Smith Group",
          "Barrett, Figueroa and White",
          "Dennis-Sanchez",
          "Gonzalez, Coleman and Le",
          "Pope-Hensley",
          "Petty, Smith and Arnold",
          "Harris and Sons",
          "Jenkins, Phillips and Lopez",
          "Marquez Ltd",
          "Gonzales Group",
          "Lopez PLC",
          "Miller-Wolfe",
          "Douglas-Dalton",
          "Valencia-Boone",
          "Johnson, Harris and Strong",
          "Fritz-Tapia",
          "Grant, Cross and Bennett",
          "Walton-Larson",
          "Morales LLC",
          "Cole-Williams",
          "Evans, Clayton and Ross",
          "Moyer, Lee and Abbott",
          "Perkins-Long",
          "Fernandez-Fischer",
          "Kemp, Ingram and Olsen",
          "Smith-Barrett",
          "Stephens, Cox and Fisher",
          "Schneider, White and Thomas",
          "Dominguez-Franklin",
          "Bishop LLC",
          "Wolfe-Schroeder",
          "Wallace Ltd",
          "Sanchez PLC",
          "Mckay PLC",
          "Ortega Inc",
          "White-Berry",
          "Elliott, Green and Scott",
          "Maddox-Lewis",
          "Miller Ltd",
          "Arias-Mendoza",
          "King-Rocha",
          "Hester-Murphy",
          "Jones-Nguyen",
          "Thomas-Mason",
          "Jacobson-Collins",
          "Goodwin PLC",
          "Hanson, Barron and Castillo",
          "Rodriguez-Morales",
          "Hester, Lee and Kirby",
          "Gonzales Ltd",
          "Jordan-Bass",
          "Cox, Friedman and Martinez",
          "Calhoun Inc",
          "Daniels, Rojas and Pearson",
          "Thomas Ltd",
          "Sanchez PLC",
          "Miller Ltd",
          "Moran Inc",
          "Good, Davis and Smith",
          "Wheeler Ltd",
          "Garcia Ltd",
          "Williams-Thompson",
          "Williams Group",
          "Butler, Perkins and Arnold",
          "Hensley-Love",
          "Pace-Davis",
          "Fields, Christensen and Daniels",
          "Johnson, Scott and Kim",
          "Bullock LLC",
          "Cochran-Phillips",
          "Ochoa-Martin",
          "Wheeler LLC",
          "Miller, Campbell and Russell",
          "Lang-Bryant",
          "Conway-Estrada",
          "Delgado PLC",
          "Harper Ltd",
          "Gallagher-Parker",
          "Anderson-Valdez",
          "Williams Ltd",
          "Rodriguez-Dominguez",
          "Hoover Inc",
          "Morris Inc",
          "Sanchez PLC",
          "Hodge and Sons",
          "Patrick Inc",
          "Roberts, Lin and Davis",
          "Lee, Kemp and Warner",
          "Ford, Carpenter and Valdez",
          "May PLC",
          "Taylor Inc",
          "Hinton, Evans and Harrison",
          "Allen-Garza",
          "Henry-Frazier",
          "Anderson-Leach",
          "Phillips Group",
          "Guerra-Coleman",
          "Frank-Allen",
          "Wallace-Fleming",
          "Vasquez and Sons",
          "Martin Inc",
          "Durham-Lewis",
          "Harper Inc",
          "Manning-Floyd",
          "Kirby and Sons",
          "Padilla, Gibson and Ingram",
          "Smith, Davis and Gutierrez",
          "Miller-Jordan",
          "Clark-Henderson",
          "Myers, Wilcox and Beck",
          "Stokes-Mclean",
          "Dunn-Jackson",
          "Fox, Stevens and Bell",
          "Mitchell, Davidson and Summers",
          "Mason PLC",
          "Smith-Ramirez",
          "Mcdonald PLC",
          "Gill-Boyle",
          "Cooper, Ford and Heath",
          "Wagner, Martinez and Dorsey",
          "Robinson-Thompson",
          "Williams, Nichols and Oliver",
          "Parks PLC",
          "Williamson, Graham and Farrell",
          "Booker-Camacho",
          "Smith, Savage and Oneal",
          "Larsen-Russell",
          "Sanders, Jones and Keller",
          "Smith-Rodriguez",
          "Moore LLC",
          "Aguirre-Reed",
          "Friedman-Le",
          "Keller, Stevenson and Gonzalez",
          "Smith, Thompson and Vance",
          "Wilson, Torres and Rodriguez",
          "Ferrell Inc",
          "Evans-Allison",
          "Ruiz, Sullivan and Gates",
          "Wolfe PLC",
          "Miller and Sons",
          "Sanchez and Sons",
          "Gibson-Armstrong",
          "Horton, Sanchez and Mitchell",
          "Jones PLC",
          "Stevens-Ward",
          "Hawkins Group",
          "Patterson, Herman and Collins",
          "Huang, Nash and Wall",
          "Fuller-Torres",
          "Alvarado, Russell and Moreno",
          "Zhang, Bailey and Burnett",
          "Smith, Shelton and Anderson",
          "Mcdowell and Sons",
          "Gomez LLC",
          "Hayes-Johnson",
          "Torres, Howell and Gomez",
          "Campbell-Serrano",
          "Herrera-Alvarez",
          "Combs, Wise and Clark",
          "Hamilton-Garcia",
          "Haley, Price and Contreras",
          "Cochran-Black",
          "Austin Inc",
          "Reeves-Elliott",
          "Fowler-Martinez",
          "Hutchinson, Roberts and Mcbride",
          "Blanchard LLC",
          "May-Snyder",
          "Mayer, Moore and Murphy",
          "Allen-Mays",
          "Fox, Burgess and White",
          "Pugh-Knight",
          "Jordan and Sons",
          "Gallagher-Kirby",
          "Cortez Group",
          "Fernandez LLC",
          "Miranda LLC",
          "Johnston Ltd",
          "Steele, Fuller and Freeman",
          "Yoder PLC",
          "Bailey Ltd",
          "Olson LLC",
          "Scott PLC",
          "Martin Inc",
          "Morgan, Burns and Gregory",
          "Carroll, Brown and Bates",
          "Kramer-Cox",
          "Yang-Coleman",
          "Owens, Grimes and Patrick",
          "Ashley, Fields and Vazquez",
          "Mayer, Fisher and White",
          "Campbell PLC",
          "Hartman, Lopez and Riley",
          "Gilbert and Sons",
          "Alvarez, Martinez and Robertson",
          "Rivera and Sons",
          "Smith, Greene and Miller",
          "Martinez, Bond and Green",
          "Franco Ltd",
          "Rogers-Rodriguez",
          "Hartman-Rodriguez",
          "Smith Group",
          "Johnson-Andrews",
          "Castillo Inc",
          "Martinez PLC",
          "Smith and Sons",
          "Santiago, Yoder and Stevens",
          "Hicks and Sons",
          "Woods-Murphy",
          "Frey LLC",
          "Moore-Ingram",
          "Aguilar-Campos",
          "Rice-Hernandez",
          "Hernandez-Davis",
          "Anderson-Cruz",
          "Hill Inc",
          "Clark Ltd",
          "Johnson LLC",
          "Gomez-Morgan",
          "Padilla, Mitchell and Clark",
          "Horne PLC",
          "Garcia Group",
          "Boyd, Hines and Higgins",
          "Lopez, Mann and Sanchez",
          "Chapman, Martinez and Powers",
          "Morrison-Stanley",
          "Johnson-Fleming",
          "Robles-Williams",
          "Brooks Ltd",
          "Lang, Brown and Stone",
          "Atkinson, Moore and Nelson",
          "Kim, Maxwell and Moore",
          "Wallace LLC"
         ],
         "type": "scatter",
         "x": [
          0,
          1,
          2,
          3,
          4,
          5,
          6,
          7,
          8,
          9,
          10,
          11,
          12,
          13,
          14,
          15,
          16,
          17,
          18,
          19,
          20,
          21,
          22,
          23,
          24,
          25,
          26,
          27,
          28,
          29,
          30,
          31,
          32,
          33,
          34,
          35,
          36,
          37,
          38,
          39,
          40,
          41,
          42,
          43,
          44,
          45,
          46,
          47,
          48,
          49,
          50,
          51,
          52,
          53,
          54,
          55,
          56,
          57,
          58,
          59,
          60,
          61,
          62,
          63,
          64,
          65,
          66,
          67,
          68,
          69,
          70,
          71,
          72,
          73,
          74,
          75,
          76,
          77,
          78,
          79,
          80,
          81,
          82,
          83,
          84,
          85,
          86,
          87,
          88,
          89,
          90,
          91,
          92,
          93,
          94,
          95,
          96,
          97,
          98,
          99,
          100,
          101,
          102,
          103,
          104,
          105,
          106,
          107,
          108,
          109,
          110,
          111,
          112,
          113,
          114,
          115,
          116,
          117,
          118,
          119,
          120,
          121,
          122,
          123,
          124,
          125,
          126,
          127,
          128,
          129,
          130,
          131,
          132,
          133,
          134,
          135,
          136,
          137,
          138,
          139,
          140,
          141,
          142,
          143,
          144,
          145,
          146,
          147,
          148,
          149,
          150,
          151,
          152,
          153,
          154,
          155,
          156,
          157,
          158,
          159,
          160,
          161,
          162,
          163,
          164,
          165,
          166,
          167,
          168,
          169,
          170,
          171,
          172,
          173,
          174,
          175,
          176,
          177,
          178,
          179,
          180,
          181,
          182,
          183,
          184,
          185,
          186,
          187,
          188,
          189,
          190,
          191,
          192,
          193,
          194,
          195,
          196,
          197,
          198,
          199,
          200,
          201,
          202,
          203,
          204,
          205,
          206,
          207,
          208,
          209,
          210,
          211,
          212,
          213,
          214,
          215,
          216,
          217,
          218,
          219,
          220,
          221,
          222,
          223,
          224,
          225,
          226,
          227,
          228,
          229,
          230,
          231,
          232,
          233,
          234,
          235,
          236,
          237,
          238,
          239,
          240,
          241,
          242,
          243,
          244,
          245,
          246,
          247,
          248,
          249,
          250,
          251,
          252,
          253,
          254,
          255,
          256,
          257,
          258,
          259,
          260,
          261,
          262,
          263,
          264,
          265,
          266,
          267,
          268,
          269,
          270,
          271,
          272,
          273,
          274,
          275,
          276,
          277,
          278,
          279,
          280,
          281,
          282,
          283,
          284,
          285,
          286,
          287,
          288,
          289,
          290,
          291,
          292,
          293,
          294,
          295,
          296,
          297,
          298,
          299,
          300,
          301,
          302,
          303,
          304,
          305,
          306,
          307,
          308,
          309,
          310,
          311,
          312,
          313,
          314,
          315,
          316,
          317,
          318,
          319,
          320,
          321,
          322,
          323,
          324,
          325,
          326,
          327,
          328,
          329,
          330,
          331,
          332,
          333,
          334,
          335,
          336,
          337,
          338,
          339,
          340,
          341,
          342,
          343,
          344,
          345,
          346,
          347,
          348,
          349,
          350,
          351,
          352,
          353,
          354,
          355,
          356,
          357,
          358,
          359,
          360,
          361,
          362,
          363,
          364,
          365,
          366,
          367,
          368,
          369,
          370,
          371,
          372,
          373,
          374,
          375,
          376,
          377,
          378,
          379,
          380,
          381,
          382,
          383,
          384,
          385,
          386,
          387,
          388,
          389,
          390,
          391,
          392,
          393,
          394,
          395,
          396,
          397,
          398,
          399,
          400,
          401,
          402,
          403,
          404,
          405,
          406,
          407,
          408,
          409,
          410,
          411,
          412,
          413,
          414,
          415,
          416,
          417,
          418,
          419,
          420,
          421,
          422,
          423,
          424,
          425,
          426,
          427,
          428,
          429,
          430,
          431,
          432,
          433,
          434,
          435,
          436,
          437,
          438,
          439,
          440,
          441,
          442,
          443,
          444,
          445,
          446,
          447,
          448,
          449,
          450,
          451,
          452,
          453,
          454,
          455,
          456,
          457,
          458,
          459,
          460,
          461,
          462,
          463,
          464,
          465,
          466,
          467,
          468,
          469,
          470,
          471,
          472,
          473,
          474,
          475,
          476,
          477,
          478,
          479,
          480,
          481,
          482,
          483,
          484,
          485,
          486,
          487,
          488,
          489,
          490,
          491,
          492,
          493,
          494,
          495,
          496,
          497,
          498,
          499,
          500,
          501,
          502,
          503,
          504,
          505,
          506,
          507,
          508,
          509,
          510,
          511,
          512,
          513,
          514,
          515,
          516,
          517,
          518,
          519,
          520,
          521,
          522,
          523,
          524,
          525,
          526,
          527,
          528,
          529,
          530,
          531,
          532,
          533,
          534,
          535,
          536,
          537,
          538,
          539,
          540,
          541,
          542,
          543,
          544,
          545,
          546,
          547,
          548,
          549,
          550,
          551,
          552,
          553,
          554,
          555,
          556,
          557,
          558,
          559,
          560,
          561,
          562,
          563,
          564,
          565,
          566,
          567,
          568,
          569,
          570,
          571,
          572,
          573,
          574,
          575,
          576,
          577,
          578,
          579,
          580,
          581,
          582,
          583,
          584,
          585,
          586,
          587,
          588,
          589,
          590,
          591,
          592,
          593,
          594,
          595,
          596,
          597,
          598,
          599,
          600,
          601,
          602,
          603,
          604,
          605,
          606,
          607,
          608,
          609,
          610,
          611,
          612,
          613,
          614,
          615,
          616,
          617,
          618,
          619,
          620,
          621,
          622,
          623,
          624,
          625,
          626,
          627,
          628,
          629,
          630,
          631,
          632,
          633,
          634,
          635,
          636,
          637,
          638,
          639,
          640,
          641,
          642,
          643,
          644,
          645,
          646,
          647,
          648,
          649,
          650,
          651,
          652,
          653,
          654,
          655,
          656,
          657,
          658,
          659,
          660,
          661,
          662,
          663,
          664,
          665,
          666,
          667,
          668,
          669,
          670,
          671,
          672,
          673,
          674,
          675,
          676,
          677,
          678,
          679,
          680,
          681,
          682,
          683,
          684,
          685,
          686,
          687,
          688,
          689,
          690,
          691,
          692,
          693,
          694,
          695,
          696,
          697,
          698,
          699,
          700,
          701,
          702,
          703,
          704,
          705,
          706,
          707,
          708,
          709,
          710,
          711,
          712,
          713,
          714,
          715,
          716,
          717,
          718,
          719,
          720,
          721,
          722,
          723,
          724,
          725,
          726,
          727,
          728,
          729,
          730,
          731,
          732,
          733,
          734,
          735,
          736,
          737,
          738,
          739,
          740,
          741,
          742,
          743,
          744,
          745,
          746,
          747,
          748,
          749,
          750,
          751,
          752,
          753,
          754,
          755,
          756,
          757,
          758,
          759,
          760,
          761,
          762,
          763,
          764,
          765,
          766,
          767,
          768,
          769,
          770,
          771,
          772,
          773,
          774,
          775,
          776,
          777,
          778,
          779,
          780,
          781,
          782,
          783,
          784,
          785,
          786,
          787,
          788,
          789,
          790,
          791,
          792,
          793,
          794,
          795,
          796,
          797,
          798,
          799,
          800,
          801,
          802,
          803,
          804,
          805,
          806,
          807,
          808,
          809,
          810,
          811,
          812,
          813,
          814,
          815,
          816,
          817,
          818,
          819,
          820,
          821,
          822,
          823,
          824,
          825,
          826,
          827,
          828,
          829,
          830,
          831,
          832,
          833,
          834,
          835,
          836,
          837,
          838,
          839,
          840,
          841,
          842,
          843,
          844,
          845,
          846,
          847,
          848,
          849,
          850,
          851,
          852,
          853,
          854,
          855,
          856,
          857,
          858,
          859,
          860,
          861,
          862,
          863,
          864,
          865,
          866,
          867,
          868,
          869,
          870,
          871,
          872,
          873,
          874,
          875,
          876,
          877,
          878,
          879,
          880,
          881,
          882,
          883,
          884,
          885,
          886,
          887,
          888,
          889,
          890,
          891,
          892,
          893,
          894,
          895,
          896,
          897,
          898,
          899,
          900,
          901,
          902,
          903,
          904,
          905,
          906,
          907,
          908,
          909,
          910,
          911,
          912,
          913,
          914,
          915,
          916,
          917,
          918,
          919,
          920,
          921,
          922,
          923,
          924,
          925,
          926,
          927,
          928,
          929,
          930,
          931,
          932,
          933,
          934,
          935,
          936,
          937,
          938,
          939,
          940,
          941,
          942,
          943,
          944,
          945,
          946,
          947,
          948,
          949,
          950,
          951,
          952,
          953,
          954,
          955,
          956,
          957,
          958,
          959,
          960,
          961,
          962,
          963,
          964,
          965,
          966,
          967,
          968,
          969,
          970,
          971,
          972,
          973,
          974,
          975,
          976,
          977,
          978,
          979,
          980,
          981,
          982,
          983,
          984,
          985,
          986,
          987,
          988,
          989,
          990,
          991,
          992,
          993,
          994,
          995,
          996,
          997,
          998,
          999
         ],
         "y": [
          1196.95,
          1010.34,
          839.79,
          975.77,
          774.79,
          806.59,
          761.48,
          965.15,
          1354.69,
          1025.05,
          1071.99,
          678.72,
          1092.94,
          1019.82,
          1333.31,
          785.38,
          875.91,
          1070.05,
          704.12,
          694.54,
          1182.99,
          1289.42,
          680.7,
          965.16,
          1100.78,
          903.7,
          1377.31,
          1357.33,
          1036.47,
          773.02,
          1292.49,
          1123.18,
          1327.33,
          912.97,
          1266.01,
          1371.76,
          1028.67,
          1236.37,
          974.75,
          1062.8,
          1228.78,
          1141.24,
          1335.67,
          1187.15,
          950.36,
          903.82,
          1207.94,
          862.18,
          803.5,
          949.75,
          1115.61,
          900.04,
          907.24,
          897.86,
          1007.3,
          757.33,
          923.2,
          823.68,
          1330.5,
          1318.54,
          992.42,
          1040.94,
          626.57,
          1034.38,
          613.96,
          1337.3,
          701.08,
          1178.86,
          824.69,
          912.6,
          958.86,
          938.75,
          1091.68,
          988.44,
          811.97,
          742.68,
          978.13,
          735.25,
          696.42,
          1194.98,
          1085.16,
          687.38,
          894.34,
          618.99,
          1269.71,
          985.83,
          1352.48,
          624.74,
          1278.51,
          613.3,
          1056.74,
          1237.37,
          811.73,
          1370.68,
          1245.2,
          1141.1,
          809.43,
          1256.1,
          782.21,
          1345.71,
          1273.26,
          1352.3,
          998.82,
          1136.87,
          960.48,
          959.18,
          1158.35,
          682.66,
          1262.78,
          806.17,
          1285.81,
          1243.41,
          850.08,
          1039.85,
          842.01,
          1368.15,
          1358.1,
          1150.87,
          1276.9,
          1119.15,
          1064.72,
          763.9,
          1239.52,
          1123.8,
          975.91,
          627.75,
          896.28,
          1128.07,
          920.56,
          818.84,
          1360.71,
          927.54,
          959.13,
          646.09,
          826.54,
          981.39,
          759.37,
          867.3,
          992.06,
          942.27,
          609.95,
          1171.07,
          894.1,
          1347.33,
          1164.44,
          1185.69,
          794.72,
          1045.12,
          644.86,
          991.09,
          1389.02,
          1122.88,
          1224.24,
          1317.86,
          796.46,
          1148.23,
          609.77,
          1252.52,
          1036.75,
          848.45,
          1083.43,
          1088.57,
          604.9,
          1371.75,
          1100.35,
          883.91,
          958.9,
          603.59,
          791.97,
          723.04,
          1250.45,
          883.64,
          1047.17,
          983.28,
          661.38,
          1195.38,
          1210.29,
          687.46,
          1030.8,
          1285.42,
          1148.39,
          644.01,
          819.04,
          1070.26,
          601.41,
          855.95,
          811.59,
          1118.63,
          764.81,
          898.28,
          1018.82,
          1231.35,
          810.9,
          1060.85,
          883.09,
          985.02,
          1157.78,
          1074.85,
          1316.82,
          608.12,
          988.39,
          1297.35,
          944.16,
          1376.5,
          1138.9,
          1276.97,
          1158.59,
          1239.85,
          1167.79,
          1096.95,
          1251.71,
          655.7,
          805.15,
          781.03,
          1264.82,
          987.65,
          873.85,
          1184.54,
          972.1,
          846.09,
          865.64,
          1154.25,
          1278.82,
          719.28,
          1378.49,
          833.19,
          1388.36,
          1307.36,
          859.92,
          1211.87,
          627.54,
          1387.12,
          1037.17,
          921.44,
          1151.12,
          1074.32,
          1108.08,
          911.36,
          1182.85,
          897.02,
          872.16,
          965.18,
          1217.5,
          681.33,
          733.08,
          877.61,
          1168.22,
          1003.56,
          726.99,
          911.58,
          1209.12,
          836.88,
          1118.72,
          943.28,
          767.55,
          636.1,
          1204.69,
          1037.32,
          971.16,
          1164.58,
          874.01,
          1137.26,
          901.21,
          1158.16,
          1019.36,
          965.45,
          630.85,
          1277.62,
          870.58,
          1211.43,
          884.15,
          1119.68,
          885.86,
          894.2,
          1203.42,
          1240.29,
          783.9,
          1143.91,
          619.85,
          887.6,
          1066.94,
          688.69,
          808.78,
          739.42,
          1128.1,
          784.93,
          1085.52,
          1178.88,
          887.06,
          1041.67,
          849.64,
          985.15,
          1184.61,
          688.29,
          1104.15,
          732.04,
          1022.16,
          1134.19,
          643.18,
          1151.03,
          1083.41,
          879.86,
          1170.21,
          1396.17,
          1201.43,
          690.06,
          1082.81,
          967.71,
          656.01,
          1252.68,
          866.4,
          1302.69,
          1218.75,
          1174.32,
          1205.37,
          907.71,
          1317.59,
          858.06,
          1196.33,
          857.2,
          1314.34,
          721.93,
          783.61,
          904.96,
          818.49,
          965.34,
          945.23,
          1027.51,
          1302.2,
          662.12,
          997.81,
          610.7,
          1042.66,
          1159.99,
          1293.55,
          1048.2,
          796.02,
          674.58,
          1013.86,
          941.59,
          1276.39,
          733.77,
          888.01,
          766.06,
          1171.43,
          724.55,
          1297.7,
          882.11,
          622.74,
          1136.68,
          735.35,
          641.22,
          995.72,
          678.18,
          1294.76,
          691.39,
          813.19,
          1345.42,
          723.74,
          883.16,
          788.54,
          783.11,
          805.82,
          690.46,
          1391.33,
          1139.64,
          651.39,
          1314.06,
          1104.19,
          1183.15,
          1100.71,
          1212.06,
          1037.33,
          677.09,
          1319.53,
          1195.66,
          643.43,
          945.19,
          1265.9,
          1315.25,
          1025.19,
          652.8,
          1291.19,
          1369.06,
          1019.28,
          1387.62,
          1385.88,
          973.62,
          976.7,
          763.75,
          1082.67,
          834.45,
          1390.89,
          741.59,
          732.93,
          898.43,
          781.4,
          683.62,
          750.48,
          852.86,
          1175.92,
          883.15,
          1072.63,
          1005.71,
          624.9,
          1385.71,
          835.18,
          728.62,
          783.1,
          778.23,
          1350.1,
          1228.12,
          1334.89,
          701.97,
          1259.98,
          1341.15,
          899.37,
          1322.73,
          1058.62,
          1016.7,
          1338.67,
          1235.36,
          1151.34,
          1359.24,
          660.61,
          1085.48,
          1253.69,
          869.95,
          1266.76,
          650.55,
          1218.14,
          1179.65,
          879.61,
          1006.68,
          971.93,
          678.62,
          671.47,
          747.06,
          1261.17,
          1384.31,
          1343.65,
          1068.1,
          1245.83,
          799.51,
          635.51,
          730.63,
          1223.93,
          1183.94,
          944.62,
          933.94,
          1211.35,
          666.55,
          1073.31,
          1230.49,
          975.8,
          1078.6,
          829.17,
          665.49,
          1016.94,
          1201.92,
          1021.34,
          1000.36,
          1354.53,
          1158.54,
          1110.66,
          604.24,
          1309.52,
          843.86,
          1393.2,
          1137.5,
          1217.74,
          701.18,
          1053.4,
          1279.24,
          1339.05,
          741.44,
          1270.14,
          851.8,
          1283.7,
          985.58,
          978.57,
          1077.06,
          850.45,
          1321.92,
          631.91,
          955.3,
          1358.18,
          1369.73,
          784.79,
          977.58,
          831.95,
          712.19,
          1355.42,
          1174.82,
          678.21,
          1131.17,
          992.14,
          756.49,
          1122.28,
          913.01,
          1251.55,
          698.67,
          748.66,
          1114.73,
          1281.01,
          1250.06,
          1018.23,
          665.03,
          823.78,
          1223.95,
          846.09,
          878.03,
          619.38,
          861.39,
          1227.05,
          1249.73,
          956.78,
          1002.94,
          1200.66,
          644.55,
          1283.63,
          933.63,
          951.85,
          1139.45,
          1004.17,
          1298.8,
          1343,
          1159.58,
          1157.65,
          1348.6,
          1326.3,
          979.95,
          841.69,
          753.55,
          831.78,
          708.09,
          976.1,
          1349.26,
          780,
          1318.33,
          782.06,
          705.82,
          843.61,
          865.12,
          1106.02,
          910.22,
          1398.62,
          1172.27,
          734.72,
          859.11,
          790.63,
          737.52,
          1049.5,
          948.49,
          605.61,
          1284.76,
          1199.91,
          947.69,
          1366.7,
          781,
          1124.85,
          613.68,
          919.9,
          773.39,
          1359.72,
          1076.75,
          961.14,
          665,
          715.6,
          766.92,
          1387.23,
          1386.69,
          1159.26,
          973.97
         ]
        }
       ],
       "layout": {
        "template": {
         "data": {
          "bar": [
           {
            "error_x": {
             "color": "#2a3f5f"
            },
            "error_y": {
             "color": "#2a3f5f"
            },
            "marker": {
             "line": {
              "color": "#E5ECF6",
              "width": 0.5
             },
             "pattern": {
              "fillmode": "overlay",
              "size": 10,
              "solidity": 0.2
             }
            },
            "type": "bar"
           }
          ],
          "barpolar": [
           {
            "marker": {
             "line": {
              "color": "#E5ECF6",
              "width": 0.5
             },
             "pattern": {
              "fillmode": "overlay",
              "size": 10,
              "solidity": 0.2
             }
            },
            "type": "barpolar"
           }
          ],
          "carpet": [
           {
            "aaxis": {
             "endlinecolor": "#2a3f5f",
             "gridcolor": "white",
             "linecolor": "white",
             "minorgridcolor": "white",
             "startlinecolor": "#2a3f5f"
            },
            "baxis": {
             "endlinecolor": "#2a3f5f",
             "gridcolor": "white",
             "linecolor": "white",
             "minorgridcolor": "white",
             "startlinecolor": "#2a3f5f"
            },
            "type": "carpet"
           }
          ],
          "choropleth": [
           {
            "colorbar": {
             "outlinewidth": 0,
             "ticks": ""
            },
            "type": "choropleth"
           }
          ],
          "contour": [
           {
            "colorbar": {
             "outlinewidth": 0,
             "ticks": ""
            },
            "colorscale": [
             [
              0,
              "#0d0887"
             ],
             [
              0.1111111111111111,
              "#46039f"
             ],
             [
              0.2222222222222222,
              "#7201a8"
             ],
             [
              0.3333333333333333,
              "#9c179e"
             ],
             [
              0.4444444444444444,
              "#bd3786"
             ],
             [
              0.5555555555555556,
              "#d8576b"
             ],
             [
              0.6666666666666666,
              "#ed7953"
             ],
             [
              0.7777777777777778,
              "#fb9f3a"
             ],
             [
              0.8888888888888888,
              "#fdca26"
             ],
             [
              1,
              "#f0f921"
             ]
            ],
            "type": "contour"
           }
          ],
          "contourcarpet": [
           {
            "colorbar": {
             "outlinewidth": 0,
             "ticks": ""
            },
            "type": "contourcarpet"
           }
          ],
          "heatmap": [
           {
            "colorbar": {
             "outlinewidth": 0,
             "ticks": ""
            },
            "colorscale": [
             [
              0,
              "#0d0887"
             ],
             [
              0.1111111111111111,
              "#46039f"
             ],
             [
              0.2222222222222222,
              "#7201a8"
             ],
             [
              0.3333333333333333,
              "#9c179e"
             ],
             [
              0.4444444444444444,
              "#bd3786"
             ],
             [
              0.5555555555555556,
              "#d8576b"
             ],
             [
              0.6666666666666666,
              "#ed7953"
             ],
             [
              0.7777777777777778,
              "#fb9f3a"
             ],
             [
              0.8888888888888888,
              "#fdca26"
             ],
             [
              1,
              "#f0f921"
             ]
            ],
            "type": "heatmap"
           }
          ],
          "heatmapgl": [
           {
            "colorbar": {
             "outlinewidth": 0,
             "ticks": ""
            },
            "colorscale": [
             [
              0,
              "#0d0887"
             ],
             [
              0.1111111111111111,
              "#46039f"
             ],
             [
              0.2222222222222222,
              "#7201a8"
             ],
             [
              0.3333333333333333,
              "#9c179e"
             ],
             [
              0.4444444444444444,
              "#bd3786"
             ],
             [
              0.5555555555555556,
              "#d8576b"
             ],
             [
              0.6666666666666666,
              "#ed7953"
             ],
             [
              0.7777777777777778,
              "#fb9f3a"
             ],
             [
              0.8888888888888888,
              "#fdca26"
             ],
             [
              1,
              "#f0f921"
             ]
            ],
            "type": "heatmapgl"
           }
          ],
          "histogram": [
           {
            "marker": {
             "pattern": {
              "fillmode": "overlay",
              "size": 10,
              "solidity": 0.2
             }
            },
            "type": "histogram"
           }
          ],
          "histogram2d": [
           {
            "colorbar": {
             "outlinewidth": 0,
             "ticks": ""
            },
            "colorscale": [
             [
              0,
              "#0d0887"
             ],
             [
              0.1111111111111111,
              "#46039f"
             ],
             [
              0.2222222222222222,
              "#7201a8"
             ],
             [
              0.3333333333333333,
              "#9c179e"
             ],
             [
              0.4444444444444444,
              "#bd3786"
             ],
             [
              0.5555555555555556,
              "#d8576b"
             ],
             [
              0.6666666666666666,
              "#ed7953"
             ],
             [
              0.7777777777777778,
              "#fb9f3a"
             ],
             [
              0.8888888888888888,
              "#fdca26"
             ],
             [
              1,
              "#f0f921"
             ]
            ],
            "type": "histogram2d"
           }
          ],
          "histogram2dcontour": [
           {
            "colorbar": {
             "outlinewidth": 0,
             "ticks": ""
            },
            "colorscale": [
             [
              0,
              "#0d0887"
             ],
             [
              0.1111111111111111,
              "#46039f"
             ],
             [
              0.2222222222222222,
              "#7201a8"
             ],
             [
              0.3333333333333333,
              "#9c179e"
             ],
             [
              0.4444444444444444,
              "#bd3786"
             ],
             [
              0.5555555555555556,
              "#d8576b"
             ],
             [
              0.6666666666666666,
              "#ed7953"
             ],
             [
              0.7777777777777778,
              "#fb9f3a"
             ],
             [
              0.8888888888888888,
              "#fdca26"
             ],
             [
              1,
              "#f0f921"
             ]
            ],
            "type": "histogram2dcontour"
           }
          ],
          "mesh3d": [
           {
            "colorbar": {
             "outlinewidth": 0,
             "ticks": ""
            },
            "type": "mesh3d"
           }
          ],
          "parcoords": [
           {
            "line": {
             "colorbar": {
              "outlinewidth": 0,
              "ticks": ""
             }
            },
            "type": "parcoords"
           }
          ],
          "pie": [
           {
            "automargin": true,
            "type": "pie"
           }
          ],
          "scatter": [
           {
            "fillpattern": {
             "fillmode": "overlay",
             "size": 10,
             "solidity": 0.2
            },
            "type": "scatter"
           }
          ],
          "scatter3d": [
           {
            "line": {
             "colorbar": {
              "outlinewidth": 0,
              "ticks": ""
             }
            },
            "marker": {
             "colorbar": {
              "outlinewidth": 0,
              "ticks": ""
             }
            },
            "type": "scatter3d"
           }
          ],
          "scattercarpet": [
           {
            "marker": {
             "colorbar": {
              "outlinewidth": 0,
              "ticks": ""
             }
            },
            "type": "scattercarpet"
           }
          ],
          "scattergeo": [
           {
            "marker": {
             "colorbar": {
              "outlinewidth": 0,
              "ticks": ""
             }
            },
            "type": "scattergeo"
           }
          ],
          "scattergl": [
           {
            "marker": {
             "colorbar": {
              "outlinewidth": 0,
              "ticks": ""
             }
            },
            "type": "scattergl"
           }
          ],
          "scattermapbox": [
           {
            "marker": {
             "colorbar": {
              "outlinewidth": 0,
              "ticks": ""
             }
            },
            "type": "scattermapbox"
           }
          ],
          "scatterpolar": [
           {
            "marker": {
             "colorbar": {
              "outlinewidth": 0,
              "ticks": ""
             }
            },
            "type": "scatterpolar"
           }
          ],
          "scatterpolargl": [
           {
            "marker": {
             "colorbar": {
              "outlinewidth": 0,
              "ticks": ""
             }
            },
            "type": "scatterpolargl"
           }
          ],
          "scatterternary": [
           {
            "marker": {
             "colorbar": {
              "outlinewidth": 0,
              "ticks": ""
             }
            },
            "type": "scatterternary"
           }
          ],
          "surface": [
           {
            "colorbar": {
             "outlinewidth": 0,
             "ticks": ""
            },
            "colorscale": [
             [
              0,
              "#0d0887"
             ],
             [
              0.1111111111111111,
              "#46039f"
             ],
             [
              0.2222222222222222,
              "#7201a8"
             ],
             [
              0.3333333333333333,
              "#9c179e"
             ],
             [
              0.4444444444444444,
              "#bd3786"
             ],
             [
              0.5555555555555556,
              "#d8576b"
             ],
             [
              0.6666666666666666,
              "#ed7953"
             ],
             [
              0.7777777777777778,
              "#fb9f3a"
             ],
             [
              0.8888888888888888,
              "#fdca26"
             ],
             [
              1,
              "#f0f921"
             ]
            ],
            "type": "surface"
           }
          ],
          "table": [
           {
            "cells": {
             "fill": {
              "color": "#EBF0F8"
             },
             "line": {
              "color": "white"
             }
            },
            "header": {
             "fill": {
              "color": "#C8D4E3"
             },
             "line": {
              "color": "white"
             }
            },
            "type": "table"
           }
          ]
         },
         "layout": {
          "annotationdefaults": {
           "arrowcolor": "#2a3f5f",
           "arrowhead": 0,
           "arrowwidth": 1
          },
          "autotypenumbers": "strict",
          "coloraxis": {
           "colorbar": {
            "outlinewidth": 0,
            "ticks": ""
           }
          },
          "colorscale": {
           "diverging": [
            [
             0,
             "#8e0152"
            ],
            [
             0.1,
             "#c51b7d"
            ],
            [
             0.2,
             "#de77ae"
            ],
            [
             0.3,
             "#f1b6da"
            ],
            [
             0.4,
             "#fde0ef"
            ],
            [
             0.5,
             "#f7f7f7"
            ],
            [
             0.6,
             "#e6f5d0"
            ],
            [
             0.7,
             "#b8e186"
            ],
            [
             0.8,
             "#7fbc41"
            ],
            [
             0.9,
             "#4d9221"
            ],
            [
             1,
             "#276419"
            ]
           ],
           "sequential": [
            [
             0,
             "#0d0887"
            ],
            [
             0.1111111111111111,
             "#46039f"
            ],
            [
             0.2222222222222222,
             "#7201a8"
            ],
            [
             0.3333333333333333,
             "#9c179e"
            ],
            [
             0.4444444444444444,
             "#bd3786"
            ],
            [
             0.5555555555555556,
             "#d8576b"
            ],
            [
             0.6666666666666666,
             "#ed7953"
            ],
            [
             0.7777777777777778,
             "#fb9f3a"
            ],
            [
             0.8888888888888888,
             "#fdca26"
            ],
            [
             1,
             "#f0f921"
            ]
           ],
           "sequentialminus": [
            [
             0,
             "#0d0887"
            ],
            [
             0.1111111111111111,
             "#46039f"
            ],
            [
             0.2222222222222222,
             "#7201a8"
            ],
            [
             0.3333333333333333,
             "#9c179e"
            ],
            [
             0.4444444444444444,
             "#bd3786"
            ],
            [
             0.5555555555555556,
             "#d8576b"
            ],
            [
             0.6666666666666666,
             "#ed7953"
            ],
            [
             0.7777777777777778,
             "#fb9f3a"
            ],
            [
             0.8888888888888888,
             "#fdca26"
            ],
            [
             1,
             "#f0f921"
            ]
           ]
          },
          "colorway": [
           "#636efa",
           "#EF553B",
           "#00cc96",
           "#ab63fa",
           "#FFA15A",
           "#19d3f3",
           "#FF6692",
           "#B6E880",
           "#FF97FF",
           "#FECB52"
          ],
          "font": {
           "color": "#2a3f5f"
          },
          "geo": {
           "bgcolor": "white",
           "lakecolor": "white",
           "landcolor": "#E5ECF6",
           "showlakes": true,
           "showland": true,
           "subunitcolor": "white"
          },
          "hoverlabel": {
           "align": "left"
          },
          "hovermode": "closest",
          "mapbox": {
           "style": "light"
          },
          "paper_bgcolor": "white",
          "plot_bgcolor": "#E5ECF6",
          "polar": {
           "angularaxis": {
            "gridcolor": "white",
            "linecolor": "white",
            "ticks": ""
           },
           "bgcolor": "#E5ECF6",
           "radialaxis": {
            "gridcolor": "white",
            "linecolor": "white",
            "ticks": ""
           }
          },
          "scene": {
           "xaxis": {
            "backgroundcolor": "#E5ECF6",
            "gridcolor": "white",
            "gridwidth": 2,
            "linecolor": "white",
            "showbackground": true,
            "ticks": "",
            "zerolinecolor": "white"
           },
           "yaxis": {
            "backgroundcolor": "#E5ECF6",
            "gridcolor": "white",
            "gridwidth": 2,
            "linecolor": "white",
            "showbackground": true,
            "ticks": "",
            "zerolinecolor": "white"
           },
           "zaxis": {
            "backgroundcolor": "#E5ECF6",
            "gridcolor": "white",
            "gridwidth": 2,
            "linecolor": "white",
            "showbackground": true,
            "ticks": "",
            "zerolinecolor": "white"
           }
          },
          "shapedefaults": {
           "line": {
            "color": "#2a3f5f"
           }
          },
          "ternary": {
           "aaxis": {
            "gridcolor": "white",
            "linecolor": "white",
            "ticks": ""
           },
           "baxis": {
            "gridcolor": "white",
            "linecolor": "white",
            "ticks": ""
           },
           "bgcolor": "#E5ECF6",
           "caxis": {
            "gridcolor": "white",
            "linecolor": "white",
            "ticks": ""
           }
          },
          "title": {
           "x": 0.05
          },
          "xaxis": {
           "automargin": true,
           "gridcolor": "white",
           "linecolor": "white",
           "ticks": "",
           "title": {
            "standoff": 15
           },
           "zerolinecolor": "white",
           "zerolinewidth": 2
          },
          "yaxis": {
           "automargin": true,
           "gridcolor": "white",
           "linecolor": "white",
           "ticks": "",
           "title": {
            "standoff": 15
           },
           "zerolinecolor": "white",
           "zerolinewidth": 2
          }
         }
        },
        "title": {
         "text": "Price and Brand of the mobiles (Price between 600 and 1400)"
        },
        "xaxis": {
         "ticklen": 5,
         "title": {
          "text": "index"
         },
         "zeroline": false
        }
       }
      },
      "text/html": [
       "<div>                            <div id=\"679dafd8-4485-449a-ba38-41c24be8b8b9\" class=\"plotly-graph-div\" style=\"height:525px; width:100%;\"></div>            <script type=\"text/javascript\">                require([\"plotly\"], function(Plotly) {                    window.PLOTLYENV=window.PLOTLYENV || {};                                    if (document.getElementById(\"679dafd8-4485-449a-ba38-41c24be8b8b9\")) {                    Plotly.newPlot(                        \"679dafd8-4485-449a-ba38-41c24be8b8b9\",                        [{\"marker\":{\"color\":\"rgba(80,27,80,0.7)\"},\"mode\":\"lines\",\"name\":\"Price\",\"text\":[\"Green Inc\",\"Thomas-Thompson\",\"Sanchez-Williams\",\"Greer and Sons\",\"Brown and Sons\",\"Massey, Nicholson and Young\",\"Coleman-Pena\",\"Brock, Cruz and Santiago\",\"Griffin, Boyle and Dawson\",\"Arroyo, Jones and Clayton\",\"Carlson, Mcdonald and Hatfield\",\"Mckenzie LLC\",\"Cross Inc\",\"Jackson-Garza\",\"Neal-Francis\",\"Shaw-Farmer\",\"Best, Ross and Smith\",\"Burton LLC\",\"Byrd, Thompson and Rhodes\",\"Taylor-Hutchinson\",\"Graves, Turner and Crawford\",\"Villanueva-Ramirez\",\"Miller-Price\",\"Hood Inc\",\"Miller-Harper\",\"Decker Ltd\",\"Nelson and Sons\",\"Mitchell Ltd\",\"Burch, Wilson and Yang\",\"Ross, Strickland and Johns\",\"Oliver-Oconnell\",\"Ho-Porter\",\"Fisher-Marshall\",\"Watson, Carter and Woodard\",\"Walters, Bennett and Barrett\",\"Jacobs, Shepherd and Green\",\"Smith-Walters\",\"Walker PLC\",\"Hill, Mann and Martinez\",\"Brooks LLC\",\"Stewart Group\",\"Harris and Sons\",\"Smith, Bean and Gallagher\",\"White-Hood\",\"Hammond, Fernandez and Davis\",\"King, Carpenter and George\",\"Wagner, Burton and Ashley\",\"Lee LLC\",\"Sullivan Ltd\",\"Snyder LLC\",\"Webb-Davila\",\"Martin-Gardner\",\"York Inc\",\"Lane Ltd\",\"Chaney and Sons\",\"Mack Group\",\"Paul, Andersen and Carr\",\"Smith, Miller and Cooper\",\"Adams LLC\",\"Wright-Green\",\"Peters, Hayes and Sanchez\",\"Hopkins-Mahoney\",\"Dean LLC\",\"Shah PLC\",\"Garcia Inc\",\"Ramos and Sons\",\"Gonzalez PLC\",\"Bonilla, Gordon and Petersen\",\"Jones Inc\",\"Bates and Sons\",\"Lee Ltd\",\"Miller-Robinson\",\"Ward Inc\",\"Rice PLC\",\"Mitchell-Barrett\",\"Roach-Strong\",\"Ortiz-Kaiser\",\"Shah, Blackwell and Adams\",\"Hoffman PLC\",\"Simpson and Sons\",\"Joseph, Santos and Nelson\",\"Weaver Ltd\",\"Hunter PLC\",\"James, Garcia and Brown\",\"Anderson and Sons\",\"Thompson, Chapman and Jones\",\"Smith Ltd\",\"Rowland, Monroe and Owen\",\"Jordan-Williams\",\"Johnson, Rogers and Daugherty\",\"Alvarado-Carter\",\"Robinson-King\",\"Hahn, Hamilton and Johnson\",\"Bryant-Miller\",\"Bishop, Rodriguez and Bell\",\"Rojas, Kelly and Scott\",\"Williams, King and Hayes\",\"Black and Sons\",\"Matthews Ltd\",\"Carlson, Brennan and Robinson\",\"Jones-Wilson\",\"Stewart, Gutierrez and Avila\",\"Turner, Vega and Green\",\"Perez LLC\",\"Herrera LLC\",\"Castro, Briggs and Gilmore\",\"Peterson Inc\",\"Harmon Group\",\"Thompson, Johnson and Wong\",\"Collins PLC\",\"Gilbert Inc\",\"Hull, Terrell and Buchanan\",\"Mccullough-Powell\",\"Hawkins PLC\",\"Burnett Inc\",\"Clark LLC\",\"Bernard Ltd\",\"Morrison-Andersen\",\"Gilbert Inc\",\"Fitzpatrick-Miller\",\"Morton and Sons\",\"Brown PLC\",\"Porter-Mcgee\",\"Smith-Stevens\",\"Williamson, Fuller and Ward\",\"Rice-Osborne\",\"Camacho, Fox and Smith\",\"Walker-White\",\"Lane Group\",\"Williams, Coffey and Garcia\",\"Martinez-Torres\",\"Watson-Dougherty\",\"Campbell, Shelton and Walker\",\"Nelson, Carroll and Marsh\",\"Marshall-Olsen\",\"Harris Group\",\"Galvan Group\",\"Patton and Sons\",\"Foster-White\",\"Kline, Johnson and Hall\",\"Brown, Parsons and Johnson\",\"Cole, Mckinney and Maddox\",\"Townsend PLC\",\"Paul, Goodman and Richardson\",\"Stewart Ltd\",\"Baldwin-Swanson\",\"Santiago, Jones and Bell\",\"Baird-Henderson\",\"Sanchez, Johnson and Mosley\",\"Goodman, Hughes and White\",\"Sanders-Estrada\",\"Odom-Green\",\"Walters and Sons\",\"Andrews LLC\",\"Wade-Hall\",\"Hebert Inc\",\"Young, Hill and Morgan\",\"Holloway, Brown and Mills\",\"Velazquez Inc\",\"Fleming, Cooper and Wilson\",\"Decker Inc\",\"Sawyer-Ramirez\",\"Morris and Sons\",\"Garrett, Schultz and Carlson\",\"Curtis-Collier\",\"Jackson-Carroll\",\"Schultz LLC\",\"Cruz-Arias\",\"Mason, Flores and Baker\",\"Pitts-Valenzuela\",\"Bates, Pearson and Hardy\",\"Perez PLC\",\"Williams-Palmer\",\"Bennett, Foster and Moreno\",\"Cruz, Callahan and Carpenter\",\"Rogers, Baker and Holmes\",\"Martin-Carson\",\"Esparza-Baker\",\"Black PLC\",\"Galvan, Jenkins and Peck\",\"Delgado and Sons\",\"Franklin, Cox and Lopez\",\"Gutierrez Inc\",\"Boyle, Collier and Marquez\",\"Williams Ltd\",\"Harris, Stevens and Hall\",\"Knight Group\",\"Robinson-Tucker\",\"Lopez, Collins and Rosario\",\"Colon, Phillips and Watkins\",\"Peterson PLC\",\"Miller Inc\",\"Massey, Long and Nguyen\",\"Ruiz Inc\",\"White, Kirby and Cross\",\"Cooper and Sons\",\"Martinez Ltd\",\"Anderson-White\",\"Wilkerson, Suarez and Ayala\",\"Scott-Davis\",\"Moran Ltd\",\"Beasley-Bailey\",\"Johnson-Johnson\",\"Cabrera-White\",\"Roy-Dalton\",\"Burgess, Wise and Lee\",\"Nelson LLC\",\"Kelly, Esparza and Carson\",\"Anderson, Huff and Sanchez\",\"Turner-Colon\",\"Murphy Group\",\"Sutton, Parsons and Rice\",\"Lloyd, Stone and Mcguire\",\"Martinez Inc\",\"Mitchell PLC\",\"Jones, Gonzalez and Camacho\",\"Michael-Lara\",\"Martin Group\",\"Collins Ltd\",\"Camacho Inc\",\"Mills PLC\",\"Lindsey-Strickland\",\"Vargas-Perez\",\"Walker-Daniels\",\"Murphy PLC\",\"White, Ford and Andrews\",\"Schultz-Baker\",\"Bradley, Rios and Perkins\",\"Wall-Reed\",\"Harding-Thomas\",\"Schmidt LLC\",\"Hall-Swanson\",\"Jones-Jones\",\"Perry, Thompson and Vargas\",\"Bell Group\",\"Porter, Leon and Reynolds\",\"White Group\",\"Mueller, Collier and Khan\",\"Miller-Lang\",\"Ware, May and Lopez\",\"Harris-Melton\",\"Simmons Ltd\",\"Cross, Myers and Mueller\",\"Tran-Johnson\",\"Moran-Hunter\",\"Hickman Ltd\",\"Barnes, Smith and Crawford\",\"Miller, Anderson and Davis\",\"Juarez Ltd\",\"Merritt, Thomas and Patterson\",\"Hall Inc\",\"Franco-Sanders\",\"Calderon, Barry and Roberts\",\"Johnson, Brennan and Thompson\",\"Campbell-Gonzalez\",\"Moreno, Dodson and Andrews\",\"Ramirez, Duffy and Beck\",\"Wilkinson-Anderson\",\"Hawkins-Russell\",\"Sanders-Baker\",\"Wilson-Beard\",\"Bryant-Lewis\",\"Bishop and Sons\",\"Hill LLC\",\"Smith, Ramirez and Campbell\",\"Hendrix-Murphy\",\"Chen Inc\",\"Martin, Smith and Patterson\",\"Baker, Martin and Saunders\",\"Parker-Griffith\",\"Wright and Sons\",\"Fuentes PLC\",\"Hess-Little\",\"Russo Inc\",\"Marquez-Garrett\",\"Faulkner, Lewis and Armstrong\",\"Flynn PLC\",\"Fernandez, Long and Nelson\",\"Martinez Ltd\",\"Jones, Soto and Johnson\",\"Newman-Anthony\",\"Crawford, Spencer and Patel\",\"Evans-Gillespie\",\"Jacobson-Arnold\",\"Smith-Williams\",\"Martinez Ltd\",\"Smith, Short and Butler\",\"Patterson-Nelson\",\"Christensen-Daniel\",\"Ferguson PLC\",\"Ritter-Wilson\",\"Wallace, Turner and Young\",\"Jordan-Norris\",\"Peck Ltd\",\"Nelson and Sons\",\"Padilla-Hernandez\",\"Brown, Becker and Jones\",\"Jackson-Hodges\",\"Sanders, Snow and Harrell\",\"Wells, Harris and Bowman\",\"May-Williams\",\"Beck, Choi and Thomas\",\"Warner Group\",\"Anderson, Atkinson and Garza\",\"Graham LLC\",\"Torres Inc\",\"Williams and Sons\",\"Hodge LLC\",\"Peterson Ltd\",\"Reid-Gilbert\",\"Perry Group\",\"Glenn, Miller and Griffin\",\"Richardson Group\",\"Coleman-Brown\",\"Garcia, Smith and Ramos\",\"Walton Inc\",\"Edwards Group\",\"Lewis, Sanchez and Turner\",\"Smith, Terry and Obrien\",\"Green-Rogers\",\"Henson PLC\",\"Phillips, Foster and Maynard\",\"Jackson Inc\",\"Ross, Clark and Webb\",\"Turner, Kim and Leonard\",\"Hamilton, Romero and West\",\"Perry-Davis\",\"Wilson, Terrell and Kim\",\"Becker LLC\",\"Kelly PLC\",\"Mendez and Sons\",\"Porter, Taylor and Moore\",\"Finley Group\",\"Mcguire-Sanders\",\"Drake, George and Davis\",\"Chandler-Palmer\",\"Williams-Smith\",\"Jackson, Collier and Barber\",\"Hill Ltd\",\"Perez and Sons\",\"Ayers and Sons\",\"Holland PLC\",\"Hill, Thompson and Anderson\",\"Hunter-Richardson\",\"Wallace-James\",\"Gomez-Burns\",\"Lam-Gregory\",\"Cooper, Mcclain and Cook\",\"Johnson LLC\",\"Thornton, Fisher and Santiago\",\"Marsh and Sons\",\"Rodriguez Inc\",\"Strickland and Sons\",\"Mason-Ramirez\",\"Jones, Johnson and Vasquez\",\"Holmes, Ramos and Hoffman\",\"Curry, Richards and Lane\",\"Decker, Smith and Wilson\",\"Davies, Thomas and Brooks\",\"Yu-Smith\",\"Nunez, Jefferson and Glover\",\"Smith PLC\",\"Holmes-Rivera\",\"Vasquez LLC\",\"Figueroa LLC\",\"Greene-Baxter\",\"Jenkins, Jones and Jenkins\",\"Christian-Velasquez\",\"Mccoy-Stevenson\",\"Galloway, Gutierrez and Vazquez\",\"Long, Hughes and Gallegos\",\"Miller, Hill and Lawson\",\"Sanchez-Hernandez\",\"Davis Group\",\"Skinner, Ramirez and Kelley\",\"Williamson-Clay\",\"Grant, Mcdonald and Watson\",\"Pearson, Jackson and Fox\",\"Wood-Wilson\",\"Bryant, Davis and Eaton\",\"Jennings-Leon\",\"Miller and Sons\",\"Lamb Inc\",\"Oconnor, Jacobs and Wise\",\"Stein-Bridges\",\"Singleton Group\",\"Lee Inc\",\"Marshall Inc\",\"Peterson, Franklin and Bender\",\"Morales Ltd\",\"Porter Ltd\",\"Brennan-Vasquez\",\"Pittman, Williams and Mejia\",\"Wallace-Prince\",\"Pham and Sons\",\"Nielsen, Rivera and Jones\",\"Diaz, Ball and Juarez\",\"Garrett, Bush and Butler\",\"Bradford-Poole\",\"Carter PLC\",\"Thomas-Alexander\",\"Adams-Sanchez\",\"Russell, Watts and Wade\",\"Gonzalez-Horn\",\"Graham Ltd\",\"Wagner-Carrillo\",\"Lee, Simpson and West\",\"Gonzalez, Lowe and Robinson\",\"Cameron, Hughes and Lara\",\"Hays LLC\",\"Martin-Morales\",\"Wilkinson-Reyes\",\"Buck LLC\",\"Hall LLC\",\"Garrett Group\",\"Thompson, Johnson and Smith\",\"Branch Ltd\",\"Bailey-Davis\",\"Morales, Hansen and Colon\",\"Ross PLC\",\"Hill Ltd\",\"Mayo PLC\",\"Adams Group\",\"Wilson, Wilson and Smith\",\"Valencia and Sons\",\"Hernandez PLC\",\"Ball-Clay\",\"Wiggins-Wallace\",\"Edwards, Davidson and Houston\",\"Morgan PLC\",\"Hernandez Ltd\",\"Cobb, Duffy and Roberts\",\"Brown Inc\",\"Cole and Sons\",\"Baker and Sons\",\"Mcknight, Moody and Mason\",\"Morris-Davis\",\"Price, Carpenter and Adams\",\"Smith-Barr\",\"Wheeler-Summers\",\"Washington, Burns and Li\",\"Rodriguez, Adams and Smith\",\"Walter-Lynn\",\"James PLC\",\"Mata-Burns\",\"Salazar, Myers and Mcmahon\",\"Jones-Leonard\",\"Little-Perez\",\"Smith-Stokes\",\"Cain Group\",\"Glenn-Fernandez\",\"Moore Ltd\",\"Potter, Bailey and Turner\",\"Cooley-Reed\",\"Peterson and Sons\",\"Brown-Solis\",\"Wilcox and Sons\",\"Whitney-Cook\",\"Hill, Hall and Hess\",\"Howard, Wood and Rosales\",\"Aguilar-Scott\",\"Garrett Group\",\"Nelson-Wright\",\"Wilkins-Price\",\"Evans, Taylor and Peterson\",\"Nunez, Porter and Bell\",\"Brooks, Rodriguez and Knight\",\"Willis, Watson and Monroe\",\"Taylor-Keller\",\"Ruiz LLC\",\"Richardson PLC\",\"Foster Ltd\",\"West, Potts and Santos\",\"Jones, Phillips and Mckinney\",\"Boone PLC\",\"Soto, Hubbard and Kim\",\"Spencer-Cardenas\",\"Webster-Sullivan\",\"Escobar and Sons\",\"Vincent, Oneill and Bryant\",\"Becker-Smith\",\"Morris, Gay and Spencer\",\"Kelly, Velasquez and Dickerson\",\"Coleman LLC\",\"Bradshaw Inc\",\"Noble Group\",\"Jones-Gross\",\"Roth, Franklin and Hernandez\",\"Brown Group\",\"Norman, West and Mata\",\"Day-Wang\",\"Lang, Arnold and Holmes\",\"Ayers, Reyes and Lee\",\"Lee, Rodgers and Jordan\",\"Larson, Ruiz and Beasley\",\"Hernandez and Sons\",\"Hodge-Perry\",\"Ibarra, Jackson and Potter\",\"Johnson, Figueroa and Jones\",\"Bailey, Roy and Barnes\",\"Cobb LLC\",\"Miller-Cortez\",\"Obrien-Arnold\",\"Gallagher-Campbell\",\"Payne Group\",\"Kim, Ortega and Jones\",\"Webb, Orr and Benson\",\"Duncan, Mendoza and Mcdowell\",\"Conrad Ltd\",\"Cooper, Johnson and Townsend\",\"Payne and Sons\",\"Miranda, Chang and Hansen\",\"Thompson-Orr\",\"Lopez-Clements\",\"Lang-Garza\",\"Roth-Crawford\",\"Andrews-Martin\",\"Mckay-Turner\",\"George, Miller and Pitts\",\"White LLC\",\"Pope, Delgado and Wood\",\"Smith-Rice\",\"Browning-Durham\",\"Mclaughlin, Wilson and Hunter\",\"Tanner, Schwartz and Weber\",\"Cochran LLC\",\"Rivera, Garcia and Lewis\",\"Washington Inc\",\"Washington PLC\",\"Rosario-Woods\",\"Foster PLC\",\"Bates, Miller and Burns\",\"Taylor, Rowe and Nelson\",\"Nichols, Morales and Knight\",\"Frost-Sutton\",\"Joseph, Trevino and Salinas\",\"Davis, Marquez and Ray\",\"Sanchez Inc\",\"Jackson, White and Brown\",\"Gillespie-Holland\",\"Oliver-Douglas\",\"Ramirez Group\",\"Ramos, Lewis and Romero\",\"Hanson, Smith and Davidson\",\"Rocha-Chapman\",\"Sanchez, Brooks and Mason\",\"Guzman, Evans and Reynolds\",\"Reyes, Parker and Conway\",\"Wilkins PLC\",\"Martin, Anderson and Garcia\",\"White Inc\",\"Johnson, Johnson and Zimmerman\",\"Shaffer, Oliver and Sanchez\",\"Cruz Ltd\",\"Mcmahon, Jones and Baker\",\"Sanchez-Weeks\",\"Weaver-Thompson\",\"Thornton, Daniel and Jensen\",\"Price, Ashley and Coleman\",\"Carroll, Woodard and Mccarty\",\"Cowan, Hamilton and Hancock\",\"Rivera-Berry\",\"Tran-Graham\",\"Chase Ltd\",\"Rivera-Watson\",\"Harrington, Sosa and Mccarty\",\"Aguilar Ltd\",\"Maxwell, Dunlap and Sanford\",\"Sims-Mason\",\"Brandt and Sons\",\"Woods, Gutierrez and Tapia\",\"Love-Grimes\",\"Banks Group\",\"Poole, Parker and Williams\",\"Parks-Steele\",\"Wilson-Bailey\",\"Lee-Jones\",\"Gordon PLC\",\"Nguyen Inc\",\"Gilbert Group\",\"Gray, Smith and Barnes\",\"Wallace LLC\",\"Wilcox PLC\",\"Cherry-Potts\",\"Norman, Miller and Smith\",\"Mcguire, Garcia and Ingram\",\"Thomas, Henderson and Morales\",\"Stokes, Cobb and Hunter\",\"Hull, Simmons and Robinson\",\"Kelley, Blair and Mckinney\",\"Ramos LLC\",\"Clark-Figueroa\",\"Hurst, Carpenter and Hoffman\",\"Kelley-Garcia\",\"Ortiz Ltd\",\"Burns, Davila and Camacho\",\"Gilbert, Garcia and Sellers\",\"Weber Group\",\"Thompson-Nguyen\",\"Lee, Boyd and Lewis\",\"Benson-Dixon\",\"Mccormick, Barron and Mooney\",\"Ramirez-Carroll\",\"Harris, Hamilton and Rose\",\"Patrick, Bailey and West\",\"Diaz, Brooks and Dixon\",\"Peterson, Long and Ward\",\"Smith-Tucker\",\"Walker-Bradford\",\"Holder, Thornton and Young\",\"Perry PLC\",\"Kirby, Oneill and Carter\",\"Fleming Group\",\"Jensen-Lowe\",\"Woods-Li\",\"Conley PLC\",\"Benson and Sons\",\"Anderson Inc\",\"Pierce, Schaefer and Walsh\",\"Jones-Boyd\",\"Snow, Miller and Phelps\",\"Cobb LLC\",\"Munoz-Smith\",\"Palmer-Gross\",\"Smith PLC\",\"Andrews PLC\",\"George, Garner and Zhang\",\"Ford LLC\",\"Stewart, Webster and Ford\",\"Woodward-Phillips\",\"Martin, Burgess and Cameron\",\"Rubio-Williams\",\"Davis-Paul\",\"Aguilar Group\",\"Roberts Ltd\",\"Holmes, Austin and Davidson\",\"Wolf, Hamilton and Rubio\",\"Fuller, Sanders and Molina\",\"Atkins LLC\",\"Sloan, Harris and Green\",\"Brown, Jenkins and Roberts\",\"Russell Ltd\",\"Mcdonald, Bright and Ward\",\"Hall, Weaver and Cook\",\"Holden, Figueroa and Bennett\",\"Velasquez-Baker\",\"Sanford-Moore\",\"Wilson-Green\",\"Kelley, Young and Price\",\"Pittman-Nelson\",\"Hernandez-Reed\",\"Nichols, Hill and Rice\",\"Edwards, Mcbride and Gonzalez\",\"Hart Group\",\"Todd PLC\",\"Thomas, Noble and Porter\",\"Drake, Martin and Jordan\",\"Santiago LLC\",\"Rodgers-Villarreal\",\"Nelson, Bowers and Larson\",\"Taylor-Ramirez\",\"Harding, Delgado and Prince\",\"Branch-Johnson\",\"Shepard, Montoya and Parks\",\"Johnson-Alvarez\",\"Meyer PLC\",\"Jackson-Thomas\",\"Ellison-May\",\"Madden PLC\",\"Bennett and Sons\",\"Conway Group\",\"Harris-Bell\",\"Wilkerson-Wood\",\"Moore-Larson\",\"Moore-Jimenez\",\"Graham-Swanson\",\"Garcia-Montgomery\",\"Shaw-Brown\",\"Camacho PLC\",\"Sanchez, Solomon and Chapman\",\"Brown-Montgomery\",\"Cunningham-Hawkins\",\"Brooks, Ross and Suarez\",\"Flowers-Erickson\",\"Ali, Hamilton and Yates\",\"Aguirre, Morris and Tran\",\"Nolan-Stuart\",\"Walker-Grant\",\"Taylor, Huffman and Miller\",\"Vasquez, Roberts and Johnson\",\"Holland Ltd\",\"Moore and Sons\",\"Black-Hamilton\",\"Berry, Anderson and Hernandez\",\"Brewer-Morrow\",\"Curtis, Fischer and Mendez\",\"Harris-Rogers\",\"Williams Inc\",\"Perry, Smith and Smith\",\"Vincent-Greene\",\"Ritter-Reed\",\"Blake Ltd\",\"Lee-Johnson\",\"Morrison, Leonard and Hill\",\"Johnson, Mcconnell and May\",\"Adkins, Robertson and Lindsey\",\"Joyce, Bowman and Ramirez\",\"Lin LLC\",\"Henry-Brooks\",\"Williamson, Martinez and Contreras\",\"Mercer-Williams\",\"Delgado Ltd\",\"Webb Group\",\"White, Buck and Suarez\",\"Bradley, Miller and Evans\",\"Spencer-Payne\",\"Fisher Ltd\",\"Bishop, Simpson and Nash\",\"Morse, Bishop and Smith\",\"Young Inc\",\"Mcguire, Brooks and Stuart\",\"Robertson-Obrien\",\"Brooks-Schroeder\",\"Clements and Sons\",\"Carter-Wilson\",\"Evans-Shelton\",\"Byrd-Jones\",\"Collins-Becker\",\"Mendez, Watkins and Andrews\",\"Thompson-Chan\",\"Ramos and Sons\",\"Salas, Ritter and Riddle\",\"Weaver, Young and King\",\"Wilson Ltd\",\"Nielsen-Reed\",\"Mueller-Hall\",\"Turner LLC\",\"Vaughan-Perez\",\"Warren, Taylor and Cole\",\"Duffy-Mcmillan\",\"Santana-Brewer\",\"Bush and Sons\",\"Anderson-Burns\",\"Fuller-Walters\",\"Robertson, Frye and Frost\",\"Ramsey, Freeman and Hamilton\",\"Williams LLC\",\"Sampson-Kennedy\",\"Thompson-Porter\",\"Sherman-Massey\",\"Sanchez, Shaw and Acevedo\",\"Hurley-Bush\",\"Watson PLC\",\"Taylor Group\",\"Jackson LLC\",\"Wright LLC\",\"Cooper-Ross\",\"Malone Inc\",\"Henry-Duke\",\"Lindsey, Avila and Brown\",\"Cole-Davis\",\"Nunez-Smith\",\"Williams Group\",\"Russell-Alvarez\",\"Valdez-Fuller\",\"Williams, Carrillo and Rice\",\"Smith-Scott\",\"Smith Group\",\"Barrett, Figueroa and White\",\"Dennis-Sanchez\",\"Gonzalez, Coleman and Le\",\"Pope-Hensley\",\"Petty, Smith and Arnold\",\"Harris and Sons\",\"Jenkins, Phillips and Lopez\",\"Marquez Ltd\",\"Gonzales Group\",\"Lopez PLC\",\"Miller-Wolfe\",\"Douglas-Dalton\",\"Valencia-Boone\",\"Johnson, Harris and Strong\",\"Fritz-Tapia\",\"Grant, Cross and Bennett\",\"Walton-Larson\",\"Morales LLC\",\"Cole-Williams\",\"Evans, Clayton and Ross\",\"Moyer, Lee and Abbott\",\"Perkins-Long\",\"Fernandez-Fischer\",\"Kemp, Ingram and Olsen\",\"Smith-Barrett\",\"Stephens, Cox and Fisher\",\"Schneider, White and Thomas\",\"Dominguez-Franklin\",\"Bishop LLC\",\"Wolfe-Schroeder\",\"Wallace Ltd\",\"Sanchez PLC\",\"Mckay PLC\",\"Ortega Inc\",\"White-Berry\",\"Elliott, Green and Scott\",\"Maddox-Lewis\",\"Miller Ltd\",\"Arias-Mendoza\",\"King-Rocha\",\"Hester-Murphy\",\"Jones-Nguyen\",\"Thomas-Mason\",\"Jacobson-Collins\",\"Goodwin PLC\",\"Hanson, Barron and Castillo\",\"Rodriguez-Morales\",\"Hester, Lee and Kirby\",\"Gonzales Ltd\",\"Jordan-Bass\",\"Cox, Friedman and Martinez\",\"Calhoun Inc\",\"Daniels, Rojas and Pearson\",\"Thomas Ltd\",\"Sanchez PLC\",\"Miller Ltd\",\"Moran Inc\",\"Good, Davis and Smith\",\"Wheeler Ltd\",\"Garcia Ltd\",\"Williams-Thompson\",\"Williams Group\",\"Butler, Perkins and Arnold\",\"Hensley-Love\",\"Pace-Davis\",\"Fields, Christensen and Daniels\",\"Johnson, Scott and Kim\",\"Bullock LLC\",\"Cochran-Phillips\",\"Ochoa-Martin\",\"Wheeler LLC\",\"Miller, Campbell and Russell\",\"Lang-Bryant\",\"Conway-Estrada\",\"Delgado PLC\",\"Harper Ltd\",\"Gallagher-Parker\",\"Anderson-Valdez\",\"Williams Ltd\",\"Rodriguez-Dominguez\",\"Hoover Inc\",\"Morris Inc\",\"Sanchez PLC\",\"Hodge and Sons\",\"Patrick Inc\",\"Roberts, Lin and Davis\",\"Lee, Kemp and Warner\",\"Ford, Carpenter and Valdez\",\"May PLC\",\"Taylor Inc\",\"Hinton, Evans and Harrison\",\"Allen-Garza\",\"Henry-Frazier\",\"Anderson-Leach\",\"Phillips Group\",\"Guerra-Coleman\",\"Frank-Allen\",\"Wallace-Fleming\",\"Vasquez and Sons\",\"Martin Inc\",\"Durham-Lewis\",\"Harper Inc\",\"Manning-Floyd\",\"Kirby and Sons\",\"Padilla, Gibson and Ingram\",\"Smith, Davis and Gutierrez\",\"Miller-Jordan\",\"Clark-Henderson\",\"Myers, Wilcox and Beck\",\"Stokes-Mclean\",\"Dunn-Jackson\",\"Fox, Stevens and Bell\",\"Mitchell, Davidson and Summers\",\"Mason PLC\",\"Smith-Ramirez\",\"Mcdonald PLC\",\"Gill-Boyle\",\"Cooper, Ford and Heath\",\"Wagner, Martinez and Dorsey\",\"Robinson-Thompson\",\"Williams, Nichols and Oliver\",\"Parks PLC\",\"Williamson, Graham and Farrell\",\"Booker-Camacho\",\"Smith, Savage and Oneal\",\"Larsen-Russell\",\"Sanders, Jones and Keller\",\"Smith-Rodriguez\",\"Moore LLC\",\"Aguirre-Reed\",\"Friedman-Le\",\"Keller, Stevenson and Gonzalez\",\"Smith, Thompson and Vance\",\"Wilson, Torres and Rodriguez\",\"Ferrell Inc\",\"Evans-Allison\",\"Ruiz, Sullivan and Gates\",\"Wolfe PLC\",\"Miller and Sons\",\"Sanchez and Sons\",\"Gibson-Armstrong\",\"Horton, Sanchez and Mitchell\",\"Jones PLC\",\"Stevens-Ward\",\"Hawkins Group\",\"Patterson, Herman and Collins\",\"Huang, Nash and Wall\",\"Fuller-Torres\",\"Alvarado, Russell and Moreno\",\"Zhang, Bailey and Burnett\",\"Smith, Shelton and Anderson\",\"Mcdowell and Sons\",\"Gomez LLC\",\"Hayes-Johnson\",\"Torres, Howell and Gomez\",\"Campbell-Serrano\",\"Herrera-Alvarez\",\"Combs, Wise and Clark\",\"Hamilton-Garcia\",\"Haley, Price and Contreras\",\"Cochran-Black\",\"Austin Inc\",\"Reeves-Elliott\",\"Fowler-Martinez\",\"Hutchinson, Roberts and Mcbride\",\"Blanchard LLC\",\"May-Snyder\",\"Mayer, Moore and Murphy\",\"Allen-Mays\",\"Fox, Burgess and White\",\"Pugh-Knight\",\"Jordan and Sons\",\"Gallagher-Kirby\",\"Cortez Group\",\"Fernandez LLC\",\"Miranda LLC\",\"Johnston Ltd\",\"Steele, Fuller and Freeman\",\"Yoder PLC\",\"Bailey Ltd\",\"Olson LLC\",\"Scott PLC\",\"Martin Inc\",\"Morgan, Burns and Gregory\",\"Carroll, Brown and Bates\",\"Kramer-Cox\",\"Yang-Coleman\",\"Owens, Grimes and Patrick\",\"Ashley, Fields and Vazquez\",\"Mayer, Fisher and White\",\"Campbell PLC\",\"Hartman, Lopez and Riley\",\"Gilbert and Sons\",\"Alvarez, Martinez and Robertson\",\"Rivera and Sons\",\"Smith, Greene and Miller\",\"Martinez, Bond and Green\",\"Franco Ltd\",\"Rogers-Rodriguez\",\"Hartman-Rodriguez\",\"Smith Group\",\"Johnson-Andrews\",\"Castillo Inc\",\"Martinez PLC\",\"Smith and Sons\",\"Santiago, Yoder and Stevens\",\"Hicks and Sons\",\"Woods-Murphy\",\"Frey LLC\",\"Moore-Ingram\",\"Aguilar-Campos\",\"Rice-Hernandez\",\"Hernandez-Davis\",\"Anderson-Cruz\",\"Hill Inc\",\"Clark Ltd\",\"Johnson LLC\",\"Gomez-Morgan\",\"Padilla, Mitchell and Clark\",\"Horne PLC\",\"Garcia Group\",\"Boyd, Hines and Higgins\",\"Lopez, Mann and Sanchez\",\"Chapman, Martinez and Powers\",\"Morrison-Stanley\",\"Johnson-Fleming\",\"Robles-Williams\",\"Brooks Ltd\",\"Lang, Brown and Stone\",\"Atkinson, Moore and Nelson\",\"Kim, Maxwell and Moore\",\"Wallace LLC\"],\"x\":[0,1,2,3,4,5,6,7,8,9,10,11,12,13,14,15,16,17,18,19,20,21,22,23,24,25,26,27,28,29,30,31,32,33,34,35,36,37,38,39,40,41,42,43,44,45,46,47,48,49,50,51,52,53,54,55,56,57,58,59,60,61,62,63,64,65,66,67,68,69,70,71,72,73,74,75,76,77,78,79,80,81,82,83,84,85,86,87,88,89,90,91,92,93,94,95,96,97,98,99,100,101,102,103,104,105,106,107,108,109,110,111,112,113,114,115,116,117,118,119,120,121,122,123,124,125,126,127,128,129,130,131,132,133,134,135,136,137,138,139,140,141,142,143,144,145,146,147,148,149,150,151,152,153,154,155,156,157,158,159,160,161,162,163,164,165,166,167,168,169,170,171,172,173,174,175,176,177,178,179,180,181,182,183,184,185,186,187,188,189,190,191,192,193,194,195,196,197,198,199,200,201,202,203,204,205,206,207,208,209,210,211,212,213,214,215,216,217,218,219,220,221,222,223,224,225,226,227,228,229,230,231,232,233,234,235,236,237,238,239,240,241,242,243,244,245,246,247,248,249,250,251,252,253,254,255,256,257,258,259,260,261,262,263,264,265,266,267,268,269,270,271,272,273,274,275,276,277,278,279,280,281,282,283,284,285,286,287,288,289,290,291,292,293,294,295,296,297,298,299,300,301,302,303,304,305,306,307,308,309,310,311,312,313,314,315,316,317,318,319,320,321,322,323,324,325,326,327,328,329,330,331,332,333,334,335,336,337,338,339,340,341,342,343,344,345,346,347,348,349,350,351,352,353,354,355,356,357,358,359,360,361,362,363,364,365,366,367,368,369,370,371,372,373,374,375,376,377,378,379,380,381,382,383,384,385,386,387,388,389,390,391,392,393,394,395,396,397,398,399,400,401,402,403,404,405,406,407,408,409,410,411,412,413,414,415,416,417,418,419,420,421,422,423,424,425,426,427,428,429,430,431,432,433,434,435,436,437,438,439,440,441,442,443,444,445,446,447,448,449,450,451,452,453,454,455,456,457,458,459,460,461,462,463,464,465,466,467,468,469,470,471,472,473,474,475,476,477,478,479,480,481,482,483,484,485,486,487,488,489,490,491,492,493,494,495,496,497,498,499,500,501,502,503,504,505,506,507,508,509,510,511,512,513,514,515,516,517,518,519,520,521,522,523,524,525,526,527,528,529,530,531,532,533,534,535,536,537,538,539,540,541,542,543,544,545,546,547,548,549,550,551,552,553,554,555,556,557,558,559,560,561,562,563,564,565,566,567,568,569,570,571,572,573,574,575,576,577,578,579,580,581,582,583,584,585,586,587,588,589,590,591,592,593,594,595,596,597,598,599,600,601,602,603,604,605,606,607,608,609,610,611,612,613,614,615,616,617,618,619,620,621,622,623,624,625,626,627,628,629,630,631,632,633,634,635,636,637,638,639,640,641,642,643,644,645,646,647,648,649,650,651,652,653,654,655,656,657,658,659,660,661,662,663,664,665,666,667,668,669,670,671,672,673,674,675,676,677,678,679,680,681,682,683,684,685,686,687,688,689,690,691,692,693,694,695,696,697,698,699,700,701,702,703,704,705,706,707,708,709,710,711,712,713,714,715,716,717,718,719,720,721,722,723,724,725,726,727,728,729,730,731,732,733,734,735,736,737,738,739,740,741,742,743,744,745,746,747,748,749,750,751,752,753,754,755,756,757,758,759,760,761,762,763,764,765,766,767,768,769,770,771,772,773,774,775,776,777,778,779,780,781,782,783,784,785,786,787,788,789,790,791,792,793,794,795,796,797,798,799,800,801,802,803,804,805,806,807,808,809,810,811,812,813,814,815,816,817,818,819,820,821,822,823,824,825,826,827,828,829,830,831,832,833,834,835,836,837,838,839,840,841,842,843,844,845,846,847,848,849,850,851,852,853,854,855,856,857,858,859,860,861,862,863,864,865,866,867,868,869,870,871,872,873,874,875,876,877,878,879,880,881,882,883,884,885,886,887,888,889,890,891,892,893,894,895,896,897,898,899,900,901,902,903,904,905,906,907,908,909,910,911,912,913,914,915,916,917,918,919,920,921,922,923,924,925,926,927,928,929,930,931,932,933,934,935,936,937,938,939,940,941,942,943,944,945,946,947,948,949,950,951,952,953,954,955,956,957,958,959,960,961,962,963,964,965,966,967,968,969,970,971,972,973,974,975,976,977,978,979,980,981,982,983,984,985,986,987,988,989,990,991,992,993,994,995,996,997,998,999],\"y\":[1196.95,1010.34,839.79,975.77,774.79,806.59,761.48,965.15,1354.69,1025.05,1071.99,678.72,1092.94,1019.82,1333.31,785.38,875.91,1070.05,704.12,694.54,1182.99,1289.42,680.7,965.16,1100.78,903.7,1377.31,1357.33,1036.47,773.02,1292.49,1123.18,1327.33,912.97,1266.01,1371.76,1028.67,1236.37,974.75,1062.8,1228.78,1141.24,1335.67,1187.15,950.36,903.82,1207.94,862.18,803.5,949.75,1115.61,900.04,907.24,897.86,1007.3,757.33,923.2,823.68,1330.5,1318.54,992.42,1040.94,626.57,1034.38,613.96,1337.3,701.08,1178.86,824.69,912.6,958.86,938.75,1091.68,988.44,811.97,742.68,978.13,735.25,696.42,1194.98,1085.16,687.38,894.34,618.99,1269.71,985.83,1352.48,624.74,1278.51,613.3,1056.74,1237.37,811.73,1370.68,1245.2,1141.1,809.43,1256.1,782.21,1345.71,1273.26,1352.3,998.82,1136.87,960.48,959.18,1158.35,682.66,1262.78,806.17,1285.81,1243.41,850.08,1039.85,842.01,1368.15,1358.1,1150.87,1276.9,1119.15,1064.72,763.9,1239.52,1123.8,975.91,627.75,896.28,1128.07,920.56,818.84,1360.71,927.54,959.13,646.09,826.54,981.39,759.37,867.3,992.06,942.27,609.95,1171.07,894.1,1347.33,1164.44,1185.69,794.72,1045.12,644.86,991.09,1389.02,1122.88,1224.24,1317.86,796.46,1148.23,609.77,1252.52,1036.75,848.45,1083.43,1088.57,604.9,1371.75,1100.35,883.91,958.9,603.59,791.97,723.04,1250.45,883.64,1047.17,983.28,661.38,1195.38,1210.29,687.46,1030.8,1285.42,1148.39,644.01,819.04,1070.26,601.41,855.95,811.59,1118.63,764.81,898.28,1018.82,1231.35,810.9,1060.85,883.09,985.02,1157.78,1074.85,1316.82,608.12,988.39,1297.35,944.16,1376.5,1138.9,1276.97,1158.59,1239.85,1167.79,1096.95,1251.71,655.7,805.15,781.03,1264.82,987.65,873.85,1184.54,972.1,846.09,865.64,1154.25,1278.82,719.28,1378.49,833.19,1388.36,1307.36,859.92,1211.87,627.54,1387.12,1037.17,921.44,1151.12,1074.32,1108.08,911.36,1182.85,897.02,872.16,965.18,1217.5,681.33,733.08,877.61,1168.22,1003.56,726.99,911.58,1209.12,836.88,1118.72,943.28,767.55,636.1,1204.69,1037.32,971.16,1164.58,874.01,1137.26,901.21,1158.16,1019.36,965.45,630.85,1277.62,870.58,1211.43,884.15,1119.68,885.86,894.2,1203.42,1240.29,783.9,1143.91,619.85,887.6,1066.94,688.69,808.78,739.42,1128.1,784.93,1085.52,1178.88,887.06,1041.67,849.64,985.15,1184.61,688.29,1104.15,732.04,1022.16,1134.19,643.18,1151.03,1083.41,879.86,1170.21,1396.17,1201.43,690.06,1082.81,967.71,656.01,1252.68,866.4,1302.69,1218.75,1174.32,1205.37,907.71,1317.59,858.06,1196.33,857.2,1314.34,721.93,783.61,904.96,818.49,965.34,945.23,1027.51,1302.2,662.12,997.81,610.7,1042.66,1159.99,1293.55,1048.2,796.02,674.58,1013.86,941.59,1276.39,733.77,888.01,766.06,1171.43,724.55,1297.7,882.11,622.74,1136.68,735.35,641.22,995.72,678.18,1294.76,691.39,813.19,1345.42,723.74,883.16,788.54,783.11,805.82,690.46,1391.33,1139.64,651.39,1314.06,1104.19,1183.15,1100.71,1212.06,1037.33,677.09,1319.53,1195.66,643.43,945.19,1265.9,1315.25,1025.19,652.8,1291.19,1369.06,1019.28,1387.62,1385.88,973.62,976.7,763.75,1082.67,834.45,1390.89,741.59,732.93,898.43,781.4,683.62,750.48,852.86,1175.92,883.15,1072.63,1005.71,624.9,1385.71,835.18,728.62,783.1,778.23,1350.1,1228.12,1334.89,701.97,1259.98,1341.15,899.37,1322.73,1058.62,1016.7,1338.67,1235.36,1151.34,1359.24,660.61,1085.48,1253.69,869.95,1266.76,650.55,1218.14,1179.65,879.61,1006.68,971.93,678.62,671.47,747.06,1261.17,1384.31,1343.65,1068.1,1245.83,799.51,635.51,730.63,1223.93,1183.94,944.62,933.94,1211.35,666.55,1073.31,1230.49,975.8,1078.6,829.17,665.49,1016.94,1201.92,1021.34,1000.36,1354.53,1158.54,1110.66,604.24,1309.52,843.86,1393.2,1137.5,1217.74,701.18,1053.4,1279.24,1339.05,741.44,1270.14,851.8,1283.7,985.58,978.57,1077.06,850.45,1321.92,631.91,955.3,1358.18,1369.73,784.79,977.58,831.95,712.19,1355.42,1174.82,678.21,1131.17,992.14,756.49,1122.28,913.01,1251.55,698.67,748.66,1114.73,1281.01,1250.06,1018.23,665.03,823.78,1223.95,846.09,878.03,619.38,861.39,1227.05,1249.73,956.78,1002.94,1200.66,644.55,1283.63,933.63,951.85,1139.45,1004.17,1298.8,1343.0,1159.58,1157.65,1348.6,1326.3,979.95,841.69,753.55,831.78,708.09,976.1,1349.26,780.0,1318.33,782.06,705.82,843.61,865.12,1106.02,910.22,1398.62,1172.27,734.72,859.11,790.63,737.52,1049.5,948.49,605.61,1284.76,1199.91,947.69,1366.7,781.0,1124.85,613.68,919.9,773.39,1359.72,1076.75,961.14,665.0,715.6,766.92,1387.23,1386.69,1159.26,973.97],\"type\":\"scatter\"}],                        {\"template\":{\"data\":{\"barpolar\":[{\"marker\":{\"line\":{\"color\":\"#E5ECF6\",\"width\":0.5},\"pattern\":{\"fillmode\":\"overlay\",\"size\":10,\"solidity\":0.2}},\"type\":\"barpolar\"}],\"bar\":[{\"error_x\":{\"color\":\"#2a3f5f\"},\"error_y\":{\"color\":\"#2a3f5f\"},\"marker\":{\"line\":{\"color\":\"#E5ECF6\",\"width\":0.5},\"pattern\":{\"fillmode\":\"overlay\",\"size\":10,\"solidity\":0.2}},\"type\":\"bar\"}],\"carpet\":[{\"aaxis\":{\"endlinecolor\":\"#2a3f5f\",\"gridcolor\":\"white\",\"linecolor\":\"white\",\"minorgridcolor\":\"white\",\"startlinecolor\":\"#2a3f5f\"},\"baxis\":{\"endlinecolor\":\"#2a3f5f\",\"gridcolor\":\"white\",\"linecolor\":\"white\",\"minorgridcolor\":\"white\",\"startlinecolor\":\"#2a3f5f\"},\"type\":\"carpet\"}],\"choropleth\":[{\"colorbar\":{\"outlinewidth\":0,\"ticks\":\"\"},\"type\":\"choropleth\"}],\"contourcarpet\":[{\"colorbar\":{\"outlinewidth\":0,\"ticks\":\"\"},\"type\":\"contourcarpet\"}],\"contour\":[{\"colorbar\":{\"outlinewidth\":0,\"ticks\":\"\"},\"colorscale\":[[0.0,\"#0d0887\"],[0.1111111111111111,\"#46039f\"],[0.2222222222222222,\"#7201a8\"],[0.3333333333333333,\"#9c179e\"],[0.4444444444444444,\"#bd3786\"],[0.5555555555555556,\"#d8576b\"],[0.6666666666666666,\"#ed7953\"],[0.7777777777777778,\"#fb9f3a\"],[0.8888888888888888,\"#fdca26\"],[1.0,\"#f0f921\"]],\"type\":\"contour\"}],\"heatmapgl\":[{\"colorbar\":{\"outlinewidth\":0,\"ticks\":\"\"},\"colorscale\":[[0.0,\"#0d0887\"],[0.1111111111111111,\"#46039f\"],[0.2222222222222222,\"#7201a8\"],[0.3333333333333333,\"#9c179e\"],[0.4444444444444444,\"#bd3786\"],[0.5555555555555556,\"#d8576b\"],[0.6666666666666666,\"#ed7953\"],[0.7777777777777778,\"#fb9f3a\"],[0.8888888888888888,\"#fdca26\"],[1.0,\"#f0f921\"]],\"type\":\"heatmapgl\"}],\"heatmap\":[{\"colorbar\":{\"outlinewidth\":0,\"ticks\":\"\"},\"colorscale\":[[0.0,\"#0d0887\"],[0.1111111111111111,\"#46039f\"],[0.2222222222222222,\"#7201a8\"],[0.3333333333333333,\"#9c179e\"],[0.4444444444444444,\"#bd3786\"],[0.5555555555555556,\"#d8576b\"],[0.6666666666666666,\"#ed7953\"],[0.7777777777777778,\"#fb9f3a\"],[0.8888888888888888,\"#fdca26\"],[1.0,\"#f0f921\"]],\"type\":\"heatmap\"}],\"histogram2dcontour\":[{\"colorbar\":{\"outlinewidth\":0,\"ticks\":\"\"},\"colorscale\":[[0.0,\"#0d0887\"],[0.1111111111111111,\"#46039f\"],[0.2222222222222222,\"#7201a8\"],[0.3333333333333333,\"#9c179e\"],[0.4444444444444444,\"#bd3786\"],[0.5555555555555556,\"#d8576b\"],[0.6666666666666666,\"#ed7953\"],[0.7777777777777778,\"#fb9f3a\"],[0.8888888888888888,\"#fdca26\"],[1.0,\"#f0f921\"]],\"type\":\"histogram2dcontour\"}],\"histogram2d\":[{\"colorbar\":{\"outlinewidth\":0,\"ticks\":\"\"},\"colorscale\":[[0.0,\"#0d0887\"],[0.1111111111111111,\"#46039f\"],[0.2222222222222222,\"#7201a8\"],[0.3333333333333333,\"#9c179e\"],[0.4444444444444444,\"#bd3786\"],[0.5555555555555556,\"#d8576b\"],[0.6666666666666666,\"#ed7953\"],[0.7777777777777778,\"#fb9f3a\"],[0.8888888888888888,\"#fdca26\"],[1.0,\"#f0f921\"]],\"type\":\"histogram2d\"}],\"histogram\":[{\"marker\":{\"pattern\":{\"fillmode\":\"overlay\",\"size\":10,\"solidity\":0.2}},\"type\":\"histogram\"}],\"mesh3d\":[{\"colorbar\":{\"outlinewidth\":0,\"ticks\":\"\"},\"type\":\"mesh3d\"}],\"parcoords\":[{\"line\":{\"colorbar\":{\"outlinewidth\":0,\"ticks\":\"\"}},\"type\":\"parcoords\"}],\"pie\":[{\"automargin\":true,\"type\":\"pie\"}],\"scatter3d\":[{\"line\":{\"colorbar\":{\"outlinewidth\":0,\"ticks\":\"\"}},\"marker\":{\"colorbar\":{\"outlinewidth\":0,\"ticks\":\"\"}},\"type\":\"scatter3d\"}],\"scattercarpet\":[{\"marker\":{\"colorbar\":{\"outlinewidth\":0,\"ticks\":\"\"}},\"type\":\"scattercarpet\"}],\"scattergeo\":[{\"marker\":{\"colorbar\":{\"outlinewidth\":0,\"ticks\":\"\"}},\"type\":\"scattergeo\"}],\"scattergl\":[{\"marker\":{\"colorbar\":{\"outlinewidth\":0,\"ticks\":\"\"}},\"type\":\"scattergl\"}],\"scattermapbox\":[{\"marker\":{\"colorbar\":{\"outlinewidth\":0,\"ticks\":\"\"}},\"type\":\"scattermapbox\"}],\"scatterpolargl\":[{\"marker\":{\"colorbar\":{\"outlinewidth\":0,\"ticks\":\"\"}},\"type\":\"scatterpolargl\"}],\"scatterpolar\":[{\"marker\":{\"colorbar\":{\"outlinewidth\":0,\"ticks\":\"\"}},\"type\":\"scatterpolar\"}],\"scatter\":[{\"fillpattern\":{\"fillmode\":\"overlay\",\"size\":10,\"solidity\":0.2},\"type\":\"scatter\"}],\"scatterternary\":[{\"marker\":{\"colorbar\":{\"outlinewidth\":0,\"ticks\":\"\"}},\"type\":\"scatterternary\"}],\"surface\":[{\"colorbar\":{\"outlinewidth\":0,\"ticks\":\"\"},\"colorscale\":[[0.0,\"#0d0887\"],[0.1111111111111111,\"#46039f\"],[0.2222222222222222,\"#7201a8\"],[0.3333333333333333,\"#9c179e\"],[0.4444444444444444,\"#bd3786\"],[0.5555555555555556,\"#d8576b\"],[0.6666666666666666,\"#ed7953\"],[0.7777777777777778,\"#fb9f3a\"],[0.8888888888888888,\"#fdca26\"],[1.0,\"#f0f921\"]],\"type\":\"surface\"}],\"table\":[{\"cells\":{\"fill\":{\"color\":\"#EBF0F8\"},\"line\":{\"color\":\"white\"}},\"header\":{\"fill\":{\"color\":\"#C8D4E3\"},\"line\":{\"color\":\"white\"}},\"type\":\"table\"}]},\"layout\":{\"annotationdefaults\":{\"arrowcolor\":\"#2a3f5f\",\"arrowhead\":0,\"arrowwidth\":1},\"autotypenumbers\":\"strict\",\"coloraxis\":{\"colorbar\":{\"outlinewidth\":0,\"ticks\":\"\"}},\"colorscale\":{\"diverging\":[[0,\"#8e0152\"],[0.1,\"#c51b7d\"],[0.2,\"#de77ae\"],[0.3,\"#f1b6da\"],[0.4,\"#fde0ef\"],[0.5,\"#f7f7f7\"],[0.6,\"#e6f5d0\"],[0.7,\"#b8e186\"],[0.8,\"#7fbc41\"],[0.9,\"#4d9221\"],[1,\"#276419\"]],\"sequential\":[[0.0,\"#0d0887\"],[0.1111111111111111,\"#46039f\"],[0.2222222222222222,\"#7201a8\"],[0.3333333333333333,\"#9c179e\"],[0.4444444444444444,\"#bd3786\"],[0.5555555555555556,\"#d8576b\"],[0.6666666666666666,\"#ed7953\"],[0.7777777777777778,\"#fb9f3a\"],[0.8888888888888888,\"#fdca26\"],[1.0,\"#f0f921\"]],\"sequentialminus\":[[0.0,\"#0d0887\"],[0.1111111111111111,\"#46039f\"],[0.2222222222222222,\"#7201a8\"],[0.3333333333333333,\"#9c179e\"],[0.4444444444444444,\"#bd3786\"],[0.5555555555555556,\"#d8576b\"],[0.6666666666666666,\"#ed7953\"],[0.7777777777777778,\"#fb9f3a\"],[0.8888888888888888,\"#fdca26\"],[1.0,\"#f0f921\"]]},\"colorway\":[\"#636efa\",\"#EF553B\",\"#00cc96\",\"#ab63fa\",\"#FFA15A\",\"#19d3f3\",\"#FF6692\",\"#B6E880\",\"#FF97FF\",\"#FECB52\"],\"font\":{\"color\":\"#2a3f5f\"},\"geo\":{\"bgcolor\":\"white\",\"lakecolor\":\"white\",\"landcolor\":\"#E5ECF6\",\"showlakes\":true,\"showland\":true,\"subunitcolor\":\"white\"},\"hoverlabel\":{\"align\":\"left\"},\"hovermode\":\"closest\",\"mapbox\":{\"style\":\"light\"},\"paper_bgcolor\":\"white\",\"plot_bgcolor\":\"#E5ECF6\",\"polar\":{\"angularaxis\":{\"gridcolor\":\"white\",\"linecolor\":\"white\",\"ticks\":\"\"},\"bgcolor\":\"#E5ECF6\",\"radialaxis\":{\"gridcolor\":\"white\",\"linecolor\":\"white\",\"ticks\":\"\"}},\"scene\":{\"xaxis\":{\"backgroundcolor\":\"#E5ECF6\",\"gridcolor\":\"white\",\"gridwidth\":2,\"linecolor\":\"white\",\"showbackground\":true,\"ticks\":\"\",\"zerolinecolor\":\"white\"},\"yaxis\":{\"backgroundcolor\":\"#E5ECF6\",\"gridcolor\":\"white\",\"gridwidth\":2,\"linecolor\":\"white\",\"showbackground\":true,\"ticks\":\"\",\"zerolinecolor\":\"white\"},\"zaxis\":{\"backgroundcolor\":\"#E5ECF6\",\"gridcolor\":\"white\",\"gridwidth\":2,\"linecolor\":\"white\",\"showbackground\":true,\"ticks\":\"\",\"zerolinecolor\":\"white\"}},\"shapedefaults\":{\"line\":{\"color\":\"#2a3f5f\"}},\"ternary\":{\"aaxis\":{\"gridcolor\":\"white\",\"linecolor\":\"white\",\"ticks\":\"\"},\"baxis\":{\"gridcolor\":\"white\",\"linecolor\":\"white\",\"ticks\":\"\"},\"bgcolor\":\"#E5ECF6\",\"caxis\":{\"gridcolor\":\"white\",\"linecolor\":\"white\",\"ticks\":\"\"}},\"title\":{\"x\":0.05},\"xaxis\":{\"automargin\":true,\"gridcolor\":\"white\",\"linecolor\":\"white\",\"ticks\":\"\",\"title\":{\"standoff\":15},\"zerolinecolor\":\"white\",\"zerolinewidth\":2},\"yaxis\":{\"automargin\":true,\"gridcolor\":\"white\",\"linecolor\":\"white\",\"ticks\":\"\",\"title\":{\"standoff\":15},\"zerolinecolor\":\"white\",\"zerolinewidth\":2}}},\"title\":{\"text\":\"Price and Brand of the mobiles (Price between 600 and 1400)\"},\"xaxis\":{\"ticklen\":5,\"title\":{\"text\":\"index\"},\"zeroline\":false}},                        {\"responsive\": true}                    ).then(function(){\n",
       "                            \n",
       "var gd = document.getElementById('679dafd8-4485-449a-ba38-41c24be8b8b9');\n",
       "var x = new MutationObserver(function (mutations, observer) {{\n",
       "        var display = window.getComputedStyle(gd).display;\n",
       "        if (!display || display === 'none') {{\n",
       "            console.log([gd, 'removed!']);\n",
       "            Plotly.purge(gd);\n",
       "            observer.disconnect();\n",
       "        }}\n",
       "}});\n",
       "\n",
       "// Listen for the removal of the full notebook cells\n",
       "var notebookContainer = gd.closest('#notebook-container');\n",
       "if (notebookContainer) {{\n",
       "    x.observe(notebookContainer, {childList: true});\n",
       "}}\n",
       "\n",
       "// Listen for the clearing of the current output cell\n",
       "var outputEl = gd.closest('.output');\n",
       "if (outputEl) {{\n",
       "    x.observe(outputEl, {childList: true});\n",
       "}}\n",
       "\n",
       "                        })                };                });            </script>        </div>"
      ]
     },
     "metadata": {},
     "output_type": "display_data"
    }
   ],
   "source": [
    "trace1 = go.Scatter(\n",
    "    x = df.index,\n",
    "    y = betn_600_and_1400['Price'],\n",
    "    name = 'Price',\n",
    "    mode = 'lines',\n",
    "    marker = dict(color = 'rgba(80,27,80,0.7)'),\n",
    "    text = df.Brand\n",
    ")\n",
    "\n",
    "data1 = [trace1]\n",
    "\n",
    "layout = dict(title = 'Price and Brand of the mobiles (Price between 600 and 1400)',\n",
    "            xaxis = dict(title = 'index', ticklen = 5, zeroline = False))\n",
    "\n",
    "fig = dict(data = data1, layout = layout)\n",
    "iplot(fig)"
   ]
  },
  {
   "cell_type": "code",
   "execution_count": 10,
   "id": "affb541f",
   "metadata": {},
   "outputs": [
    {
     "data": {
      "application/vnd.plotly.v1+json": {
       "config": {
        "linkText": "Export to plot.ly",
        "plotlyServerURL": "https://plot.ly",
        "showLink": false
       },
       "data": [
        {
         "marker": {
          "color": "rgba(255, 128, 2, 0.8)"
         },
         "mode": "markers",
         "name": "GreenInc",
         "text": [
          "Green Inc"
         ],
         "type": "scatter",
         "x": [
          0
         ],
         "y": [
          85
         ]
        },
        {
         "marker": {
          "color": "rgba(255, 128, 200, 0.8)"
         },
         "mode": "markers",
         "name": "Thomas Thompson",
         "text": [
          "Thomas-Thompson"
         ],
         "type": "scatter",
         "x": [
          1
         ],
         "y": [
          64
         ]
        },
        {
         "marker": {
          "color": "rgba(255, 128, 255, 0.8)"
         },
         "mode": "markers",
         "name": "Sanchez Williams",
         "text": [
          "Sanchez-Williams"
         ],
         "type": "scatter",
         "x": [
          2
         ],
         "y": [
          95
         ]
        }
       ],
       "layout": {
        "template": {
         "data": {
          "bar": [
           {
            "error_x": {
             "color": "#2a3f5f"
            },
            "error_y": {
             "color": "#2a3f5f"
            },
            "marker": {
             "line": {
              "color": "#E5ECF6",
              "width": 0.5
             },
             "pattern": {
              "fillmode": "overlay",
              "size": 10,
              "solidity": 0.2
             }
            },
            "type": "bar"
           }
          ],
          "barpolar": [
           {
            "marker": {
             "line": {
              "color": "#E5ECF6",
              "width": 0.5
             },
             "pattern": {
              "fillmode": "overlay",
              "size": 10,
              "solidity": 0.2
             }
            },
            "type": "barpolar"
           }
          ],
          "carpet": [
           {
            "aaxis": {
             "endlinecolor": "#2a3f5f",
             "gridcolor": "white",
             "linecolor": "white",
             "minorgridcolor": "white",
             "startlinecolor": "#2a3f5f"
            },
            "baxis": {
             "endlinecolor": "#2a3f5f",
             "gridcolor": "white",
             "linecolor": "white",
             "minorgridcolor": "white",
             "startlinecolor": "#2a3f5f"
            },
            "type": "carpet"
           }
          ],
          "choropleth": [
           {
            "colorbar": {
             "outlinewidth": 0,
             "ticks": ""
            },
            "type": "choropleth"
           }
          ],
          "contour": [
           {
            "colorbar": {
             "outlinewidth": 0,
             "ticks": ""
            },
            "colorscale": [
             [
              0,
              "#0d0887"
             ],
             [
              0.1111111111111111,
              "#46039f"
             ],
             [
              0.2222222222222222,
              "#7201a8"
             ],
             [
              0.3333333333333333,
              "#9c179e"
             ],
             [
              0.4444444444444444,
              "#bd3786"
             ],
             [
              0.5555555555555556,
              "#d8576b"
             ],
             [
              0.6666666666666666,
              "#ed7953"
             ],
             [
              0.7777777777777778,
              "#fb9f3a"
             ],
             [
              0.8888888888888888,
              "#fdca26"
             ],
             [
              1,
              "#f0f921"
             ]
            ],
            "type": "contour"
           }
          ],
          "contourcarpet": [
           {
            "colorbar": {
             "outlinewidth": 0,
             "ticks": ""
            },
            "type": "contourcarpet"
           }
          ],
          "heatmap": [
           {
            "colorbar": {
             "outlinewidth": 0,
             "ticks": ""
            },
            "colorscale": [
             [
              0,
              "#0d0887"
             ],
             [
              0.1111111111111111,
              "#46039f"
             ],
             [
              0.2222222222222222,
              "#7201a8"
             ],
             [
              0.3333333333333333,
              "#9c179e"
             ],
             [
              0.4444444444444444,
              "#bd3786"
             ],
             [
              0.5555555555555556,
              "#d8576b"
             ],
             [
              0.6666666666666666,
              "#ed7953"
             ],
             [
              0.7777777777777778,
              "#fb9f3a"
             ],
             [
              0.8888888888888888,
              "#fdca26"
             ],
             [
              1,
              "#f0f921"
             ]
            ],
            "type": "heatmap"
           }
          ],
          "heatmapgl": [
           {
            "colorbar": {
             "outlinewidth": 0,
             "ticks": ""
            },
            "colorscale": [
             [
              0,
              "#0d0887"
             ],
             [
              0.1111111111111111,
              "#46039f"
             ],
             [
              0.2222222222222222,
              "#7201a8"
             ],
             [
              0.3333333333333333,
              "#9c179e"
             ],
             [
              0.4444444444444444,
              "#bd3786"
             ],
             [
              0.5555555555555556,
              "#d8576b"
             ],
             [
              0.6666666666666666,
              "#ed7953"
             ],
             [
              0.7777777777777778,
              "#fb9f3a"
             ],
             [
              0.8888888888888888,
              "#fdca26"
             ],
             [
              1,
              "#f0f921"
             ]
            ],
            "type": "heatmapgl"
           }
          ],
          "histogram": [
           {
            "marker": {
             "pattern": {
              "fillmode": "overlay",
              "size": 10,
              "solidity": 0.2
             }
            },
            "type": "histogram"
           }
          ],
          "histogram2d": [
           {
            "colorbar": {
             "outlinewidth": 0,
             "ticks": ""
            },
            "colorscale": [
             [
              0,
              "#0d0887"
             ],
             [
              0.1111111111111111,
              "#46039f"
             ],
             [
              0.2222222222222222,
              "#7201a8"
             ],
             [
              0.3333333333333333,
              "#9c179e"
             ],
             [
              0.4444444444444444,
              "#bd3786"
             ],
             [
              0.5555555555555556,
              "#d8576b"
             ],
             [
              0.6666666666666666,
              "#ed7953"
             ],
             [
              0.7777777777777778,
              "#fb9f3a"
             ],
             [
              0.8888888888888888,
              "#fdca26"
             ],
             [
              1,
              "#f0f921"
             ]
            ],
            "type": "histogram2d"
           }
          ],
          "histogram2dcontour": [
           {
            "colorbar": {
             "outlinewidth": 0,
             "ticks": ""
            },
            "colorscale": [
             [
              0,
              "#0d0887"
             ],
             [
              0.1111111111111111,
              "#46039f"
             ],
             [
              0.2222222222222222,
              "#7201a8"
             ],
             [
              0.3333333333333333,
              "#9c179e"
             ],
             [
              0.4444444444444444,
              "#bd3786"
             ],
             [
              0.5555555555555556,
              "#d8576b"
             ],
             [
              0.6666666666666666,
              "#ed7953"
             ],
             [
              0.7777777777777778,
              "#fb9f3a"
             ],
             [
              0.8888888888888888,
              "#fdca26"
             ],
             [
              1,
              "#f0f921"
             ]
            ],
            "type": "histogram2dcontour"
           }
          ],
          "mesh3d": [
           {
            "colorbar": {
             "outlinewidth": 0,
             "ticks": ""
            },
            "type": "mesh3d"
           }
          ],
          "parcoords": [
           {
            "line": {
             "colorbar": {
              "outlinewidth": 0,
              "ticks": ""
             }
            },
            "type": "parcoords"
           }
          ],
          "pie": [
           {
            "automargin": true,
            "type": "pie"
           }
          ],
          "scatter": [
           {
            "fillpattern": {
             "fillmode": "overlay",
             "size": 10,
             "solidity": 0.2
            },
            "type": "scatter"
           }
          ],
          "scatter3d": [
           {
            "line": {
             "colorbar": {
              "outlinewidth": 0,
              "ticks": ""
             }
            },
            "marker": {
             "colorbar": {
              "outlinewidth": 0,
              "ticks": ""
             }
            },
            "type": "scatter3d"
           }
          ],
          "scattercarpet": [
           {
            "marker": {
             "colorbar": {
              "outlinewidth": 0,
              "ticks": ""
             }
            },
            "type": "scattercarpet"
           }
          ],
          "scattergeo": [
           {
            "marker": {
             "colorbar": {
              "outlinewidth": 0,
              "ticks": ""
             }
            },
            "type": "scattergeo"
           }
          ],
          "scattergl": [
           {
            "marker": {
             "colorbar": {
              "outlinewidth": 0,
              "ticks": ""
             }
            },
            "type": "scattergl"
           }
          ],
          "scattermapbox": [
           {
            "marker": {
             "colorbar": {
              "outlinewidth": 0,
              "ticks": ""
             }
            },
            "type": "scattermapbox"
           }
          ],
          "scatterpolar": [
           {
            "marker": {
             "colorbar": {
              "outlinewidth": 0,
              "ticks": ""
             }
            },
            "type": "scatterpolar"
           }
          ],
          "scatterpolargl": [
           {
            "marker": {
             "colorbar": {
              "outlinewidth": 0,
              "ticks": ""
             }
            },
            "type": "scatterpolargl"
           }
          ],
          "scatterternary": [
           {
            "marker": {
             "colorbar": {
              "outlinewidth": 0,
              "ticks": ""
             }
            },
            "type": "scatterternary"
           }
          ],
          "surface": [
           {
            "colorbar": {
             "outlinewidth": 0,
             "ticks": ""
            },
            "colorscale": [
             [
              0,
              "#0d0887"
             ],
             [
              0.1111111111111111,
              "#46039f"
             ],
             [
              0.2222222222222222,
              "#7201a8"
             ],
             [
              0.3333333333333333,
              "#9c179e"
             ],
             [
              0.4444444444444444,
              "#bd3786"
             ],
             [
              0.5555555555555556,
              "#d8576b"
             ],
             [
              0.6666666666666666,
              "#ed7953"
             ],
             [
              0.7777777777777778,
              "#fb9f3a"
             ],
             [
              0.8888888888888888,
              "#fdca26"
             ],
             [
              1,
              "#f0f921"
             ]
            ],
            "type": "surface"
           }
          ],
          "table": [
           {
            "cells": {
             "fill": {
              "color": "#EBF0F8"
             },
             "line": {
              "color": "white"
             }
            },
            "header": {
             "fill": {
              "color": "#C8D4E3"
             },
             "line": {
              "color": "white"
             }
            },
            "type": "table"
           }
          ]
         },
         "layout": {
          "annotationdefaults": {
           "arrowcolor": "#2a3f5f",
           "arrowhead": 0,
           "arrowwidth": 1
          },
          "autotypenumbers": "strict",
          "coloraxis": {
           "colorbar": {
            "outlinewidth": 0,
            "ticks": ""
           }
          },
          "colorscale": {
           "diverging": [
            [
             0,
             "#8e0152"
            ],
            [
             0.1,
             "#c51b7d"
            ],
            [
             0.2,
             "#de77ae"
            ],
            [
             0.3,
             "#f1b6da"
            ],
            [
             0.4,
             "#fde0ef"
            ],
            [
             0.5,
             "#f7f7f7"
            ],
            [
             0.6,
             "#e6f5d0"
            ],
            [
             0.7,
             "#b8e186"
            ],
            [
             0.8,
             "#7fbc41"
            ],
            [
             0.9,
             "#4d9221"
            ],
            [
             1,
             "#276419"
            ]
           ],
           "sequential": [
            [
             0,
             "#0d0887"
            ],
            [
             0.1111111111111111,
             "#46039f"
            ],
            [
             0.2222222222222222,
             "#7201a8"
            ],
            [
             0.3333333333333333,
             "#9c179e"
            ],
            [
             0.4444444444444444,
             "#bd3786"
            ],
            [
             0.5555555555555556,
             "#d8576b"
            ],
            [
             0.6666666666666666,
             "#ed7953"
            ],
            [
             0.7777777777777778,
             "#fb9f3a"
            ],
            [
             0.8888888888888888,
             "#fdca26"
            ],
            [
             1,
             "#f0f921"
            ]
           ],
           "sequentialminus": [
            [
             0,
             "#0d0887"
            ],
            [
             0.1111111111111111,
             "#46039f"
            ],
            [
             0.2222222222222222,
             "#7201a8"
            ],
            [
             0.3333333333333333,
             "#9c179e"
            ],
            [
             0.4444444444444444,
             "#bd3786"
            ],
            [
             0.5555555555555556,
             "#d8576b"
            ],
            [
             0.6666666666666666,
             "#ed7953"
            ],
            [
             0.7777777777777778,
             "#fb9f3a"
            ],
            [
             0.8888888888888888,
             "#fdca26"
            ],
            [
             1,
             "#f0f921"
            ]
           ]
          },
          "colorway": [
           "#636efa",
           "#EF553B",
           "#00cc96",
           "#ab63fa",
           "#FFA15A",
           "#19d3f3",
           "#FF6692",
           "#B6E880",
           "#FF97FF",
           "#FECB52"
          ],
          "font": {
           "color": "#2a3f5f"
          },
          "geo": {
           "bgcolor": "white",
           "lakecolor": "white",
           "landcolor": "#E5ECF6",
           "showlakes": true,
           "showland": true,
           "subunitcolor": "white"
          },
          "hoverlabel": {
           "align": "left"
          },
          "hovermode": "closest",
          "mapbox": {
           "style": "light"
          },
          "paper_bgcolor": "white",
          "plot_bgcolor": "#E5ECF6",
          "polar": {
           "angularaxis": {
            "gridcolor": "white",
            "linecolor": "white",
            "ticks": ""
           },
           "bgcolor": "#E5ECF6",
           "radialaxis": {
            "gridcolor": "white",
            "linecolor": "white",
            "ticks": ""
           }
          },
          "scene": {
           "xaxis": {
            "backgroundcolor": "#E5ECF6",
            "gridcolor": "white",
            "gridwidth": 2,
            "linecolor": "white",
            "showbackground": true,
            "ticks": "",
            "zerolinecolor": "white"
           },
           "yaxis": {
            "backgroundcolor": "#E5ECF6",
            "gridcolor": "white",
            "gridwidth": 2,
            "linecolor": "white",
            "showbackground": true,
            "ticks": "",
            "zerolinecolor": "white"
           },
           "zaxis": {
            "backgroundcolor": "#E5ECF6",
            "gridcolor": "white",
            "gridwidth": 2,
            "linecolor": "white",
            "showbackground": true,
            "ticks": "",
            "zerolinecolor": "white"
           }
          },
          "shapedefaults": {
           "line": {
            "color": "#2a3f5f"
           }
          },
          "ternary": {
           "aaxis": {
            "gridcolor": "white",
            "linecolor": "white",
            "ticks": ""
           },
           "baxis": {
            "gridcolor": "white",
            "linecolor": "white",
            "ticks": ""
           },
           "bgcolor": "#E5ECF6",
           "caxis": {
            "gridcolor": "white",
            "linecolor": "white",
            "ticks": ""
           }
          },
          "title": {
           "x": 0.05
          },
          "xaxis": {
           "automargin": true,
           "gridcolor": "white",
           "linecolor": "white",
           "ticks": "",
           "title": {
            "standoff": 15
           },
           "zerolinecolor": "white",
           "zerolinewidth": 2
          },
          "yaxis": {
           "automargin": true,
           "gridcolor": "white",
           "linecolor": "white",
           "ticks": "",
           "title": {
            "standoff": 15
           },
           "zerolinecolor": "white",
           "zerolinewidth": 2
          }
         }
        },
        "title": {
         "text": "Brand Analysis with Units Sold"
        },
        "xaxis": {
         "ticklen": 5,
         "title": {
          "text": "index"
         },
         "zeroline": false
        },
        "yaxis": {
         "ticklen": 5,
         "title": {
          "text": "Units Sold"
         },
         "zeroline": false
        }
       }
      },
      "text/html": [
       "<div>                            <div id=\"1fb8a353-5d49-4676-8709-0b2511fd1646\" class=\"plotly-graph-div\" style=\"height:525px; width:100%;\"></div>            <script type=\"text/javascript\">                require([\"plotly\"], function(Plotly) {                    window.PLOTLYENV=window.PLOTLYENV || {};                                    if (document.getElementById(\"1fb8a353-5d49-4676-8709-0b2511fd1646\")) {                    Plotly.newPlot(                        \"1fb8a353-5d49-4676-8709-0b2511fd1646\",                        [{\"marker\":{\"color\":\"rgba(255, 128, 2, 0.8)\"},\"mode\":\"markers\",\"name\":\"GreenInc\",\"text\":[\"Green Inc\"],\"x\":[0],\"y\":[85],\"type\":\"scatter\"},{\"marker\":{\"color\":\"rgba(255, 128, 200, 0.8)\"},\"mode\":\"markers\",\"name\":\"Thomas Thompson\",\"text\":[\"Thomas-Thompson\"],\"x\":[1],\"y\":[64],\"type\":\"scatter\"},{\"marker\":{\"color\":\"rgba(255, 128, 255, 0.8)\"},\"mode\":\"markers\",\"name\":\"Sanchez Williams\",\"text\":[\"Sanchez-Williams\"],\"x\":[2],\"y\":[95],\"type\":\"scatter\"}],                        {\"template\":{\"data\":{\"barpolar\":[{\"marker\":{\"line\":{\"color\":\"#E5ECF6\",\"width\":0.5},\"pattern\":{\"fillmode\":\"overlay\",\"size\":10,\"solidity\":0.2}},\"type\":\"barpolar\"}],\"bar\":[{\"error_x\":{\"color\":\"#2a3f5f\"},\"error_y\":{\"color\":\"#2a3f5f\"},\"marker\":{\"line\":{\"color\":\"#E5ECF6\",\"width\":0.5},\"pattern\":{\"fillmode\":\"overlay\",\"size\":10,\"solidity\":0.2}},\"type\":\"bar\"}],\"carpet\":[{\"aaxis\":{\"endlinecolor\":\"#2a3f5f\",\"gridcolor\":\"white\",\"linecolor\":\"white\",\"minorgridcolor\":\"white\",\"startlinecolor\":\"#2a3f5f\"},\"baxis\":{\"endlinecolor\":\"#2a3f5f\",\"gridcolor\":\"white\",\"linecolor\":\"white\",\"minorgridcolor\":\"white\",\"startlinecolor\":\"#2a3f5f\"},\"type\":\"carpet\"}],\"choropleth\":[{\"colorbar\":{\"outlinewidth\":0,\"ticks\":\"\"},\"type\":\"choropleth\"}],\"contourcarpet\":[{\"colorbar\":{\"outlinewidth\":0,\"ticks\":\"\"},\"type\":\"contourcarpet\"}],\"contour\":[{\"colorbar\":{\"outlinewidth\":0,\"ticks\":\"\"},\"colorscale\":[[0.0,\"#0d0887\"],[0.1111111111111111,\"#46039f\"],[0.2222222222222222,\"#7201a8\"],[0.3333333333333333,\"#9c179e\"],[0.4444444444444444,\"#bd3786\"],[0.5555555555555556,\"#d8576b\"],[0.6666666666666666,\"#ed7953\"],[0.7777777777777778,\"#fb9f3a\"],[0.8888888888888888,\"#fdca26\"],[1.0,\"#f0f921\"]],\"type\":\"contour\"}],\"heatmapgl\":[{\"colorbar\":{\"outlinewidth\":0,\"ticks\":\"\"},\"colorscale\":[[0.0,\"#0d0887\"],[0.1111111111111111,\"#46039f\"],[0.2222222222222222,\"#7201a8\"],[0.3333333333333333,\"#9c179e\"],[0.4444444444444444,\"#bd3786\"],[0.5555555555555556,\"#d8576b\"],[0.6666666666666666,\"#ed7953\"],[0.7777777777777778,\"#fb9f3a\"],[0.8888888888888888,\"#fdca26\"],[1.0,\"#f0f921\"]],\"type\":\"heatmapgl\"}],\"heatmap\":[{\"colorbar\":{\"outlinewidth\":0,\"ticks\":\"\"},\"colorscale\":[[0.0,\"#0d0887\"],[0.1111111111111111,\"#46039f\"],[0.2222222222222222,\"#7201a8\"],[0.3333333333333333,\"#9c179e\"],[0.4444444444444444,\"#bd3786\"],[0.5555555555555556,\"#d8576b\"],[0.6666666666666666,\"#ed7953\"],[0.7777777777777778,\"#fb9f3a\"],[0.8888888888888888,\"#fdca26\"],[1.0,\"#f0f921\"]],\"type\":\"heatmap\"}],\"histogram2dcontour\":[{\"colorbar\":{\"outlinewidth\":0,\"ticks\":\"\"},\"colorscale\":[[0.0,\"#0d0887\"],[0.1111111111111111,\"#46039f\"],[0.2222222222222222,\"#7201a8\"],[0.3333333333333333,\"#9c179e\"],[0.4444444444444444,\"#bd3786\"],[0.5555555555555556,\"#d8576b\"],[0.6666666666666666,\"#ed7953\"],[0.7777777777777778,\"#fb9f3a\"],[0.8888888888888888,\"#fdca26\"],[1.0,\"#f0f921\"]],\"type\":\"histogram2dcontour\"}],\"histogram2d\":[{\"colorbar\":{\"outlinewidth\":0,\"ticks\":\"\"},\"colorscale\":[[0.0,\"#0d0887\"],[0.1111111111111111,\"#46039f\"],[0.2222222222222222,\"#7201a8\"],[0.3333333333333333,\"#9c179e\"],[0.4444444444444444,\"#bd3786\"],[0.5555555555555556,\"#d8576b\"],[0.6666666666666666,\"#ed7953\"],[0.7777777777777778,\"#fb9f3a\"],[0.8888888888888888,\"#fdca26\"],[1.0,\"#f0f921\"]],\"type\":\"histogram2d\"}],\"histogram\":[{\"marker\":{\"pattern\":{\"fillmode\":\"overlay\",\"size\":10,\"solidity\":0.2}},\"type\":\"histogram\"}],\"mesh3d\":[{\"colorbar\":{\"outlinewidth\":0,\"ticks\":\"\"},\"type\":\"mesh3d\"}],\"parcoords\":[{\"line\":{\"colorbar\":{\"outlinewidth\":0,\"ticks\":\"\"}},\"type\":\"parcoords\"}],\"pie\":[{\"automargin\":true,\"type\":\"pie\"}],\"scatter3d\":[{\"line\":{\"colorbar\":{\"outlinewidth\":0,\"ticks\":\"\"}},\"marker\":{\"colorbar\":{\"outlinewidth\":0,\"ticks\":\"\"}},\"type\":\"scatter3d\"}],\"scattercarpet\":[{\"marker\":{\"colorbar\":{\"outlinewidth\":0,\"ticks\":\"\"}},\"type\":\"scattercarpet\"}],\"scattergeo\":[{\"marker\":{\"colorbar\":{\"outlinewidth\":0,\"ticks\":\"\"}},\"type\":\"scattergeo\"}],\"scattergl\":[{\"marker\":{\"colorbar\":{\"outlinewidth\":0,\"ticks\":\"\"}},\"type\":\"scattergl\"}],\"scattermapbox\":[{\"marker\":{\"colorbar\":{\"outlinewidth\":0,\"ticks\":\"\"}},\"type\":\"scattermapbox\"}],\"scatterpolargl\":[{\"marker\":{\"colorbar\":{\"outlinewidth\":0,\"ticks\":\"\"}},\"type\":\"scatterpolargl\"}],\"scatterpolar\":[{\"marker\":{\"colorbar\":{\"outlinewidth\":0,\"ticks\":\"\"}},\"type\":\"scatterpolar\"}],\"scatter\":[{\"fillpattern\":{\"fillmode\":\"overlay\",\"size\":10,\"solidity\":0.2},\"type\":\"scatter\"}],\"scatterternary\":[{\"marker\":{\"colorbar\":{\"outlinewidth\":0,\"ticks\":\"\"}},\"type\":\"scatterternary\"}],\"surface\":[{\"colorbar\":{\"outlinewidth\":0,\"ticks\":\"\"},\"colorscale\":[[0.0,\"#0d0887\"],[0.1111111111111111,\"#46039f\"],[0.2222222222222222,\"#7201a8\"],[0.3333333333333333,\"#9c179e\"],[0.4444444444444444,\"#bd3786\"],[0.5555555555555556,\"#d8576b\"],[0.6666666666666666,\"#ed7953\"],[0.7777777777777778,\"#fb9f3a\"],[0.8888888888888888,\"#fdca26\"],[1.0,\"#f0f921\"]],\"type\":\"surface\"}],\"table\":[{\"cells\":{\"fill\":{\"color\":\"#EBF0F8\"},\"line\":{\"color\":\"white\"}},\"header\":{\"fill\":{\"color\":\"#C8D4E3\"},\"line\":{\"color\":\"white\"}},\"type\":\"table\"}]},\"layout\":{\"annotationdefaults\":{\"arrowcolor\":\"#2a3f5f\",\"arrowhead\":0,\"arrowwidth\":1},\"autotypenumbers\":\"strict\",\"coloraxis\":{\"colorbar\":{\"outlinewidth\":0,\"ticks\":\"\"}},\"colorscale\":{\"diverging\":[[0,\"#8e0152\"],[0.1,\"#c51b7d\"],[0.2,\"#de77ae\"],[0.3,\"#f1b6da\"],[0.4,\"#fde0ef\"],[0.5,\"#f7f7f7\"],[0.6,\"#e6f5d0\"],[0.7,\"#b8e186\"],[0.8,\"#7fbc41\"],[0.9,\"#4d9221\"],[1,\"#276419\"]],\"sequential\":[[0.0,\"#0d0887\"],[0.1111111111111111,\"#46039f\"],[0.2222222222222222,\"#7201a8\"],[0.3333333333333333,\"#9c179e\"],[0.4444444444444444,\"#bd3786\"],[0.5555555555555556,\"#d8576b\"],[0.6666666666666666,\"#ed7953\"],[0.7777777777777778,\"#fb9f3a\"],[0.8888888888888888,\"#fdca26\"],[1.0,\"#f0f921\"]],\"sequentialminus\":[[0.0,\"#0d0887\"],[0.1111111111111111,\"#46039f\"],[0.2222222222222222,\"#7201a8\"],[0.3333333333333333,\"#9c179e\"],[0.4444444444444444,\"#bd3786\"],[0.5555555555555556,\"#d8576b\"],[0.6666666666666666,\"#ed7953\"],[0.7777777777777778,\"#fb9f3a\"],[0.8888888888888888,\"#fdca26\"],[1.0,\"#f0f921\"]]},\"colorway\":[\"#636efa\",\"#EF553B\",\"#00cc96\",\"#ab63fa\",\"#FFA15A\",\"#19d3f3\",\"#FF6692\",\"#B6E880\",\"#FF97FF\",\"#FECB52\"],\"font\":{\"color\":\"#2a3f5f\"},\"geo\":{\"bgcolor\":\"white\",\"lakecolor\":\"white\",\"landcolor\":\"#E5ECF6\",\"showlakes\":true,\"showland\":true,\"subunitcolor\":\"white\"},\"hoverlabel\":{\"align\":\"left\"},\"hovermode\":\"closest\",\"mapbox\":{\"style\":\"light\"},\"paper_bgcolor\":\"white\",\"plot_bgcolor\":\"#E5ECF6\",\"polar\":{\"angularaxis\":{\"gridcolor\":\"white\",\"linecolor\":\"white\",\"ticks\":\"\"},\"bgcolor\":\"#E5ECF6\",\"radialaxis\":{\"gridcolor\":\"white\",\"linecolor\":\"white\",\"ticks\":\"\"}},\"scene\":{\"xaxis\":{\"backgroundcolor\":\"#E5ECF6\",\"gridcolor\":\"white\",\"gridwidth\":2,\"linecolor\":\"white\",\"showbackground\":true,\"ticks\":\"\",\"zerolinecolor\":\"white\"},\"yaxis\":{\"backgroundcolor\":\"#E5ECF6\",\"gridcolor\":\"white\",\"gridwidth\":2,\"linecolor\":\"white\",\"showbackground\":true,\"ticks\":\"\",\"zerolinecolor\":\"white\"},\"zaxis\":{\"backgroundcolor\":\"#E5ECF6\",\"gridcolor\":\"white\",\"gridwidth\":2,\"linecolor\":\"white\",\"showbackground\":true,\"ticks\":\"\",\"zerolinecolor\":\"white\"}},\"shapedefaults\":{\"line\":{\"color\":\"#2a3f5f\"}},\"ternary\":{\"aaxis\":{\"gridcolor\":\"white\",\"linecolor\":\"white\",\"ticks\":\"\"},\"baxis\":{\"gridcolor\":\"white\",\"linecolor\":\"white\",\"ticks\":\"\"},\"bgcolor\":\"#E5ECF6\",\"caxis\":{\"gridcolor\":\"white\",\"linecolor\":\"white\",\"ticks\":\"\"}},\"title\":{\"x\":0.05},\"xaxis\":{\"automargin\":true,\"gridcolor\":\"white\",\"linecolor\":\"white\",\"ticks\":\"\",\"title\":{\"standoff\":15},\"zerolinecolor\":\"white\",\"zerolinewidth\":2},\"yaxis\":{\"automargin\":true,\"gridcolor\":\"white\",\"linecolor\":\"white\",\"ticks\":\"\",\"title\":{\"standoff\":15},\"zerolinecolor\":\"white\",\"zerolinewidth\":2}}},\"title\":{\"text\":\"Brand Analysis with Units Sold\"},\"xaxis\":{\"ticklen\":5,\"title\":{\"text\":\"index\"},\"zeroline\":false},\"yaxis\":{\"ticklen\":5,\"title\":{\"text\":\"Units Sold\"},\"zeroline\":false}},                        {\"responsive\": true}                    ).then(function(){\n",
       "                            \n",
       "var gd = document.getElementById('1fb8a353-5d49-4676-8709-0b2511fd1646');\n",
       "var x = new MutationObserver(function (mutations, observer) {{\n",
       "        var display = window.getComputedStyle(gd).display;\n",
       "        if (!display || display === 'none') {{\n",
       "            console.log([gd, 'removed!']);\n",
       "            Plotly.purge(gd);\n",
       "            observer.disconnect();\n",
       "        }}\n",
       "}});\n",
       "\n",
       "// Listen for the removal of the full notebook cells\n",
       "var notebookContainer = gd.closest('#notebook-container');\n",
       "if (notebookContainer) {{\n",
       "    x.observe(notebookContainer, {childList: true});\n",
       "}}\n",
       "\n",
       "// Listen for the clearing of the current output cell\n",
       "var outputEl = gd.closest('.output');\n",
       "if (outputEl) {{\n",
       "    x.observe(outputEl, {childList: true});\n",
       "}}\n",
       "\n",
       "                        })                };                });            </script>        </div>"
      ]
     },
     "metadata": {},
     "output_type": "display_data"
    }
   ],
   "source": [
    "dfGreenInc = df[df['Brand'] == 'Green Inc']\n",
    "dfThomasThompson = df[df['Brand'] == 'Thomas-Thompson']\n",
    "dfSanchezWilliams = df[df['Brand'] == 'Sanchez-Williams']\n",
    "\n",
    "trace1 = go.Scatter(\n",
    "    x = dfGreenInc.index,\n",
    "    y = dfGreenInc.UnitsSold,\n",
    "    name = \"GreenInc\",\n",
    "    mode = \"markers\",\n",
    "    marker = dict(color = 'rgba(255, 128, 2, 0.8)'),\n",
    "    text = dfGreenInc.Brand\n",
    ")\n",
    "\n",
    "trace2 = go.Scatter(\n",
    "    x = dfThomasThompson.index,\n",
    "    y = dfThomasThompson.UnitsSold,\n",
    "    name = \"Thomas Thompson\",\n",
    "    mode = \"markers\",\n",
    "    marker = dict(color = 'rgba(255, 128, 200, 0.8)'),\n",
    "    text = dfThomasThompson.Brand\n",
    ")\n",
    "\n",
    "trace3 = go.Scatter(\n",
    "    x = dfSanchezWilliams.index,\n",
    "    y = dfSanchezWilliams.UnitsSold,\n",
    "    name = \"Sanchez Williams\",\n",
    "    mode = \"markers\",\n",
    "    marker = dict(color = 'rgba(255, 128, 255, 0.8)'),\n",
    "    text = dfSanchezWilliams.Brand\n",
    ")\n",
    "\n",
    "data2 = [trace1, trace2, trace3]\n",
    "\n",
    "layout = dict(title = 'Brand Analysis with Units Sold',\n",
    "             xaxis = dict(title = 'index', ticklen = 5, zeroline = False),\n",
    "             yaxis = dict(title = 'Units Sold', ticklen = 5, zeroline = False))\n",
    "\n",
    "fig = dict(data = data2, layout = layout)\n",
    "iplot(fig)"
   ]
  },
  {
   "cell_type": "code",
   "execution_count": 11,
   "id": "9b09992c",
   "metadata": {},
   "outputs": [
    {
     "data": {
      "application/vnd.plotly.v1+json": {
       "config": {
        "linkText": "Export to plot.ly",
        "plotlyServerURL": "https://plot.ly",
        "showLink": false
       },
       "data": [
        {
         "marker": {
          "color": "rgba(255, 58, 255, 0.4)",
          "line": {
           "color": "rgb(0,0,0)",
           "width": 1.5
          }
         },
         "name": "Units Sold",
         "text": [
          "Weaver Ltd",
          "Ramirez, Duffy and Beck",
          "Ritter-Wilson",
          "Willis, Watson and Monroe",
          "Escobar and Sons",
          "Smith-Tucker",
          "Marquez Ltd",
          "Wallace Ltd",
          "Ferrell Inc",
          "Rogers-Rodriguez"
         ],
         "type": "bar",
         "x": [
          2024,
          2024,
          2024,
          2024,
          2024,
          2024,
          2024,
          2024,
          2024,
          2024
         ],
         "y": [
          99,
          99,
          99,
          99,
          99,
          99,
          99,
          99,
          99,
          99
         ]
        },
        {
         "marker": {
          "color": "rgba(15, 15, 250, 0.4)",
          "line": {
           "color": "rgb(0,0,0)",
           "width": 1.5
          }
         },
         "name": "Customer Age",
         "text": [
          64,
          64,
          64,
          64,
          64,
          64,
          64,
          64,
          64,
          64,
          64,
          64,
          64,
          64,
          64,
          64,
          64,
          64,
          64,
          64
         ],
         "type": "bar",
         "x": [
          2024,
          2024,
          2024,
          2024,
          2024,
          2024,
          2024,
          2024,
          2024,
          2024,
          2024,
          2024,
          2024,
          2024,
          2024,
          2024,
          2024,
          2024,
          2024,
          2024
         ],
         "y": [
          64,
          64,
          64,
          64,
          64,
          64,
          64,
          64,
          64,
          64,
          64,
          64,
          64,
          64,
          64,
          64,
          64,
          64,
          64,
          64
         ]
        }
       ],
       "layout": {
        "barmode": "group",
        "template": {
         "data": {
          "bar": [
           {
            "error_x": {
             "color": "#2a3f5f"
            },
            "error_y": {
             "color": "#2a3f5f"
            },
            "marker": {
             "line": {
              "color": "#E5ECF6",
              "width": 0.5
             },
             "pattern": {
              "fillmode": "overlay",
              "size": 10,
              "solidity": 0.2
             }
            },
            "type": "bar"
           }
          ],
          "barpolar": [
           {
            "marker": {
             "line": {
              "color": "#E5ECF6",
              "width": 0.5
             },
             "pattern": {
              "fillmode": "overlay",
              "size": 10,
              "solidity": 0.2
             }
            },
            "type": "barpolar"
           }
          ],
          "carpet": [
           {
            "aaxis": {
             "endlinecolor": "#2a3f5f",
             "gridcolor": "white",
             "linecolor": "white",
             "minorgridcolor": "white",
             "startlinecolor": "#2a3f5f"
            },
            "baxis": {
             "endlinecolor": "#2a3f5f",
             "gridcolor": "white",
             "linecolor": "white",
             "minorgridcolor": "white",
             "startlinecolor": "#2a3f5f"
            },
            "type": "carpet"
           }
          ],
          "choropleth": [
           {
            "colorbar": {
             "outlinewidth": 0,
             "ticks": ""
            },
            "type": "choropleth"
           }
          ],
          "contour": [
           {
            "colorbar": {
             "outlinewidth": 0,
             "ticks": ""
            },
            "colorscale": [
             [
              0,
              "#0d0887"
             ],
             [
              0.1111111111111111,
              "#46039f"
             ],
             [
              0.2222222222222222,
              "#7201a8"
             ],
             [
              0.3333333333333333,
              "#9c179e"
             ],
             [
              0.4444444444444444,
              "#bd3786"
             ],
             [
              0.5555555555555556,
              "#d8576b"
             ],
             [
              0.6666666666666666,
              "#ed7953"
             ],
             [
              0.7777777777777778,
              "#fb9f3a"
             ],
             [
              0.8888888888888888,
              "#fdca26"
             ],
             [
              1,
              "#f0f921"
             ]
            ],
            "type": "contour"
           }
          ],
          "contourcarpet": [
           {
            "colorbar": {
             "outlinewidth": 0,
             "ticks": ""
            },
            "type": "contourcarpet"
           }
          ],
          "heatmap": [
           {
            "colorbar": {
             "outlinewidth": 0,
             "ticks": ""
            },
            "colorscale": [
             [
              0,
              "#0d0887"
             ],
             [
              0.1111111111111111,
              "#46039f"
             ],
             [
              0.2222222222222222,
              "#7201a8"
             ],
             [
              0.3333333333333333,
              "#9c179e"
             ],
             [
              0.4444444444444444,
              "#bd3786"
             ],
             [
              0.5555555555555556,
              "#d8576b"
             ],
             [
              0.6666666666666666,
              "#ed7953"
             ],
             [
              0.7777777777777778,
              "#fb9f3a"
             ],
             [
              0.8888888888888888,
              "#fdca26"
             ],
             [
              1,
              "#f0f921"
             ]
            ],
            "type": "heatmap"
           }
          ],
          "heatmapgl": [
           {
            "colorbar": {
             "outlinewidth": 0,
             "ticks": ""
            },
            "colorscale": [
             [
              0,
              "#0d0887"
             ],
             [
              0.1111111111111111,
              "#46039f"
             ],
             [
              0.2222222222222222,
              "#7201a8"
             ],
             [
              0.3333333333333333,
              "#9c179e"
             ],
             [
              0.4444444444444444,
              "#bd3786"
             ],
             [
              0.5555555555555556,
              "#d8576b"
             ],
             [
              0.6666666666666666,
              "#ed7953"
             ],
             [
              0.7777777777777778,
              "#fb9f3a"
             ],
             [
              0.8888888888888888,
              "#fdca26"
             ],
             [
              1,
              "#f0f921"
             ]
            ],
            "type": "heatmapgl"
           }
          ],
          "histogram": [
           {
            "marker": {
             "pattern": {
              "fillmode": "overlay",
              "size": 10,
              "solidity": 0.2
             }
            },
            "type": "histogram"
           }
          ],
          "histogram2d": [
           {
            "colorbar": {
             "outlinewidth": 0,
             "ticks": ""
            },
            "colorscale": [
             [
              0,
              "#0d0887"
             ],
             [
              0.1111111111111111,
              "#46039f"
             ],
             [
              0.2222222222222222,
              "#7201a8"
             ],
             [
              0.3333333333333333,
              "#9c179e"
             ],
             [
              0.4444444444444444,
              "#bd3786"
             ],
             [
              0.5555555555555556,
              "#d8576b"
             ],
             [
              0.6666666666666666,
              "#ed7953"
             ],
             [
              0.7777777777777778,
              "#fb9f3a"
             ],
             [
              0.8888888888888888,
              "#fdca26"
             ],
             [
              1,
              "#f0f921"
             ]
            ],
            "type": "histogram2d"
           }
          ],
          "histogram2dcontour": [
           {
            "colorbar": {
             "outlinewidth": 0,
             "ticks": ""
            },
            "colorscale": [
             [
              0,
              "#0d0887"
             ],
             [
              0.1111111111111111,
              "#46039f"
             ],
             [
              0.2222222222222222,
              "#7201a8"
             ],
             [
              0.3333333333333333,
              "#9c179e"
             ],
             [
              0.4444444444444444,
              "#bd3786"
             ],
             [
              0.5555555555555556,
              "#d8576b"
             ],
             [
              0.6666666666666666,
              "#ed7953"
             ],
             [
              0.7777777777777778,
              "#fb9f3a"
             ],
             [
              0.8888888888888888,
              "#fdca26"
             ],
             [
              1,
              "#f0f921"
             ]
            ],
            "type": "histogram2dcontour"
           }
          ],
          "mesh3d": [
           {
            "colorbar": {
             "outlinewidth": 0,
             "ticks": ""
            },
            "type": "mesh3d"
           }
          ],
          "parcoords": [
           {
            "line": {
             "colorbar": {
              "outlinewidth": 0,
              "ticks": ""
             }
            },
            "type": "parcoords"
           }
          ],
          "pie": [
           {
            "automargin": true,
            "type": "pie"
           }
          ],
          "scatter": [
           {
            "fillpattern": {
             "fillmode": "overlay",
             "size": 10,
             "solidity": 0.2
            },
            "type": "scatter"
           }
          ],
          "scatter3d": [
           {
            "line": {
             "colorbar": {
              "outlinewidth": 0,
              "ticks": ""
             }
            },
            "marker": {
             "colorbar": {
              "outlinewidth": 0,
              "ticks": ""
             }
            },
            "type": "scatter3d"
           }
          ],
          "scattercarpet": [
           {
            "marker": {
             "colorbar": {
              "outlinewidth": 0,
              "ticks": ""
             }
            },
            "type": "scattercarpet"
           }
          ],
          "scattergeo": [
           {
            "marker": {
             "colorbar": {
              "outlinewidth": 0,
              "ticks": ""
             }
            },
            "type": "scattergeo"
           }
          ],
          "scattergl": [
           {
            "marker": {
             "colorbar": {
              "outlinewidth": 0,
              "ticks": ""
             }
            },
            "type": "scattergl"
           }
          ],
          "scattermapbox": [
           {
            "marker": {
             "colorbar": {
              "outlinewidth": 0,
              "ticks": ""
             }
            },
            "type": "scattermapbox"
           }
          ],
          "scatterpolar": [
           {
            "marker": {
             "colorbar": {
              "outlinewidth": 0,
              "ticks": ""
             }
            },
            "type": "scatterpolar"
           }
          ],
          "scatterpolargl": [
           {
            "marker": {
             "colorbar": {
              "outlinewidth": 0,
              "ticks": ""
             }
            },
            "type": "scatterpolargl"
           }
          ],
          "scatterternary": [
           {
            "marker": {
             "colorbar": {
              "outlinewidth": 0,
              "ticks": ""
             }
            },
            "type": "scatterternary"
           }
          ],
          "surface": [
           {
            "colorbar": {
             "outlinewidth": 0,
             "ticks": ""
            },
            "colorscale": [
             [
              0,
              "#0d0887"
             ],
             [
              0.1111111111111111,
              "#46039f"
             ],
             [
              0.2222222222222222,
              "#7201a8"
             ],
             [
              0.3333333333333333,
              "#9c179e"
             ],
             [
              0.4444444444444444,
              "#bd3786"
             ],
             [
              0.5555555555555556,
              "#d8576b"
             ],
             [
              0.6666666666666666,
              "#ed7953"
             ],
             [
              0.7777777777777778,
              "#fb9f3a"
             ],
             [
              0.8888888888888888,
              "#fdca26"
             ],
             [
              1,
              "#f0f921"
             ]
            ],
            "type": "surface"
           }
          ],
          "table": [
           {
            "cells": {
             "fill": {
              "color": "#EBF0F8"
             },
             "line": {
              "color": "white"
             }
            },
            "header": {
             "fill": {
              "color": "#C8D4E3"
             },
             "line": {
              "color": "white"
             }
            },
            "type": "table"
           }
          ]
         },
         "layout": {
          "annotationdefaults": {
           "arrowcolor": "#2a3f5f",
           "arrowhead": 0,
           "arrowwidth": 1
          },
          "autotypenumbers": "strict",
          "coloraxis": {
           "colorbar": {
            "outlinewidth": 0,
            "ticks": ""
           }
          },
          "colorscale": {
           "diverging": [
            [
             0,
             "#8e0152"
            ],
            [
             0.1,
             "#c51b7d"
            ],
            [
             0.2,
             "#de77ae"
            ],
            [
             0.3,
             "#f1b6da"
            ],
            [
             0.4,
             "#fde0ef"
            ],
            [
             0.5,
             "#f7f7f7"
            ],
            [
             0.6,
             "#e6f5d0"
            ],
            [
             0.7,
             "#b8e186"
            ],
            [
             0.8,
             "#7fbc41"
            ],
            [
             0.9,
             "#4d9221"
            ],
            [
             1,
             "#276419"
            ]
           ],
           "sequential": [
            [
             0,
             "#0d0887"
            ],
            [
             0.1111111111111111,
             "#46039f"
            ],
            [
             0.2222222222222222,
             "#7201a8"
            ],
            [
             0.3333333333333333,
             "#9c179e"
            ],
            [
             0.4444444444444444,
             "#bd3786"
            ],
            [
             0.5555555555555556,
             "#d8576b"
            ],
            [
             0.6666666666666666,
             "#ed7953"
            ],
            [
             0.7777777777777778,
             "#fb9f3a"
            ],
            [
             0.8888888888888888,
             "#fdca26"
            ],
            [
             1,
             "#f0f921"
            ]
           ],
           "sequentialminus": [
            [
             0,
             "#0d0887"
            ],
            [
             0.1111111111111111,
             "#46039f"
            ],
            [
             0.2222222222222222,
             "#7201a8"
            ],
            [
             0.3333333333333333,
             "#9c179e"
            ],
            [
             0.4444444444444444,
             "#bd3786"
            ],
            [
             0.5555555555555556,
             "#d8576b"
            ],
            [
             0.6666666666666666,
             "#ed7953"
            ],
            [
             0.7777777777777778,
             "#fb9f3a"
            ],
            [
             0.8888888888888888,
             "#fdca26"
            ],
            [
             1,
             "#f0f921"
            ]
           ]
          },
          "colorway": [
           "#636efa",
           "#EF553B",
           "#00cc96",
           "#ab63fa",
           "#FFA15A",
           "#19d3f3",
           "#FF6692",
           "#B6E880",
           "#FF97FF",
           "#FECB52"
          ],
          "font": {
           "color": "#2a3f5f"
          },
          "geo": {
           "bgcolor": "white",
           "lakecolor": "white",
           "landcolor": "#E5ECF6",
           "showlakes": true,
           "showland": true,
           "subunitcolor": "white"
          },
          "hoverlabel": {
           "align": "left"
          },
          "hovermode": "closest",
          "mapbox": {
           "style": "light"
          },
          "paper_bgcolor": "white",
          "plot_bgcolor": "#E5ECF6",
          "polar": {
           "angularaxis": {
            "gridcolor": "white",
            "linecolor": "white",
            "ticks": ""
           },
           "bgcolor": "#E5ECF6",
           "radialaxis": {
            "gridcolor": "white",
            "linecolor": "white",
            "ticks": ""
           }
          },
          "scene": {
           "xaxis": {
            "backgroundcolor": "#E5ECF6",
            "gridcolor": "white",
            "gridwidth": 2,
            "linecolor": "white",
            "showbackground": true,
            "ticks": "",
            "zerolinecolor": "white"
           },
           "yaxis": {
            "backgroundcolor": "#E5ECF6",
            "gridcolor": "white",
            "gridwidth": 2,
            "linecolor": "white",
            "showbackground": true,
            "ticks": "",
            "zerolinecolor": "white"
           },
           "zaxis": {
            "backgroundcolor": "#E5ECF6",
            "gridcolor": "white",
            "gridwidth": 2,
            "linecolor": "white",
            "showbackground": true,
            "ticks": "",
            "zerolinecolor": "white"
           }
          },
          "shapedefaults": {
           "line": {
            "color": "#2a3f5f"
           }
          },
          "ternary": {
           "aaxis": {
            "gridcolor": "white",
            "linecolor": "white",
            "ticks": ""
           },
           "baxis": {
            "gridcolor": "white",
            "linecolor": "white",
            "ticks": ""
           },
           "bgcolor": "#E5ECF6",
           "caxis": {
            "gridcolor": "white",
            "linecolor": "white",
            "ticks": ""
           }
          },
          "title": {
           "x": 0.05
          },
          "xaxis": {
           "automargin": true,
           "gridcolor": "white",
           "linecolor": "white",
           "ticks": "",
           "title": {
            "standoff": 15
           },
           "zerolinecolor": "white",
           "zerolinewidth": 2
          },
          "yaxis": {
           "automargin": true,
           "gridcolor": "white",
           "linecolor": "white",
           "ticks": "",
           "title": {
            "standoff": 15
           },
           "zerolinecolor": "white",
           "zerolinewidth": 2
          }
         }
        },
        "title": {
         "text": "Units Sold and Customer Age"
        },
        "xaxis": {
         "title": {
          "text": "Year"
         }
        },
        "yaxis": {
         "title": {
          "text": "Count"
         }
        }
       }
      },
      "text/html": [
       "<div>                            <div id=\"66beff41-e374-4200-9901-2b490767df86\" class=\"plotly-graph-div\" style=\"height:525px; width:100%;\"></div>            <script type=\"text/javascript\">                require([\"plotly\"], function(Plotly) {                    window.PLOTLYENV=window.PLOTLYENV || {};                                    if (document.getElementById(\"66beff41-e374-4200-9901-2b490767df86\")) {                    Plotly.newPlot(                        \"66beff41-e374-4200-9901-2b490767df86\",                        [{\"marker\":{\"color\":\"rgba(255, 58, 255, 0.4)\",\"line\":{\"color\":\"rgb(0,0,0)\",\"width\":1.5}},\"name\":\"Units Sold\",\"text\":[\"Weaver Ltd\",\"Ramirez, Duffy and Beck\",\"Ritter-Wilson\",\"Willis, Watson and Monroe\",\"Escobar and Sons\",\"Smith-Tucker\",\"Marquez Ltd\",\"Wallace Ltd\",\"Ferrell Inc\",\"Rogers-Rodriguez\"],\"x\":[2024,2024,2024,2024,2024,2024,2024,2024,2024,2024],\"y\":[99,99,99,99,99,99,99,99,99,99],\"type\":\"bar\"},{\"marker\":{\"color\":\"rgba(15, 15, 250, 0.4)\",\"line\":{\"color\":\"rgb(0,0,0)\",\"width\":1.5}},\"name\":\"Customer Age\",\"text\":[64.0,64.0,64.0,64.0,64.0,64.0,64.0,64.0,64.0,64.0,64.0,64.0,64.0,64.0,64.0,64.0,64.0,64.0,64.0,64.0],\"x\":[2024,2024,2024,2024,2024,2024,2024,2024,2024,2024,2024,2024,2024,2024,2024,2024,2024,2024,2024,2024],\"y\":[64,64,64,64,64,64,64,64,64,64,64,64,64,64,64,64,64,64,64,64],\"type\":\"bar\"}],                        {\"barmode\":\"group\",\"template\":{\"data\":{\"barpolar\":[{\"marker\":{\"line\":{\"color\":\"#E5ECF6\",\"width\":0.5},\"pattern\":{\"fillmode\":\"overlay\",\"size\":10,\"solidity\":0.2}},\"type\":\"barpolar\"}],\"bar\":[{\"error_x\":{\"color\":\"#2a3f5f\"},\"error_y\":{\"color\":\"#2a3f5f\"},\"marker\":{\"line\":{\"color\":\"#E5ECF6\",\"width\":0.5},\"pattern\":{\"fillmode\":\"overlay\",\"size\":10,\"solidity\":0.2}},\"type\":\"bar\"}],\"carpet\":[{\"aaxis\":{\"endlinecolor\":\"#2a3f5f\",\"gridcolor\":\"white\",\"linecolor\":\"white\",\"minorgridcolor\":\"white\",\"startlinecolor\":\"#2a3f5f\"},\"baxis\":{\"endlinecolor\":\"#2a3f5f\",\"gridcolor\":\"white\",\"linecolor\":\"white\",\"minorgridcolor\":\"white\",\"startlinecolor\":\"#2a3f5f\"},\"type\":\"carpet\"}],\"choropleth\":[{\"colorbar\":{\"outlinewidth\":0,\"ticks\":\"\"},\"type\":\"choropleth\"}],\"contourcarpet\":[{\"colorbar\":{\"outlinewidth\":0,\"ticks\":\"\"},\"type\":\"contourcarpet\"}],\"contour\":[{\"colorbar\":{\"outlinewidth\":0,\"ticks\":\"\"},\"colorscale\":[[0.0,\"#0d0887\"],[0.1111111111111111,\"#46039f\"],[0.2222222222222222,\"#7201a8\"],[0.3333333333333333,\"#9c179e\"],[0.4444444444444444,\"#bd3786\"],[0.5555555555555556,\"#d8576b\"],[0.6666666666666666,\"#ed7953\"],[0.7777777777777778,\"#fb9f3a\"],[0.8888888888888888,\"#fdca26\"],[1.0,\"#f0f921\"]],\"type\":\"contour\"}],\"heatmapgl\":[{\"colorbar\":{\"outlinewidth\":0,\"ticks\":\"\"},\"colorscale\":[[0.0,\"#0d0887\"],[0.1111111111111111,\"#46039f\"],[0.2222222222222222,\"#7201a8\"],[0.3333333333333333,\"#9c179e\"],[0.4444444444444444,\"#bd3786\"],[0.5555555555555556,\"#d8576b\"],[0.6666666666666666,\"#ed7953\"],[0.7777777777777778,\"#fb9f3a\"],[0.8888888888888888,\"#fdca26\"],[1.0,\"#f0f921\"]],\"type\":\"heatmapgl\"}],\"heatmap\":[{\"colorbar\":{\"outlinewidth\":0,\"ticks\":\"\"},\"colorscale\":[[0.0,\"#0d0887\"],[0.1111111111111111,\"#46039f\"],[0.2222222222222222,\"#7201a8\"],[0.3333333333333333,\"#9c179e\"],[0.4444444444444444,\"#bd3786\"],[0.5555555555555556,\"#d8576b\"],[0.6666666666666666,\"#ed7953\"],[0.7777777777777778,\"#fb9f3a\"],[0.8888888888888888,\"#fdca26\"],[1.0,\"#f0f921\"]],\"type\":\"heatmap\"}],\"histogram2dcontour\":[{\"colorbar\":{\"outlinewidth\":0,\"ticks\":\"\"},\"colorscale\":[[0.0,\"#0d0887\"],[0.1111111111111111,\"#46039f\"],[0.2222222222222222,\"#7201a8\"],[0.3333333333333333,\"#9c179e\"],[0.4444444444444444,\"#bd3786\"],[0.5555555555555556,\"#d8576b\"],[0.6666666666666666,\"#ed7953\"],[0.7777777777777778,\"#fb9f3a\"],[0.8888888888888888,\"#fdca26\"],[1.0,\"#f0f921\"]],\"type\":\"histogram2dcontour\"}],\"histogram2d\":[{\"colorbar\":{\"outlinewidth\":0,\"ticks\":\"\"},\"colorscale\":[[0.0,\"#0d0887\"],[0.1111111111111111,\"#46039f\"],[0.2222222222222222,\"#7201a8\"],[0.3333333333333333,\"#9c179e\"],[0.4444444444444444,\"#bd3786\"],[0.5555555555555556,\"#d8576b\"],[0.6666666666666666,\"#ed7953\"],[0.7777777777777778,\"#fb9f3a\"],[0.8888888888888888,\"#fdca26\"],[1.0,\"#f0f921\"]],\"type\":\"histogram2d\"}],\"histogram\":[{\"marker\":{\"pattern\":{\"fillmode\":\"overlay\",\"size\":10,\"solidity\":0.2}},\"type\":\"histogram\"}],\"mesh3d\":[{\"colorbar\":{\"outlinewidth\":0,\"ticks\":\"\"},\"type\":\"mesh3d\"}],\"parcoords\":[{\"line\":{\"colorbar\":{\"outlinewidth\":0,\"ticks\":\"\"}},\"type\":\"parcoords\"}],\"pie\":[{\"automargin\":true,\"type\":\"pie\"}],\"scatter3d\":[{\"line\":{\"colorbar\":{\"outlinewidth\":0,\"ticks\":\"\"}},\"marker\":{\"colorbar\":{\"outlinewidth\":0,\"ticks\":\"\"}},\"type\":\"scatter3d\"}],\"scattercarpet\":[{\"marker\":{\"colorbar\":{\"outlinewidth\":0,\"ticks\":\"\"}},\"type\":\"scattercarpet\"}],\"scattergeo\":[{\"marker\":{\"colorbar\":{\"outlinewidth\":0,\"ticks\":\"\"}},\"type\":\"scattergeo\"}],\"scattergl\":[{\"marker\":{\"colorbar\":{\"outlinewidth\":0,\"ticks\":\"\"}},\"type\":\"scattergl\"}],\"scattermapbox\":[{\"marker\":{\"colorbar\":{\"outlinewidth\":0,\"ticks\":\"\"}},\"type\":\"scattermapbox\"}],\"scatterpolargl\":[{\"marker\":{\"colorbar\":{\"outlinewidth\":0,\"ticks\":\"\"}},\"type\":\"scatterpolargl\"}],\"scatterpolar\":[{\"marker\":{\"colorbar\":{\"outlinewidth\":0,\"ticks\":\"\"}},\"type\":\"scatterpolar\"}],\"scatter\":[{\"fillpattern\":{\"fillmode\":\"overlay\",\"size\":10,\"solidity\":0.2},\"type\":\"scatter\"}],\"scatterternary\":[{\"marker\":{\"colorbar\":{\"outlinewidth\":0,\"ticks\":\"\"}},\"type\":\"scatterternary\"}],\"surface\":[{\"colorbar\":{\"outlinewidth\":0,\"ticks\":\"\"},\"colorscale\":[[0.0,\"#0d0887\"],[0.1111111111111111,\"#46039f\"],[0.2222222222222222,\"#7201a8\"],[0.3333333333333333,\"#9c179e\"],[0.4444444444444444,\"#bd3786\"],[0.5555555555555556,\"#d8576b\"],[0.6666666666666666,\"#ed7953\"],[0.7777777777777778,\"#fb9f3a\"],[0.8888888888888888,\"#fdca26\"],[1.0,\"#f0f921\"]],\"type\":\"surface\"}],\"table\":[{\"cells\":{\"fill\":{\"color\":\"#EBF0F8\"},\"line\":{\"color\":\"white\"}},\"header\":{\"fill\":{\"color\":\"#C8D4E3\"},\"line\":{\"color\":\"white\"}},\"type\":\"table\"}]},\"layout\":{\"annotationdefaults\":{\"arrowcolor\":\"#2a3f5f\",\"arrowhead\":0,\"arrowwidth\":1},\"autotypenumbers\":\"strict\",\"coloraxis\":{\"colorbar\":{\"outlinewidth\":0,\"ticks\":\"\"}},\"colorscale\":{\"diverging\":[[0,\"#8e0152\"],[0.1,\"#c51b7d\"],[0.2,\"#de77ae\"],[0.3,\"#f1b6da\"],[0.4,\"#fde0ef\"],[0.5,\"#f7f7f7\"],[0.6,\"#e6f5d0\"],[0.7,\"#b8e186\"],[0.8,\"#7fbc41\"],[0.9,\"#4d9221\"],[1,\"#276419\"]],\"sequential\":[[0.0,\"#0d0887\"],[0.1111111111111111,\"#46039f\"],[0.2222222222222222,\"#7201a8\"],[0.3333333333333333,\"#9c179e\"],[0.4444444444444444,\"#bd3786\"],[0.5555555555555556,\"#d8576b\"],[0.6666666666666666,\"#ed7953\"],[0.7777777777777778,\"#fb9f3a\"],[0.8888888888888888,\"#fdca26\"],[1.0,\"#f0f921\"]],\"sequentialminus\":[[0.0,\"#0d0887\"],[0.1111111111111111,\"#46039f\"],[0.2222222222222222,\"#7201a8\"],[0.3333333333333333,\"#9c179e\"],[0.4444444444444444,\"#bd3786\"],[0.5555555555555556,\"#d8576b\"],[0.6666666666666666,\"#ed7953\"],[0.7777777777777778,\"#fb9f3a\"],[0.8888888888888888,\"#fdca26\"],[1.0,\"#f0f921\"]]},\"colorway\":[\"#636efa\",\"#EF553B\",\"#00cc96\",\"#ab63fa\",\"#FFA15A\",\"#19d3f3\",\"#FF6692\",\"#B6E880\",\"#FF97FF\",\"#FECB52\"],\"font\":{\"color\":\"#2a3f5f\"},\"geo\":{\"bgcolor\":\"white\",\"lakecolor\":\"white\",\"landcolor\":\"#E5ECF6\",\"showlakes\":true,\"showland\":true,\"subunitcolor\":\"white\"},\"hoverlabel\":{\"align\":\"left\"},\"hovermode\":\"closest\",\"mapbox\":{\"style\":\"light\"},\"paper_bgcolor\":\"white\",\"plot_bgcolor\":\"#E5ECF6\",\"polar\":{\"angularaxis\":{\"gridcolor\":\"white\",\"linecolor\":\"white\",\"ticks\":\"\"},\"bgcolor\":\"#E5ECF6\",\"radialaxis\":{\"gridcolor\":\"white\",\"linecolor\":\"white\",\"ticks\":\"\"}},\"scene\":{\"xaxis\":{\"backgroundcolor\":\"#E5ECF6\",\"gridcolor\":\"white\",\"gridwidth\":2,\"linecolor\":\"white\",\"showbackground\":true,\"ticks\":\"\",\"zerolinecolor\":\"white\"},\"yaxis\":{\"backgroundcolor\":\"#E5ECF6\",\"gridcolor\":\"white\",\"gridwidth\":2,\"linecolor\":\"white\",\"showbackground\":true,\"ticks\":\"\",\"zerolinecolor\":\"white\"},\"zaxis\":{\"backgroundcolor\":\"#E5ECF6\",\"gridcolor\":\"white\",\"gridwidth\":2,\"linecolor\":\"white\",\"showbackground\":true,\"ticks\":\"\",\"zerolinecolor\":\"white\"}},\"shapedefaults\":{\"line\":{\"color\":\"#2a3f5f\"}},\"ternary\":{\"aaxis\":{\"gridcolor\":\"white\",\"linecolor\":\"white\",\"ticks\":\"\"},\"baxis\":{\"gridcolor\":\"white\",\"linecolor\":\"white\",\"ticks\":\"\"},\"bgcolor\":\"#E5ECF6\",\"caxis\":{\"gridcolor\":\"white\",\"linecolor\":\"white\",\"ticks\":\"\"}},\"title\":{\"x\":0.05},\"xaxis\":{\"automargin\":true,\"gridcolor\":\"white\",\"linecolor\":\"white\",\"ticks\":\"\",\"title\":{\"standoff\":15},\"zerolinecolor\":\"white\",\"zerolinewidth\":2},\"yaxis\":{\"automargin\":true,\"gridcolor\":\"white\",\"linecolor\":\"white\",\"ticks\":\"\",\"title\":{\"standoff\":15},\"zerolinecolor\":\"white\",\"zerolinewidth\":2}}},\"title\":{\"text\":\"Units Sold and Customer Age\"},\"xaxis\":{\"title\":{\"text\":\"Year\"}},\"yaxis\":{\"title\":{\"text\":\"Count\"}}},                        {\"responsive\": true}                    ).then(function(){\n",
       "                            \n",
       "var gd = document.getElementById('66beff41-e374-4200-9901-2b490767df86');\n",
       "var x = new MutationObserver(function (mutations, observer) {{\n",
       "        var display = window.getComputedStyle(gd).display;\n",
       "        if (!display || display === 'none') {{\n",
       "            console.log([gd, 'removed!']);\n",
       "            Plotly.purge(gd);\n",
       "            observer.disconnect();\n",
       "        }}\n",
       "}});\n",
       "\n",
       "// Listen for the removal of the full notebook cells\n",
       "var notebookContainer = gd.closest('#notebook-container');\n",
       "if (notebookContainer) {{\n",
       "    x.observe(notebookContainer, {childList: true});\n",
       "}}\n",
       "\n",
       "// Listen for the clearing of the current output cell\n",
       "var outputEl = gd.closest('.output');\n",
       "if (outputEl) {{\n",
       "    x.observe(outputEl, {childList: true});\n",
       "}}\n",
       "\n",
       "                        })                };                });            </script>        </div>"
      ]
     },
     "metadata": {},
     "output_type": "display_data"
    }
   ],
   "source": [
    "dfUnitsgret_98 = df[df['UnitsSold'] > 98]\n",
    "dfCustomer_63 = df[df['CustomerAge'] > 63]\n",
    "\n",
    "# Creating the bar chart for units sold\n",
    "trace3 = go.Bar(\n",
    "    x=dfUnitsgret_98['Year'],\n",
    "    y=dfUnitsgret_98['UnitsSold'],\n",
    "    name=\"Units Sold\",\n",
    "    marker=dict(color='rgba(255, 58, 255, 0.4)',\n",
    "                line=dict(color='rgb(0,0,0)', width=1.5)),\n",
    "    text=dfUnitsgret_98['Brand']\n",
    ")\n",
    "\n",
    "# Creating the bar chart for customer age\n",
    "trace4 = go.Bar(\n",
    "    x=dfCustomer_63['Year'],\n",
    "    y=dfCustomer_63['CustomerAge'],\n",
    "    name=\"Customer Age\",\n",
    "    marker=dict(color='rgba(15, 15, 250, 0.4)',\n",
    "                line=dict(color='rgb(0,0,0)', width=1.5)),\n",
    "    text=dfCustomer_63['CustomerAge']\n",
    ")\n",
    "\n",
    "# Combining the traces\n",
    "data4 = [trace3, trace4]\n",
    "\n",
    "# Defining the layout\n",
    "layout = go.Layout(\n",
    "        barmode=\"group\", \n",
    "        title=\"Units Sold and Customer Age\", \n",
    "        xaxis=dict(title=\"Year\"), \n",
    "        yaxis=dict(title=\"Count\"))\n",
    "\n",
    "# Creating the figure and plotting it\n",
    "fig = go.Figure(data=data4, layout=layout)\n",
    "iplot(fig)"
   ]
  },
  {
   "cell_type": "code",
   "execution_count": 23,
   "id": "d946391e",
   "metadata": {},
   "outputs": [
    {
     "data": {
      "text/plain": [
       "PaymentMethod\n",
       "Credit Card    278\n",
       "Online         259\n",
       "Debit Card     246\n",
       "Cash           217\n",
       "Name: count, dtype: int64"
      ]
     },
     "execution_count": 23,
     "metadata": {},
     "output_type": "execute_result"
    }
   ],
   "source": [
    "df['PaymentMethod'].value_counts()"
   ]
  },
  {
   "cell_type": "code",
   "execution_count": 12,
   "id": "1338f770",
   "metadata": {},
   "outputs": [
    {
     "data": {
      "application/vnd.plotly.v1+json": {
       "config": {
        "linkText": "Export to plot.ly",
        "plotlyServerURL": "https://plot.ly",
        "showLink": false
       },
       "data": [
        {
         "hole": 0.3,
         "labels": [
          "Cash",
          "Credit Card",
          "Debit Card",
          "Online"
         ],
         "type": "pie",
         "values": [
          8690117.18,
          11298245.48,
          9952877.9,
          10277204.48
         ]
        }
       ],
       "layout": {
        "annotations": [
         {
          "font": {
           "size": 20
          },
          "showarrow": false,
          "text": "Payment Methods",
          "x": 0.3,
          "y": 1.1
         }
        ],
        "template": {
         "data": {
          "bar": [
           {
            "error_x": {
             "color": "#2a3f5f"
            },
            "error_y": {
             "color": "#2a3f5f"
            },
            "marker": {
             "line": {
              "color": "#E5ECF6",
              "width": 0.5
             },
             "pattern": {
              "fillmode": "overlay",
              "size": 10,
              "solidity": 0.2
             }
            },
            "type": "bar"
           }
          ],
          "barpolar": [
           {
            "marker": {
             "line": {
              "color": "#E5ECF6",
              "width": 0.5
             },
             "pattern": {
              "fillmode": "overlay",
              "size": 10,
              "solidity": 0.2
             }
            },
            "type": "barpolar"
           }
          ],
          "carpet": [
           {
            "aaxis": {
             "endlinecolor": "#2a3f5f",
             "gridcolor": "white",
             "linecolor": "white",
             "minorgridcolor": "white",
             "startlinecolor": "#2a3f5f"
            },
            "baxis": {
             "endlinecolor": "#2a3f5f",
             "gridcolor": "white",
             "linecolor": "white",
             "minorgridcolor": "white",
             "startlinecolor": "#2a3f5f"
            },
            "type": "carpet"
           }
          ],
          "choropleth": [
           {
            "colorbar": {
             "outlinewidth": 0,
             "ticks": ""
            },
            "type": "choropleth"
           }
          ],
          "contour": [
           {
            "colorbar": {
             "outlinewidth": 0,
             "ticks": ""
            },
            "colorscale": [
             [
              0,
              "#0d0887"
             ],
             [
              0.1111111111111111,
              "#46039f"
             ],
             [
              0.2222222222222222,
              "#7201a8"
             ],
             [
              0.3333333333333333,
              "#9c179e"
             ],
             [
              0.4444444444444444,
              "#bd3786"
             ],
             [
              0.5555555555555556,
              "#d8576b"
             ],
             [
              0.6666666666666666,
              "#ed7953"
             ],
             [
              0.7777777777777778,
              "#fb9f3a"
             ],
             [
              0.8888888888888888,
              "#fdca26"
             ],
             [
              1,
              "#f0f921"
             ]
            ],
            "type": "contour"
           }
          ],
          "contourcarpet": [
           {
            "colorbar": {
             "outlinewidth": 0,
             "ticks": ""
            },
            "type": "contourcarpet"
           }
          ],
          "heatmap": [
           {
            "colorbar": {
             "outlinewidth": 0,
             "ticks": ""
            },
            "colorscale": [
             [
              0,
              "#0d0887"
             ],
             [
              0.1111111111111111,
              "#46039f"
             ],
             [
              0.2222222222222222,
              "#7201a8"
             ],
             [
              0.3333333333333333,
              "#9c179e"
             ],
             [
              0.4444444444444444,
              "#bd3786"
             ],
             [
              0.5555555555555556,
              "#d8576b"
             ],
             [
              0.6666666666666666,
              "#ed7953"
             ],
             [
              0.7777777777777778,
              "#fb9f3a"
             ],
             [
              0.8888888888888888,
              "#fdca26"
             ],
             [
              1,
              "#f0f921"
             ]
            ],
            "type": "heatmap"
           }
          ],
          "heatmapgl": [
           {
            "colorbar": {
             "outlinewidth": 0,
             "ticks": ""
            },
            "colorscale": [
             [
              0,
              "#0d0887"
             ],
             [
              0.1111111111111111,
              "#46039f"
             ],
             [
              0.2222222222222222,
              "#7201a8"
             ],
             [
              0.3333333333333333,
              "#9c179e"
             ],
             [
              0.4444444444444444,
              "#bd3786"
             ],
             [
              0.5555555555555556,
              "#d8576b"
             ],
             [
              0.6666666666666666,
              "#ed7953"
             ],
             [
              0.7777777777777778,
              "#fb9f3a"
             ],
             [
              0.8888888888888888,
              "#fdca26"
             ],
             [
              1,
              "#f0f921"
             ]
            ],
            "type": "heatmapgl"
           }
          ],
          "histogram": [
           {
            "marker": {
             "pattern": {
              "fillmode": "overlay",
              "size": 10,
              "solidity": 0.2
             }
            },
            "type": "histogram"
           }
          ],
          "histogram2d": [
           {
            "colorbar": {
             "outlinewidth": 0,
             "ticks": ""
            },
            "colorscale": [
             [
              0,
              "#0d0887"
             ],
             [
              0.1111111111111111,
              "#46039f"
             ],
             [
              0.2222222222222222,
              "#7201a8"
             ],
             [
              0.3333333333333333,
              "#9c179e"
             ],
             [
              0.4444444444444444,
              "#bd3786"
             ],
             [
              0.5555555555555556,
              "#d8576b"
             ],
             [
              0.6666666666666666,
              "#ed7953"
             ],
             [
              0.7777777777777778,
              "#fb9f3a"
             ],
             [
              0.8888888888888888,
              "#fdca26"
             ],
             [
              1,
              "#f0f921"
             ]
            ],
            "type": "histogram2d"
           }
          ],
          "histogram2dcontour": [
           {
            "colorbar": {
             "outlinewidth": 0,
             "ticks": ""
            },
            "colorscale": [
             [
              0,
              "#0d0887"
             ],
             [
              0.1111111111111111,
              "#46039f"
             ],
             [
              0.2222222222222222,
              "#7201a8"
             ],
             [
              0.3333333333333333,
              "#9c179e"
             ],
             [
              0.4444444444444444,
              "#bd3786"
             ],
             [
              0.5555555555555556,
              "#d8576b"
             ],
             [
              0.6666666666666666,
              "#ed7953"
             ],
             [
              0.7777777777777778,
              "#fb9f3a"
             ],
             [
              0.8888888888888888,
              "#fdca26"
             ],
             [
              1,
              "#f0f921"
             ]
            ],
            "type": "histogram2dcontour"
           }
          ],
          "mesh3d": [
           {
            "colorbar": {
             "outlinewidth": 0,
             "ticks": ""
            },
            "type": "mesh3d"
           }
          ],
          "parcoords": [
           {
            "line": {
             "colorbar": {
              "outlinewidth": 0,
              "ticks": ""
             }
            },
            "type": "parcoords"
           }
          ],
          "pie": [
           {
            "automargin": true,
            "type": "pie"
           }
          ],
          "scatter": [
           {
            "fillpattern": {
             "fillmode": "overlay",
             "size": 10,
             "solidity": 0.2
            },
            "type": "scatter"
           }
          ],
          "scatter3d": [
           {
            "line": {
             "colorbar": {
              "outlinewidth": 0,
              "ticks": ""
             }
            },
            "marker": {
             "colorbar": {
              "outlinewidth": 0,
              "ticks": ""
             }
            },
            "type": "scatter3d"
           }
          ],
          "scattercarpet": [
           {
            "marker": {
             "colorbar": {
              "outlinewidth": 0,
              "ticks": ""
             }
            },
            "type": "scattercarpet"
           }
          ],
          "scattergeo": [
           {
            "marker": {
             "colorbar": {
              "outlinewidth": 0,
              "ticks": ""
             }
            },
            "type": "scattergeo"
           }
          ],
          "scattergl": [
           {
            "marker": {
             "colorbar": {
              "outlinewidth": 0,
              "ticks": ""
             }
            },
            "type": "scattergl"
           }
          ],
          "scattermapbox": [
           {
            "marker": {
             "colorbar": {
              "outlinewidth": 0,
              "ticks": ""
             }
            },
            "type": "scattermapbox"
           }
          ],
          "scatterpolar": [
           {
            "marker": {
             "colorbar": {
              "outlinewidth": 0,
              "ticks": ""
             }
            },
            "type": "scatterpolar"
           }
          ],
          "scatterpolargl": [
           {
            "marker": {
             "colorbar": {
              "outlinewidth": 0,
              "ticks": ""
             }
            },
            "type": "scatterpolargl"
           }
          ],
          "scatterternary": [
           {
            "marker": {
             "colorbar": {
              "outlinewidth": 0,
              "ticks": ""
             }
            },
            "type": "scatterternary"
           }
          ],
          "surface": [
           {
            "colorbar": {
             "outlinewidth": 0,
             "ticks": ""
            },
            "colorscale": [
             [
              0,
              "#0d0887"
             ],
             [
              0.1111111111111111,
              "#46039f"
             ],
             [
              0.2222222222222222,
              "#7201a8"
             ],
             [
              0.3333333333333333,
              "#9c179e"
             ],
             [
              0.4444444444444444,
              "#bd3786"
             ],
             [
              0.5555555555555556,
              "#d8576b"
             ],
             [
              0.6666666666666666,
              "#ed7953"
             ],
             [
              0.7777777777777778,
              "#fb9f3a"
             ],
             [
              0.8888888888888888,
              "#fdca26"
             ],
             [
              1,
              "#f0f921"
             ]
            ],
            "type": "surface"
           }
          ],
          "table": [
           {
            "cells": {
             "fill": {
              "color": "#EBF0F8"
             },
             "line": {
              "color": "white"
             }
            },
            "header": {
             "fill": {
              "color": "#C8D4E3"
             },
             "line": {
              "color": "white"
             }
            },
            "type": "table"
           }
          ]
         },
         "layout": {
          "annotationdefaults": {
           "arrowcolor": "#2a3f5f",
           "arrowhead": 0,
           "arrowwidth": 1
          },
          "autotypenumbers": "strict",
          "coloraxis": {
           "colorbar": {
            "outlinewidth": 0,
            "ticks": ""
           }
          },
          "colorscale": {
           "diverging": [
            [
             0,
             "#8e0152"
            ],
            [
             0.1,
             "#c51b7d"
            ],
            [
             0.2,
             "#de77ae"
            ],
            [
             0.3,
             "#f1b6da"
            ],
            [
             0.4,
             "#fde0ef"
            ],
            [
             0.5,
             "#f7f7f7"
            ],
            [
             0.6,
             "#e6f5d0"
            ],
            [
             0.7,
             "#b8e186"
            ],
            [
             0.8,
             "#7fbc41"
            ],
            [
             0.9,
             "#4d9221"
            ],
            [
             1,
             "#276419"
            ]
           ],
           "sequential": [
            [
             0,
             "#0d0887"
            ],
            [
             0.1111111111111111,
             "#46039f"
            ],
            [
             0.2222222222222222,
             "#7201a8"
            ],
            [
             0.3333333333333333,
             "#9c179e"
            ],
            [
             0.4444444444444444,
             "#bd3786"
            ],
            [
             0.5555555555555556,
             "#d8576b"
            ],
            [
             0.6666666666666666,
             "#ed7953"
            ],
            [
             0.7777777777777778,
             "#fb9f3a"
            ],
            [
             0.8888888888888888,
             "#fdca26"
            ],
            [
             1,
             "#f0f921"
            ]
           ],
           "sequentialminus": [
            [
             0,
             "#0d0887"
            ],
            [
             0.1111111111111111,
             "#46039f"
            ],
            [
             0.2222222222222222,
             "#7201a8"
            ],
            [
             0.3333333333333333,
             "#9c179e"
            ],
            [
             0.4444444444444444,
             "#bd3786"
            ],
            [
             0.5555555555555556,
             "#d8576b"
            ],
            [
             0.6666666666666666,
             "#ed7953"
            ],
            [
             0.7777777777777778,
             "#fb9f3a"
            ],
            [
             0.8888888888888888,
             "#fdca26"
            ],
            [
             1,
             "#f0f921"
            ]
           ]
          },
          "colorway": [
           "#636efa",
           "#EF553B",
           "#00cc96",
           "#ab63fa",
           "#FFA15A",
           "#19d3f3",
           "#FF6692",
           "#B6E880",
           "#FF97FF",
           "#FECB52"
          ],
          "font": {
           "color": "#2a3f5f"
          },
          "geo": {
           "bgcolor": "white",
           "lakecolor": "white",
           "landcolor": "#E5ECF6",
           "showlakes": true,
           "showland": true,
           "subunitcolor": "white"
          },
          "hoverlabel": {
           "align": "left"
          },
          "hovermode": "closest",
          "mapbox": {
           "style": "light"
          },
          "paper_bgcolor": "white",
          "plot_bgcolor": "#E5ECF6",
          "polar": {
           "angularaxis": {
            "gridcolor": "white",
            "linecolor": "white",
            "ticks": ""
           },
           "bgcolor": "#E5ECF6",
           "radialaxis": {
            "gridcolor": "white",
            "linecolor": "white",
            "ticks": ""
           }
          },
          "scene": {
           "xaxis": {
            "backgroundcolor": "#E5ECF6",
            "gridcolor": "white",
            "gridwidth": 2,
            "linecolor": "white",
            "showbackground": true,
            "ticks": "",
            "zerolinecolor": "white"
           },
           "yaxis": {
            "backgroundcolor": "#E5ECF6",
            "gridcolor": "white",
            "gridwidth": 2,
            "linecolor": "white",
            "showbackground": true,
            "ticks": "",
            "zerolinecolor": "white"
           },
           "zaxis": {
            "backgroundcolor": "#E5ECF6",
            "gridcolor": "white",
            "gridwidth": 2,
            "linecolor": "white",
            "showbackground": true,
            "ticks": "",
            "zerolinecolor": "white"
           }
          },
          "shapedefaults": {
           "line": {
            "color": "#2a3f5f"
           }
          },
          "ternary": {
           "aaxis": {
            "gridcolor": "white",
            "linecolor": "white",
            "ticks": ""
           },
           "baxis": {
            "gridcolor": "white",
            "linecolor": "white",
            "ticks": ""
           },
           "bgcolor": "#E5ECF6",
           "caxis": {
            "gridcolor": "white",
            "linecolor": "white",
            "ticks": ""
           }
          },
          "title": {
           "x": 0.05
          },
          "xaxis": {
           "automargin": true,
           "gridcolor": "white",
           "linecolor": "white",
           "ticks": "",
           "title": {
            "standoff": 15
           },
           "zerolinecolor": "white",
           "zerolinewidth": 2
          },
          "yaxis": {
           "automargin": true,
           "gridcolor": "white",
           "linecolor": "white",
           "ticks": "",
           "title": {
            "standoff": 15
           },
           "zerolinecolor": "white",
           "zerolinewidth": 2
          }
         }
        },
        "title": {
         "text": "Total Revenue Distribution by Payment Method"
        }
       }
      },
      "text/html": [
       "<div>                            <div id=\"b16aa5e3-9d1c-4066-b8f1-f75a35eec138\" class=\"plotly-graph-div\" style=\"height:525px; width:100%;\"></div>            <script type=\"text/javascript\">                require([\"plotly\"], function(Plotly) {                    window.PLOTLYENV=window.PLOTLYENV || {};                                    if (document.getElementById(\"b16aa5e3-9d1c-4066-b8f1-f75a35eec138\")) {                    Plotly.newPlot(                        \"b16aa5e3-9d1c-4066-b8f1-f75a35eec138\",                        [{\"hole\":0.3,\"labels\":[\"Cash\",\"Credit Card\",\"Debit Card\",\"Online\"],\"values\":[8690117.18,11298245.48,9952877.9,10277204.48],\"type\":\"pie\"}],                        {\"annotations\":[{\"font\":{\"size\":20},\"showarrow\":false,\"text\":\"Payment Methods\",\"x\":0.3,\"y\":1.1}],\"template\":{\"data\":{\"barpolar\":[{\"marker\":{\"line\":{\"color\":\"#E5ECF6\",\"width\":0.5},\"pattern\":{\"fillmode\":\"overlay\",\"size\":10,\"solidity\":0.2}},\"type\":\"barpolar\"}],\"bar\":[{\"error_x\":{\"color\":\"#2a3f5f\"},\"error_y\":{\"color\":\"#2a3f5f\"},\"marker\":{\"line\":{\"color\":\"#E5ECF6\",\"width\":0.5},\"pattern\":{\"fillmode\":\"overlay\",\"size\":10,\"solidity\":0.2}},\"type\":\"bar\"}],\"carpet\":[{\"aaxis\":{\"endlinecolor\":\"#2a3f5f\",\"gridcolor\":\"white\",\"linecolor\":\"white\",\"minorgridcolor\":\"white\",\"startlinecolor\":\"#2a3f5f\"},\"baxis\":{\"endlinecolor\":\"#2a3f5f\",\"gridcolor\":\"white\",\"linecolor\":\"white\",\"minorgridcolor\":\"white\",\"startlinecolor\":\"#2a3f5f\"},\"type\":\"carpet\"}],\"choropleth\":[{\"colorbar\":{\"outlinewidth\":0,\"ticks\":\"\"},\"type\":\"choropleth\"}],\"contourcarpet\":[{\"colorbar\":{\"outlinewidth\":0,\"ticks\":\"\"},\"type\":\"contourcarpet\"}],\"contour\":[{\"colorbar\":{\"outlinewidth\":0,\"ticks\":\"\"},\"colorscale\":[[0.0,\"#0d0887\"],[0.1111111111111111,\"#46039f\"],[0.2222222222222222,\"#7201a8\"],[0.3333333333333333,\"#9c179e\"],[0.4444444444444444,\"#bd3786\"],[0.5555555555555556,\"#d8576b\"],[0.6666666666666666,\"#ed7953\"],[0.7777777777777778,\"#fb9f3a\"],[0.8888888888888888,\"#fdca26\"],[1.0,\"#f0f921\"]],\"type\":\"contour\"}],\"heatmapgl\":[{\"colorbar\":{\"outlinewidth\":0,\"ticks\":\"\"},\"colorscale\":[[0.0,\"#0d0887\"],[0.1111111111111111,\"#46039f\"],[0.2222222222222222,\"#7201a8\"],[0.3333333333333333,\"#9c179e\"],[0.4444444444444444,\"#bd3786\"],[0.5555555555555556,\"#d8576b\"],[0.6666666666666666,\"#ed7953\"],[0.7777777777777778,\"#fb9f3a\"],[0.8888888888888888,\"#fdca26\"],[1.0,\"#f0f921\"]],\"type\":\"heatmapgl\"}],\"heatmap\":[{\"colorbar\":{\"outlinewidth\":0,\"ticks\":\"\"},\"colorscale\":[[0.0,\"#0d0887\"],[0.1111111111111111,\"#46039f\"],[0.2222222222222222,\"#7201a8\"],[0.3333333333333333,\"#9c179e\"],[0.4444444444444444,\"#bd3786\"],[0.5555555555555556,\"#d8576b\"],[0.6666666666666666,\"#ed7953\"],[0.7777777777777778,\"#fb9f3a\"],[0.8888888888888888,\"#fdca26\"],[1.0,\"#f0f921\"]],\"type\":\"heatmap\"}],\"histogram2dcontour\":[{\"colorbar\":{\"outlinewidth\":0,\"ticks\":\"\"},\"colorscale\":[[0.0,\"#0d0887\"],[0.1111111111111111,\"#46039f\"],[0.2222222222222222,\"#7201a8\"],[0.3333333333333333,\"#9c179e\"],[0.4444444444444444,\"#bd3786\"],[0.5555555555555556,\"#d8576b\"],[0.6666666666666666,\"#ed7953\"],[0.7777777777777778,\"#fb9f3a\"],[0.8888888888888888,\"#fdca26\"],[1.0,\"#f0f921\"]],\"type\":\"histogram2dcontour\"}],\"histogram2d\":[{\"colorbar\":{\"outlinewidth\":0,\"ticks\":\"\"},\"colorscale\":[[0.0,\"#0d0887\"],[0.1111111111111111,\"#46039f\"],[0.2222222222222222,\"#7201a8\"],[0.3333333333333333,\"#9c179e\"],[0.4444444444444444,\"#bd3786\"],[0.5555555555555556,\"#d8576b\"],[0.6666666666666666,\"#ed7953\"],[0.7777777777777778,\"#fb9f3a\"],[0.8888888888888888,\"#fdca26\"],[1.0,\"#f0f921\"]],\"type\":\"histogram2d\"}],\"histogram\":[{\"marker\":{\"pattern\":{\"fillmode\":\"overlay\",\"size\":10,\"solidity\":0.2}},\"type\":\"histogram\"}],\"mesh3d\":[{\"colorbar\":{\"outlinewidth\":0,\"ticks\":\"\"},\"type\":\"mesh3d\"}],\"parcoords\":[{\"line\":{\"colorbar\":{\"outlinewidth\":0,\"ticks\":\"\"}},\"type\":\"parcoords\"}],\"pie\":[{\"automargin\":true,\"type\":\"pie\"}],\"scatter3d\":[{\"line\":{\"colorbar\":{\"outlinewidth\":0,\"ticks\":\"\"}},\"marker\":{\"colorbar\":{\"outlinewidth\":0,\"ticks\":\"\"}},\"type\":\"scatter3d\"}],\"scattercarpet\":[{\"marker\":{\"colorbar\":{\"outlinewidth\":0,\"ticks\":\"\"}},\"type\":\"scattercarpet\"}],\"scattergeo\":[{\"marker\":{\"colorbar\":{\"outlinewidth\":0,\"ticks\":\"\"}},\"type\":\"scattergeo\"}],\"scattergl\":[{\"marker\":{\"colorbar\":{\"outlinewidth\":0,\"ticks\":\"\"}},\"type\":\"scattergl\"}],\"scattermapbox\":[{\"marker\":{\"colorbar\":{\"outlinewidth\":0,\"ticks\":\"\"}},\"type\":\"scattermapbox\"}],\"scatterpolargl\":[{\"marker\":{\"colorbar\":{\"outlinewidth\":0,\"ticks\":\"\"}},\"type\":\"scatterpolargl\"}],\"scatterpolar\":[{\"marker\":{\"colorbar\":{\"outlinewidth\":0,\"ticks\":\"\"}},\"type\":\"scatterpolar\"}],\"scatter\":[{\"fillpattern\":{\"fillmode\":\"overlay\",\"size\":10,\"solidity\":0.2},\"type\":\"scatter\"}],\"scatterternary\":[{\"marker\":{\"colorbar\":{\"outlinewidth\":0,\"ticks\":\"\"}},\"type\":\"scatterternary\"}],\"surface\":[{\"colorbar\":{\"outlinewidth\":0,\"ticks\":\"\"},\"colorscale\":[[0.0,\"#0d0887\"],[0.1111111111111111,\"#46039f\"],[0.2222222222222222,\"#7201a8\"],[0.3333333333333333,\"#9c179e\"],[0.4444444444444444,\"#bd3786\"],[0.5555555555555556,\"#d8576b\"],[0.6666666666666666,\"#ed7953\"],[0.7777777777777778,\"#fb9f3a\"],[0.8888888888888888,\"#fdca26\"],[1.0,\"#f0f921\"]],\"type\":\"surface\"}],\"table\":[{\"cells\":{\"fill\":{\"color\":\"#EBF0F8\"},\"line\":{\"color\":\"white\"}},\"header\":{\"fill\":{\"color\":\"#C8D4E3\"},\"line\":{\"color\":\"white\"}},\"type\":\"table\"}]},\"layout\":{\"annotationdefaults\":{\"arrowcolor\":\"#2a3f5f\",\"arrowhead\":0,\"arrowwidth\":1},\"autotypenumbers\":\"strict\",\"coloraxis\":{\"colorbar\":{\"outlinewidth\":0,\"ticks\":\"\"}},\"colorscale\":{\"diverging\":[[0,\"#8e0152\"],[0.1,\"#c51b7d\"],[0.2,\"#de77ae\"],[0.3,\"#f1b6da\"],[0.4,\"#fde0ef\"],[0.5,\"#f7f7f7\"],[0.6,\"#e6f5d0\"],[0.7,\"#b8e186\"],[0.8,\"#7fbc41\"],[0.9,\"#4d9221\"],[1,\"#276419\"]],\"sequential\":[[0.0,\"#0d0887\"],[0.1111111111111111,\"#46039f\"],[0.2222222222222222,\"#7201a8\"],[0.3333333333333333,\"#9c179e\"],[0.4444444444444444,\"#bd3786\"],[0.5555555555555556,\"#d8576b\"],[0.6666666666666666,\"#ed7953\"],[0.7777777777777778,\"#fb9f3a\"],[0.8888888888888888,\"#fdca26\"],[1.0,\"#f0f921\"]],\"sequentialminus\":[[0.0,\"#0d0887\"],[0.1111111111111111,\"#46039f\"],[0.2222222222222222,\"#7201a8\"],[0.3333333333333333,\"#9c179e\"],[0.4444444444444444,\"#bd3786\"],[0.5555555555555556,\"#d8576b\"],[0.6666666666666666,\"#ed7953\"],[0.7777777777777778,\"#fb9f3a\"],[0.8888888888888888,\"#fdca26\"],[1.0,\"#f0f921\"]]},\"colorway\":[\"#636efa\",\"#EF553B\",\"#00cc96\",\"#ab63fa\",\"#FFA15A\",\"#19d3f3\",\"#FF6692\",\"#B6E880\",\"#FF97FF\",\"#FECB52\"],\"font\":{\"color\":\"#2a3f5f\"},\"geo\":{\"bgcolor\":\"white\",\"lakecolor\":\"white\",\"landcolor\":\"#E5ECF6\",\"showlakes\":true,\"showland\":true,\"subunitcolor\":\"white\"},\"hoverlabel\":{\"align\":\"left\"},\"hovermode\":\"closest\",\"mapbox\":{\"style\":\"light\"},\"paper_bgcolor\":\"white\",\"plot_bgcolor\":\"#E5ECF6\",\"polar\":{\"angularaxis\":{\"gridcolor\":\"white\",\"linecolor\":\"white\",\"ticks\":\"\"},\"bgcolor\":\"#E5ECF6\",\"radialaxis\":{\"gridcolor\":\"white\",\"linecolor\":\"white\",\"ticks\":\"\"}},\"scene\":{\"xaxis\":{\"backgroundcolor\":\"#E5ECF6\",\"gridcolor\":\"white\",\"gridwidth\":2,\"linecolor\":\"white\",\"showbackground\":true,\"ticks\":\"\",\"zerolinecolor\":\"white\"},\"yaxis\":{\"backgroundcolor\":\"#E5ECF6\",\"gridcolor\":\"white\",\"gridwidth\":2,\"linecolor\":\"white\",\"showbackground\":true,\"ticks\":\"\",\"zerolinecolor\":\"white\"},\"zaxis\":{\"backgroundcolor\":\"#E5ECF6\",\"gridcolor\":\"white\",\"gridwidth\":2,\"linecolor\":\"white\",\"showbackground\":true,\"ticks\":\"\",\"zerolinecolor\":\"white\"}},\"shapedefaults\":{\"line\":{\"color\":\"#2a3f5f\"}},\"ternary\":{\"aaxis\":{\"gridcolor\":\"white\",\"linecolor\":\"white\",\"ticks\":\"\"},\"baxis\":{\"gridcolor\":\"white\",\"linecolor\":\"white\",\"ticks\":\"\"},\"bgcolor\":\"#E5ECF6\",\"caxis\":{\"gridcolor\":\"white\",\"linecolor\":\"white\",\"ticks\":\"\"}},\"title\":{\"x\":0.05},\"xaxis\":{\"automargin\":true,\"gridcolor\":\"white\",\"linecolor\":\"white\",\"ticks\":\"\",\"title\":{\"standoff\":15},\"zerolinecolor\":\"white\",\"zerolinewidth\":2},\"yaxis\":{\"automargin\":true,\"gridcolor\":\"white\",\"linecolor\":\"white\",\"ticks\":\"\",\"title\":{\"standoff\":15},\"zerolinecolor\":\"white\",\"zerolinewidth\":2}}},\"title\":{\"text\":\"Total Revenue Distribution by Payment Method\"}},                        {\"responsive\": true}                    ).then(function(){\n",
       "                            \n",
       "var gd = document.getElementById('b16aa5e3-9d1c-4066-b8f1-f75a35eec138');\n",
       "var x = new MutationObserver(function (mutations, observer) {{\n",
       "        var display = window.getComputedStyle(gd).display;\n",
       "        if (!display || display === 'none') {{\n",
       "            console.log([gd, 'removed!']);\n",
       "            Plotly.purge(gd);\n",
       "            observer.disconnect();\n",
       "        }}\n",
       "}});\n",
       "\n",
       "// Listen for the removal of the full notebook cells\n",
       "var notebookContainer = gd.closest('#notebook-container');\n",
       "if (notebookContainer) {{\n",
       "    x.observe(notebookContainer, {childList: true});\n",
       "}}\n",
       "\n",
       "// Listen for the clearing of the current output cell\n",
       "var outputEl = gd.closest('.output');\n",
       "if (outputEl) {{\n",
       "    x.observe(outputEl, {childList: true});\n",
       "}}\n",
       "\n",
       "                        })                };                });            </script>        </div>"
      ]
     },
     "metadata": {},
     "output_type": "display_data"
    }
   ],
   "source": [
    "#Calculating total revenue according to each payment method\n",
    "payment_method_revenue = df.groupby('PaymentMethod')['TotalRevenue'].sum().reset_index()\n",
    "\n",
    "# Extract labels and values for the pie chart\n",
    "labels = payment_method_revenue['PaymentMethod']\n",
    "values = payment_method_revenue['TotalRevenue']\n",
    "\n",
    "# Create the pie chart\n",
    "fig = go.Figure(data=[go.Pie(\n",
    "    values=values,\n",
    "    labels=labels,\n",
    "    hole=.3\n",
    ")])\n",
    "\n",
    "# Update layout with title and annotations\n",
    "fig.update_layout(\n",
    "    title=\"Total Revenue Distribution by Payment Method\",\n",
    "    annotations=[\n",
    "        {\n",
    "            \"font\": {\"size\": 20},\n",
    "            \"showarrow\": False,\n",
    "            \"text\": \"Payment Methods\",\n",
    "            \"x\": 0.30,\n",
    "            \"y\": 1.10\n",
    "        }\n",
    "    ]\n",
    ")\n",
    "\n",
    "# Plot the figure\n",
    "iplot(fig)"
   ]
  },
  {
   "cell_type": "code",
   "execution_count": 13,
   "id": "852155eb",
   "metadata": {},
   "outputs": [
    {
     "data": {
      "application/vnd.plotly.v1+json": {
       "config": {
        "linkText": "Export to plot.ly",
        "plotlyServerURL": "https://plot.ly",
        "showLink": false
       },
       "data": [
        {
         "marker": {
          "color": "rgba(80, 27, 80, 0.7)"
         },
         "name": "Month 4",
         "type": "bar",
         "x": [
          "Month 4"
         ],
         "y": [
          139
         ]
        },
        {
         "marker": {
          "color": "rgba(125, 2, 100, 0.6)"
         },
         "name": "Month 7",
         "type": "bar",
         "x": [
          "Month 7"
         ],
         "y": [
          128
         ]
        }
       ],
       "layout": {
        "barmode": "group",
        "template": {
         "data": {
          "bar": [
           {
            "error_x": {
             "color": "#2a3f5f"
            },
            "error_y": {
             "color": "#2a3f5f"
            },
            "marker": {
             "line": {
              "color": "#E5ECF6",
              "width": 0.5
             },
             "pattern": {
              "fillmode": "overlay",
              "size": 10,
              "solidity": 0.2
             }
            },
            "type": "bar"
           }
          ],
          "barpolar": [
           {
            "marker": {
             "line": {
              "color": "#E5ECF6",
              "width": 0.5
             },
             "pattern": {
              "fillmode": "overlay",
              "size": 10,
              "solidity": 0.2
             }
            },
            "type": "barpolar"
           }
          ],
          "carpet": [
           {
            "aaxis": {
             "endlinecolor": "#2a3f5f",
             "gridcolor": "white",
             "linecolor": "white",
             "minorgridcolor": "white",
             "startlinecolor": "#2a3f5f"
            },
            "baxis": {
             "endlinecolor": "#2a3f5f",
             "gridcolor": "white",
             "linecolor": "white",
             "minorgridcolor": "white",
             "startlinecolor": "#2a3f5f"
            },
            "type": "carpet"
           }
          ],
          "choropleth": [
           {
            "colorbar": {
             "outlinewidth": 0,
             "ticks": ""
            },
            "type": "choropleth"
           }
          ],
          "contour": [
           {
            "colorbar": {
             "outlinewidth": 0,
             "ticks": ""
            },
            "colorscale": [
             [
              0,
              "#0d0887"
             ],
             [
              0.1111111111111111,
              "#46039f"
             ],
             [
              0.2222222222222222,
              "#7201a8"
             ],
             [
              0.3333333333333333,
              "#9c179e"
             ],
             [
              0.4444444444444444,
              "#bd3786"
             ],
             [
              0.5555555555555556,
              "#d8576b"
             ],
             [
              0.6666666666666666,
              "#ed7953"
             ],
             [
              0.7777777777777778,
              "#fb9f3a"
             ],
             [
              0.8888888888888888,
              "#fdca26"
             ],
             [
              1,
              "#f0f921"
             ]
            ],
            "type": "contour"
           }
          ],
          "contourcarpet": [
           {
            "colorbar": {
             "outlinewidth": 0,
             "ticks": ""
            },
            "type": "contourcarpet"
           }
          ],
          "heatmap": [
           {
            "colorbar": {
             "outlinewidth": 0,
             "ticks": ""
            },
            "colorscale": [
             [
              0,
              "#0d0887"
             ],
             [
              0.1111111111111111,
              "#46039f"
             ],
             [
              0.2222222222222222,
              "#7201a8"
             ],
             [
              0.3333333333333333,
              "#9c179e"
             ],
             [
              0.4444444444444444,
              "#bd3786"
             ],
             [
              0.5555555555555556,
              "#d8576b"
             ],
             [
              0.6666666666666666,
              "#ed7953"
             ],
             [
              0.7777777777777778,
              "#fb9f3a"
             ],
             [
              0.8888888888888888,
              "#fdca26"
             ],
             [
              1,
              "#f0f921"
             ]
            ],
            "type": "heatmap"
           }
          ],
          "heatmapgl": [
           {
            "colorbar": {
             "outlinewidth": 0,
             "ticks": ""
            },
            "colorscale": [
             [
              0,
              "#0d0887"
             ],
             [
              0.1111111111111111,
              "#46039f"
             ],
             [
              0.2222222222222222,
              "#7201a8"
             ],
             [
              0.3333333333333333,
              "#9c179e"
             ],
             [
              0.4444444444444444,
              "#bd3786"
             ],
             [
              0.5555555555555556,
              "#d8576b"
             ],
             [
              0.6666666666666666,
              "#ed7953"
             ],
             [
              0.7777777777777778,
              "#fb9f3a"
             ],
             [
              0.8888888888888888,
              "#fdca26"
             ],
             [
              1,
              "#f0f921"
             ]
            ],
            "type": "heatmapgl"
           }
          ],
          "histogram": [
           {
            "marker": {
             "pattern": {
              "fillmode": "overlay",
              "size": 10,
              "solidity": 0.2
             }
            },
            "type": "histogram"
           }
          ],
          "histogram2d": [
           {
            "colorbar": {
             "outlinewidth": 0,
             "ticks": ""
            },
            "colorscale": [
             [
              0,
              "#0d0887"
             ],
             [
              0.1111111111111111,
              "#46039f"
             ],
             [
              0.2222222222222222,
              "#7201a8"
             ],
             [
              0.3333333333333333,
              "#9c179e"
             ],
             [
              0.4444444444444444,
              "#bd3786"
             ],
             [
              0.5555555555555556,
              "#d8576b"
             ],
             [
              0.6666666666666666,
              "#ed7953"
             ],
             [
              0.7777777777777778,
              "#fb9f3a"
             ],
             [
              0.8888888888888888,
              "#fdca26"
             ],
             [
              1,
              "#f0f921"
             ]
            ],
            "type": "histogram2d"
           }
          ],
          "histogram2dcontour": [
           {
            "colorbar": {
             "outlinewidth": 0,
             "ticks": ""
            },
            "colorscale": [
             [
              0,
              "#0d0887"
             ],
             [
              0.1111111111111111,
              "#46039f"
             ],
             [
              0.2222222222222222,
              "#7201a8"
             ],
             [
              0.3333333333333333,
              "#9c179e"
             ],
             [
              0.4444444444444444,
              "#bd3786"
             ],
             [
              0.5555555555555556,
              "#d8576b"
             ],
             [
              0.6666666666666666,
              "#ed7953"
             ],
             [
              0.7777777777777778,
              "#fb9f3a"
             ],
             [
              0.8888888888888888,
              "#fdca26"
             ],
             [
              1,
              "#f0f921"
             ]
            ],
            "type": "histogram2dcontour"
           }
          ],
          "mesh3d": [
           {
            "colorbar": {
             "outlinewidth": 0,
             "ticks": ""
            },
            "type": "mesh3d"
           }
          ],
          "parcoords": [
           {
            "line": {
             "colorbar": {
              "outlinewidth": 0,
              "ticks": ""
             }
            },
            "type": "parcoords"
           }
          ],
          "pie": [
           {
            "automargin": true,
            "type": "pie"
           }
          ],
          "scatter": [
           {
            "fillpattern": {
             "fillmode": "overlay",
             "size": 10,
             "solidity": 0.2
            },
            "type": "scatter"
           }
          ],
          "scatter3d": [
           {
            "line": {
             "colorbar": {
              "outlinewidth": 0,
              "ticks": ""
             }
            },
            "marker": {
             "colorbar": {
              "outlinewidth": 0,
              "ticks": ""
             }
            },
            "type": "scatter3d"
           }
          ],
          "scattercarpet": [
           {
            "marker": {
             "colorbar": {
              "outlinewidth": 0,
              "ticks": ""
             }
            },
            "type": "scattercarpet"
           }
          ],
          "scattergeo": [
           {
            "marker": {
             "colorbar": {
              "outlinewidth": 0,
              "ticks": ""
             }
            },
            "type": "scattergeo"
           }
          ],
          "scattergl": [
           {
            "marker": {
             "colorbar": {
              "outlinewidth": 0,
              "ticks": ""
             }
            },
            "type": "scattergl"
           }
          ],
          "scattermapbox": [
           {
            "marker": {
             "colorbar": {
              "outlinewidth": 0,
              "ticks": ""
             }
            },
            "type": "scattermapbox"
           }
          ],
          "scatterpolar": [
           {
            "marker": {
             "colorbar": {
              "outlinewidth": 0,
              "ticks": ""
             }
            },
            "type": "scatterpolar"
           }
          ],
          "scatterpolargl": [
           {
            "marker": {
             "colorbar": {
              "outlinewidth": 0,
              "ticks": ""
             }
            },
            "type": "scatterpolargl"
           }
          ],
          "scatterternary": [
           {
            "marker": {
             "colorbar": {
              "outlinewidth": 0,
              "ticks": ""
             }
            },
            "type": "scatterternary"
           }
          ],
          "surface": [
           {
            "colorbar": {
             "outlinewidth": 0,
             "ticks": ""
            },
            "colorscale": [
             [
              0,
              "#0d0887"
             ],
             [
              0.1111111111111111,
              "#46039f"
             ],
             [
              0.2222222222222222,
              "#7201a8"
             ],
             [
              0.3333333333333333,
              "#9c179e"
             ],
             [
              0.4444444444444444,
              "#bd3786"
             ],
             [
              0.5555555555555556,
              "#d8576b"
             ],
             [
              0.6666666666666666,
              "#ed7953"
             ],
             [
              0.7777777777777778,
              "#fb9f3a"
             ],
             [
              0.8888888888888888,
              "#fdca26"
             ],
             [
              1,
              "#f0f921"
             ]
            ],
            "type": "surface"
           }
          ],
          "table": [
           {
            "cells": {
             "fill": {
              "color": "#EBF0F8"
             },
             "line": {
              "color": "white"
             }
            },
            "header": {
             "fill": {
              "color": "#C8D4E3"
             },
             "line": {
              "color": "white"
             }
            },
            "type": "table"
           }
          ]
         },
         "layout": {
          "annotationdefaults": {
           "arrowcolor": "#2a3f5f",
           "arrowhead": 0,
           "arrowwidth": 1
          },
          "autotypenumbers": "strict",
          "coloraxis": {
           "colorbar": {
            "outlinewidth": 0,
            "ticks": ""
           }
          },
          "colorscale": {
           "diverging": [
            [
             0,
             "#8e0152"
            ],
            [
             0.1,
             "#c51b7d"
            ],
            [
             0.2,
             "#de77ae"
            ],
            [
             0.3,
             "#f1b6da"
            ],
            [
             0.4,
             "#fde0ef"
            ],
            [
             0.5,
             "#f7f7f7"
            ],
            [
             0.6,
             "#e6f5d0"
            ],
            [
             0.7,
             "#b8e186"
            ],
            [
             0.8,
             "#7fbc41"
            ],
            [
             0.9,
             "#4d9221"
            ],
            [
             1,
             "#276419"
            ]
           ],
           "sequential": [
            [
             0,
             "#0d0887"
            ],
            [
             0.1111111111111111,
             "#46039f"
            ],
            [
             0.2222222222222222,
             "#7201a8"
            ],
            [
             0.3333333333333333,
             "#9c179e"
            ],
            [
             0.4444444444444444,
             "#bd3786"
            ],
            [
             0.5555555555555556,
             "#d8576b"
            ],
            [
             0.6666666666666666,
             "#ed7953"
            ],
            [
             0.7777777777777778,
             "#fb9f3a"
            ],
            [
             0.8888888888888888,
             "#fdca26"
            ],
            [
             1,
             "#f0f921"
            ]
           ],
           "sequentialminus": [
            [
             0,
             "#0d0887"
            ],
            [
             0.1111111111111111,
             "#46039f"
            ],
            [
             0.2222222222222222,
             "#7201a8"
            ],
            [
             0.3333333333333333,
             "#9c179e"
            ],
            [
             0.4444444444444444,
             "#bd3786"
            ],
            [
             0.5555555555555556,
             "#d8576b"
            ],
            [
             0.6666666666666666,
             "#ed7953"
            ],
            [
             0.7777777777777778,
             "#fb9f3a"
            ],
            [
             0.8888888888888888,
             "#fdca26"
            ],
            [
             1,
             "#f0f921"
            ]
           ]
          },
          "colorway": [
           "#636efa",
           "#EF553B",
           "#00cc96",
           "#ab63fa",
           "#FFA15A",
           "#19d3f3",
           "#FF6692",
           "#B6E880",
           "#FF97FF",
           "#FECB52"
          ],
          "font": {
           "color": "#2a3f5f"
          },
          "geo": {
           "bgcolor": "white",
           "lakecolor": "white",
           "landcolor": "#E5ECF6",
           "showlakes": true,
           "showland": true,
           "subunitcolor": "white"
          },
          "hoverlabel": {
           "align": "left"
          },
          "hovermode": "closest",
          "mapbox": {
           "style": "light"
          },
          "paper_bgcolor": "white",
          "plot_bgcolor": "#E5ECF6",
          "polar": {
           "angularaxis": {
            "gridcolor": "white",
            "linecolor": "white",
            "ticks": ""
           },
           "bgcolor": "#E5ECF6",
           "radialaxis": {
            "gridcolor": "white",
            "linecolor": "white",
            "ticks": ""
           }
          },
          "scene": {
           "xaxis": {
            "backgroundcolor": "#E5ECF6",
            "gridcolor": "white",
            "gridwidth": 2,
            "linecolor": "white",
            "showbackground": true,
            "ticks": "",
            "zerolinecolor": "white"
           },
           "yaxis": {
            "backgroundcolor": "#E5ECF6",
            "gridcolor": "white",
            "gridwidth": 2,
            "linecolor": "white",
            "showbackground": true,
            "ticks": "",
            "zerolinecolor": "white"
           },
           "zaxis": {
            "backgroundcolor": "#E5ECF6",
            "gridcolor": "white",
            "gridwidth": 2,
            "linecolor": "white",
            "showbackground": true,
            "ticks": "",
            "zerolinecolor": "white"
           }
          },
          "shapedefaults": {
           "line": {
            "color": "#2a3f5f"
           }
          },
          "ternary": {
           "aaxis": {
            "gridcolor": "white",
            "linecolor": "white",
            "ticks": ""
           },
           "baxis": {
            "gridcolor": "white",
            "linecolor": "white",
            "ticks": ""
           },
           "bgcolor": "#E5ECF6",
           "caxis": {
            "gridcolor": "white",
            "linecolor": "white",
            "ticks": ""
           }
          },
          "title": {
           "x": 0.05
          },
          "xaxis": {
           "automargin": true,
           "gridcolor": "white",
           "linecolor": "white",
           "ticks": "",
           "title": {
            "standoff": 15
           },
           "zerolinecolor": "white",
           "zerolinewidth": 2
          },
          "yaxis": {
           "automargin": true,
           "gridcolor": "white",
           "linecolor": "white",
           "ticks": "",
           "title": {
            "standoff": 15
           },
           "zerolinecolor": "white",
           "zerolinewidth": 2
          }
         }
        },
        "title": {
         "text": "Unique Brands in April and July"
        },
        "xaxis": {
         "title": {
          "text": "Month"
         }
        },
        "yaxis": {
         "title": {
          "text": "Number of Unique Brands"
         }
        }
       }
      },
      "text/html": [
       "<div>                            <div id=\"ea925792-c4f2-4d46-82e5-f0c179d7ee4c\" class=\"plotly-graph-div\" style=\"height:525px; width:100%;\"></div>            <script type=\"text/javascript\">                require([\"plotly\"], function(Plotly) {                    window.PLOTLYENV=window.PLOTLYENV || {};                                    if (document.getElementById(\"ea925792-c4f2-4d46-82e5-f0c179d7ee4c\")) {                    Plotly.newPlot(                        \"ea925792-c4f2-4d46-82e5-f0c179d7ee4c\",                        [{\"marker\":{\"color\":\"rgba(80, 27, 80, 0.7)\"},\"name\":\"Month 4\",\"x\":[\"Month 4\"],\"y\":[139],\"type\":\"bar\"},{\"marker\":{\"color\":\"rgba(125, 2, 100, 0.6)\"},\"name\":\"Month 7\",\"x\":[\"Month 7\"],\"y\":[128],\"type\":\"bar\"}],                        {\"barmode\":\"group\",\"template\":{\"data\":{\"barpolar\":[{\"marker\":{\"line\":{\"color\":\"#E5ECF6\",\"width\":0.5},\"pattern\":{\"fillmode\":\"overlay\",\"size\":10,\"solidity\":0.2}},\"type\":\"barpolar\"}],\"bar\":[{\"error_x\":{\"color\":\"#2a3f5f\"},\"error_y\":{\"color\":\"#2a3f5f\"},\"marker\":{\"line\":{\"color\":\"#E5ECF6\",\"width\":0.5},\"pattern\":{\"fillmode\":\"overlay\",\"size\":10,\"solidity\":0.2}},\"type\":\"bar\"}],\"carpet\":[{\"aaxis\":{\"endlinecolor\":\"#2a3f5f\",\"gridcolor\":\"white\",\"linecolor\":\"white\",\"minorgridcolor\":\"white\",\"startlinecolor\":\"#2a3f5f\"},\"baxis\":{\"endlinecolor\":\"#2a3f5f\",\"gridcolor\":\"white\",\"linecolor\":\"white\",\"minorgridcolor\":\"white\",\"startlinecolor\":\"#2a3f5f\"},\"type\":\"carpet\"}],\"choropleth\":[{\"colorbar\":{\"outlinewidth\":0,\"ticks\":\"\"},\"type\":\"choropleth\"}],\"contourcarpet\":[{\"colorbar\":{\"outlinewidth\":0,\"ticks\":\"\"},\"type\":\"contourcarpet\"}],\"contour\":[{\"colorbar\":{\"outlinewidth\":0,\"ticks\":\"\"},\"colorscale\":[[0.0,\"#0d0887\"],[0.1111111111111111,\"#46039f\"],[0.2222222222222222,\"#7201a8\"],[0.3333333333333333,\"#9c179e\"],[0.4444444444444444,\"#bd3786\"],[0.5555555555555556,\"#d8576b\"],[0.6666666666666666,\"#ed7953\"],[0.7777777777777778,\"#fb9f3a\"],[0.8888888888888888,\"#fdca26\"],[1.0,\"#f0f921\"]],\"type\":\"contour\"}],\"heatmapgl\":[{\"colorbar\":{\"outlinewidth\":0,\"ticks\":\"\"},\"colorscale\":[[0.0,\"#0d0887\"],[0.1111111111111111,\"#46039f\"],[0.2222222222222222,\"#7201a8\"],[0.3333333333333333,\"#9c179e\"],[0.4444444444444444,\"#bd3786\"],[0.5555555555555556,\"#d8576b\"],[0.6666666666666666,\"#ed7953\"],[0.7777777777777778,\"#fb9f3a\"],[0.8888888888888888,\"#fdca26\"],[1.0,\"#f0f921\"]],\"type\":\"heatmapgl\"}],\"heatmap\":[{\"colorbar\":{\"outlinewidth\":0,\"ticks\":\"\"},\"colorscale\":[[0.0,\"#0d0887\"],[0.1111111111111111,\"#46039f\"],[0.2222222222222222,\"#7201a8\"],[0.3333333333333333,\"#9c179e\"],[0.4444444444444444,\"#bd3786\"],[0.5555555555555556,\"#d8576b\"],[0.6666666666666666,\"#ed7953\"],[0.7777777777777778,\"#fb9f3a\"],[0.8888888888888888,\"#fdca26\"],[1.0,\"#f0f921\"]],\"type\":\"heatmap\"}],\"histogram2dcontour\":[{\"colorbar\":{\"outlinewidth\":0,\"ticks\":\"\"},\"colorscale\":[[0.0,\"#0d0887\"],[0.1111111111111111,\"#46039f\"],[0.2222222222222222,\"#7201a8\"],[0.3333333333333333,\"#9c179e\"],[0.4444444444444444,\"#bd3786\"],[0.5555555555555556,\"#d8576b\"],[0.6666666666666666,\"#ed7953\"],[0.7777777777777778,\"#fb9f3a\"],[0.8888888888888888,\"#fdca26\"],[1.0,\"#f0f921\"]],\"type\":\"histogram2dcontour\"}],\"histogram2d\":[{\"colorbar\":{\"outlinewidth\":0,\"ticks\":\"\"},\"colorscale\":[[0.0,\"#0d0887\"],[0.1111111111111111,\"#46039f\"],[0.2222222222222222,\"#7201a8\"],[0.3333333333333333,\"#9c179e\"],[0.4444444444444444,\"#bd3786\"],[0.5555555555555556,\"#d8576b\"],[0.6666666666666666,\"#ed7953\"],[0.7777777777777778,\"#fb9f3a\"],[0.8888888888888888,\"#fdca26\"],[1.0,\"#f0f921\"]],\"type\":\"histogram2d\"}],\"histogram\":[{\"marker\":{\"pattern\":{\"fillmode\":\"overlay\",\"size\":10,\"solidity\":0.2}},\"type\":\"histogram\"}],\"mesh3d\":[{\"colorbar\":{\"outlinewidth\":0,\"ticks\":\"\"},\"type\":\"mesh3d\"}],\"parcoords\":[{\"line\":{\"colorbar\":{\"outlinewidth\":0,\"ticks\":\"\"}},\"type\":\"parcoords\"}],\"pie\":[{\"automargin\":true,\"type\":\"pie\"}],\"scatter3d\":[{\"line\":{\"colorbar\":{\"outlinewidth\":0,\"ticks\":\"\"}},\"marker\":{\"colorbar\":{\"outlinewidth\":0,\"ticks\":\"\"}},\"type\":\"scatter3d\"}],\"scattercarpet\":[{\"marker\":{\"colorbar\":{\"outlinewidth\":0,\"ticks\":\"\"}},\"type\":\"scattercarpet\"}],\"scattergeo\":[{\"marker\":{\"colorbar\":{\"outlinewidth\":0,\"ticks\":\"\"}},\"type\":\"scattergeo\"}],\"scattergl\":[{\"marker\":{\"colorbar\":{\"outlinewidth\":0,\"ticks\":\"\"}},\"type\":\"scattergl\"}],\"scattermapbox\":[{\"marker\":{\"colorbar\":{\"outlinewidth\":0,\"ticks\":\"\"}},\"type\":\"scattermapbox\"}],\"scatterpolargl\":[{\"marker\":{\"colorbar\":{\"outlinewidth\":0,\"ticks\":\"\"}},\"type\":\"scatterpolargl\"}],\"scatterpolar\":[{\"marker\":{\"colorbar\":{\"outlinewidth\":0,\"ticks\":\"\"}},\"type\":\"scatterpolar\"}],\"scatter\":[{\"fillpattern\":{\"fillmode\":\"overlay\",\"size\":10,\"solidity\":0.2},\"type\":\"scatter\"}],\"scatterternary\":[{\"marker\":{\"colorbar\":{\"outlinewidth\":0,\"ticks\":\"\"}},\"type\":\"scatterternary\"}],\"surface\":[{\"colorbar\":{\"outlinewidth\":0,\"ticks\":\"\"},\"colorscale\":[[0.0,\"#0d0887\"],[0.1111111111111111,\"#46039f\"],[0.2222222222222222,\"#7201a8\"],[0.3333333333333333,\"#9c179e\"],[0.4444444444444444,\"#bd3786\"],[0.5555555555555556,\"#d8576b\"],[0.6666666666666666,\"#ed7953\"],[0.7777777777777778,\"#fb9f3a\"],[0.8888888888888888,\"#fdca26\"],[1.0,\"#f0f921\"]],\"type\":\"surface\"}],\"table\":[{\"cells\":{\"fill\":{\"color\":\"#EBF0F8\"},\"line\":{\"color\":\"white\"}},\"header\":{\"fill\":{\"color\":\"#C8D4E3\"},\"line\":{\"color\":\"white\"}},\"type\":\"table\"}]},\"layout\":{\"annotationdefaults\":{\"arrowcolor\":\"#2a3f5f\",\"arrowhead\":0,\"arrowwidth\":1},\"autotypenumbers\":\"strict\",\"coloraxis\":{\"colorbar\":{\"outlinewidth\":0,\"ticks\":\"\"}},\"colorscale\":{\"diverging\":[[0,\"#8e0152\"],[0.1,\"#c51b7d\"],[0.2,\"#de77ae\"],[0.3,\"#f1b6da\"],[0.4,\"#fde0ef\"],[0.5,\"#f7f7f7\"],[0.6,\"#e6f5d0\"],[0.7,\"#b8e186\"],[0.8,\"#7fbc41\"],[0.9,\"#4d9221\"],[1,\"#276419\"]],\"sequential\":[[0.0,\"#0d0887\"],[0.1111111111111111,\"#46039f\"],[0.2222222222222222,\"#7201a8\"],[0.3333333333333333,\"#9c179e\"],[0.4444444444444444,\"#bd3786\"],[0.5555555555555556,\"#d8576b\"],[0.6666666666666666,\"#ed7953\"],[0.7777777777777778,\"#fb9f3a\"],[0.8888888888888888,\"#fdca26\"],[1.0,\"#f0f921\"]],\"sequentialminus\":[[0.0,\"#0d0887\"],[0.1111111111111111,\"#46039f\"],[0.2222222222222222,\"#7201a8\"],[0.3333333333333333,\"#9c179e\"],[0.4444444444444444,\"#bd3786\"],[0.5555555555555556,\"#d8576b\"],[0.6666666666666666,\"#ed7953\"],[0.7777777777777778,\"#fb9f3a\"],[0.8888888888888888,\"#fdca26\"],[1.0,\"#f0f921\"]]},\"colorway\":[\"#636efa\",\"#EF553B\",\"#00cc96\",\"#ab63fa\",\"#FFA15A\",\"#19d3f3\",\"#FF6692\",\"#B6E880\",\"#FF97FF\",\"#FECB52\"],\"font\":{\"color\":\"#2a3f5f\"},\"geo\":{\"bgcolor\":\"white\",\"lakecolor\":\"white\",\"landcolor\":\"#E5ECF6\",\"showlakes\":true,\"showland\":true,\"subunitcolor\":\"white\"},\"hoverlabel\":{\"align\":\"left\"},\"hovermode\":\"closest\",\"mapbox\":{\"style\":\"light\"},\"paper_bgcolor\":\"white\",\"plot_bgcolor\":\"#E5ECF6\",\"polar\":{\"angularaxis\":{\"gridcolor\":\"white\",\"linecolor\":\"white\",\"ticks\":\"\"},\"bgcolor\":\"#E5ECF6\",\"radialaxis\":{\"gridcolor\":\"white\",\"linecolor\":\"white\",\"ticks\":\"\"}},\"scene\":{\"xaxis\":{\"backgroundcolor\":\"#E5ECF6\",\"gridcolor\":\"white\",\"gridwidth\":2,\"linecolor\":\"white\",\"showbackground\":true,\"ticks\":\"\",\"zerolinecolor\":\"white\"},\"yaxis\":{\"backgroundcolor\":\"#E5ECF6\",\"gridcolor\":\"white\",\"gridwidth\":2,\"linecolor\":\"white\",\"showbackground\":true,\"ticks\":\"\",\"zerolinecolor\":\"white\"},\"zaxis\":{\"backgroundcolor\":\"#E5ECF6\",\"gridcolor\":\"white\",\"gridwidth\":2,\"linecolor\":\"white\",\"showbackground\":true,\"ticks\":\"\",\"zerolinecolor\":\"white\"}},\"shapedefaults\":{\"line\":{\"color\":\"#2a3f5f\"}},\"ternary\":{\"aaxis\":{\"gridcolor\":\"white\",\"linecolor\":\"white\",\"ticks\":\"\"},\"baxis\":{\"gridcolor\":\"white\",\"linecolor\":\"white\",\"ticks\":\"\"},\"bgcolor\":\"#E5ECF6\",\"caxis\":{\"gridcolor\":\"white\",\"linecolor\":\"white\",\"ticks\":\"\"}},\"title\":{\"x\":0.05},\"xaxis\":{\"automargin\":true,\"gridcolor\":\"white\",\"linecolor\":\"white\",\"ticks\":\"\",\"title\":{\"standoff\":15},\"zerolinecolor\":\"white\",\"zerolinewidth\":2},\"yaxis\":{\"automargin\":true,\"gridcolor\":\"white\",\"linecolor\":\"white\",\"ticks\":\"\",\"title\":{\"standoff\":15},\"zerolinecolor\":\"white\",\"zerolinewidth\":2}}},\"title\":{\"text\":\"Unique Brands in April and July\"},\"xaxis\":{\"title\":{\"text\":\"Month\"}},\"yaxis\":{\"title\":{\"text\":\"Number of Unique Brands\"}}},                        {\"responsive\": true}                    ).then(function(){\n",
       "                            \n",
       "var gd = document.getElementById('ea925792-c4f2-4d46-82e5-f0c179d7ee4c');\n",
       "var x = new MutationObserver(function (mutations, observer) {{\n",
       "        var display = window.getComputedStyle(gd).display;\n",
       "        if (!display || display === 'none') {{\n",
       "            console.log([gd, 'removed!']);\n",
       "            Plotly.purge(gd);\n",
       "            observer.disconnect();\n",
       "        }}\n",
       "}});\n",
       "\n",
       "// Listen for the removal of the full notebook cells\n",
       "var notebookContainer = gd.closest('#notebook-container');\n",
       "if (notebookContainer) {{\n",
       "    x.observe(notebookContainer, {childList: true});\n",
       "}}\n",
       "\n",
       "// Listen for the clearing of the current output cell\n",
       "var outputEl = gd.closest('.output');\n",
       "if (outputEl) {{\n",
       "    x.observe(outputEl, {childList: true});\n",
       "}}\n",
       "\n",
       "                        })                };                });            </script>        </div>"
      ]
     },
     "metadata": {},
     "output_type": "display_data"
    }
   ],
   "source": [
    "brand_4 = df[df['Month'] == 4]['Brand'].unique()\n",
    "brand_7 = df[df['Month'] == 7]['Brand'].unique()\n",
    "\n",
    "# Count the number of unique brands\n",
    "brand_4_count = len(brand_4)\n",
    "brand_7_count = len(brand_7)\n",
    "\n",
    "# Create bar chart traces\n",
    "trace4 = go.Bar(\n",
    "    x=['Month 4'],\n",
    "    y=[brand_4_count],\n",
    "    name='Month 4',\n",
    "    marker=dict(color='rgba(80, 27, 80, 0.7)')\n",
    ")\n",
    "\n",
    "trace7 = go.Bar(\n",
    "    x=['Month 7'],\n",
    "    y=[brand_7_count],\n",
    "    name='Month 7',\n",
    "    marker=dict(color='rgba(125, 2, 100, 0.6)')\n",
    ")\n",
    "\n",
    "# Combine traces\n",
    "data = [trace4, trace7]\n",
    "\n",
    "# Define layout\n",
    "layout = go.Layout(\n",
    "    barmode='group',\n",
    "    title='Unique Brands in April and July',\n",
    "    xaxis=dict(title='Month'),\n",
    "    yaxis=dict(title='Number of Unique Brands')\n",
    ")\n",
    "\n",
    "# Create figure and plot\n",
    "fig = go.Figure(data=data, layout=layout)\n",
    "iplot(fig)"
   ]
  },
  {
   "cell_type": "code",
   "execution_count": 14,
   "id": "4b81c2aa",
   "metadata": {},
   "outputs": [
    {
     "data": {
      "application/vnd.plotly.v1+json": {
       "config": {
        "linkText": "Export to plot.ly",
        "plotlyServerURL": "https://plot.ly",
        "showLink": false
       },
       "data": [
        {
         "marker": {
          "color": "rgba(80, 27, 80, 0.7)"
         },
         "name": "Month 4",
         "opacity": 0.75,
         "type": "histogram",
         "x": [
          "Thomas-Thompson",
          "Greer and Sons",
          "Griffin, Boyle and Dawson",
          "Arroyo, Jones and Clayton",
          "Taylor-Hutchinson",
          "Hood Inc",
          "Decker Ltd",
          "Watson, Carter and Woodard",
          "Walters, Bennett and Barrett",
          "Jacobs, Shepherd and Green",
          "Hill, Mann and Martinez",
          "Brooks LLC",
          "Harris and Sons",
          "Snyder LLC",
          "Martin-Gardner",
          "Paul, Andersen and Carr",
          "Hoffman PLC",
          "Johnson, Rogers and Daugherty",
          "Stewart, Gutierrez and Avila",
          "Hawkins PLC",
          "Morrison-Andersen",
          "Fitzpatrick-Miller",
          "Kline, Johnson and Hall",
          "Townsend PLC",
          "Santiago, Jones and Bell",
          "Sanders-Estrada",
          "Young, Hill and Morgan",
          "Perez PLC",
          "Esparza-Baker",
          "Galvan, Jenkins and Peck",
          "Williams Ltd",
          "Lopez, Collins and Rosario",
          "Miller Inc",
          "Cooper and Sons",
          "Martinez Ltd",
          "Scott-Davis",
          "White, Ford and Andrews",
          "Wall-Reed",
          "Perry, Thompson and Vargas",
          "Bell Group",
          "Hickman Ltd",
          "Juarez Ltd",
          "Moreno, Dodson and Andrews",
          "Sanders-Baker",
          "Wilson-Beard",
          "Bryant-Lewis",
          "Faulkner, Lewis and Armstrong",
          "Ferguson PLC",
          "Peck Ltd",
          "Torres Inc",
          "Peterson Ltd",
          "Reid-Gilbert",
          "Richardson Group",
          "Henson PLC",
          "Phillips, Foster and Maynard",
          "Jackson Inc",
          "Porter, Taylor and Moore",
          "Hill, Thompson and Anderson",
          "Gomez-Burns",
          "Marsh and Sons",
          "Yu-Smith",
          "Oconnor, Jacobs and Wise",
          "Stein-Bridges",
          "Brennan-Vasquez",
          "Adams-Sanchez",
          "Russell, Watts and Wade",
          "Gonzalez-Horn",
          "Hays LLC",
          "Garrett Group",
          "Adams Group",
          "Valencia and Sons",
          "Washington, Burns and Li",
          "Mata-Burns",
          "Glenn-Fernandez",
          "Moore Ltd",
          "Wilcox and Sons",
          "Escobar and Sons",
          "Vincent, Oneill and Bryant",
          "Roth, Franklin and Hernandez",
          "Lee, Rodgers and Jordan",
          "Cobb LLC",
          "Miller-Cortez",
          "Duncan, Mendoza and Mcdowell",
          "Mclaughlin, Wilson and Hunter",
          "Rosario-Woods",
          "Gillespie-Holland",
          "Hull, Simmons and Robinson",
          "Diaz, Brooks and Dixon",
          "Smith-Tucker",
          "Walker-Bradford",
          "Kirby, Oneill and Carter",
          "Woods-Li",
          "Martin, Burgess and Cameron",
          "Davis-Paul",
          "Holmes, Austin and Davidson",
          "Pittman-Nelson",
          "Johnson-Alvarez",
          "Conway Group",
          "Harris-Bell",
          "Graham-Swanson",
          "Cunningham-Hawkins",
          "Taylor, Huffman and Miller",
          "Berry, Anderson and Hernandez",
          "Ritter-Reed",
          "Mercer-Williams",
          "Evans-Shelton",
          "Byrd-Jones",
          "Duffy-Mcmillan",
          "Santana-Brewer",
          "Fuller-Walters",
          "Robertson, Frye and Frost",
          "Williams LLC",
          "Sampson-Kennedy",
          "Sanchez, Shaw and Acevedo",
          "Cooper-Ross",
          "Miller-Wolfe",
          "Fritz-Tapia",
          "Evans, Clayton and Ross",
          "Dominguez-Franklin",
          "Wolfe-Schroeder",
          "Sanchez PLC",
          "Maddox-Lewis",
          "Jordan-Bass",
          "Wheeler Ltd",
          "Garcia Ltd",
          "Butler, Perkins and Arnold",
          "Gallagher-Parker",
          "Hoover Inc",
          "Robinson-Thompson",
          "Parks PLC",
          "Ferrell Inc",
          "Combs, Wise and Clark",
          "Austin Inc",
          "Blanchard LLC",
          "Castillo Inc",
          "Martinez PLC",
          "Smith and Sons",
          "Aguilar-Campos",
          "Hill Inc"
         ]
        },
        {
         "marker": {
          "color": "rgba(125, 2, 100, 0.6)"
         },
         "name": "Month 7",
         "opacity": 0.75,
         "type": "histogram",
         "x": [
          "Coleman-Pena",
          "Carlson, Mcdonald and Hatfield",
          "Neal-Francis",
          "Burton LLC",
          "Ho-Porter",
          "King, Carpenter and George",
          "Wagner, Burton and Ashley",
          "Smith, Miller and Cooper",
          "Wright-Green",
          "Weaver Ltd",
          "Thompson, Chapman and Jones",
          "Rowland, Monroe and Owen",
          "Alvarado-Carter",
          "Perez LLC",
          "Castro, Briggs and Gilmore",
          "Peterson Inc",
          "Gilbert Inc",
          "Watson-Dougherty",
          "Patton and Sons",
          "Baird-Henderson",
          "Andrews LLC",
          "Hebert Inc",
          "Fleming, Cooper and Wilson",
          "Morris and Sons",
          "Garrett, Schultz and Carlson",
          "Bates, Pearson and Hardy",
          "Cruz, Callahan and Carpenter",
          "Delgado and Sons",
          "Boyle, Collier and Marquez",
          "Peterson PLC",
          "Cabrera-White",
          "Kelly, Esparza and Carson",
          "Anderson, Huff and Sanchez",
          "Jones, Gonzalez and Camacho",
          "Schultz-Baker",
          "Jones-Jones",
          "Ware, May and Lopez",
          "Smith-Williams",
          "Martinez Ltd",
          "Wallace, Turner and Young",
          "Wells, Harris and Bowman",
          "Beck, Choi and Thomas",
          "Hodge LLC",
          "Walton Inc",
          "Edwards Group",
          "Ross, Clark and Webb",
          "Kelly PLC",
          "Finley Group",
          "Wallace-James",
          "Smith PLC",
          "Pittman, Williams and Mejia",
          "Diaz, Ball and Juarez",
          "Garrett, Bush and Butler",
          "Martin-Morales",
          "Wilkinson-Reyes",
          "Branch Ltd",
          "Bailey-Davis",
          "Ross PLC",
          "Rodriguez, Adams and Smith",
          "Jones-Leonard",
          "Taylor-Keller",
          "Ruiz LLC",
          "Foster Ltd",
          "Jones, Phillips and Mckinney",
          "Soto, Hubbard and Kim",
          "Webster-Sullivan",
          "Becker-Smith",
          "White LLC",
          "Browning-Durham",
          "Tanner, Schwartz and Weber",
          "Rivera, Garcia and Lewis",
          "Sanchez Inc",
          "Shaffer, Oliver and Sanchez",
          "Cruz Ltd",
          "Chase Ltd",
          "Rivera-Watson",
          "Banks Group",
          "Wilson-Bailey",
          "Harris, Hamilton and Rose",
          "Peterson, Long and Ward",
          "Jensen-Lowe",
          "Snow, Miller and Phelps",
          "Palmer-Gross",
          "Stewart, Webster and Ford",
          "Aguilar Group",
          "Wolf, Hamilton and Rubio",
          "Velasquez-Baker",
          "Edwards, Mcbride and Gonzalez",
          "Shepard, Montoya and Parks",
          "Shaw-Brown",
          "Flowers-Erickson",
          "Walker-Grant",
          "Black-Hamilton",
          "Adkins, Robertson and Lindsey",
          "Williamson, Martinez and Contreras",
          "Anderson-Burns",
          "Nunez-Smith",
          "Williams, Carrillo and Rice",
          "Smith-Scott",
          "Smith Group",
          "Marquez Ltd",
          "Moyer, Lee and Abbott",
          "Stephens, Cox and Fisher",
          "Mckay PLC",
          "Hanson, Barron and Castillo",
          "Gonzales Ltd",
          "Calhoun Inc",
          "Sanchez PLC",
          "Moran Inc",
          "Harper Ltd",
          "Williams Ltd",
          "Kirby and Sons",
          "Smith, Davis and Gutierrez",
          "Stokes-Mclean",
          "Wagner, Martinez and Dorsey",
          "Williams, Nichols and Oliver",
          "Moore LLC",
          "Wilson, Torres and Rodriguez",
          "Hawkins Group",
          "Gomez LLC",
          "Reeves-Elliott",
          "Carroll, Brown and Bates",
          "Yang-Coleman",
          "Santiago, Yoder and Stevens",
          "Moore-Ingram",
          "Anderson-Cruz",
          "Garcia Group",
          "Lang, Brown and Stone"
         ]
        }
       ],
       "layout": {
        "bargap": 0.2,
        "barmode": "overlay",
        "template": {
         "data": {
          "bar": [
           {
            "error_x": {
             "color": "#2a3f5f"
            },
            "error_y": {
             "color": "#2a3f5f"
            },
            "marker": {
             "line": {
              "color": "#E5ECF6",
              "width": 0.5
             },
             "pattern": {
              "fillmode": "overlay",
              "size": 10,
              "solidity": 0.2
             }
            },
            "type": "bar"
           }
          ],
          "barpolar": [
           {
            "marker": {
             "line": {
              "color": "#E5ECF6",
              "width": 0.5
             },
             "pattern": {
              "fillmode": "overlay",
              "size": 10,
              "solidity": 0.2
             }
            },
            "type": "barpolar"
           }
          ],
          "carpet": [
           {
            "aaxis": {
             "endlinecolor": "#2a3f5f",
             "gridcolor": "white",
             "linecolor": "white",
             "minorgridcolor": "white",
             "startlinecolor": "#2a3f5f"
            },
            "baxis": {
             "endlinecolor": "#2a3f5f",
             "gridcolor": "white",
             "linecolor": "white",
             "minorgridcolor": "white",
             "startlinecolor": "#2a3f5f"
            },
            "type": "carpet"
           }
          ],
          "choropleth": [
           {
            "colorbar": {
             "outlinewidth": 0,
             "ticks": ""
            },
            "type": "choropleth"
           }
          ],
          "contour": [
           {
            "colorbar": {
             "outlinewidth": 0,
             "ticks": ""
            },
            "colorscale": [
             [
              0,
              "#0d0887"
             ],
             [
              0.1111111111111111,
              "#46039f"
             ],
             [
              0.2222222222222222,
              "#7201a8"
             ],
             [
              0.3333333333333333,
              "#9c179e"
             ],
             [
              0.4444444444444444,
              "#bd3786"
             ],
             [
              0.5555555555555556,
              "#d8576b"
             ],
             [
              0.6666666666666666,
              "#ed7953"
             ],
             [
              0.7777777777777778,
              "#fb9f3a"
             ],
             [
              0.8888888888888888,
              "#fdca26"
             ],
             [
              1,
              "#f0f921"
             ]
            ],
            "type": "contour"
           }
          ],
          "contourcarpet": [
           {
            "colorbar": {
             "outlinewidth": 0,
             "ticks": ""
            },
            "type": "contourcarpet"
           }
          ],
          "heatmap": [
           {
            "colorbar": {
             "outlinewidth": 0,
             "ticks": ""
            },
            "colorscale": [
             [
              0,
              "#0d0887"
             ],
             [
              0.1111111111111111,
              "#46039f"
             ],
             [
              0.2222222222222222,
              "#7201a8"
             ],
             [
              0.3333333333333333,
              "#9c179e"
             ],
             [
              0.4444444444444444,
              "#bd3786"
             ],
             [
              0.5555555555555556,
              "#d8576b"
             ],
             [
              0.6666666666666666,
              "#ed7953"
             ],
             [
              0.7777777777777778,
              "#fb9f3a"
             ],
             [
              0.8888888888888888,
              "#fdca26"
             ],
             [
              1,
              "#f0f921"
             ]
            ],
            "type": "heatmap"
           }
          ],
          "heatmapgl": [
           {
            "colorbar": {
             "outlinewidth": 0,
             "ticks": ""
            },
            "colorscale": [
             [
              0,
              "#0d0887"
             ],
             [
              0.1111111111111111,
              "#46039f"
             ],
             [
              0.2222222222222222,
              "#7201a8"
             ],
             [
              0.3333333333333333,
              "#9c179e"
             ],
             [
              0.4444444444444444,
              "#bd3786"
             ],
             [
              0.5555555555555556,
              "#d8576b"
             ],
             [
              0.6666666666666666,
              "#ed7953"
             ],
             [
              0.7777777777777778,
              "#fb9f3a"
             ],
             [
              0.8888888888888888,
              "#fdca26"
             ],
             [
              1,
              "#f0f921"
             ]
            ],
            "type": "heatmapgl"
           }
          ],
          "histogram": [
           {
            "marker": {
             "pattern": {
              "fillmode": "overlay",
              "size": 10,
              "solidity": 0.2
             }
            },
            "type": "histogram"
           }
          ],
          "histogram2d": [
           {
            "colorbar": {
             "outlinewidth": 0,
             "ticks": ""
            },
            "colorscale": [
             [
              0,
              "#0d0887"
             ],
             [
              0.1111111111111111,
              "#46039f"
             ],
             [
              0.2222222222222222,
              "#7201a8"
             ],
             [
              0.3333333333333333,
              "#9c179e"
             ],
             [
              0.4444444444444444,
              "#bd3786"
             ],
             [
              0.5555555555555556,
              "#d8576b"
             ],
             [
              0.6666666666666666,
              "#ed7953"
             ],
             [
              0.7777777777777778,
              "#fb9f3a"
             ],
             [
              0.8888888888888888,
              "#fdca26"
             ],
             [
              1,
              "#f0f921"
             ]
            ],
            "type": "histogram2d"
           }
          ],
          "histogram2dcontour": [
           {
            "colorbar": {
             "outlinewidth": 0,
             "ticks": ""
            },
            "colorscale": [
             [
              0,
              "#0d0887"
             ],
             [
              0.1111111111111111,
              "#46039f"
             ],
             [
              0.2222222222222222,
              "#7201a8"
             ],
             [
              0.3333333333333333,
              "#9c179e"
             ],
             [
              0.4444444444444444,
              "#bd3786"
             ],
             [
              0.5555555555555556,
              "#d8576b"
             ],
             [
              0.6666666666666666,
              "#ed7953"
             ],
             [
              0.7777777777777778,
              "#fb9f3a"
             ],
             [
              0.8888888888888888,
              "#fdca26"
             ],
             [
              1,
              "#f0f921"
             ]
            ],
            "type": "histogram2dcontour"
           }
          ],
          "mesh3d": [
           {
            "colorbar": {
             "outlinewidth": 0,
             "ticks": ""
            },
            "type": "mesh3d"
           }
          ],
          "parcoords": [
           {
            "line": {
             "colorbar": {
              "outlinewidth": 0,
              "ticks": ""
             }
            },
            "type": "parcoords"
           }
          ],
          "pie": [
           {
            "automargin": true,
            "type": "pie"
           }
          ],
          "scatter": [
           {
            "fillpattern": {
             "fillmode": "overlay",
             "size": 10,
             "solidity": 0.2
            },
            "type": "scatter"
           }
          ],
          "scatter3d": [
           {
            "line": {
             "colorbar": {
              "outlinewidth": 0,
              "ticks": ""
             }
            },
            "marker": {
             "colorbar": {
              "outlinewidth": 0,
              "ticks": ""
             }
            },
            "type": "scatter3d"
           }
          ],
          "scattercarpet": [
           {
            "marker": {
             "colorbar": {
              "outlinewidth": 0,
              "ticks": ""
             }
            },
            "type": "scattercarpet"
           }
          ],
          "scattergeo": [
           {
            "marker": {
             "colorbar": {
              "outlinewidth": 0,
              "ticks": ""
             }
            },
            "type": "scattergeo"
           }
          ],
          "scattergl": [
           {
            "marker": {
             "colorbar": {
              "outlinewidth": 0,
              "ticks": ""
             }
            },
            "type": "scattergl"
           }
          ],
          "scattermapbox": [
           {
            "marker": {
             "colorbar": {
              "outlinewidth": 0,
              "ticks": ""
             }
            },
            "type": "scattermapbox"
           }
          ],
          "scatterpolar": [
           {
            "marker": {
             "colorbar": {
              "outlinewidth": 0,
              "ticks": ""
             }
            },
            "type": "scatterpolar"
           }
          ],
          "scatterpolargl": [
           {
            "marker": {
             "colorbar": {
              "outlinewidth": 0,
              "ticks": ""
             }
            },
            "type": "scatterpolargl"
           }
          ],
          "scatterternary": [
           {
            "marker": {
             "colorbar": {
              "outlinewidth": 0,
              "ticks": ""
             }
            },
            "type": "scatterternary"
           }
          ],
          "surface": [
           {
            "colorbar": {
             "outlinewidth": 0,
             "ticks": ""
            },
            "colorscale": [
             [
              0,
              "#0d0887"
             ],
             [
              0.1111111111111111,
              "#46039f"
             ],
             [
              0.2222222222222222,
              "#7201a8"
             ],
             [
              0.3333333333333333,
              "#9c179e"
             ],
             [
              0.4444444444444444,
              "#bd3786"
             ],
             [
              0.5555555555555556,
              "#d8576b"
             ],
             [
              0.6666666666666666,
              "#ed7953"
             ],
             [
              0.7777777777777778,
              "#fb9f3a"
             ],
             [
              0.8888888888888888,
              "#fdca26"
             ],
             [
              1,
              "#f0f921"
             ]
            ],
            "type": "surface"
           }
          ],
          "table": [
           {
            "cells": {
             "fill": {
              "color": "#EBF0F8"
             },
             "line": {
              "color": "white"
             }
            },
            "header": {
             "fill": {
              "color": "#C8D4E3"
             },
             "line": {
              "color": "white"
             }
            },
            "type": "table"
           }
          ]
         },
         "layout": {
          "annotationdefaults": {
           "arrowcolor": "#2a3f5f",
           "arrowhead": 0,
           "arrowwidth": 1
          },
          "autotypenumbers": "strict",
          "coloraxis": {
           "colorbar": {
            "outlinewidth": 0,
            "ticks": ""
           }
          },
          "colorscale": {
           "diverging": [
            [
             0,
             "#8e0152"
            ],
            [
             0.1,
             "#c51b7d"
            ],
            [
             0.2,
             "#de77ae"
            ],
            [
             0.3,
             "#f1b6da"
            ],
            [
             0.4,
             "#fde0ef"
            ],
            [
             0.5,
             "#f7f7f7"
            ],
            [
             0.6,
             "#e6f5d0"
            ],
            [
             0.7,
             "#b8e186"
            ],
            [
             0.8,
             "#7fbc41"
            ],
            [
             0.9,
             "#4d9221"
            ],
            [
             1,
             "#276419"
            ]
           ],
           "sequential": [
            [
             0,
             "#0d0887"
            ],
            [
             0.1111111111111111,
             "#46039f"
            ],
            [
             0.2222222222222222,
             "#7201a8"
            ],
            [
             0.3333333333333333,
             "#9c179e"
            ],
            [
             0.4444444444444444,
             "#bd3786"
            ],
            [
             0.5555555555555556,
             "#d8576b"
            ],
            [
             0.6666666666666666,
             "#ed7953"
            ],
            [
             0.7777777777777778,
             "#fb9f3a"
            ],
            [
             0.8888888888888888,
             "#fdca26"
            ],
            [
             1,
             "#f0f921"
            ]
           ],
           "sequentialminus": [
            [
             0,
             "#0d0887"
            ],
            [
             0.1111111111111111,
             "#46039f"
            ],
            [
             0.2222222222222222,
             "#7201a8"
            ],
            [
             0.3333333333333333,
             "#9c179e"
            ],
            [
             0.4444444444444444,
             "#bd3786"
            ],
            [
             0.5555555555555556,
             "#d8576b"
            ],
            [
             0.6666666666666666,
             "#ed7953"
            ],
            [
             0.7777777777777778,
             "#fb9f3a"
            ],
            [
             0.8888888888888888,
             "#fdca26"
            ],
            [
             1,
             "#f0f921"
            ]
           ]
          },
          "colorway": [
           "#636efa",
           "#EF553B",
           "#00cc96",
           "#ab63fa",
           "#FFA15A",
           "#19d3f3",
           "#FF6692",
           "#B6E880",
           "#FF97FF",
           "#FECB52"
          ],
          "font": {
           "color": "#2a3f5f"
          },
          "geo": {
           "bgcolor": "white",
           "lakecolor": "white",
           "landcolor": "#E5ECF6",
           "showlakes": true,
           "showland": true,
           "subunitcolor": "white"
          },
          "hoverlabel": {
           "align": "left"
          },
          "hovermode": "closest",
          "mapbox": {
           "style": "light"
          },
          "paper_bgcolor": "white",
          "plot_bgcolor": "#E5ECF6",
          "polar": {
           "angularaxis": {
            "gridcolor": "white",
            "linecolor": "white",
            "ticks": ""
           },
           "bgcolor": "#E5ECF6",
           "radialaxis": {
            "gridcolor": "white",
            "linecolor": "white",
            "ticks": ""
           }
          },
          "scene": {
           "xaxis": {
            "backgroundcolor": "#E5ECF6",
            "gridcolor": "white",
            "gridwidth": 2,
            "linecolor": "white",
            "showbackground": true,
            "ticks": "",
            "zerolinecolor": "white"
           },
           "yaxis": {
            "backgroundcolor": "#E5ECF6",
            "gridcolor": "white",
            "gridwidth": 2,
            "linecolor": "white",
            "showbackground": true,
            "ticks": "",
            "zerolinecolor": "white"
           },
           "zaxis": {
            "backgroundcolor": "#E5ECF6",
            "gridcolor": "white",
            "gridwidth": 2,
            "linecolor": "white",
            "showbackground": true,
            "ticks": "",
            "zerolinecolor": "white"
           }
          },
          "shapedefaults": {
           "line": {
            "color": "#2a3f5f"
           }
          },
          "ternary": {
           "aaxis": {
            "gridcolor": "white",
            "linecolor": "white",
            "ticks": ""
           },
           "baxis": {
            "gridcolor": "white",
            "linecolor": "white",
            "ticks": ""
           },
           "bgcolor": "#E5ECF6",
           "caxis": {
            "gridcolor": "white",
            "linecolor": "white",
            "ticks": ""
           }
          },
          "title": {
           "x": 0.05
          },
          "xaxis": {
           "automargin": true,
           "gridcolor": "white",
           "linecolor": "white",
           "ticks": "",
           "title": {
            "standoff": 15
           },
           "zerolinecolor": "white",
           "zerolinewidth": 2
          },
          "yaxis": {
           "automargin": true,
           "gridcolor": "white",
           "linecolor": "white",
           "ticks": "",
           "title": {
            "standoff": 15
           },
           "zerolinecolor": "white",
           "zerolinewidth": 2
          }
         }
        },
        "title": {
         "text": "Distribution of Brands in April and July"
        },
        "xaxis": {
         "title": {
          "text": "Brand"
         }
        },
        "yaxis": {
         "title": {
          "text": "Count"
         }
        }
       }
      },
      "text/html": [
       "<div>                            <div id=\"1da8e332-7fc1-4669-b189-0a43f11c4eaf\" class=\"plotly-graph-div\" style=\"height:525px; width:100%;\"></div>            <script type=\"text/javascript\">                require([\"plotly\"], function(Plotly) {                    window.PLOTLYENV=window.PLOTLYENV || {};                                    if (document.getElementById(\"1da8e332-7fc1-4669-b189-0a43f11c4eaf\")) {                    Plotly.newPlot(                        \"1da8e332-7fc1-4669-b189-0a43f11c4eaf\",                        [{\"marker\":{\"color\":\"rgba(80, 27, 80, 0.7)\"},\"name\":\"Month 4\",\"opacity\":0.75,\"x\":[\"Thomas-Thompson\",\"Greer and Sons\",\"Griffin, Boyle and Dawson\",\"Arroyo, Jones and Clayton\",\"Taylor-Hutchinson\",\"Hood Inc\",\"Decker Ltd\",\"Watson, Carter and Woodard\",\"Walters, Bennett and Barrett\",\"Jacobs, Shepherd and Green\",\"Hill, Mann and Martinez\",\"Brooks LLC\",\"Harris and Sons\",\"Snyder LLC\",\"Martin-Gardner\",\"Paul, Andersen and Carr\",\"Hoffman PLC\",\"Johnson, Rogers and Daugherty\",\"Stewart, Gutierrez and Avila\",\"Hawkins PLC\",\"Morrison-Andersen\",\"Fitzpatrick-Miller\",\"Kline, Johnson and Hall\",\"Townsend PLC\",\"Santiago, Jones and Bell\",\"Sanders-Estrada\",\"Young, Hill and Morgan\",\"Perez PLC\",\"Esparza-Baker\",\"Galvan, Jenkins and Peck\",\"Williams Ltd\",\"Lopez, Collins and Rosario\",\"Miller Inc\",\"Cooper and Sons\",\"Martinez Ltd\",\"Scott-Davis\",\"White, Ford and Andrews\",\"Wall-Reed\",\"Perry, Thompson and Vargas\",\"Bell Group\",\"Hickman Ltd\",\"Juarez Ltd\",\"Moreno, Dodson and Andrews\",\"Sanders-Baker\",\"Wilson-Beard\",\"Bryant-Lewis\",\"Faulkner, Lewis and Armstrong\",\"Ferguson PLC\",\"Peck Ltd\",\"Torres Inc\",\"Peterson Ltd\",\"Reid-Gilbert\",\"Richardson Group\",\"Henson PLC\",\"Phillips, Foster and Maynard\",\"Jackson Inc\",\"Porter, Taylor and Moore\",\"Hill, Thompson and Anderson\",\"Gomez-Burns\",\"Marsh and Sons\",\"Yu-Smith\",\"Oconnor, Jacobs and Wise\",\"Stein-Bridges\",\"Brennan-Vasquez\",\"Adams-Sanchez\",\"Russell, Watts and Wade\",\"Gonzalez-Horn\",\"Hays LLC\",\"Garrett Group\",\"Adams Group\",\"Valencia and Sons\",\"Washington, Burns and Li\",\"Mata-Burns\",\"Glenn-Fernandez\",\"Moore Ltd\",\"Wilcox and Sons\",\"Escobar and Sons\",\"Vincent, Oneill and Bryant\",\"Roth, Franklin and Hernandez\",\"Lee, Rodgers and Jordan\",\"Cobb LLC\",\"Miller-Cortez\",\"Duncan, Mendoza and Mcdowell\",\"Mclaughlin, Wilson and Hunter\",\"Rosario-Woods\",\"Gillespie-Holland\",\"Hull, Simmons and Robinson\",\"Diaz, Brooks and Dixon\",\"Smith-Tucker\",\"Walker-Bradford\",\"Kirby, Oneill and Carter\",\"Woods-Li\",\"Martin, Burgess and Cameron\",\"Davis-Paul\",\"Holmes, Austin and Davidson\",\"Pittman-Nelson\",\"Johnson-Alvarez\",\"Conway Group\",\"Harris-Bell\",\"Graham-Swanson\",\"Cunningham-Hawkins\",\"Taylor, Huffman and Miller\",\"Berry, Anderson and Hernandez\",\"Ritter-Reed\",\"Mercer-Williams\",\"Evans-Shelton\",\"Byrd-Jones\",\"Duffy-Mcmillan\",\"Santana-Brewer\",\"Fuller-Walters\",\"Robertson, Frye and Frost\",\"Williams LLC\",\"Sampson-Kennedy\",\"Sanchez, Shaw and Acevedo\",\"Cooper-Ross\",\"Miller-Wolfe\",\"Fritz-Tapia\",\"Evans, Clayton and Ross\",\"Dominguez-Franklin\",\"Wolfe-Schroeder\",\"Sanchez PLC\",\"Maddox-Lewis\",\"Jordan-Bass\",\"Wheeler Ltd\",\"Garcia Ltd\",\"Butler, Perkins and Arnold\",\"Gallagher-Parker\",\"Hoover Inc\",\"Robinson-Thompson\",\"Parks PLC\",\"Ferrell Inc\",\"Combs, Wise and Clark\",\"Austin Inc\",\"Blanchard LLC\",\"Castillo Inc\",\"Martinez PLC\",\"Smith and Sons\",\"Aguilar-Campos\",\"Hill Inc\"],\"type\":\"histogram\"},{\"marker\":{\"color\":\"rgba(125, 2, 100, 0.6)\"},\"name\":\"Month 7\",\"opacity\":0.75,\"x\":[\"Coleman-Pena\",\"Carlson, Mcdonald and Hatfield\",\"Neal-Francis\",\"Burton LLC\",\"Ho-Porter\",\"King, Carpenter and George\",\"Wagner, Burton and Ashley\",\"Smith, Miller and Cooper\",\"Wright-Green\",\"Weaver Ltd\",\"Thompson, Chapman and Jones\",\"Rowland, Monroe and Owen\",\"Alvarado-Carter\",\"Perez LLC\",\"Castro, Briggs and Gilmore\",\"Peterson Inc\",\"Gilbert Inc\",\"Watson-Dougherty\",\"Patton and Sons\",\"Baird-Henderson\",\"Andrews LLC\",\"Hebert Inc\",\"Fleming, Cooper and Wilson\",\"Morris and Sons\",\"Garrett, Schultz and Carlson\",\"Bates, Pearson and Hardy\",\"Cruz, Callahan and Carpenter\",\"Delgado and Sons\",\"Boyle, Collier and Marquez\",\"Peterson PLC\",\"Cabrera-White\",\"Kelly, Esparza and Carson\",\"Anderson, Huff and Sanchez\",\"Jones, Gonzalez and Camacho\",\"Schultz-Baker\",\"Jones-Jones\",\"Ware, May and Lopez\",\"Smith-Williams\",\"Martinez Ltd\",\"Wallace, Turner and Young\",\"Wells, Harris and Bowman\",\"Beck, Choi and Thomas\",\"Hodge LLC\",\"Walton Inc\",\"Edwards Group\",\"Ross, Clark and Webb\",\"Kelly PLC\",\"Finley Group\",\"Wallace-James\",\"Smith PLC\",\"Pittman, Williams and Mejia\",\"Diaz, Ball and Juarez\",\"Garrett, Bush and Butler\",\"Martin-Morales\",\"Wilkinson-Reyes\",\"Branch Ltd\",\"Bailey-Davis\",\"Ross PLC\",\"Rodriguez, Adams and Smith\",\"Jones-Leonard\",\"Taylor-Keller\",\"Ruiz LLC\",\"Foster Ltd\",\"Jones, Phillips and Mckinney\",\"Soto, Hubbard and Kim\",\"Webster-Sullivan\",\"Becker-Smith\",\"White LLC\",\"Browning-Durham\",\"Tanner, Schwartz and Weber\",\"Rivera, Garcia and Lewis\",\"Sanchez Inc\",\"Shaffer, Oliver and Sanchez\",\"Cruz Ltd\",\"Chase Ltd\",\"Rivera-Watson\",\"Banks Group\",\"Wilson-Bailey\",\"Harris, Hamilton and Rose\",\"Peterson, Long and Ward\",\"Jensen-Lowe\",\"Snow, Miller and Phelps\",\"Palmer-Gross\",\"Stewart, Webster and Ford\",\"Aguilar Group\",\"Wolf, Hamilton and Rubio\",\"Velasquez-Baker\",\"Edwards, Mcbride and Gonzalez\",\"Shepard, Montoya and Parks\",\"Shaw-Brown\",\"Flowers-Erickson\",\"Walker-Grant\",\"Black-Hamilton\",\"Adkins, Robertson and Lindsey\",\"Williamson, Martinez and Contreras\",\"Anderson-Burns\",\"Nunez-Smith\",\"Williams, Carrillo and Rice\",\"Smith-Scott\",\"Smith Group\",\"Marquez Ltd\",\"Moyer, Lee and Abbott\",\"Stephens, Cox and Fisher\",\"Mckay PLC\",\"Hanson, Barron and Castillo\",\"Gonzales Ltd\",\"Calhoun Inc\",\"Sanchez PLC\",\"Moran Inc\",\"Harper Ltd\",\"Williams Ltd\",\"Kirby and Sons\",\"Smith, Davis and Gutierrez\",\"Stokes-Mclean\",\"Wagner, Martinez and Dorsey\",\"Williams, Nichols and Oliver\",\"Moore LLC\",\"Wilson, Torres and Rodriguez\",\"Hawkins Group\",\"Gomez LLC\",\"Reeves-Elliott\",\"Carroll, Brown and Bates\",\"Yang-Coleman\",\"Santiago, Yoder and Stevens\",\"Moore-Ingram\",\"Anderson-Cruz\",\"Garcia Group\",\"Lang, Brown and Stone\"],\"type\":\"histogram\"}],                        {\"bargap\":0.2,\"barmode\":\"overlay\",\"template\":{\"data\":{\"barpolar\":[{\"marker\":{\"line\":{\"color\":\"#E5ECF6\",\"width\":0.5},\"pattern\":{\"fillmode\":\"overlay\",\"size\":10,\"solidity\":0.2}},\"type\":\"barpolar\"}],\"bar\":[{\"error_x\":{\"color\":\"#2a3f5f\"},\"error_y\":{\"color\":\"#2a3f5f\"},\"marker\":{\"line\":{\"color\":\"#E5ECF6\",\"width\":0.5},\"pattern\":{\"fillmode\":\"overlay\",\"size\":10,\"solidity\":0.2}},\"type\":\"bar\"}],\"carpet\":[{\"aaxis\":{\"endlinecolor\":\"#2a3f5f\",\"gridcolor\":\"white\",\"linecolor\":\"white\",\"minorgridcolor\":\"white\",\"startlinecolor\":\"#2a3f5f\"},\"baxis\":{\"endlinecolor\":\"#2a3f5f\",\"gridcolor\":\"white\",\"linecolor\":\"white\",\"minorgridcolor\":\"white\",\"startlinecolor\":\"#2a3f5f\"},\"type\":\"carpet\"}],\"choropleth\":[{\"colorbar\":{\"outlinewidth\":0,\"ticks\":\"\"},\"type\":\"choropleth\"}],\"contourcarpet\":[{\"colorbar\":{\"outlinewidth\":0,\"ticks\":\"\"},\"type\":\"contourcarpet\"}],\"contour\":[{\"colorbar\":{\"outlinewidth\":0,\"ticks\":\"\"},\"colorscale\":[[0.0,\"#0d0887\"],[0.1111111111111111,\"#46039f\"],[0.2222222222222222,\"#7201a8\"],[0.3333333333333333,\"#9c179e\"],[0.4444444444444444,\"#bd3786\"],[0.5555555555555556,\"#d8576b\"],[0.6666666666666666,\"#ed7953\"],[0.7777777777777778,\"#fb9f3a\"],[0.8888888888888888,\"#fdca26\"],[1.0,\"#f0f921\"]],\"type\":\"contour\"}],\"heatmapgl\":[{\"colorbar\":{\"outlinewidth\":0,\"ticks\":\"\"},\"colorscale\":[[0.0,\"#0d0887\"],[0.1111111111111111,\"#46039f\"],[0.2222222222222222,\"#7201a8\"],[0.3333333333333333,\"#9c179e\"],[0.4444444444444444,\"#bd3786\"],[0.5555555555555556,\"#d8576b\"],[0.6666666666666666,\"#ed7953\"],[0.7777777777777778,\"#fb9f3a\"],[0.8888888888888888,\"#fdca26\"],[1.0,\"#f0f921\"]],\"type\":\"heatmapgl\"}],\"heatmap\":[{\"colorbar\":{\"outlinewidth\":0,\"ticks\":\"\"},\"colorscale\":[[0.0,\"#0d0887\"],[0.1111111111111111,\"#46039f\"],[0.2222222222222222,\"#7201a8\"],[0.3333333333333333,\"#9c179e\"],[0.4444444444444444,\"#bd3786\"],[0.5555555555555556,\"#d8576b\"],[0.6666666666666666,\"#ed7953\"],[0.7777777777777778,\"#fb9f3a\"],[0.8888888888888888,\"#fdca26\"],[1.0,\"#f0f921\"]],\"type\":\"heatmap\"}],\"histogram2dcontour\":[{\"colorbar\":{\"outlinewidth\":0,\"ticks\":\"\"},\"colorscale\":[[0.0,\"#0d0887\"],[0.1111111111111111,\"#46039f\"],[0.2222222222222222,\"#7201a8\"],[0.3333333333333333,\"#9c179e\"],[0.4444444444444444,\"#bd3786\"],[0.5555555555555556,\"#d8576b\"],[0.6666666666666666,\"#ed7953\"],[0.7777777777777778,\"#fb9f3a\"],[0.8888888888888888,\"#fdca26\"],[1.0,\"#f0f921\"]],\"type\":\"histogram2dcontour\"}],\"histogram2d\":[{\"colorbar\":{\"outlinewidth\":0,\"ticks\":\"\"},\"colorscale\":[[0.0,\"#0d0887\"],[0.1111111111111111,\"#46039f\"],[0.2222222222222222,\"#7201a8\"],[0.3333333333333333,\"#9c179e\"],[0.4444444444444444,\"#bd3786\"],[0.5555555555555556,\"#d8576b\"],[0.6666666666666666,\"#ed7953\"],[0.7777777777777778,\"#fb9f3a\"],[0.8888888888888888,\"#fdca26\"],[1.0,\"#f0f921\"]],\"type\":\"histogram2d\"}],\"histogram\":[{\"marker\":{\"pattern\":{\"fillmode\":\"overlay\",\"size\":10,\"solidity\":0.2}},\"type\":\"histogram\"}],\"mesh3d\":[{\"colorbar\":{\"outlinewidth\":0,\"ticks\":\"\"},\"type\":\"mesh3d\"}],\"parcoords\":[{\"line\":{\"colorbar\":{\"outlinewidth\":0,\"ticks\":\"\"}},\"type\":\"parcoords\"}],\"pie\":[{\"automargin\":true,\"type\":\"pie\"}],\"scatter3d\":[{\"line\":{\"colorbar\":{\"outlinewidth\":0,\"ticks\":\"\"}},\"marker\":{\"colorbar\":{\"outlinewidth\":0,\"ticks\":\"\"}},\"type\":\"scatter3d\"}],\"scattercarpet\":[{\"marker\":{\"colorbar\":{\"outlinewidth\":0,\"ticks\":\"\"}},\"type\":\"scattercarpet\"}],\"scattergeo\":[{\"marker\":{\"colorbar\":{\"outlinewidth\":0,\"ticks\":\"\"}},\"type\":\"scattergeo\"}],\"scattergl\":[{\"marker\":{\"colorbar\":{\"outlinewidth\":0,\"ticks\":\"\"}},\"type\":\"scattergl\"}],\"scattermapbox\":[{\"marker\":{\"colorbar\":{\"outlinewidth\":0,\"ticks\":\"\"}},\"type\":\"scattermapbox\"}],\"scatterpolargl\":[{\"marker\":{\"colorbar\":{\"outlinewidth\":0,\"ticks\":\"\"}},\"type\":\"scatterpolargl\"}],\"scatterpolar\":[{\"marker\":{\"colorbar\":{\"outlinewidth\":0,\"ticks\":\"\"}},\"type\":\"scatterpolar\"}],\"scatter\":[{\"fillpattern\":{\"fillmode\":\"overlay\",\"size\":10,\"solidity\":0.2},\"type\":\"scatter\"}],\"scatterternary\":[{\"marker\":{\"colorbar\":{\"outlinewidth\":0,\"ticks\":\"\"}},\"type\":\"scatterternary\"}],\"surface\":[{\"colorbar\":{\"outlinewidth\":0,\"ticks\":\"\"},\"colorscale\":[[0.0,\"#0d0887\"],[0.1111111111111111,\"#46039f\"],[0.2222222222222222,\"#7201a8\"],[0.3333333333333333,\"#9c179e\"],[0.4444444444444444,\"#bd3786\"],[0.5555555555555556,\"#d8576b\"],[0.6666666666666666,\"#ed7953\"],[0.7777777777777778,\"#fb9f3a\"],[0.8888888888888888,\"#fdca26\"],[1.0,\"#f0f921\"]],\"type\":\"surface\"}],\"table\":[{\"cells\":{\"fill\":{\"color\":\"#EBF0F8\"},\"line\":{\"color\":\"white\"}},\"header\":{\"fill\":{\"color\":\"#C8D4E3\"},\"line\":{\"color\":\"white\"}},\"type\":\"table\"}]},\"layout\":{\"annotationdefaults\":{\"arrowcolor\":\"#2a3f5f\",\"arrowhead\":0,\"arrowwidth\":1},\"autotypenumbers\":\"strict\",\"coloraxis\":{\"colorbar\":{\"outlinewidth\":0,\"ticks\":\"\"}},\"colorscale\":{\"diverging\":[[0,\"#8e0152\"],[0.1,\"#c51b7d\"],[0.2,\"#de77ae\"],[0.3,\"#f1b6da\"],[0.4,\"#fde0ef\"],[0.5,\"#f7f7f7\"],[0.6,\"#e6f5d0\"],[0.7,\"#b8e186\"],[0.8,\"#7fbc41\"],[0.9,\"#4d9221\"],[1,\"#276419\"]],\"sequential\":[[0.0,\"#0d0887\"],[0.1111111111111111,\"#46039f\"],[0.2222222222222222,\"#7201a8\"],[0.3333333333333333,\"#9c179e\"],[0.4444444444444444,\"#bd3786\"],[0.5555555555555556,\"#d8576b\"],[0.6666666666666666,\"#ed7953\"],[0.7777777777777778,\"#fb9f3a\"],[0.8888888888888888,\"#fdca26\"],[1.0,\"#f0f921\"]],\"sequentialminus\":[[0.0,\"#0d0887\"],[0.1111111111111111,\"#46039f\"],[0.2222222222222222,\"#7201a8\"],[0.3333333333333333,\"#9c179e\"],[0.4444444444444444,\"#bd3786\"],[0.5555555555555556,\"#d8576b\"],[0.6666666666666666,\"#ed7953\"],[0.7777777777777778,\"#fb9f3a\"],[0.8888888888888888,\"#fdca26\"],[1.0,\"#f0f921\"]]},\"colorway\":[\"#636efa\",\"#EF553B\",\"#00cc96\",\"#ab63fa\",\"#FFA15A\",\"#19d3f3\",\"#FF6692\",\"#B6E880\",\"#FF97FF\",\"#FECB52\"],\"font\":{\"color\":\"#2a3f5f\"},\"geo\":{\"bgcolor\":\"white\",\"lakecolor\":\"white\",\"landcolor\":\"#E5ECF6\",\"showlakes\":true,\"showland\":true,\"subunitcolor\":\"white\"},\"hoverlabel\":{\"align\":\"left\"},\"hovermode\":\"closest\",\"mapbox\":{\"style\":\"light\"},\"paper_bgcolor\":\"white\",\"plot_bgcolor\":\"#E5ECF6\",\"polar\":{\"angularaxis\":{\"gridcolor\":\"white\",\"linecolor\":\"white\",\"ticks\":\"\"},\"bgcolor\":\"#E5ECF6\",\"radialaxis\":{\"gridcolor\":\"white\",\"linecolor\":\"white\",\"ticks\":\"\"}},\"scene\":{\"xaxis\":{\"backgroundcolor\":\"#E5ECF6\",\"gridcolor\":\"white\",\"gridwidth\":2,\"linecolor\":\"white\",\"showbackground\":true,\"ticks\":\"\",\"zerolinecolor\":\"white\"},\"yaxis\":{\"backgroundcolor\":\"#E5ECF6\",\"gridcolor\":\"white\",\"gridwidth\":2,\"linecolor\":\"white\",\"showbackground\":true,\"ticks\":\"\",\"zerolinecolor\":\"white\"},\"zaxis\":{\"backgroundcolor\":\"#E5ECF6\",\"gridcolor\":\"white\",\"gridwidth\":2,\"linecolor\":\"white\",\"showbackground\":true,\"ticks\":\"\",\"zerolinecolor\":\"white\"}},\"shapedefaults\":{\"line\":{\"color\":\"#2a3f5f\"}},\"ternary\":{\"aaxis\":{\"gridcolor\":\"white\",\"linecolor\":\"white\",\"ticks\":\"\"},\"baxis\":{\"gridcolor\":\"white\",\"linecolor\":\"white\",\"ticks\":\"\"},\"bgcolor\":\"#E5ECF6\",\"caxis\":{\"gridcolor\":\"white\",\"linecolor\":\"white\",\"ticks\":\"\"}},\"title\":{\"x\":0.05},\"xaxis\":{\"automargin\":true,\"gridcolor\":\"white\",\"linecolor\":\"white\",\"ticks\":\"\",\"title\":{\"standoff\":15},\"zerolinecolor\":\"white\",\"zerolinewidth\":2},\"yaxis\":{\"automargin\":true,\"gridcolor\":\"white\",\"linecolor\":\"white\",\"ticks\":\"\",\"title\":{\"standoff\":15},\"zerolinecolor\":\"white\",\"zerolinewidth\":2}}},\"title\":{\"text\":\"Distribution of Brands in April and July\"},\"xaxis\":{\"title\":{\"text\":\"Brand\"}},\"yaxis\":{\"title\":{\"text\":\"Count\"}}},                        {\"responsive\": true}                    ).then(function(){\n",
       "                            \n",
       "var gd = document.getElementById('1da8e332-7fc1-4669-b189-0a43f11c4eaf');\n",
       "var x = new MutationObserver(function (mutations, observer) {{\n",
       "        var display = window.getComputedStyle(gd).display;\n",
       "        if (!display || display === 'none') {{\n",
       "            console.log([gd, 'removed!']);\n",
       "            Plotly.purge(gd);\n",
       "            observer.disconnect();\n",
       "        }}\n",
       "}});\n",
       "\n",
       "// Listen for the removal of the full notebook cells\n",
       "var notebookContainer = gd.closest('#notebook-container');\n",
       "if (notebookContainer) {{\n",
       "    x.observe(notebookContainer, {childList: true});\n",
       "}}\n",
       "\n",
       "// Listen for the clearing of the current output cell\n",
       "var outputEl = gd.closest('.output');\n",
       "if (outputEl) {{\n",
       "    x.observe(outputEl, {childList: true});\n",
       "}}\n",
       "\n",
       "                        })                };                });            </script>        </div>"
      ]
     },
     "metadata": {},
     "output_type": "display_data"
    }
   ],
   "source": [
    "brand_4 = df[df['Month'] == 4]['Brand']\n",
    "brand_7 = df[df['Month'] == 7]['Brand']\n",
    "\n",
    "# Create histograms for the brands in each month\n",
    "trace4 = go.Histogram(\n",
    "    x=brand_4,\n",
    "    opacity=0.75,\n",
    "    name='Month 4',\n",
    "    marker=dict(color='rgba(80, 27, 80, 0.7)')\n",
    ")\n",
    "\n",
    "trace7 = go.Histogram(\n",
    "    x=brand_7,\n",
    "    opacity=0.75,\n",
    "    name='Month 7',\n",
    "    marker=dict(color='rgba(125, 2, 100, 0.6)')\n",
    ")\n",
    "\n",
    "# Combine the histograms\n",
    "data = [trace4, trace7]\n",
    "\n",
    "# Define layout\n",
    "layout = go.Layout(\n",
    "    barmode='overlay',  # Overlapping bars\n",
    "    title='Distribution of Brands in April and July',\n",
    "    xaxis=dict(title='Brand'),\n",
    "    yaxis=dict(title='Count'),\n",
    "    bargap=0.2  # Space between bars\n",
    ")\n",
    "\n",
    "# Create the figure and plot\n",
    "fig = go.Figure(data=data, layout=layout)\n",
    "iplot(fig)"
   ]
  },
  {
   "cell_type": "code",
   "execution_count": 15,
   "id": "d483ff35",
   "metadata": {},
   "outputs": [
    {
     "data": {
      "application/vnd.plotly.v1+json": {
       "config": {
        "linkText": "Export to plot.ly",
        "plotlyServerURL": "https://plot.ly",
        "showLink": false
       },
       "data": [
        {
         "marker": {
          "color": "rgba(80, 27, 80, 0.7)"
         },
         "name": "Month 4",
         "opacity": 0.75,
         "type": "histogram",
         "x": [
          "Thomas-Thompson",
          "Greer and Sons",
          "Griffin, Boyle and Dawson",
          "Arroyo, Jones and Clayton",
          "Taylor-Hutchinson",
          "Hood Inc",
          "Decker Ltd",
          "Watson, Carter and Woodard",
          "Walters, Bennett and Barrett",
          "Jacobs, Shepherd and Green",
          "Hill, Mann and Martinez",
          "Brooks LLC",
          "Harris and Sons",
          "Snyder LLC",
          "Martin-Gardner",
          "Paul, Andersen and Carr",
          "Hoffman PLC",
          "Johnson, Rogers and Daugherty",
          "Stewart, Gutierrez and Avila",
          "Hawkins PLC",
          "Morrison-Andersen",
          "Fitzpatrick-Miller",
          "Kline, Johnson and Hall",
          "Townsend PLC",
          "Santiago, Jones and Bell",
          "Sanders-Estrada",
          "Young, Hill and Morgan",
          "Perez PLC",
          "Esparza-Baker",
          "Galvan, Jenkins and Peck",
          "Williams Ltd",
          "Lopez, Collins and Rosario",
          "Miller Inc",
          "Cooper and Sons",
          "Martinez Ltd",
          "Scott-Davis",
          "White, Ford and Andrews",
          "Wall-Reed",
          "Perry, Thompson and Vargas",
          "Bell Group",
          "Hickman Ltd",
          "Juarez Ltd",
          "Moreno, Dodson and Andrews",
          "Sanders-Baker",
          "Wilson-Beard",
          "Bryant-Lewis",
          "Faulkner, Lewis and Armstrong",
          "Ferguson PLC",
          "Peck Ltd",
          "Torres Inc",
          "Peterson Ltd",
          "Reid-Gilbert",
          "Richardson Group",
          "Henson PLC",
          "Phillips, Foster and Maynard",
          "Jackson Inc",
          "Porter, Taylor and Moore",
          "Hill, Thompson and Anderson",
          "Gomez-Burns",
          "Marsh and Sons",
          "Yu-Smith",
          "Oconnor, Jacobs and Wise",
          "Stein-Bridges",
          "Brennan-Vasquez",
          "Adams-Sanchez",
          "Russell, Watts and Wade",
          "Gonzalez-Horn",
          "Hays LLC",
          "Garrett Group",
          "Adams Group",
          "Valencia and Sons",
          "Washington, Burns and Li",
          "Mata-Burns",
          "Glenn-Fernandez",
          "Moore Ltd",
          "Wilcox and Sons",
          "Escobar and Sons",
          "Vincent, Oneill and Bryant",
          "Roth, Franklin and Hernandez",
          "Lee, Rodgers and Jordan",
          "Cobb LLC",
          "Miller-Cortez",
          "Duncan, Mendoza and Mcdowell",
          "Mclaughlin, Wilson and Hunter",
          "Rosario-Woods",
          "Gillespie-Holland",
          "Hull, Simmons and Robinson",
          "Diaz, Brooks and Dixon",
          "Smith-Tucker",
          "Walker-Bradford",
          "Kirby, Oneill and Carter",
          "Woods-Li",
          "Martin, Burgess and Cameron",
          "Davis-Paul",
          "Holmes, Austin and Davidson",
          "Pittman-Nelson",
          "Johnson-Alvarez",
          "Conway Group",
          "Harris-Bell",
          "Graham-Swanson",
          "Cunningham-Hawkins",
          "Taylor, Huffman and Miller",
          "Berry, Anderson and Hernandez",
          "Ritter-Reed",
          "Mercer-Williams",
          "Evans-Shelton",
          "Byrd-Jones",
          "Duffy-Mcmillan",
          "Santana-Brewer",
          "Fuller-Walters",
          "Robertson, Frye and Frost",
          "Williams LLC",
          "Sampson-Kennedy",
          "Sanchez, Shaw and Acevedo",
          "Cooper-Ross",
          "Miller-Wolfe",
          "Fritz-Tapia",
          "Evans, Clayton and Ross",
          "Dominguez-Franklin",
          "Wolfe-Schroeder",
          "Sanchez PLC",
          "Maddox-Lewis",
          "Jordan-Bass",
          "Wheeler Ltd",
          "Garcia Ltd",
          "Butler, Perkins and Arnold",
          "Gallagher-Parker",
          "Hoover Inc",
          "Robinson-Thompson",
          "Parks PLC",
          "Ferrell Inc",
          "Combs, Wise and Clark",
          "Austin Inc",
          "Blanchard LLC",
          "Castillo Inc",
          "Martinez PLC",
          "Smith and Sons",
          "Aguilar-Campos",
          "Hill Inc"
         ]
        },
        {
         "marker": {
          "color": "rgba(125, 2, 100, 0.6)"
         },
         "name": "Month 7",
         "opacity": 0.75,
         "type": "histogram",
         "x": [
          "Coleman-Pena",
          "Carlson, Mcdonald and Hatfield",
          "Neal-Francis",
          "Burton LLC",
          "Ho-Porter",
          "King, Carpenter and George",
          "Wagner, Burton and Ashley",
          "Smith, Miller and Cooper",
          "Wright-Green",
          "Weaver Ltd",
          "Thompson, Chapman and Jones",
          "Rowland, Monroe and Owen",
          "Alvarado-Carter",
          "Perez LLC",
          "Castro, Briggs and Gilmore",
          "Peterson Inc",
          "Gilbert Inc",
          "Watson-Dougherty",
          "Patton and Sons",
          "Baird-Henderson",
          "Andrews LLC",
          "Hebert Inc",
          "Fleming, Cooper and Wilson",
          "Morris and Sons",
          "Garrett, Schultz and Carlson",
          "Bates, Pearson and Hardy",
          "Cruz, Callahan and Carpenter",
          "Delgado and Sons",
          "Boyle, Collier and Marquez",
          "Peterson PLC",
          "Cabrera-White",
          "Kelly, Esparza and Carson",
          "Anderson, Huff and Sanchez",
          "Jones, Gonzalez and Camacho",
          "Schultz-Baker",
          "Jones-Jones",
          "Ware, May and Lopez",
          "Smith-Williams",
          "Martinez Ltd",
          "Wallace, Turner and Young",
          "Wells, Harris and Bowman",
          "Beck, Choi and Thomas",
          "Hodge LLC",
          "Walton Inc",
          "Edwards Group",
          "Ross, Clark and Webb",
          "Kelly PLC",
          "Finley Group",
          "Wallace-James",
          "Smith PLC",
          "Pittman, Williams and Mejia",
          "Diaz, Ball and Juarez",
          "Garrett, Bush and Butler",
          "Martin-Morales",
          "Wilkinson-Reyes",
          "Branch Ltd",
          "Bailey-Davis",
          "Ross PLC",
          "Rodriguez, Adams and Smith",
          "Jones-Leonard",
          "Taylor-Keller",
          "Ruiz LLC",
          "Foster Ltd",
          "Jones, Phillips and Mckinney",
          "Soto, Hubbard and Kim",
          "Webster-Sullivan",
          "Becker-Smith",
          "White LLC",
          "Browning-Durham",
          "Tanner, Schwartz and Weber",
          "Rivera, Garcia and Lewis",
          "Sanchez Inc",
          "Shaffer, Oliver and Sanchez",
          "Cruz Ltd",
          "Chase Ltd",
          "Rivera-Watson",
          "Banks Group",
          "Wilson-Bailey",
          "Harris, Hamilton and Rose",
          "Peterson, Long and Ward",
          "Jensen-Lowe",
          "Snow, Miller and Phelps",
          "Palmer-Gross",
          "Stewart, Webster and Ford",
          "Aguilar Group",
          "Wolf, Hamilton and Rubio",
          "Velasquez-Baker",
          "Edwards, Mcbride and Gonzalez",
          "Shepard, Montoya and Parks",
          "Shaw-Brown",
          "Flowers-Erickson",
          "Walker-Grant",
          "Black-Hamilton",
          "Adkins, Robertson and Lindsey",
          "Williamson, Martinez and Contreras",
          "Anderson-Burns",
          "Nunez-Smith",
          "Williams, Carrillo and Rice",
          "Smith-Scott",
          "Smith Group",
          "Marquez Ltd",
          "Moyer, Lee and Abbott",
          "Stephens, Cox and Fisher",
          "Mckay PLC",
          "Hanson, Barron and Castillo",
          "Gonzales Ltd",
          "Calhoun Inc",
          "Sanchez PLC",
          "Moran Inc",
          "Harper Ltd",
          "Williams Ltd",
          "Kirby and Sons",
          "Smith, Davis and Gutierrez",
          "Stokes-Mclean",
          "Wagner, Martinez and Dorsey",
          "Williams, Nichols and Oliver",
          "Moore LLC",
          "Wilson, Torres and Rodriguez",
          "Hawkins Group",
          "Gomez LLC",
          "Reeves-Elliott",
          "Carroll, Brown and Bates",
          "Yang-Coleman",
          "Santiago, Yoder and Stevens",
          "Moore-Ingram",
          "Anderson-Cruz",
          "Garcia Group",
          "Lang, Brown and Stone"
         ]
        }
       ],
       "layout": {
        "bargap": 0.2,
        "barmode": "overlay",
        "template": {
         "data": {
          "bar": [
           {
            "error_x": {
             "color": "#2a3f5f"
            },
            "error_y": {
             "color": "#2a3f5f"
            },
            "marker": {
             "line": {
              "color": "#E5ECF6",
              "width": 0.5
             },
             "pattern": {
              "fillmode": "overlay",
              "size": 10,
              "solidity": 0.2
             }
            },
            "type": "bar"
           }
          ],
          "barpolar": [
           {
            "marker": {
             "line": {
              "color": "#E5ECF6",
              "width": 0.5
             },
             "pattern": {
              "fillmode": "overlay",
              "size": 10,
              "solidity": 0.2
             }
            },
            "type": "barpolar"
           }
          ],
          "carpet": [
           {
            "aaxis": {
             "endlinecolor": "#2a3f5f",
             "gridcolor": "white",
             "linecolor": "white",
             "minorgridcolor": "white",
             "startlinecolor": "#2a3f5f"
            },
            "baxis": {
             "endlinecolor": "#2a3f5f",
             "gridcolor": "white",
             "linecolor": "white",
             "minorgridcolor": "white",
             "startlinecolor": "#2a3f5f"
            },
            "type": "carpet"
           }
          ],
          "choropleth": [
           {
            "colorbar": {
             "outlinewidth": 0,
             "ticks": ""
            },
            "type": "choropleth"
           }
          ],
          "contour": [
           {
            "colorbar": {
             "outlinewidth": 0,
             "ticks": ""
            },
            "colorscale": [
             [
              0,
              "#0d0887"
             ],
             [
              0.1111111111111111,
              "#46039f"
             ],
             [
              0.2222222222222222,
              "#7201a8"
             ],
             [
              0.3333333333333333,
              "#9c179e"
             ],
             [
              0.4444444444444444,
              "#bd3786"
             ],
             [
              0.5555555555555556,
              "#d8576b"
             ],
             [
              0.6666666666666666,
              "#ed7953"
             ],
             [
              0.7777777777777778,
              "#fb9f3a"
             ],
             [
              0.8888888888888888,
              "#fdca26"
             ],
             [
              1,
              "#f0f921"
             ]
            ],
            "type": "contour"
           }
          ],
          "contourcarpet": [
           {
            "colorbar": {
             "outlinewidth": 0,
             "ticks": ""
            },
            "type": "contourcarpet"
           }
          ],
          "heatmap": [
           {
            "colorbar": {
             "outlinewidth": 0,
             "ticks": ""
            },
            "colorscale": [
             [
              0,
              "#0d0887"
             ],
             [
              0.1111111111111111,
              "#46039f"
             ],
             [
              0.2222222222222222,
              "#7201a8"
             ],
             [
              0.3333333333333333,
              "#9c179e"
             ],
             [
              0.4444444444444444,
              "#bd3786"
             ],
             [
              0.5555555555555556,
              "#d8576b"
             ],
             [
              0.6666666666666666,
              "#ed7953"
             ],
             [
              0.7777777777777778,
              "#fb9f3a"
             ],
             [
              0.8888888888888888,
              "#fdca26"
             ],
             [
              1,
              "#f0f921"
             ]
            ],
            "type": "heatmap"
           }
          ],
          "heatmapgl": [
           {
            "colorbar": {
             "outlinewidth": 0,
             "ticks": ""
            },
            "colorscale": [
             [
              0,
              "#0d0887"
             ],
             [
              0.1111111111111111,
              "#46039f"
             ],
             [
              0.2222222222222222,
              "#7201a8"
             ],
             [
              0.3333333333333333,
              "#9c179e"
             ],
             [
              0.4444444444444444,
              "#bd3786"
             ],
             [
              0.5555555555555556,
              "#d8576b"
             ],
             [
              0.6666666666666666,
              "#ed7953"
             ],
             [
              0.7777777777777778,
              "#fb9f3a"
             ],
             [
              0.8888888888888888,
              "#fdca26"
             ],
             [
              1,
              "#f0f921"
             ]
            ],
            "type": "heatmapgl"
           }
          ],
          "histogram": [
           {
            "marker": {
             "pattern": {
              "fillmode": "overlay",
              "size": 10,
              "solidity": 0.2
             }
            },
            "type": "histogram"
           }
          ],
          "histogram2d": [
           {
            "colorbar": {
             "outlinewidth": 0,
             "ticks": ""
            },
            "colorscale": [
             [
              0,
              "#0d0887"
             ],
             [
              0.1111111111111111,
              "#46039f"
             ],
             [
              0.2222222222222222,
              "#7201a8"
             ],
             [
              0.3333333333333333,
              "#9c179e"
             ],
             [
              0.4444444444444444,
              "#bd3786"
             ],
             [
              0.5555555555555556,
              "#d8576b"
             ],
             [
              0.6666666666666666,
              "#ed7953"
             ],
             [
              0.7777777777777778,
              "#fb9f3a"
             ],
             [
              0.8888888888888888,
              "#fdca26"
             ],
             [
              1,
              "#f0f921"
             ]
            ],
            "type": "histogram2d"
           }
          ],
          "histogram2dcontour": [
           {
            "colorbar": {
             "outlinewidth": 0,
             "ticks": ""
            },
            "colorscale": [
             [
              0,
              "#0d0887"
             ],
             [
              0.1111111111111111,
              "#46039f"
             ],
             [
              0.2222222222222222,
              "#7201a8"
             ],
             [
              0.3333333333333333,
              "#9c179e"
             ],
             [
              0.4444444444444444,
              "#bd3786"
             ],
             [
              0.5555555555555556,
              "#d8576b"
             ],
             [
              0.6666666666666666,
              "#ed7953"
             ],
             [
              0.7777777777777778,
              "#fb9f3a"
             ],
             [
              0.8888888888888888,
              "#fdca26"
             ],
             [
              1,
              "#f0f921"
             ]
            ],
            "type": "histogram2dcontour"
           }
          ],
          "mesh3d": [
           {
            "colorbar": {
             "outlinewidth": 0,
             "ticks": ""
            },
            "type": "mesh3d"
           }
          ],
          "parcoords": [
           {
            "line": {
             "colorbar": {
              "outlinewidth": 0,
              "ticks": ""
             }
            },
            "type": "parcoords"
           }
          ],
          "pie": [
           {
            "automargin": true,
            "type": "pie"
           }
          ],
          "scatter": [
           {
            "fillpattern": {
             "fillmode": "overlay",
             "size": 10,
             "solidity": 0.2
            },
            "type": "scatter"
           }
          ],
          "scatter3d": [
           {
            "line": {
             "colorbar": {
              "outlinewidth": 0,
              "ticks": ""
             }
            },
            "marker": {
             "colorbar": {
              "outlinewidth": 0,
              "ticks": ""
             }
            },
            "type": "scatter3d"
           }
          ],
          "scattercarpet": [
           {
            "marker": {
             "colorbar": {
              "outlinewidth": 0,
              "ticks": ""
             }
            },
            "type": "scattercarpet"
           }
          ],
          "scattergeo": [
           {
            "marker": {
             "colorbar": {
              "outlinewidth": 0,
              "ticks": ""
             }
            },
            "type": "scattergeo"
           }
          ],
          "scattergl": [
           {
            "marker": {
             "colorbar": {
              "outlinewidth": 0,
              "ticks": ""
             }
            },
            "type": "scattergl"
           }
          ],
          "scattermapbox": [
           {
            "marker": {
             "colorbar": {
              "outlinewidth": 0,
              "ticks": ""
             }
            },
            "type": "scattermapbox"
           }
          ],
          "scatterpolar": [
           {
            "marker": {
             "colorbar": {
              "outlinewidth": 0,
              "ticks": ""
             }
            },
            "type": "scatterpolar"
           }
          ],
          "scatterpolargl": [
           {
            "marker": {
             "colorbar": {
              "outlinewidth": 0,
              "ticks": ""
             }
            },
            "type": "scatterpolargl"
           }
          ],
          "scatterternary": [
           {
            "marker": {
             "colorbar": {
              "outlinewidth": 0,
              "ticks": ""
             }
            },
            "type": "scatterternary"
           }
          ],
          "surface": [
           {
            "colorbar": {
             "outlinewidth": 0,
             "ticks": ""
            },
            "colorscale": [
             [
              0,
              "#0d0887"
             ],
             [
              0.1111111111111111,
              "#46039f"
             ],
             [
              0.2222222222222222,
              "#7201a8"
             ],
             [
              0.3333333333333333,
              "#9c179e"
             ],
             [
              0.4444444444444444,
              "#bd3786"
             ],
             [
              0.5555555555555556,
              "#d8576b"
             ],
             [
              0.6666666666666666,
              "#ed7953"
             ],
             [
              0.7777777777777778,
              "#fb9f3a"
             ],
             [
              0.8888888888888888,
              "#fdca26"
             ],
             [
              1,
              "#f0f921"
             ]
            ],
            "type": "surface"
           }
          ],
          "table": [
           {
            "cells": {
             "fill": {
              "color": "#EBF0F8"
             },
             "line": {
              "color": "white"
             }
            },
            "header": {
             "fill": {
              "color": "#C8D4E3"
             },
             "line": {
              "color": "white"
             }
            },
            "type": "table"
           }
          ]
         },
         "layout": {
          "annotationdefaults": {
           "arrowcolor": "#2a3f5f",
           "arrowhead": 0,
           "arrowwidth": 1
          },
          "autotypenumbers": "strict",
          "coloraxis": {
           "colorbar": {
            "outlinewidth": 0,
            "ticks": ""
           }
          },
          "colorscale": {
           "diverging": [
            [
             0,
             "#8e0152"
            ],
            [
             0.1,
             "#c51b7d"
            ],
            [
             0.2,
             "#de77ae"
            ],
            [
             0.3,
             "#f1b6da"
            ],
            [
             0.4,
             "#fde0ef"
            ],
            [
             0.5,
             "#f7f7f7"
            ],
            [
             0.6,
             "#e6f5d0"
            ],
            [
             0.7,
             "#b8e186"
            ],
            [
             0.8,
             "#7fbc41"
            ],
            [
             0.9,
             "#4d9221"
            ],
            [
             1,
             "#276419"
            ]
           ],
           "sequential": [
            [
             0,
             "#0d0887"
            ],
            [
             0.1111111111111111,
             "#46039f"
            ],
            [
             0.2222222222222222,
             "#7201a8"
            ],
            [
             0.3333333333333333,
             "#9c179e"
            ],
            [
             0.4444444444444444,
             "#bd3786"
            ],
            [
             0.5555555555555556,
             "#d8576b"
            ],
            [
             0.6666666666666666,
             "#ed7953"
            ],
            [
             0.7777777777777778,
             "#fb9f3a"
            ],
            [
             0.8888888888888888,
             "#fdca26"
            ],
            [
             1,
             "#f0f921"
            ]
           ],
           "sequentialminus": [
            [
             0,
             "#0d0887"
            ],
            [
             0.1111111111111111,
             "#46039f"
            ],
            [
             0.2222222222222222,
             "#7201a8"
            ],
            [
             0.3333333333333333,
             "#9c179e"
            ],
            [
             0.4444444444444444,
             "#bd3786"
            ],
            [
             0.5555555555555556,
             "#d8576b"
            ],
            [
             0.6666666666666666,
             "#ed7953"
            ],
            [
             0.7777777777777778,
             "#fb9f3a"
            ],
            [
             0.8888888888888888,
             "#fdca26"
            ],
            [
             1,
             "#f0f921"
            ]
           ]
          },
          "colorway": [
           "#636efa",
           "#EF553B",
           "#00cc96",
           "#ab63fa",
           "#FFA15A",
           "#19d3f3",
           "#FF6692",
           "#B6E880",
           "#FF97FF",
           "#FECB52"
          ],
          "font": {
           "color": "#2a3f5f"
          },
          "geo": {
           "bgcolor": "white",
           "lakecolor": "white",
           "landcolor": "#E5ECF6",
           "showlakes": true,
           "showland": true,
           "subunitcolor": "white"
          },
          "hoverlabel": {
           "align": "left"
          },
          "hovermode": "closest",
          "mapbox": {
           "style": "light"
          },
          "paper_bgcolor": "white",
          "plot_bgcolor": "#E5ECF6",
          "polar": {
           "angularaxis": {
            "gridcolor": "white",
            "linecolor": "white",
            "ticks": ""
           },
           "bgcolor": "#E5ECF6",
           "radialaxis": {
            "gridcolor": "white",
            "linecolor": "white",
            "ticks": ""
           }
          },
          "scene": {
           "xaxis": {
            "backgroundcolor": "#E5ECF6",
            "gridcolor": "white",
            "gridwidth": 2,
            "linecolor": "white",
            "showbackground": true,
            "ticks": "",
            "zerolinecolor": "white"
           },
           "yaxis": {
            "backgroundcolor": "#E5ECF6",
            "gridcolor": "white",
            "gridwidth": 2,
            "linecolor": "white",
            "showbackground": true,
            "ticks": "",
            "zerolinecolor": "white"
           },
           "zaxis": {
            "backgroundcolor": "#E5ECF6",
            "gridcolor": "white",
            "gridwidth": 2,
            "linecolor": "white",
            "showbackground": true,
            "ticks": "",
            "zerolinecolor": "white"
           }
          },
          "shapedefaults": {
           "line": {
            "color": "#2a3f5f"
           }
          },
          "ternary": {
           "aaxis": {
            "gridcolor": "white",
            "linecolor": "white",
            "ticks": ""
           },
           "baxis": {
            "gridcolor": "white",
            "linecolor": "white",
            "ticks": ""
           },
           "bgcolor": "#E5ECF6",
           "caxis": {
            "gridcolor": "white",
            "linecolor": "white",
            "ticks": ""
           }
          },
          "title": {
           "x": 0.05
          },
          "xaxis": {
           "automargin": true,
           "gridcolor": "white",
           "linecolor": "white",
           "ticks": "",
           "title": {
            "standoff": 15
           },
           "zerolinecolor": "white",
           "zerolinewidth": 2
          },
          "yaxis": {
           "automargin": true,
           "gridcolor": "white",
           "linecolor": "white",
           "ticks": "",
           "title": {
            "standoff": 15
           },
           "zerolinecolor": "white",
           "zerolinewidth": 2
          }
         }
        },
        "title": {
         "text": "Distribution of Brands in April and July"
        },
        "xaxis": {
         "title": {
          "text": "Brand"
         }
        },
        "yaxis": {
         "title": {
          "text": "Count"
         }
        }
       }
      },
      "text/html": [
       "<div>                            <div id=\"d886b372-28b7-479a-ab67-fd0c41dd37de\" class=\"plotly-graph-div\" style=\"height:525px; width:100%;\"></div>            <script type=\"text/javascript\">                require([\"plotly\"], function(Plotly) {                    window.PLOTLYENV=window.PLOTLYENV || {};                                    if (document.getElementById(\"d886b372-28b7-479a-ab67-fd0c41dd37de\")) {                    Plotly.newPlot(                        \"d886b372-28b7-479a-ab67-fd0c41dd37de\",                        [{\"marker\":{\"color\":\"rgba(80, 27, 80, 0.7)\"},\"name\":\"Month 4\",\"opacity\":0.75,\"x\":[\"Thomas-Thompson\",\"Greer and Sons\",\"Griffin, Boyle and Dawson\",\"Arroyo, Jones and Clayton\",\"Taylor-Hutchinson\",\"Hood Inc\",\"Decker Ltd\",\"Watson, Carter and Woodard\",\"Walters, Bennett and Barrett\",\"Jacobs, Shepherd and Green\",\"Hill, Mann and Martinez\",\"Brooks LLC\",\"Harris and Sons\",\"Snyder LLC\",\"Martin-Gardner\",\"Paul, Andersen and Carr\",\"Hoffman PLC\",\"Johnson, Rogers and Daugherty\",\"Stewart, Gutierrez and Avila\",\"Hawkins PLC\",\"Morrison-Andersen\",\"Fitzpatrick-Miller\",\"Kline, Johnson and Hall\",\"Townsend PLC\",\"Santiago, Jones and Bell\",\"Sanders-Estrada\",\"Young, Hill and Morgan\",\"Perez PLC\",\"Esparza-Baker\",\"Galvan, Jenkins and Peck\",\"Williams Ltd\",\"Lopez, Collins and Rosario\",\"Miller Inc\",\"Cooper and Sons\",\"Martinez Ltd\",\"Scott-Davis\",\"White, Ford and Andrews\",\"Wall-Reed\",\"Perry, Thompson and Vargas\",\"Bell Group\",\"Hickman Ltd\",\"Juarez Ltd\",\"Moreno, Dodson and Andrews\",\"Sanders-Baker\",\"Wilson-Beard\",\"Bryant-Lewis\",\"Faulkner, Lewis and Armstrong\",\"Ferguson PLC\",\"Peck Ltd\",\"Torres Inc\",\"Peterson Ltd\",\"Reid-Gilbert\",\"Richardson Group\",\"Henson PLC\",\"Phillips, Foster and Maynard\",\"Jackson Inc\",\"Porter, Taylor and Moore\",\"Hill, Thompson and Anderson\",\"Gomez-Burns\",\"Marsh and Sons\",\"Yu-Smith\",\"Oconnor, Jacobs and Wise\",\"Stein-Bridges\",\"Brennan-Vasquez\",\"Adams-Sanchez\",\"Russell, Watts and Wade\",\"Gonzalez-Horn\",\"Hays LLC\",\"Garrett Group\",\"Adams Group\",\"Valencia and Sons\",\"Washington, Burns and Li\",\"Mata-Burns\",\"Glenn-Fernandez\",\"Moore Ltd\",\"Wilcox and Sons\",\"Escobar and Sons\",\"Vincent, Oneill and Bryant\",\"Roth, Franklin and Hernandez\",\"Lee, Rodgers and Jordan\",\"Cobb LLC\",\"Miller-Cortez\",\"Duncan, Mendoza and Mcdowell\",\"Mclaughlin, Wilson and Hunter\",\"Rosario-Woods\",\"Gillespie-Holland\",\"Hull, Simmons and Robinson\",\"Diaz, Brooks and Dixon\",\"Smith-Tucker\",\"Walker-Bradford\",\"Kirby, Oneill and Carter\",\"Woods-Li\",\"Martin, Burgess and Cameron\",\"Davis-Paul\",\"Holmes, Austin and Davidson\",\"Pittman-Nelson\",\"Johnson-Alvarez\",\"Conway Group\",\"Harris-Bell\",\"Graham-Swanson\",\"Cunningham-Hawkins\",\"Taylor, Huffman and Miller\",\"Berry, Anderson and Hernandez\",\"Ritter-Reed\",\"Mercer-Williams\",\"Evans-Shelton\",\"Byrd-Jones\",\"Duffy-Mcmillan\",\"Santana-Brewer\",\"Fuller-Walters\",\"Robertson, Frye and Frost\",\"Williams LLC\",\"Sampson-Kennedy\",\"Sanchez, Shaw and Acevedo\",\"Cooper-Ross\",\"Miller-Wolfe\",\"Fritz-Tapia\",\"Evans, Clayton and Ross\",\"Dominguez-Franklin\",\"Wolfe-Schroeder\",\"Sanchez PLC\",\"Maddox-Lewis\",\"Jordan-Bass\",\"Wheeler Ltd\",\"Garcia Ltd\",\"Butler, Perkins and Arnold\",\"Gallagher-Parker\",\"Hoover Inc\",\"Robinson-Thompson\",\"Parks PLC\",\"Ferrell Inc\",\"Combs, Wise and Clark\",\"Austin Inc\",\"Blanchard LLC\",\"Castillo Inc\",\"Martinez PLC\",\"Smith and Sons\",\"Aguilar-Campos\",\"Hill Inc\"],\"type\":\"histogram\"},{\"marker\":{\"color\":\"rgba(125, 2, 100, 0.6)\"},\"name\":\"Month 7\",\"opacity\":0.75,\"x\":[\"Coleman-Pena\",\"Carlson, Mcdonald and Hatfield\",\"Neal-Francis\",\"Burton LLC\",\"Ho-Porter\",\"King, Carpenter and George\",\"Wagner, Burton and Ashley\",\"Smith, Miller and Cooper\",\"Wright-Green\",\"Weaver Ltd\",\"Thompson, Chapman and Jones\",\"Rowland, Monroe and Owen\",\"Alvarado-Carter\",\"Perez LLC\",\"Castro, Briggs and Gilmore\",\"Peterson Inc\",\"Gilbert Inc\",\"Watson-Dougherty\",\"Patton and Sons\",\"Baird-Henderson\",\"Andrews LLC\",\"Hebert Inc\",\"Fleming, Cooper and Wilson\",\"Morris and Sons\",\"Garrett, Schultz and Carlson\",\"Bates, Pearson and Hardy\",\"Cruz, Callahan and Carpenter\",\"Delgado and Sons\",\"Boyle, Collier and Marquez\",\"Peterson PLC\",\"Cabrera-White\",\"Kelly, Esparza and Carson\",\"Anderson, Huff and Sanchez\",\"Jones, Gonzalez and Camacho\",\"Schultz-Baker\",\"Jones-Jones\",\"Ware, May and Lopez\",\"Smith-Williams\",\"Martinez Ltd\",\"Wallace, Turner and Young\",\"Wells, Harris and Bowman\",\"Beck, Choi and Thomas\",\"Hodge LLC\",\"Walton Inc\",\"Edwards Group\",\"Ross, Clark and Webb\",\"Kelly PLC\",\"Finley Group\",\"Wallace-James\",\"Smith PLC\",\"Pittman, Williams and Mejia\",\"Diaz, Ball and Juarez\",\"Garrett, Bush and Butler\",\"Martin-Morales\",\"Wilkinson-Reyes\",\"Branch Ltd\",\"Bailey-Davis\",\"Ross PLC\",\"Rodriguez, Adams and Smith\",\"Jones-Leonard\",\"Taylor-Keller\",\"Ruiz LLC\",\"Foster Ltd\",\"Jones, Phillips and Mckinney\",\"Soto, Hubbard and Kim\",\"Webster-Sullivan\",\"Becker-Smith\",\"White LLC\",\"Browning-Durham\",\"Tanner, Schwartz and Weber\",\"Rivera, Garcia and Lewis\",\"Sanchez Inc\",\"Shaffer, Oliver and Sanchez\",\"Cruz Ltd\",\"Chase Ltd\",\"Rivera-Watson\",\"Banks Group\",\"Wilson-Bailey\",\"Harris, Hamilton and Rose\",\"Peterson, Long and Ward\",\"Jensen-Lowe\",\"Snow, Miller and Phelps\",\"Palmer-Gross\",\"Stewart, Webster and Ford\",\"Aguilar Group\",\"Wolf, Hamilton and Rubio\",\"Velasquez-Baker\",\"Edwards, Mcbride and Gonzalez\",\"Shepard, Montoya and Parks\",\"Shaw-Brown\",\"Flowers-Erickson\",\"Walker-Grant\",\"Black-Hamilton\",\"Adkins, Robertson and Lindsey\",\"Williamson, Martinez and Contreras\",\"Anderson-Burns\",\"Nunez-Smith\",\"Williams, Carrillo and Rice\",\"Smith-Scott\",\"Smith Group\",\"Marquez Ltd\",\"Moyer, Lee and Abbott\",\"Stephens, Cox and Fisher\",\"Mckay PLC\",\"Hanson, Barron and Castillo\",\"Gonzales Ltd\",\"Calhoun Inc\",\"Sanchez PLC\",\"Moran Inc\",\"Harper Ltd\",\"Williams Ltd\",\"Kirby and Sons\",\"Smith, Davis and Gutierrez\",\"Stokes-Mclean\",\"Wagner, Martinez and Dorsey\",\"Williams, Nichols and Oliver\",\"Moore LLC\",\"Wilson, Torres and Rodriguez\",\"Hawkins Group\",\"Gomez LLC\",\"Reeves-Elliott\",\"Carroll, Brown and Bates\",\"Yang-Coleman\",\"Santiago, Yoder and Stevens\",\"Moore-Ingram\",\"Anderson-Cruz\",\"Garcia Group\",\"Lang, Brown and Stone\"],\"type\":\"histogram\"}],                        {\"bargap\":0.2,\"barmode\":\"overlay\",\"template\":{\"data\":{\"barpolar\":[{\"marker\":{\"line\":{\"color\":\"#E5ECF6\",\"width\":0.5},\"pattern\":{\"fillmode\":\"overlay\",\"size\":10,\"solidity\":0.2}},\"type\":\"barpolar\"}],\"bar\":[{\"error_x\":{\"color\":\"#2a3f5f\"},\"error_y\":{\"color\":\"#2a3f5f\"},\"marker\":{\"line\":{\"color\":\"#E5ECF6\",\"width\":0.5},\"pattern\":{\"fillmode\":\"overlay\",\"size\":10,\"solidity\":0.2}},\"type\":\"bar\"}],\"carpet\":[{\"aaxis\":{\"endlinecolor\":\"#2a3f5f\",\"gridcolor\":\"white\",\"linecolor\":\"white\",\"minorgridcolor\":\"white\",\"startlinecolor\":\"#2a3f5f\"},\"baxis\":{\"endlinecolor\":\"#2a3f5f\",\"gridcolor\":\"white\",\"linecolor\":\"white\",\"minorgridcolor\":\"white\",\"startlinecolor\":\"#2a3f5f\"},\"type\":\"carpet\"}],\"choropleth\":[{\"colorbar\":{\"outlinewidth\":0,\"ticks\":\"\"},\"type\":\"choropleth\"}],\"contourcarpet\":[{\"colorbar\":{\"outlinewidth\":0,\"ticks\":\"\"},\"type\":\"contourcarpet\"}],\"contour\":[{\"colorbar\":{\"outlinewidth\":0,\"ticks\":\"\"},\"colorscale\":[[0.0,\"#0d0887\"],[0.1111111111111111,\"#46039f\"],[0.2222222222222222,\"#7201a8\"],[0.3333333333333333,\"#9c179e\"],[0.4444444444444444,\"#bd3786\"],[0.5555555555555556,\"#d8576b\"],[0.6666666666666666,\"#ed7953\"],[0.7777777777777778,\"#fb9f3a\"],[0.8888888888888888,\"#fdca26\"],[1.0,\"#f0f921\"]],\"type\":\"contour\"}],\"heatmapgl\":[{\"colorbar\":{\"outlinewidth\":0,\"ticks\":\"\"},\"colorscale\":[[0.0,\"#0d0887\"],[0.1111111111111111,\"#46039f\"],[0.2222222222222222,\"#7201a8\"],[0.3333333333333333,\"#9c179e\"],[0.4444444444444444,\"#bd3786\"],[0.5555555555555556,\"#d8576b\"],[0.6666666666666666,\"#ed7953\"],[0.7777777777777778,\"#fb9f3a\"],[0.8888888888888888,\"#fdca26\"],[1.0,\"#f0f921\"]],\"type\":\"heatmapgl\"}],\"heatmap\":[{\"colorbar\":{\"outlinewidth\":0,\"ticks\":\"\"},\"colorscale\":[[0.0,\"#0d0887\"],[0.1111111111111111,\"#46039f\"],[0.2222222222222222,\"#7201a8\"],[0.3333333333333333,\"#9c179e\"],[0.4444444444444444,\"#bd3786\"],[0.5555555555555556,\"#d8576b\"],[0.6666666666666666,\"#ed7953\"],[0.7777777777777778,\"#fb9f3a\"],[0.8888888888888888,\"#fdca26\"],[1.0,\"#f0f921\"]],\"type\":\"heatmap\"}],\"histogram2dcontour\":[{\"colorbar\":{\"outlinewidth\":0,\"ticks\":\"\"},\"colorscale\":[[0.0,\"#0d0887\"],[0.1111111111111111,\"#46039f\"],[0.2222222222222222,\"#7201a8\"],[0.3333333333333333,\"#9c179e\"],[0.4444444444444444,\"#bd3786\"],[0.5555555555555556,\"#d8576b\"],[0.6666666666666666,\"#ed7953\"],[0.7777777777777778,\"#fb9f3a\"],[0.8888888888888888,\"#fdca26\"],[1.0,\"#f0f921\"]],\"type\":\"histogram2dcontour\"}],\"histogram2d\":[{\"colorbar\":{\"outlinewidth\":0,\"ticks\":\"\"},\"colorscale\":[[0.0,\"#0d0887\"],[0.1111111111111111,\"#46039f\"],[0.2222222222222222,\"#7201a8\"],[0.3333333333333333,\"#9c179e\"],[0.4444444444444444,\"#bd3786\"],[0.5555555555555556,\"#d8576b\"],[0.6666666666666666,\"#ed7953\"],[0.7777777777777778,\"#fb9f3a\"],[0.8888888888888888,\"#fdca26\"],[1.0,\"#f0f921\"]],\"type\":\"histogram2d\"}],\"histogram\":[{\"marker\":{\"pattern\":{\"fillmode\":\"overlay\",\"size\":10,\"solidity\":0.2}},\"type\":\"histogram\"}],\"mesh3d\":[{\"colorbar\":{\"outlinewidth\":0,\"ticks\":\"\"},\"type\":\"mesh3d\"}],\"parcoords\":[{\"line\":{\"colorbar\":{\"outlinewidth\":0,\"ticks\":\"\"}},\"type\":\"parcoords\"}],\"pie\":[{\"automargin\":true,\"type\":\"pie\"}],\"scatter3d\":[{\"line\":{\"colorbar\":{\"outlinewidth\":0,\"ticks\":\"\"}},\"marker\":{\"colorbar\":{\"outlinewidth\":0,\"ticks\":\"\"}},\"type\":\"scatter3d\"}],\"scattercarpet\":[{\"marker\":{\"colorbar\":{\"outlinewidth\":0,\"ticks\":\"\"}},\"type\":\"scattercarpet\"}],\"scattergeo\":[{\"marker\":{\"colorbar\":{\"outlinewidth\":0,\"ticks\":\"\"}},\"type\":\"scattergeo\"}],\"scattergl\":[{\"marker\":{\"colorbar\":{\"outlinewidth\":0,\"ticks\":\"\"}},\"type\":\"scattergl\"}],\"scattermapbox\":[{\"marker\":{\"colorbar\":{\"outlinewidth\":0,\"ticks\":\"\"}},\"type\":\"scattermapbox\"}],\"scatterpolargl\":[{\"marker\":{\"colorbar\":{\"outlinewidth\":0,\"ticks\":\"\"}},\"type\":\"scatterpolargl\"}],\"scatterpolar\":[{\"marker\":{\"colorbar\":{\"outlinewidth\":0,\"ticks\":\"\"}},\"type\":\"scatterpolar\"}],\"scatter\":[{\"fillpattern\":{\"fillmode\":\"overlay\",\"size\":10,\"solidity\":0.2},\"type\":\"scatter\"}],\"scatterternary\":[{\"marker\":{\"colorbar\":{\"outlinewidth\":0,\"ticks\":\"\"}},\"type\":\"scatterternary\"}],\"surface\":[{\"colorbar\":{\"outlinewidth\":0,\"ticks\":\"\"},\"colorscale\":[[0.0,\"#0d0887\"],[0.1111111111111111,\"#46039f\"],[0.2222222222222222,\"#7201a8\"],[0.3333333333333333,\"#9c179e\"],[0.4444444444444444,\"#bd3786\"],[0.5555555555555556,\"#d8576b\"],[0.6666666666666666,\"#ed7953\"],[0.7777777777777778,\"#fb9f3a\"],[0.8888888888888888,\"#fdca26\"],[1.0,\"#f0f921\"]],\"type\":\"surface\"}],\"table\":[{\"cells\":{\"fill\":{\"color\":\"#EBF0F8\"},\"line\":{\"color\":\"white\"}},\"header\":{\"fill\":{\"color\":\"#C8D4E3\"},\"line\":{\"color\":\"white\"}},\"type\":\"table\"}]},\"layout\":{\"annotationdefaults\":{\"arrowcolor\":\"#2a3f5f\",\"arrowhead\":0,\"arrowwidth\":1},\"autotypenumbers\":\"strict\",\"coloraxis\":{\"colorbar\":{\"outlinewidth\":0,\"ticks\":\"\"}},\"colorscale\":{\"diverging\":[[0,\"#8e0152\"],[0.1,\"#c51b7d\"],[0.2,\"#de77ae\"],[0.3,\"#f1b6da\"],[0.4,\"#fde0ef\"],[0.5,\"#f7f7f7\"],[0.6,\"#e6f5d0\"],[0.7,\"#b8e186\"],[0.8,\"#7fbc41\"],[0.9,\"#4d9221\"],[1,\"#276419\"]],\"sequential\":[[0.0,\"#0d0887\"],[0.1111111111111111,\"#46039f\"],[0.2222222222222222,\"#7201a8\"],[0.3333333333333333,\"#9c179e\"],[0.4444444444444444,\"#bd3786\"],[0.5555555555555556,\"#d8576b\"],[0.6666666666666666,\"#ed7953\"],[0.7777777777777778,\"#fb9f3a\"],[0.8888888888888888,\"#fdca26\"],[1.0,\"#f0f921\"]],\"sequentialminus\":[[0.0,\"#0d0887\"],[0.1111111111111111,\"#46039f\"],[0.2222222222222222,\"#7201a8\"],[0.3333333333333333,\"#9c179e\"],[0.4444444444444444,\"#bd3786\"],[0.5555555555555556,\"#d8576b\"],[0.6666666666666666,\"#ed7953\"],[0.7777777777777778,\"#fb9f3a\"],[0.8888888888888888,\"#fdca26\"],[1.0,\"#f0f921\"]]},\"colorway\":[\"#636efa\",\"#EF553B\",\"#00cc96\",\"#ab63fa\",\"#FFA15A\",\"#19d3f3\",\"#FF6692\",\"#B6E880\",\"#FF97FF\",\"#FECB52\"],\"font\":{\"color\":\"#2a3f5f\"},\"geo\":{\"bgcolor\":\"white\",\"lakecolor\":\"white\",\"landcolor\":\"#E5ECF6\",\"showlakes\":true,\"showland\":true,\"subunitcolor\":\"white\"},\"hoverlabel\":{\"align\":\"left\"},\"hovermode\":\"closest\",\"mapbox\":{\"style\":\"light\"},\"paper_bgcolor\":\"white\",\"plot_bgcolor\":\"#E5ECF6\",\"polar\":{\"angularaxis\":{\"gridcolor\":\"white\",\"linecolor\":\"white\",\"ticks\":\"\"},\"bgcolor\":\"#E5ECF6\",\"radialaxis\":{\"gridcolor\":\"white\",\"linecolor\":\"white\",\"ticks\":\"\"}},\"scene\":{\"xaxis\":{\"backgroundcolor\":\"#E5ECF6\",\"gridcolor\":\"white\",\"gridwidth\":2,\"linecolor\":\"white\",\"showbackground\":true,\"ticks\":\"\",\"zerolinecolor\":\"white\"},\"yaxis\":{\"backgroundcolor\":\"#E5ECF6\",\"gridcolor\":\"white\",\"gridwidth\":2,\"linecolor\":\"white\",\"showbackground\":true,\"ticks\":\"\",\"zerolinecolor\":\"white\"},\"zaxis\":{\"backgroundcolor\":\"#E5ECF6\",\"gridcolor\":\"white\",\"gridwidth\":2,\"linecolor\":\"white\",\"showbackground\":true,\"ticks\":\"\",\"zerolinecolor\":\"white\"}},\"shapedefaults\":{\"line\":{\"color\":\"#2a3f5f\"}},\"ternary\":{\"aaxis\":{\"gridcolor\":\"white\",\"linecolor\":\"white\",\"ticks\":\"\"},\"baxis\":{\"gridcolor\":\"white\",\"linecolor\":\"white\",\"ticks\":\"\"},\"bgcolor\":\"#E5ECF6\",\"caxis\":{\"gridcolor\":\"white\",\"linecolor\":\"white\",\"ticks\":\"\"}},\"title\":{\"x\":0.05},\"xaxis\":{\"automargin\":true,\"gridcolor\":\"white\",\"linecolor\":\"white\",\"ticks\":\"\",\"title\":{\"standoff\":15},\"zerolinecolor\":\"white\",\"zerolinewidth\":2},\"yaxis\":{\"automargin\":true,\"gridcolor\":\"white\",\"linecolor\":\"white\",\"ticks\":\"\",\"title\":{\"standoff\":15},\"zerolinecolor\":\"white\",\"zerolinewidth\":2}}},\"title\":{\"text\":\"Distribution of Brands in April and July\"},\"xaxis\":{\"title\":{\"text\":\"Brand\"}},\"yaxis\":{\"title\":{\"text\":\"Count\"}}},                        {\"responsive\": true}                    ).then(function(){\n",
       "                            \n",
       "var gd = document.getElementById('d886b372-28b7-479a-ab67-fd0c41dd37de');\n",
       "var x = new MutationObserver(function (mutations, observer) {{\n",
       "        var display = window.getComputedStyle(gd).display;\n",
       "        if (!display || display === 'none') {{\n",
       "            console.log([gd, 'removed!']);\n",
       "            Plotly.purge(gd);\n",
       "            observer.disconnect();\n",
       "        }}\n",
       "}});\n",
       "\n",
       "// Listen for the removal of the full notebook cells\n",
       "var notebookContainer = gd.closest('#notebook-container');\n",
       "if (notebookContainer) {{\n",
       "    x.observe(notebookContainer, {childList: true});\n",
       "}}\n",
       "\n",
       "// Listen for the clearing of the current output cell\n",
       "var outputEl = gd.closest('.output');\n",
       "if (outputEl) {{\n",
       "    x.observe(outputEl, {childList: true});\n",
       "}}\n",
       "\n",
       "                        })                };                });            </script>        </div>"
      ]
     },
     "metadata": {},
     "output_type": "display_data"
    }
   ],
   "source": [
    "brand_4 = df[df['Month'] == 4]['Brand'].unique()\n",
    "brand_7 = df[df['Month'] == 7]['Brand'].unique()\n",
    "\n",
    "# Create histograms for the brands in each month\n",
    "trace4 = go.Histogram(\n",
    "    x=brand_4,\n",
    "    opacity=0.75,\n",
    "    name='Month 4',\n",
    "    marker=dict(color='rgba(80, 27, 80, 0.7)')\n",
    ")\n",
    "\n",
    "trace7 = go.Histogram(\n",
    "    x=brand_7,\n",
    "    opacity=0.75,\n",
    "    name='Month 7',\n",
    "    marker=dict(color='rgba(125, 2, 100, 0.6)')\n",
    ")\n",
    "\n",
    "# Combine the histograms\n",
    "data = [trace4, trace7]\n",
    "\n",
    "# Define layout\n",
    "layout = go.Layout(\n",
    "    barmode='overlay',  # Overlapping bars\n",
    "    title='Distribution of Brands in April and July',\n",
    "    xaxis=dict(title='Brand'),\n",
    "    yaxis=dict(title='Count'),\n",
    "    bargap=0.2  # Space between bars\n",
    ")\n",
    "\n",
    "# Create the figure and plot\n",
    "fig = go.Figure(data=data, layout=layout)\n",
    "iplot(fig)"
   ]
  },
  {
   "cell_type": "code",
   "execution_count": 17,
   "id": "e3923ed7",
   "metadata": {},
   "outputs": [
    {
     "data": {
      "application/vnd.plotly.v1+json": {
       "config": {
        "linkText": "Export to plot.ly",
        "plotlyServerURL": "https://plot.ly",
        "showLink": false
       },
       "data": [
        {
         "marker": {
          "color": [
           28002.8,
           2378.82,
           31322.56,
           31159.75,
           11523.36,
           9703.89,
           8300.22,
           4515.8,
           36150.93,
           24228.27,
           2327.26,
           100809.36,
           14547.5,
           36463.14,
           112966.65,
           38613.38,
           3751.67,
           34368.64,
           28099.3,
           12066,
           86889.63,
           2833.22,
           70443.92,
           26619.18,
           18108.4,
           21524.72,
           49676.78,
           6824.14,
           71119,
           86275.7,
           98720.64,
           95400.2,
           14448.87,
           90012,
           39790.85,
           8665.92,
           31428.24,
           125995.87,
           10732.82,
           120880.32,
           43959.7,
           73214.04,
           14989.2,
           93383.22,
           463.58,
           48586.56,
           67765.12,
           35207.2,
           6258.22,
           22699.44,
           96058.13,
           25384,
           64526.3,
           99262.8,
           32687.94,
           86627.31,
           70490.16,
           50154.39,
           74497.92,
           21559.2,
           44564.36,
           28896.63,
           87996.75,
           27109.12,
           82870.56,
           23637.81,
           20304.54,
           83233.36,
           39709.44,
           40111.36,
           12497.49,
           6107.76,
           1222,
           17203.25,
           947.61,
           26408,
           140738.88,
           75330.45,
           16586.68,
           105494.46,
           60477.25,
           1877.76,
           139249.92,
           98242.2,
           12829.6,
           1702.95,
           21331.45,
           11783.43,
           29360.24,
           83551.42,
           61793.1,
           31821.5,
           52251.76,
           26631.99,
           39469.5,
           4056.39,
           92079.92,
           43416,
           33927.08,
           34120.61,
           72023.6,
           24492.16,
           36582.21,
           16560.38,
           68427.18,
           8619.39,
           105106.96,
           55075.02,
           1273.98,
           18860.4,
           47621.2,
           29248.28,
           11301.76,
           35213.1,
           26492.43,
           28098.4,
           86868.48,
           48570.64,
           7728.49,
           1282.45,
           125460.8,
           52554.32,
           8176.35,
           746.47,
           13516.25,
           54665.04,
           3151.26,
           12646.8,
           32474.4,
           24546.72,
           65007,
           42781.86,
           56790.45,
           8165.82,
           726.36,
           59594.08,
           13896.84,
           24705.45,
           4784.6,
           3173.48,
           7050.75,
           22346.47,
           89165.25,
           16529.13,
           87906.92,
           14308.5,
           24009,
           27642.2,
           5406.52,
           37661.8,
           41566.36,
           44209.76,
           16544.32,
           72588.74,
           109028,
           20333.88,
           7755.77,
           1822.29,
           49282.7,
           52028.28,
           54799.2,
           16659.62,
           110028.42,
           11306.68,
           75988.7,
           80877.2,
           91113.25,
           37244.48,
           29250.67,
           37928.58,
           59695.92,
           104364.75,
           15373.26,
           11151.36,
           100782.75,
           5783,
           25697.72,
           22860.8,
           78188.49,
           36468.77,
           13790.56,
           60232.5,
           18931.5,
           48936.55,
           67369.44,
           32729.76,
           82388.89,
           78794.1,
           22439.35,
           16447.95,
           11304.04,
           21167.52,
           62075.44,
           47381.76,
           6951.3,
           6481.51,
           3112.11,
           27464.7,
           7728.35,
           20341.64,
           123975.88,
           10106.11,
           135157.83,
           30654,
           82840.96,
           95299.12,
           3486.21,
           5840.64,
           88626.24,
           6046.22,
           83887.86,
           4056.4,
           98794.42,
           59466,
           31463.25,
           68359.5,
           101627.98,
           19068.8,
           49752.32,
           67430.7,
           11973.2,
           14147.84,
           80244.08,
           32203.6,
           9343.44,
           65262.78,
           19900.5,
           11307.2,
           5227.36,
           37887.73,
           12122,
           27016.29,
           2752.54,
           51619.05,
           21183.48,
           23275.8,
           72410.03,
           2193.45,
           33360.67,
           51970.4,
           13649.94,
           21730.4,
           13230.08,
           44021.01,
           75107.67,
           8000.85,
           72145.19,
           61631.46,
           37240.06,
           7131.96,
           11139.93,
           7375.83,
           17456.45,
           3946.14,
           4178.4,
           8071.26,
           55089.93,
           76989.42,
           89134.12,
           686.77,
           84618,
           23593.15,
           23687.49,
           5891.46,
           77386.68,
           27842.88,
           2861.1,
           8388.09,
           23200.8,
           34241.36,
           22882.8,
           61650.63,
           9777.44,
           49001.22,
           55404.25,
           47315.84,
           43860.6,
           57562.77,
           9046.26,
           7037.22,
           13789.44,
           13985.76,
           4085.54,
           141411.84,
           10445.28,
           7232.88,
           12132.64,
           23809.47,
           12452.65,
           51159.36,
           37316.7,
           10665.6,
           108035.82,
           7936.5,
           1345.31,
           9379.68,
           45512.55,
           83295.45,
           25157,
           15346.38,
           21633.5,
           10176.04,
           16546.88,
           5901.2,
           18401.6,
           16868.06,
           4905.84,
           12448.36,
           8634.9,
           77838.75,
           56299.05,
           47845.66,
           78459.24,
           5859.92,
           37407.44,
           23215.71,
           54995.76,
           2215.82,
           1243.23,
           45773.52,
           11199.36,
           49230.39,
           18721.2,
           31240.3,
           81367.36,
           50171.97,
           51357,
           12406.49,
           31039.47,
           21440.16,
           12291.43,
           91734.93,
           7221,
           42980.88,
           44499,
           1250.11,
           98677.6,
           43512.3,
           28498.3,
           6726.3,
           52519.04,
           67292.01,
           1410.6,
           78747.4,
           21012.16,
           19171.88,
           13375.05,
           119864.64,
           91244.02,
           67192.66,
           55321.56,
           58377.96,
           89145.18,
           3803.2,
           34762.47,
           15655.6,
           8111.04,
           36931.16,
           29994.53,
           42193.32,
           21580.78,
           19372.4,
           3537.16,
           32472.44,
           23249.54,
           73044.99,
           11133.4,
           51904.36,
           30889.35,
           16306.56,
           15365.12,
           61818.67,
           24262.43,
           18261,
           39261.45,
           10696.96,
           14619.66,
           46234.37,
           30611.56,
           23015.02,
           43269.12,
           31456.56,
           10533.07,
           43710.92,
           94828.04,
           110721.6,
           95282.4,
           19020.25,
           22944,
           16283.85,
           16572.78,
           7505.82,
           20112.64,
           5598.97,
           59727.13,
           9768.66,
           4897.4,
           16380,
           67975.16,
           48296.02,
           15130.4,
           21926.52,
           13331.16,
           83365.65,
           34638.33,
           28765.68,
           67249.2,
           11057.97,
           56761.49,
           22848.35,
           86497.11,
           67889.27,
           23180,
           12647.34,
           15851.88,
           22501.97,
           28447.2,
           62334,
           86006.4,
           60742.36,
           14312.7,
           12914.8,
           15979.32,
           66215.85,
           1097.22,
           72555.5,
           8256.05,
           2620.83,
           100135.56,
           11545.2,
           37905.14,
           10271.2,
           93600,
           48768,
           131512.48,
           69770.9,
           62123.4,
           18697.84,
           128442.12,
           15171.6,
           414.6,
           6268.6,
           84222.45,
           25132.58,
           100943.96,
           10010.51,
           8320.76,
           1198.56,
           50439.99,
           109351.08,
           45433.44,
           23617.16,
           22211.4,
           12305.92,
           92400.11,
           4371.12,
           53258.79,
           101358.58,
           739.69,
           10318.95,
           43002.08,
           13717.3,
           37318.86,
           29912.75,
           39749.53,
           33832.47,
           46066.26,
           103732.2,
           108538.59,
           25097.8,
           22057.2,
           44442.75,
           22608.6,
           60854.66,
           100974.48,
           23336.24,
           14986.2,
           76046.4,
           102789.36,
           31592.7,
           85326.15,
           107022.69,
           24352.46,
           116998.2,
           43773.17,
           94528,
           93157.68,
           35169.4,
           6995.15,
           3489.54,
           2856.6,
           22911.16,
           48746.52,
           6243.01,
           35773.01,
           31601.89,
           68274,
           44415.36,
           113673.2,
           125672.92,
           33021.82,
           48081,
           17747.2,
           11017.35,
           99522.36,
           12814.43,
           22854.4,
           66427.94,
           80637.66,
           22836.78,
           17058.67,
           42990.68,
           13741.2,
           43876.56,
           96023.4,
           62694.98,
           55740.27,
           11351.7,
           48630.12,
           9619.39,
           18728.92,
           77814.75,
           994.22,
           31578.18,
           127366.64,
           5412.4,
           10991.67,
           29601.25,
           117410.59,
           25914.37,
           52958.06,
           24825.84,
           92377.74,
           104232.48,
           3395.25,
           1208.55,
           109166.68,
           33347.28,
           8286.95,
           12637.8,
           69202.92,
           15802.93,
           9970.35,
           26911.3,
           83129.76,
           5070.3,
           23169.36,
           21705.6,
           6250.4,
           38663.73,
           21403.8,
           13448.12,
           85998.64,
           96101.64,
           102433.02,
           18936.06,
           115585.69,
           16262.26,
           61127.54,
           43927.66,
           26851.35,
           20811.52,
           96500.6,
           10659.9,
           29583.3,
           102877.92,
           6889.92,
           12578.28,
           49628.16,
           49907.3,
           10167.08,
           43543.06,
           4183.12,
           38925.12,
           58955.44,
           32158.62,
           41129.4,
           69246.64,
           94344.8,
           79358.44,
           34481.72,
           41450.78,
           85958.04,
           16541.34,
           4489.6,
           53596.2,
           9423,
           57203.85,
           418.48,
           10477.78,
           70985.66,
           72454,
           91485.24,
           20990.71,
           10383.75,
           68618.72,
           40211.82,
           62231.5,
           11767.23,
           100225.82,
           14679.39,
           97077.48,
           24560.24,
           45087.84,
           103949.2,
           79491.52,
           33566.52,
           9072.42,
           12194.2,
           48499.36,
           30419.46,
           31312.96,
           11440.5,
           12619.62,
           59290.03,
           7982.08,
           84268.86,
           20957.14,
           11024.64,
           76260,
           14465.88,
           53107.15,
           44307.62,
           30514.54,
           9938.18,
           59485.2,
           77328.24,
           56054.1,
           32296.6,
           84083.59,
           63563.28,
           81432.39,
           1186.92,
           10462.84,
           17972.23,
           85514.94,
           13601.44,
           16676.68,
           16094.1,
           29553.54,
           38799.3,
           6603.6,
           8035.56,
           20963.58,
           57639.84,
           15952.8,
           9969.12,
           17226.06,
           16813.44,
           54563.6,
           14866.38,
           10722.4,
           1266.3,
           40581,
           7341.91,
           30525.87,
           25375.64,
           19416.91,
           721.95,
           16322.9,
           24482.88,
           66385.2,
           30138.74,
           114812.16,
           37853.44,
           85403.24,
           2055.55,
           6550.83,
           17747.2,
           105382.08,
           37191.92,
           9700.6,
           17866.64,
           558.74,
           4239.12,
           5805.43,
           19411.38,
           96463.62,
           132106.56,
           41037.66,
           9701.52,
           60684.54,
           68567.31,
           44118.9,
           82203.62,
           29670.72,
           116944.7,
           74919.88,
           79009.5,
           6503.25,
           26334,
           849.35,
           18471.32,
           13306.58,
           2763.88,
           6729.44,
           30732.83,
           31611.69,
           21111.13,
           48287.96,
           54891.08,
           87163.65,
           43858.3,
           36484.24,
           24011.36,
           30069.27,
           5429.61,
           52805.91,
           14592.2,
           59883.18,
           18824.64,
           57220.15,
           4104.38,
           30275.28,
           4235.82,
           107416.58,
           56297.45,
           62998.32,
           34110.18,
           99642.96,
           101815.68,
           5662.48,
           15824.28,
           27111.24,
           116.85,
           3591.25,
           53299.76,
           29427.3,
           6426.99,
           40165.65,
           13707.32,
           54343.68,
           22969.48,
           30322.31,
           19413.66,
           118596.04,
           67170.18,
           38678.4,
           14239.76,
           122772.87,
           10217.06,
           31433.77,
           65396.79,
           51261.16,
           27716.78,
           19137.13,
           56090.25,
           50670.65,
           8498.4,
           18304.87,
           67000.5,
           19676.25,
           40821.85,
           106676.36,
           11239.47,
           12561.08,
           17004.6,
           77122.71,
           63422.96,
           67708.96,
           83743.83,
           18778.54,
           37414.8,
           3662.61,
           7727.4,
           39129.12,
           8582.58,
           58423.05,
           64326.15,
           3301.35,
           54876,
           21542.76,
           46743.35,
           13356.66,
           63405,
           59166.08,
           63610.47,
           48029.76,
           56713.47,
           24544.8,
           91315.64,
           7070.76,
           10641.2,
           36056.64,
           54432,
           63030.92,
           82503.4,
           25845.56,
           54578.4,
           30444.49,
           7542.18,
           38959.2,
           124883.62,
           23713.99,
           15090.48,
           34352.76,
           73267.92,
           12735,
           135494.8,
           63215.81,
           38531.7,
           4384.98,
           1300.74,
           67470.06,
           32209.79,
           4937.34,
           125596.8,
           88842.9,
           93276.2,
           16047.56,
           54137.46,
           23432.15,
           55230.12,
           65983.14,
           8244.32,
           52684.5,
           30967.26,
           57134.35,
           30249.72,
           22193.5,
           14628.86,
           65193.3,
           61147.01,
           61207.68,
           36745.62,
           30831.96,
           49444.77,
           22331.2,
           26928.7,
           27941.23,
           119945.35,
           61037.76,
           19677.54,
           52935.12,
           66512.57,
           19137.78,
           33697.62,
           2169.76,
           9362.75,
           5686.05,
           7532.19,
           35913.12,
           2390.16,
           48318.64,
           87610.96,
           74077.84,
           107462.16,
           15431.68,
           111536.64,
           29245.5,
           59445.6,
           43516.76,
           100429.2,
           38634.65,
           28198,
           18986.4,
           41107.9,
           13189.02,
           8698.48,
           12145.32,
           55914.88,
           121071.72,
           28319.62,
           28161.1,
           25657.6,
           54939.8,
           35702.64,
           69483.57,
           38285.38,
           58208.48,
           14106.96,
           10472.85,
           17500.32,
           26757.76,
           31085.22,
           38257.05,
           28288,
           674.4,
           120191.15,
           7388.25,
           5660.13,
           31400.96,
           70563.15,
           70831.8,
           2835,
           631.1,
           25950.4,
           8217.44,
           12834.81,
           24203.3,
           28023.93,
           122804.31,
           33150,
           65965.5,
           27861.45,
           40851.9,
           47406.66,
           16334.85,
           6982.72,
           26161.98,
           7365.31,
           19987.84,
           75674.76,
           54851.29,
           27826.2,
           54093.24,
           8426.6,
           1027.4,
           2524.08,
           19956.86,
           12363,
           23535.54,
           37192.87,
           90158.04,
           83112.48,
           50048,
           4596.57,
           56157.8,
           7468.34,
           73197.12,
           31379.76,
           73462.8,
           73347.52,
           70333.31,
           46423.8,
           107408.16,
           44273.85,
           14706.38,
           34266.78,
           2856.78,
           39433.8,
           29165.85,
           39273.76,
           36134.87,
           5379.01,
           65819.8,
           98113.14,
           52464.04,
           22162.56,
           30928.8,
           65251.32,
           12284.73,
           47181.63,
           37046.4,
           10610.49,
           16149.6,
           89275.68,
           13319.19,
           11057.34,
           24160.5,
           97260.77,
           11894,
           2336.76,
           18492.14,
           1807.65,
           12752.4,
           22309.28,
           39012.28,
           42636.47,
           680.88,
           28008.12,
           5796.6,
           1625.1,
           38063.04,
           35192.07,
           40883.06,
           13973.56,
           104115.4,
           30505.44,
           52237.25,
           3679.38,
           78661.52,
           15000.96,
           73070.87,
           15252.45,
           128158.03,
           38333.18,
           124490.7,
           65534.62,
           42752.6,
           109723.95,
           20819.56,
           33106,
           46090.24,
           99154.29,
           59898.14,
           93597.24,
           4879.19,
           105929.28,
           6875.5,
           2444.3,
           1518.48,
           35283.6,
           7672.96,
           73335.88,
           28865.7,
           50471.42,
           1381.82,
           8557.32,
           70739.76
          ],
          "colorbar": {
           "title": {
            "text": "Total Revenue"
           }
          },
          "colorscale": [
           [
            0,
            "#440154"
           ],
           [
            0.1111111111111111,
            "#482878"
           ],
           [
            0.2222222222222222,
            "#3e4989"
           ],
           [
            0.3333333333333333,
            "#31688e"
           ],
           [
            0.4444444444444444,
            "#26828e"
           ],
           [
            0.5555555555555556,
            "#1f9e89"
           ],
           [
            0.6666666666666666,
            "#35b779"
           ],
           [
            0.7777777777777778,
            "#6ece58"
           ],
           [
            0.8888888888888888,
            "#b5de2b"
           ],
           [
            1,
            "#fde725"
           ]
          ],
          "showscale": true,
          "size": [
           28.0028,
           2.37882,
           31.322560000000003,
           31.15975,
           11.52336,
           9.70389,
           8.30022,
           4.5158000000000005,
           36.15093,
           24.228270000000002,
           2.3272600000000003,
           100.80936,
           14.5475,
           36.46314,
           112.96664999999999,
           38.61338,
           3.7516700000000003,
           34.36864,
           28.0993,
           12.066,
           86.88963000000001,
           2.83322,
           70.44391999999999,
           26.61918,
           18.108400000000003,
           21.524720000000002,
           49.67678,
           6.824140000000001,
           71.119,
           86.2757,
           98.72064,
           95.4002,
           14.448870000000001,
           90.012,
           39.79085,
           8.66592,
           31.428240000000002,
           125.99587,
           10.73282,
           120.88032000000001,
           43.9597,
           73.21404,
           14.9892,
           93.38322,
           0.46358,
           48.58656,
           67.76512,
           35.2072,
           6.258220000000001,
           22.69944,
           96.05813,
           25.384,
           64.5263,
           99.2628,
           32.68794,
           86.62731,
           70.49016,
           50.15439,
           74.49792,
           21.5592,
           44.56436,
           28.896630000000002,
           87.99675,
           27.109119999999997,
           82.87056,
           23.63781,
           20.30454,
           83.23336,
           39.70944,
           40.11136,
           12.497489999999999,
           6.10776,
           1.222,
           17.20325,
           0.9476100000000001,
           26.408,
           140.73888,
           75.33045,
           16.58668,
           105.49446,
           60.47725,
           1.87776,
           139.24992,
           98.2422,
           12.829600000000001,
           1.70295,
           21.33145,
           11.783430000000001,
           29.36024,
           83.55142,
           61.793099999999995,
           31.8215,
           52.251760000000004,
           26.631990000000002,
           39.4695,
           4.0563899999999995,
           92.07992,
           43.416,
           33.927080000000004,
           34.12061,
           72.0236,
           24.49216,
           36.582209999999996,
           16.560380000000002,
           68.42717999999999,
           8.61939,
           105.10696,
           55.075019999999995,
           1.2739800000000001,
           18.860400000000002,
           47.621199999999995,
           29.248279999999998,
           11.30176,
           35.2131,
           26.49243,
           28.0984,
           86.86847999999999,
           48.57064,
           7.72849,
           1.28245,
           125.4608,
           52.55432,
           8.176350000000001,
           0.7464700000000001,
           13.51625,
           54.66504,
           3.15126,
           12.646799999999999,
           32.4744,
           24.54672,
           65.007,
           42.78186,
           56.79045,
           8.16582,
           0.72636,
           59.594080000000005,
           13.896840000000001,
           24.70545,
           4.7846,
           3.17348,
           7.05075,
           22.34647,
           89.16525,
           16.529130000000002,
           87.90692,
           14.3085,
           24.009,
           27.6422,
           5.40652,
           37.6618,
           41.56636,
           44.20976,
           16.54432,
           72.58874,
           109.028,
           20.33388,
           7.75577,
           1.82229,
           49.2827,
           52.02828,
           54.7992,
           16.65962,
           110.02842,
           11.30668,
           75.9887,
           80.8772,
           91.11325,
           37.24448,
           29.25067,
           37.928580000000004,
           59.69592,
           104.36475,
           15.37326,
           11.15136,
           100.78275,
           5.783,
           25.69772,
           22.860799999999998,
           78.18849,
           36.46877,
           13.79056,
           60.2325,
           18.9315,
           48.936550000000004,
           67.36944,
           32.72976,
           82.38889,
           78.7941,
           22.439349999999997,
           16.447950000000002,
           11.30404,
           21.16752,
           62.07544,
           47.38176,
           6.9513,
           6.48151,
           3.11211,
           27.4647,
           7.728350000000001,
           20.341639999999998,
           123.97588,
           10.106110000000001,
           135.15783,
           30.654,
           82.84096000000001,
           95.29912,
           3.4862100000000003,
           5.8406400000000005,
           88.62624000000001,
           6.04622,
           83.88786,
           4.0564,
           98.79442,
           59.466,
           31.46325,
           68.3595,
           101.62798,
           19.0688,
           49.75232,
           67.4307,
           11.9732,
           14.14784,
           80.24408,
           32.2036,
           9.343440000000001,
           65.26277999999999,
           19.9005,
           11.3072,
           5.22736,
           37.887730000000005,
           12.122,
           27.01629,
           2.7525399999999998,
           51.61905,
           21.18348,
           23.2758,
           72.41002999999999,
           2.19345,
           33.36067,
           51.9704,
           13.64994,
           21.730400000000003,
           13.23008,
           44.021010000000004,
           75.10767,
           8.00085,
           72.14519,
           61.63146,
           37.24006,
           7.13196,
           11.13993,
           7.37583,
           17.45645,
           3.9461399999999998,
           4.1784,
           8.07126,
           55.08993,
           76.98942,
           89.13412,
           0.68677,
           84.618,
           23.59315,
           23.68749,
           5.89146,
           77.38668,
           27.84288,
           2.8611,
           8.38809,
           23.2008,
           34.24136,
           22.8828,
           61.65063,
           9.77744,
           49.00122,
           55.40425,
           47.315839999999994,
           43.8606,
           57.56276999999999,
           9.04626,
           7.0372200000000005,
           13.78944,
           13.98576,
           4.08554,
           141.41183999999998,
           10.44528,
           7.23288,
           12.132639999999999,
           23.80947,
           12.45265,
           51.15936,
           37.3167,
           10.6656,
           108.03582,
           7.9365,
           1.34531,
           9.37968,
           45.512550000000005,
           83.29545,
           25.157,
           15.34638,
           21.6335,
           10.17604,
           16.54688,
           5.9012,
           18.4016,
           16.86806,
           4.90584,
           12.448360000000001,
           8.6349,
           77.83875,
           56.29905,
           47.84566,
           78.45924000000001,
           5.85992,
           37.40744,
           23.215709999999998,
           54.995760000000004,
           2.2158200000000003,
           1.24323,
           45.77352,
           11.19936,
           49.23039,
           18.7212,
           31.240299999999998,
           81.36736,
           50.17197,
           51.357,
           12.40649,
           31.03947,
           21.44016,
           12.29143,
           91.73492999999999,
           7.221,
           42.98088,
           44.499,
           1.2501099999999998,
           98.67760000000001,
           43.5123,
           28.4983,
           6.7263,
           52.519040000000004,
           67.29200999999999,
           1.4105999999999999,
           78.7474,
           21.01216,
           19.17188,
           13.37505,
           119.86464,
           91.24402,
           67.19266,
           55.32156,
           58.37796,
           89.14518,
           3.8032,
           34.76247,
           15.6556,
           8.11104,
           36.931160000000006,
           29.994529999999997,
           42.19332,
           21.580779999999997,
           19.372400000000003,
           3.5371599999999996,
           32.47244,
           23.24954,
           73.04499,
           11.1334,
           51.904360000000004,
           30.88935,
           16.30656,
           15.365120000000001,
           61.81867,
           24.262430000000002,
           18.261,
           39.261449999999996,
           10.696959999999999,
           14.61966,
           46.234370000000006,
           30.61156,
           23.01502,
           43.26912,
           31.45656,
           10.53307,
           43.71092,
           94.82803999999999,
           110.72160000000001,
           95.2824,
           19.02025,
           22.944,
           16.28385,
           16.572779999999998,
           7.50582,
           20.11264,
           5.5989700000000004,
           59.727129999999995,
           9.76866,
           4.897399999999999,
           16.38,
           67.97516,
           48.29602,
           15.1304,
           21.92652,
           13.33116,
           83.36564999999999,
           34.63833,
           28.76568,
           67.2492,
           11.05797,
           56.761489999999995,
           22.84835,
           86.49711,
           67.88927000000001,
           23.18,
           12.64734,
           15.85188,
           22.50197,
           28.447200000000002,
           62.334,
           86.0064,
           60.74236,
           14.312700000000001,
           12.9148,
           15.97932,
           66.21585,
           1.09722,
           72.5555,
           8.25605,
           2.6208299999999998,
           100.13556,
           11.545200000000001,
           37.90514,
           10.2712,
           93.6,
           48.768,
           131.51248,
           69.7709,
           62.123400000000004,
           18.69784,
           128.44212,
           15.1716,
           0.4146,
           6.2686,
           84.22245,
           25.13258,
           100.94396,
           10.01051,
           8.32076,
           1.1985599999999998,
           50.439989999999995,
           109.35108,
           45.433440000000004,
           23.61716,
           22.2114,
           12.30592,
           92.40011,
           4.3711199999999995,
           53.25879,
           101.35858,
           0.7396900000000001,
           10.318950000000001,
           43.00208,
           13.7173,
           37.31886,
           29.91275,
           39.74953,
           33.83247,
           46.06626,
           103.73219999999999,
           108.53859,
           25.0978,
           22.0572,
           44.44275,
           22.6086,
           60.85466,
           100.97448,
           23.33624,
           14.9862,
           76.04639999999999,
           102.78936,
           31.5927,
           85.32615,
           107.02269,
           24.35246,
           116.9982,
           43.77317,
           94.528,
           93.15768,
           35.1694,
           6.99515,
           3.48954,
           2.8566,
           22.91116,
           48.74652,
           6.24301,
           35.77301,
           31.60189,
           68.274,
           44.41536,
           113.6732,
           125.67292,
           33.02182,
           48.081,
           17.7472,
           11.01735,
           99.52236,
           12.81443,
           22.854400000000002,
           66.42794,
           80.63766,
           22.836779999999997,
           17.05867,
           42.99068,
           13.741200000000001,
           43.87656,
           96.0234,
           62.69498,
           55.740269999999995,
           11.351700000000001,
           48.630120000000005,
           9.61939,
           18.72892,
           77.81475,
           0.99422,
           31.57818,
           127.36664,
           5.4124,
           10.991670000000001,
           29.60125,
           117.41059,
           25.914369999999998,
           52.958059999999996,
           24.82584,
           92.37774,
           104.23248,
           3.39525,
           1.20855,
           109.16668,
           33.34728,
           8.286950000000001,
           12.637799999999999,
           69.20291999999999,
           15.80293,
           9.97035,
           26.9113,
           83.12975999999999,
           5.0703000000000005,
           23.16936,
           21.705599999999997,
           6.2504,
           38.66373,
           21.4038,
           13.448120000000001,
           85.99864,
           96.10164,
           102.43302,
           18.93606,
           115.58569,
           16.26226,
           61.12754,
           43.92766,
           26.85135,
           20.81152,
           96.5006,
           10.6599,
           29.583299999999998,
           102.87792,
           6.88992,
           12.578280000000001,
           49.62816,
           49.907300000000006,
           10.16708,
           43.54306,
           4.18312,
           38.92512,
           58.95544,
           32.15862,
           41.129400000000004,
           69.24664,
           94.3448,
           79.35844,
           34.48172,
           41.45078,
           85.95804,
           16.54134,
           4.4896,
           53.596199999999996,
           9.423,
           57.203849999999996,
           0.41848,
           10.477780000000001,
           70.98566000000001,
           72.454,
           91.48524,
           20.99071,
           10.38375,
           68.61872,
           40.21182,
           62.2315,
           11.76723,
           100.22582000000001,
           14.67939,
           97.07748,
           24.56024,
           45.08784,
           103.94919999999999,
           79.49152000000001,
           33.56652,
           9.07242,
           12.1942,
           48.49936,
           30.41946,
           31.31296,
           11.4405,
           12.619620000000001,
           59.29003,
           7.98208,
           84.26886,
           20.95714,
           11.02464,
           76.26,
           14.465879999999999,
           53.107150000000004,
           44.30762,
           30.51454,
           9.938180000000001,
           59.4852,
           77.32824000000001,
           56.0541,
           32.2966,
           84.08359,
           63.56328,
           81.43239,
           1.18692,
           10.46284,
           17.97223,
           85.51494,
           13.60144,
           16.67668,
           16.0941,
           29.55354,
           38.7993,
           6.6036,
           8.03556,
           20.96358,
           57.63984,
           15.9528,
           9.96912,
           17.22606,
           16.81344,
           54.5636,
           14.86638,
           10.7224,
           1.2663,
           40.581,
           7.3419099999999995,
           30.525869999999998,
           25.37564,
           19.41691,
           0.7219500000000001,
           16.3229,
           24.48288,
           66.3852,
           30.138740000000002,
           114.81216,
           37.85344,
           85.40324000000001,
           2.05555,
           6.5508299999999995,
           17.7472,
           105.38208,
           37.191919999999996,
           9.7006,
           17.86664,
           0.55874,
           4.23912,
           5.80543,
           19.41138,
           96.46361999999999,
           132.10656,
           41.03766,
           9.70152,
           60.68454,
           68.56730999999999,
           44.118900000000004,
           82.20362,
           29.670720000000003,
           116.9447,
           74.91988,
           79.0095,
           6.50325,
           26.334,
           0.84935,
           18.47132,
           13.30658,
           2.76388,
           6.729439999999999,
           30.732830000000003,
           31.61169,
           21.11113,
           48.28796,
           54.89108,
           87.16364999999999,
           43.8583,
           36.48424,
           24.01136,
           30.06927,
           5.429609999999999,
           52.805910000000004,
           14.5922,
           59.88318,
           18.82464,
           57.220150000000004,
           4.10438,
           30.27528,
           4.2358199999999995,
           107.41658,
           56.29745,
           62.99832,
           34.11018,
           99.64296,
           101.81567999999999,
           5.6624799999999995,
           15.82428,
           27.111240000000002,
           0.11685,
           3.59125,
           53.29976,
           29.4273,
           6.42699,
           40.16565,
           13.70732,
           54.34368,
           22.96948,
           30.32231,
           19.41366,
           118.59603999999999,
           67.17017999999999,
           38.6784,
           14.23976,
           122.77287,
           10.21706,
           31.43377,
           65.39679,
           51.261160000000004,
           27.71678,
           19.137130000000003,
           56.09025,
           50.67065,
           8.4984,
           18.304869999999998,
           67.0005,
           19.67625,
           40.82185,
           106.67636,
           11.239469999999999,
           12.56108,
           17.0046,
           77.12271000000001,
           63.422959999999996,
           67.70896,
           83.74383,
           18.77854,
           37.4148,
           3.66261,
           7.727399999999999,
           39.12912,
           8.58258,
           58.42305,
           64.32615,
           3.30135,
           54.876,
           21.542759999999998,
           46.74335,
           13.35666,
           63.405,
           59.16608,
           63.61047,
           48.02976,
           56.71347,
           24.5448,
           91.31564,
           7.07076,
           10.641200000000001,
           36.05664,
           54.432,
           63.030919999999995,
           82.5034,
           25.845560000000003,
           54.5784,
           30.444490000000002,
           7.54218,
           38.959199999999996,
           124.88362,
           23.713990000000003,
           15.09048,
           34.35276,
           73.26792,
           12.735,
           135.4948,
           63.21581,
           38.531699999999994,
           4.38498,
           1.30074,
           67.47006,
           32.20979,
           4.93734,
           125.5968,
           88.8429,
           93.2762,
           16.04756,
           54.13746,
           23.43215,
           55.23012,
           65.98314,
           8.24432,
           52.6845,
           30.96726,
           57.13435,
           30.24972,
           22.1935,
           14.628860000000001,
           65.19330000000001,
           61.14701,
           61.20768,
           36.74562,
           30.83196,
           49.44477,
           22.3312,
           26.9287,
           27.94123,
           119.94535,
           61.03776,
           19.67754,
           52.935120000000005,
           66.51257000000001,
           19.13778,
           33.69762,
           2.16976,
           9.36275,
           5.68605,
           7.53219,
           35.91312,
           2.39016,
           48.31864,
           87.61096,
           74.07784,
           107.46216,
           15.43168,
           111.53664,
           29.2455,
           59.4456,
           43.516760000000005,
           100.4292,
           38.63465,
           28.198,
           18.9864,
           41.1079,
           13.189020000000001,
           8.69848,
           12.14532,
           55.91488,
           121.07172,
           28.31962,
           28.161099999999998,
           25.6576,
           54.939800000000005,
           35.70264,
           69.48357,
           38.285379999999996,
           58.20848,
           14.106959999999999,
           10.472850000000001,
           17.50032,
           26.757759999999998,
           31.08522,
           38.25705,
           28.288,
           0.6744,
           120.19115,
           7.38825,
           5.6601300000000005,
           31.400959999999998,
           70.56315,
           70.8318,
           2.835,
           0.6311,
           25.950400000000002,
           8.21744,
           12.83481,
           24.2033,
           28.02393,
           122.80431,
           33.15,
           65.9655,
           27.86145,
           40.8519,
           47.40666,
           16.33485,
           6.9827200000000005,
           26.16198,
           7.36531,
           19.98784,
           75.67475999999999,
           54.85129,
           27.8262,
           54.093239999999994,
           8.4266,
           1.0274,
           2.52408,
           19.95686,
           12.363,
           23.53554,
           37.19287,
           90.15804,
           83.11247999999999,
           50.048,
           4.59657,
           56.1578,
           7.46834,
           73.19712,
           31.379759999999997,
           73.4628,
           73.34752,
           70.33331,
           46.4238,
           107.40816000000001,
           44.273849999999996,
           14.70638,
           34.26678,
           2.85678,
           39.433800000000005,
           29.16585,
           39.27376,
           36.13487,
           5.37901,
           65.8198,
           98.11314,
           52.464040000000004,
           22.162560000000003,
           30.9288,
           65.25131999999999,
           12.28473,
           47.18163,
           37.0464,
           10.61049,
           16.1496,
           89.27568,
           13.31919,
           11.05734,
           24.1605,
           97.26077000000001,
           11.894,
           2.3367600000000004,
           18.49214,
           1.8076500000000002,
           12.7524,
           22.309279999999998,
           39.01228,
           42.63647,
           0.68088,
           28.008119999999998,
           5.796600000000001,
           1.6251,
           38.06304,
           35.19207,
           40.88306,
           13.973559999999999,
           104.1154,
           30.50544,
           52.23725,
           3.67938,
           78.66152000000001,
           15.00096,
           73.07087,
           15.252450000000001,
           128.15803,
           38.33318,
           124.4907,
           65.53462,
           42.7526,
           109.72395,
           20.819560000000003,
           33.106,
           46.09024,
           99.15428999999999,
           59.89814,
           93.59724,
           4.8791899999999995,
           105.92928,
           6.8755,
           2.4443,
           1.51848,
           35.2836,
           7.67296,
           73.33588,
           28.8657,
           50.471419999999995,
           1.3818199999999998,
           8.557319999999999,
           70.73975999999999
          ],
          "sizemin": 4,
          "sizemode": "area",
          "sizeref": 0.17676479999999997
         },
         "mode": "markers",
         "text": [
          "Green Inc",
          "Thomas-Thompson",
          "Sanchez-Williams",
          "Greer and Sons",
          "Brown and Sons",
          "Massey, Nicholson and Young",
          "Coleman-Pena",
          "Brock, Cruz and Santiago",
          "Griffin, Boyle and Dawson",
          "Arroyo, Jones and Clayton",
          "Carlson, Mcdonald and Hatfield",
          "Mckenzie LLC",
          "Cross Inc",
          "Jackson-Garza",
          "Neal-Francis",
          "Shaw-Farmer",
          "Best, Ross and Smith",
          "Burton LLC",
          "Byrd, Thompson and Rhodes",
          "Taylor-Hutchinson",
          "Graves, Turner and Crawford",
          "Villanueva-Ramirez",
          "Miller-Price",
          "Hood Inc",
          "Miller-Harper",
          "Decker Ltd",
          "Nelson and Sons",
          "Mitchell Ltd",
          "Burch, Wilson and Yang",
          "Ross, Strickland and Johns",
          "Oliver-Oconnell",
          "Ho-Porter",
          "Fisher-Marshall",
          "Watson, Carter and Woodard",
          "Walters, Bennett and Barrett",
          "Jacobs, Shepherd and Green",
          "Smith-Walters",
          "Walker PLC",
          "Hill, Mann and Martinez",
          "Brooks LLC",
          "Stewart Group",
          "Harris and Sons",
          "Smith, Bean and Gallagher",
          "White-Hood",
          "Hammond, Fernandez and Davis",
          "King, Carpenter and George",
          "Wagner, Burton and Ashley",
          "Lee LLC",
          "Sullivan Ltd",
          "Snyder LLC",
          "Webb-Davila",
          "Martin-Gardner",
          "York Inc",
          "Lane Ltd",
          "Chaney and Sons",
          "Mack Group",
          "Paul, Andersen and Carr",
          "Smith, Miller and Cooper",
          "Adams LLC",
          "Wright-Green",
          "Peters, Hayes and Sanchez",
          "Hopkins-Mahoney",
          "Dean LLC",
          "Shah PLC",
          "Garcia Inc",
          "Ramos and Sons",
          "Gonzalez PLC",
          "Bonilla, Gordon and Petersen",
          "Jones Inc",
          "Bates and Sons",
          "Lee Ltd",
          "Miller-Robinson",
          "Ward Inc",
          "Rice PLC",
          "Mitchell-Barrett",
          "Roach-Strong",
          "Ortiz-Kaiser",
          "Shah, Blackwell and Adams",
          "Hoffman PLC",
          "Simpson and Sons",
          "Joseph, Santos and Nelson",
          "Weaver Ltd",
          "Hunter PLC",
          "James, Garcia and Brown",
          "Anderson and Sons",
          "Thompson, Chapman and Jones",
          "Smith Ltd",
          "Rowland, Monroe and Owen",
          "Jordan-Williams",
          "Johnson, Rogers and Daugherty",
          "Alvarado-Carter",
          "Robinson-King",
          "Hahn, Hamilton and Johnson",
          "Bryant-Miller",
          "Bishop, Rodriguez and Bell",
          "Rojas, Kelly and Scott",
          "Williams, King and Hayes",
          "Black and Sons",
          "Matthews Ltd",
          "Carlson, Brennan and Robinson",
          "Jones-Wilson",
          "Stewart, Gutierrez and Avila",
          "Turner, Vega and Green",
          "Perez LLC",
          "Herrera LLC",
          "Castro, Briggs and Gilmore",
          "Peterson Inc",
          "Harmon Group",
          "Thompson, Johnson and Wong",
          "Collins PLC",
          "Gilbert Inc",
          "Hull, Terrell and Buchanan",
          "Mccullough-Powell",
          "Hawkins PLC",
          "Burnett Inc",
          "Clark LLC",
          "Bernard Ltd",
          "Morrison-Andersen",
          "Gilbert Inc",
          "Fitzpatrick-Miller",
          "Morton and Sons",
          "Brown PLC",
          "Porter-Mcgee",
          "Smith-Stevens",
          "Williamson, Fuller and Ward",
          "Rice-Osborne",
          "Camacho, Fox and Smith",
          "Walker-White",
          "Lane Group",
          "Williams, Coffey and Garcia",
          "Martinez-Torres",
          "Watson-Dougherty",
          "Campbell, Shelton and Walker",
          "Nelson, Carroll and Marsh",
          "Marshall-Olsen",
          "Harris Group",
          "Galvan Group",
          "Patton and Sons",
          "Foster-White",
          "Kline, Johnson and Hall",
          "Brown, Parsons and Johnson",
          "Cole, Mckinney and Maddox",
          "Townsend PLC",
          "Paul, Goodman and Richardson",
          "Stewart Ltd",
          "Baldwin-Swanson",
          "Santiago, Jones and Bell",
          "Baird-Henderson",
          "Sanchez, Johnson and Mosley",
          "Goodman, Hughes and White",
          "Sanders-Estrada",
          "Odom-Green",
          "Walters and Sons",
          "Andrews LLC",
          "Wade-Hall",
          "Hebert Inc",
          "Young, Hill and Morgan",
          "Holloway, Brown and Mills",
          "Velazquez Inc",
          "Fleming, Cooper and Wilson",
          "Decker Inc",
          "Sawyer-Ramirez",
          "Morris and Sons",
          "Garrett, Schultz and Carlson",
          "Curtis-Collier",
          "Jackson-Carroll",
          "Schultz LLC",
          "Cruz-Arias",
          "Mason, Flores and Baker",
          "Pitts-Valenzuela",
          "Bates, Pearson and Hardy",
          "Perez PLC",
          "Williams-Palmer",
          "Bennett, Foster and Moreno",
          "Cruz, Callahan and Carpenter",
          "Rogers, Baker and Holmes",
          "Martin-Carson",
          "Esparza-Baker",
          "Black PLC",
          "Galvan, Jenkins and Peck",
          "Delgado and Sons",
          "Franklin, Cox and Lopez",
          "Gutierrez Inc",
          "Boyle, Collier and Marquez",
          "Williams Ltd",
          "Harris, Stevens and Hall",
          "Knight Group",
          "Robinson-Tucker",
          "Lopez, Collins and Rosario",
          "Colon, Phillips and Watkins",
          "Peterson PLC",
          "Miller Inc",
          "Massey, Long and Nguyen",
          "Ruiz Inc",
          "White, Kirby and Cross",
          "Cooper and Sons",
          "Martinez Ltd",
          "Anderson-White",
          "Wilkerson, Suarez and Ayala",
          "Scott-Davis",
          "Moran Ltd",
          "Beasley-Bailey",
          "Johnson-Johnson",
          "Cabrera-White",
          "Roy-Dalton",
          "Burgess, Wise and Lee",
          "Nelson LLC",
          "Kelly, Esparza and Carson",
          "Anderson, Huff and Sanchez",
          "Turner-Colon",
          "Murphy Group",
          "Sutton, Parsons and Rice",
          "Lloyd, Stone and Mcguire",
          "Martinez Inc",
          "Mitchell PLC",
          "Jones, Gonzalez and Camacho",
          "Michael-Lara",
          "Martin Group",
          "Collins Ltd",
          "Camacho Inc",
          "Mills PLC",
          "Lindsey-Strickland",
          "Vargas-Perez",
          "Walker-Daniels",
          "Murphy PLC",
          "White, Ford and Andrews",
          "Schultz-Baker",
          "Bradley, Rios and Perkins",
          "Wall-Reed",
          "Harding-Thomas",
          "Schmidt LLC",
          "Hall-Swanson",
          "Jones-Jones",
          "Perry, Thompson and Vargas",
          "Bell Group",
          "Porter, Leon and Reynolds",
          "White Group",
          "Mueller, Collier and Khan",
          "Miller-Lang",
          "Ware, May and Lopez",
          "Harris-Melton",
          "Simmons Ltd",
          "Cross, Myers and Mueller",
          "Tran-Johnson",
          "Moran-Hunter",
          "Hickman Ltd",
          "Barnes, Smith and Crawford",
          "Miller, Anderson and Davis",
          "Juarez Ltd",
          "Merritt, Thomas and Patterson",
          "Hall Inc",
          "Franco-Sanders",
          "Calderon, Barry and Roberts",
          "Johnson, Brennan and Thompson",
          "Campbell-Gonzalez",
          "Moreno, Dodson and Andrews",
          "Ramirez, Duffy and Beck",
          "Wilkinson-Anderson",
          "Hawkins-Russell",
          "Sanders-Baker",
          "Wilson-Beard",
          "Bryant-Lewis",
          "Bishop and Sons",
          "Hill LLC",
          "Smith, Ramirez and Campbell",
          "Hendrix-Murphy",
          "Chen Inc",
          "Martin, Smith and Patterson",
          "Baker, Martin and Saunders",
          "Parker-Griffith",
          "Wright and Sons",
          "Fuentes PLC",
          "Hess-Little",
          "Russo Inc",
          "Marquez-Garrett",
          "Faulkner, Lewis and Armstrong",
          "Flynn PLC",
          "Fernandez, Long and Nelson",
          "Martinez Ltd",
          "Jones, Soto and Johnson",
          "Newman-Anthony",
          "Crawford, Spencer and Patel",
          "Evans-Gillespie",
          "Jacobson-Arnold",
          "Smith-Williams",
          "Martinez Ltd",
          "Smith, Short and Butler",
          "Patterson-Nelson",
          "Christensen-Daniel",
          "Ferguson PLC",
          "Ritter-Wilson",
          "Wallace, Turner and Young",
          "Jordan-Norris",
          "Peck Ltd",
          "Nelson and Sons",
          "Padilla-Hernandez",
          "Brown, Becker and Jones",
          "Jackson-Hodges",
          "Sanders, Snow and Harrell",
          "Wells, Harris and Bowman",
          "May-Williams",
          "Beck, Choi and Thomas",
          "Warner Group",
          "Anderson, Atkinson and Garza",
          "Graham LLC",
          "Torres Inc",
          "Williams and Sons",
          "Hodge LLC",
          "Peterson Ltd",
          "Reid-Gilbert",
          "Perry Group",
          "Glenn, Miller and Griffin",
          "Richardson Group",
          "Coleman-Brown",
          "Garcia, Smith and Ramos",
          "Walton Inc",
          "Edwards Group",
          "Lewis, Sanchez and Turner",
          "Smith, Terry and Obrien",
          "Green-Rogers",
          "Henson PLC",
          "Phillips, Foster and Maynard",
          "Jackson Inc",
          "Ross, Clark and Webb",
          "Turner, Kim and Leonard",
          "Hamilton, Romero and West",
          "Perry-Davis",
          "Wilson, Terrell and Kim",
          "Becker LLC",
          "Kelly PLC",
          "Mendez and Sons",
          "Porter, Taylor and Moore",
          "Finley Group",
          "Mcguire-Sanders",
          "Drake, George and Davis",
          "Chandler-Palmer",
          "Williams-Smith",
          "Jackson, Collier and Barber",
          "Hill Ltd",
          "Perez and Sons",
          "Ayers and Sons",
          "Holland PLC",
          "Hill, Thompson and Anderson",
          "Hunter-Richardson",
          "Wallace-James",
          "Gomez-Burns",
          "Lam-Gregory",
          "Cooper, Mcclain and Cook",
          "Johnson LLC",
          "Thornton, Fisher and Santiago",
          "Marsh and Sons",
          "Rodriguez Inc",
          "Strickland and Sons",
          "Mason-Ramirez",
          "Jones, Johnson and Vasquez",
          "Holmes, Ramos and Hoffman",
          "Curry, Richards and Lane",
          "Decker, Smith and Wilson",
          "Davies, Thomas and Brooks",
          "Yu-Smith",
          "Nunez, Jefferson and Glover",
          "Smith PLC",
          "Holmes-Rivera",
          "Vasquez LLC",
          "Figueroa LLC",
          "Greene-Baxter",
          "Jenkins, Jones and Jenkins",
          "Christian-Velasquez",
          "Mccoy-Stevenson",
          "Galloway, Gutierrez and Vazquez",
          "Long, Hughes and Gallegos",
          "Miller, Hill and Lawson",
          "Sanchez-Hernandez",
          "Davis Group",
          "Skinner, Ramirez and Kelley",
          "Williamson-Clay",
          "Grant, Mcdonald and Watson",
          "Pearson, Jackson and Fox",
          "Wood-Wilson",
          "Bryant, Davis and Eaton",
          "Jennings-Leon",
          "Miller and Sons",
          "Lamb Inc",
          "Oconnor, Jacobs and Wise",
          "Stein-Bridges",
          "Singleton Group",
          "Lee Inc",
          "Marshall Inc",
          "Peterson, Franklin and Bender",
          "Morales Ltd",
          "Porter Ltd",
          "Brennan-Vasquez",
          "Pittman, Williams and Mejia",
          "Wallace-Prince",
          "Pham and Sons",
          "Nielsen, Rivera and Jones",
          "Diaz, Ball and Juarez",
          "Garrett, Bush and Butler",
          "Bradford-Poole",
          "Carter PLC",
          "Thomas-Alexander",
          "Adams-Sanchez",
          "Russell, Watts and Wade",
          "Gonzalez-Horn",
          "Graham Ltd",
          "Wagner-Carrillo",
          "Lee, Simpson and West",
          "Gonzalez, Lowe and Robinson",
          "Cameron, Hughes and Lara",
          "Hays LLC",
          "Martin-Morales",
          "Wilkinson-Reyes",
          "Buck LLC",
          "Hall LLC",
          "Garrett Group",
          "Thompson, Johnson and Smith",
          "Branch Ltd",
          "Bailey-Davis",
          "Morales, Hansen and Colon",
          "Ross PLC",
          "Hill Ltd",
          "Mayo PLC",
          "Adams Group",
          "Wilson, Wilson and Smith",
          "Valencia and Sons",
          "Hernandez PLC",
          "Ball-Clay",
          "Wiggins-Wallace",
          "Edwards, Davidson and Houston",
          "Morgan PLC",
          "Hernandez Ltd",
          "Cobb, Duffy and Roberts",
          "Brown Inc",
          "Cole and Sons",
          "Baker and Sons",
          "Mcknight, Moody and Mason",
          "Morris-Davis",
          "Price, Carpenter and Adams",
          "Smith-Barr",
          "Wheeler-Summers",
          "Washington, Burns and Li",
          "Rodriguez, Adams and Smith",
          "Walter-Lynn",
          "James PLC",
          "Mata-Burns",
          "Salazar, Myers and Mcmahon",
          "Jones-Leonard",
          "Little-Perez",
          "Smith-Stokes",
          "Cain Group",
          "Glenn-Fernandez",
          "Moore Ltd",
          "Potter, Bailey and Turner",
          "Cooley-Reed",
          "Peterson and Sons",
          "Brown-Solis",
          "Wilcox and Sons",
          "Whitney-Cook",
          "Hill, Hall and Hess",
          "Howard, Wood and Rosales",
          "Aguilar-Scott",
          "Garrett Group",
          "Nelson-Wright",
          "Wilkins-Price",
          "Evans, Taylor and Peterson",
          "Nunez, Porter and Bell",
          "Brooks, Rodriguez and Knight",
          "Willis, Watson and Monroe",
          "Taylor-Keller",
          "Ruiz LLC",
          "Richardson PLC",
          "Foster Ltd",
          "West, Potts and Santos",
          "Jones, Phillips and Mckinney",
          "Boone PLC",
          "Soto, Hubbard and Kim",
          "Spencer-Cardenas",
          "Webster-Sullivan",
          "Escobar and Sons",
          "Vincent, Oneill and Bryant",
          "Becker-Smith",
          "Morris, Gay and Spencer",
          "Kelly, Velasquez and Dickerson",
          "Coleman LLC",
          "Bradshaw Inc",
          "Noble Group",
          "Jones-Gross",
          "Roth, Franklin and Hernandez",
          "Brown Group",
          "Norman, West and Mata",
          "Day-Wang",
          "Lang, Arnold and Holmes",
          "Ayers, Reyes and Lee",
          "Lee, Rodgers and Jordan",
          "Larson, Ruiz and Beasley",
          "Hernandez and Sons",
          "Hodge-Perry",
          "Ibarra, Jackson and Potter",
          "Johnson, Figueroa and Jones",
          "Bailey, Roy and Barnes",
          "Cobb LLC",
          "Miller-Cortez",
          "Obrien-Arnold",
          "Gallagher-Campbell",
          "Payne Group",
          "Kim, Ortega and Jones",
          "Webb, Orr and Benson",
          "Duncan, Mendoza and Mcdowell",
          "Conrad Ltd",
          "Cooper, Johnson and Townsend",
          "Payne and Sons",
          "Miranda, Chang and Hansen",
          "Thompson-Orr",
          "Lopez-Clements",
          "Lang-Garza",
          "Roth-Crawford",
          "Andrews-Martin",
          "Mckay-Turner",
          "George, Miller and Pitts",
          "White LLC",
          "Pope, Delgado and Wood",
          "Smith-Rice",
          "Browning-Durham",
          "Mclaughlin, Wilson and Hunter",
          "Tanner, Schwartz and Weber",
          "Cochran LLC",
          "Rivera, Garcia and Lewis",
          "Washington Inc",
          "Washington PLC",
          "Rosario-Woods",
          "Foster PLC",
          "Bates, Miller and Burns",
          "Taylor, Rowe and Nelson",
          "Nichols, Morales and Knight",
          "Frost-Sutton",
          "Joseph, Trevino and Salinas",
          "Davis, Marquez and Ray",
          "Sanchez Inc",
          "Jackson, White and Brown",
          "Gillespie-Holland",
          "Oliver-Douglas",
          "Ramirez Group",
          "Ramos, Lewis and Romero",
          "Hanson, Smith and Davidson",
          "Rocha-Chapman",
          "Sanchez, Brooks and Mason",
          "Guzman, Evans and Reynolds",
          "Reyes, Parker and Conway",
          "Wilkins PLC",
          "Martin, Anderson and Garcia",
          "White Inc",
          "Johnson, Johnson and Zimmerman",
          "Shaffer, Oliver and Sanchez",
          "Cruz Ltd",
          "Mcmahon, Jones and Baker",
          "Sanchez-Weeks",
          "Weaver-Thompson",
          "Thornton, Daniel and Jensen",
          "Price, Ashley and Coleman",
          "Carroll, Woodard and Mccarty",
          "Cowan, Hamilton and Hancock",
          "Rivera-Berry",
          "Tran-Graham",
          "Chase Ltd",
          "Rivera-Watson",
          "Harrington, Sosa and Mccarty",
          "Aguilar Ltd",
          "Maxwell, Dunlap and Sanford",
          "Sims-Mason",
          "Brandt and Sons",
          "Woods, Gutierrez and Tapia",
          "Love-Grimes",
          "Banks Group",
          "Poole, Parker and Williams",
          "Parks-Steele",
          "Wilson-Bailey",
          "Lee-Jones",
          "Gordon PLC",
          "Nguyen Inc",
          "Gilbert Group",
          "Gray, Smith and Barnes",
          "Wallace LLC",
          "Wilcox PLC",
          "Cherry-Potts",
          "Norman, Miller and Smith",
          "Mcguire, Garcia and Ingram",
          "Thomas, Henderson and Morales",
          "Stokes, Cobb and Hunter",
          "Hull, Simmons and Robinson",
          "Kelley, Blair and Mckinney",
          "Ramos LLC",
          "Clark-Figueroa",
          "Hurst, Carpenter and Hoffman",
          "Kelley-Garcia",
          "Ortiz Ltd",
          "Burns, Davila and Camacho",
          "Gilbert, Garcia and Sellers",
          "Weber Group",
          "Thompson-Nguyen",
          "Lee, Boyd and Lewis",
          "Benson-Dixon",
          "Mccormick, Barron and Mooney",
          "Ramirez-Carroll",
          "Harris, Hamilton and Rose",
          "Patrick, Bailey and West",
          "Diaz, Brooks and Dixon",
          "Peterson, Long and Ward",
          "Smith-Tucker",
          "Walker-Bradford",
          "Holder, Thornton and Young",
          "Perry PLC",
          "Kirby, Oneill and Carter",
          "Fleming Group",
          "Jensen-Lowe",
          "Woods-Li",
          "Conley PLC",
          "Benson and Sons",
          "Anderson Inc",
          "Pierce, Schaefer and Walsh",
          "Jones-Boyd",
          "Snow, Miller and Phelps",
          "Cobb LLC",
          "Munoz-Smith",
          "Palmer-Gross",
          "Smith PLC",
          "Andrews PLC",
          "George, Garner and Zhang",
          "Ford LLC",
          "Stewart, Webster and Ford",
          "Woodward-Phillips",
          "Martin, Burgess and Cameron",
          "Rubio-Williams",
          "Davis-Paul",
          "Aguilar Group",
          "Roberts Ltd",
          "Holmes, Austin and Davidson",
          "Wolf, Hamilton and Rubio",
          "Fuller, Sanders and Molina",
          "Atkins LLC",
          "Sloan, Harris and Green",
          "Brown, Jenkins and Roberts",
          "Russell Ltd",
          "Mcdonald, Bright and Ward",
          "Hall, Weaver and Cook",
          "Holden, Figueroa and Bennett",
          "Velasquez-Baker",
          "Sanford-Moore",
          "Wilson-Green",
          "Kelley, Young and Price",
          "Pittman-Nelson",
          "Hernandez-Reed",
          "Nichols, Hill and Rice",
          "Edwards, Mcbride and Gonzalez",
          "Hart Group",
          "Todd PLC",
          "Thomas, Noble and Porter",
          "Drake, Martin and Jordan",
          "Santiago LLC",
          "Rodgers-Villarreal",
          "Nelson, Bowers and Larson",
          "Taylor-Ramirez",
          "Harding, Delgado and Prince",
          "Branch-Johnson",
          "Shepard, Montoya and Parks",
          "Johnson-Alvarez",
          "Meyer PLC",
          "Jackson-Thomas",
          "Ellison-May",
          "Madden PLC",
          "Bennett and Sons",
          "Conway Group",
          "Harris-Bell",
          "Wilkerson-Wood",
          "Moore-Larson",
          "Moore-Jimenez",
          "Graham-Swanson",
          "Garcia-Montgomery",
          "Shaw-Brown",
          "Camacho PLC",
          "Sanchez, Solomon and Chapman",
          "Brown-Montgomery",
          "Cunningham-Hawkins",
          "Brooks, Ross and Suarez",
          "Flowers-Erickson",
          "Ali, Hamilton and Yates",
          "Aguirre, Morris and Tran",
          "Nolan-Stuart",
          "Walker-Grant",
          "Taylor, Huffman and Miller",
          "Vasquez, Roberts and Johnson",
          "Holland Ltd",
          "Moore and Sons",
          "Black-Hamilton",
          "Berry, Anderson and Hernandez",
          "Brewer-Morrow",
          "Curtis, Fischer and Mendez",
          "Harris-Rogers",
          "Williams Inc",
          "Perry, Smith and Smith",
          "Vincent-Greene",
          "Ritter-Reed",
          "Blake Ltd",
          "Lee-Johnson",
          "Morrison, Leonard and Hill",
          "Johnson, Mcconnell and May",
          "Adkins, Robertson and Lindsey",
          "Joyce, Bowman and Ramirez",
          "Lin LLC",
          "Henry-Brooks",
          "Williamson, Martinez and Contreras",
          "Mercer-Williams",
          "Delgado Ltd",
          "Webb Group",
          "White, Buck and Suarez",
          "Bradley, Miller and Evans",
          "Spencer-Payne",
          "Fisher Ltd",
          "Bishop, Simpson and Nash",
          "Morse, Bishop and Smith",
          "Young Inc",
          "Mcguire, Brooks and Stuart",
          "Robertson-Obrien",
          "Brooks-Schroeder",
          "Clements and Sons",
          "Carter-Wilson",
          "Evans-Shelton",
          "Byrd-Jones",
          "Collins-Becker",
          "Mendez, Watkins and Andrews",
          "Thompson-Chan",
          "Ramos and Sons",
          "Salas, Ritter and Riddle",
          "Weaver, Young and King",
          "Wilson Ltd",
          "Nielsen-Reed",
          "Mueller-Hall",
          "Turner LLC",
          "Vaughan-Perez",
          "Warren, Taylor and Cole",
          "Duffy-Mcmillan",
          "Santana-Brewer",
          "Bush and Sons",
          "Anderson-Burns",
          "Fuller-Walters",
          "Robertson, Frye and Frost",
          "Ramsey, Freeman and Hamilton",
          "Williams LLC",
          "Sampson-Kennedy",
          "Thompson-Porter",
          "Sherman-Massey",
          "Sanchez, Shaw and Acevedo",
          "Hurley-Bush",
          "Watson PLC",
          "Taylor Group",
          "Jackson LLC",
          "Wright LLC",
          "Cooper-Ross",
          "Malone Inc",
          "Henry-Duke",
          "Lindsey, Avila and Brown",
          "Cole-Davis",
          "Nunez-Smith",
          "Williams Group",
          "Russell-Alvarez",
          "Valdez-Fuller",
          "Williams, Carrillo and Rice",
          "Smith-Scott",
          "Smith Group",
          "Barrett, Figueroa and White",
          "Dennis-Sanchez",
          "Gonzalez, Coleman and Le",
          "Pope-Hensley",
          "Petty, Smith and Arnold",
          "Harris and Sons",
          "Jenkins, Phillips and Lopez",
          "Marquez Ltd",
          "Gonzales Group",
          "Lopez PLC",
          "Miller-Wolfe",
          "Douglas-Dalton",
          "Valencia-Boone",
          "Johnson, Harris and Strong",
          "Fritz-Tapia",
          "Grant, Cross and Bennett",
          "Walton-Larson",
          "Morales LLC",
          "Cole-Williams",
          "Evans, Clayton and Ross",
          "Moyer, Lee and Abbott",
          "Perkins-Long",
          "Fernandez-Fischer",
          "Kemp, Ingram and Olsen",
          "Smith-Barrett",
          "Stephens, Cox and Fisher",
          "Schneider, White and Thomas",
          "Dominguez-Franklin",
          "Bishop LLC",
          "Wolfe-Schroeder",
          "Wallace Ltd",
          "Sanchez PLC",
          "Mckay PLC",
          "Ortega Inc",
          "White-Berry",
          "Elliott, Green and Scott",
          "Maddox-Lewis",
          "Miller Ltd",
          "Arias-Mendoza",
          "King-Rocha",
          "Hester-Murphy",
          "Jones-Nguyen",
          "Thomas-Mason",
          "Jacobson-Collins",
          "Goodwin PLC",
          "Hanson, Barron and Castillo",
          "Rodriguez-Morales",
          "Hester, Lee and Kirby",
          "Gonzales Ltd",
          "Jordan-Bass",
          "Cox, Friedman and Martinez",
          "Calhoun Inc",
          "Daniels, Rojas and Pearson",
          "Thomas Ltd",
          "Sanchez PLC",
          "Miller Ltd",
          "Moran Inc",
          "Good, Davis and Smith",
          "Wheeler Ltd",
          "Garcia Ltd",
          "Williams-Thompson",
          "Williams Group",
          "Butler, Perkins and Arnold",
          "Hensley-Love",
          "Pace-Davis",
          "Fields, Christensen and Daniels",
          "Johnson, Scott and Kim",
          "Bullock LLC",
          "Cochran-Phillips",
          "Ochoa-Martin",
          "Wheeler LLC",
          "Miller, Campbell and Russell",
          "Lang-Bryant",
          "Conway-Estrada",
          "Delgado PLC",
          "Harper Ltd",
          "Gallagher-Parker",
          "Anderson-Valdez",
          "Williams Ltd",
          "Rodriguez-Dominguez",
          "Hoover Inc",
          "Morris Inc",
          "Sanchez PLC",
          "Hodge and Sons",
          "Patrick Inc",
          "Roberts, Lin and Davis",
          "Lee, Kemp and Warner",
          "Ford, Carpenter and Valdez",
          "May PLC",
          "Taylor Inc",
          "Hinton, Evans and Harrison",
          "Allen-Garza",
          "Henry-Frazier",
          "Anderson-Leach",
          "Phillips Group",
          "Guerra-Coleman",
          "Frank-Allen",
          "Wallace-Fleming",
          "Vasquez and Sons",
          "Martin Inc",
          "Durham-Lewis",
          "Harper Inc",
          "Manning-Floyd",
          "Kirby and Sons",
          "Padilla, Gibson and Ingram",
          "Smith, Davis and Gutierrez",
          "Miller-Jordan",
          "Clark-Henderson",
          "Myers, Wilcox and Beck",
          "Stokes-Mclean",
          "Dunn-Jackson",
          "Fox, Stevens and Bell",
          "Mitchell, Davidson and Summers",
          "Mason PLC",
          "Smith-Ramirez",
          "Mcdonald PLC",
          "Gill-Boyle",
          "Cooper, Ford and Heath",
          "Wagner, Martinez and Dorsey",
          "Robinson-Thompson",
          "Williams, Nichols and Oliver",
          "Parks PLC",
          "Williamson, Graham and Farrell",
          "Booker-Camacho",
          "Smith, Savage and Oneal",
          "Larsen-Russell",
          "Sanders, Jones and Keller",
          "Smith-Rodriguez",
          "Moore LLC",
          "Aguirre-Reed",
          "Friedman-Le",
          "Keller, Stevenson and Gonzalez",
          "Smith, Thompson and Vance",
          "Wilson, Torres and Rodriguez",
          "Ferrell Inc",
          "Evans-Allison",
          "Ruiz, Sullivan and Gates",
          "Wolfe PLC",
          "Miller and Sons",
          "Sanchez and Sons",
          "Gibson-Armstrong",
          "Horton, Sanchez and Mitchell",
          "Jones PLC",
          "Stevens-Ward",
          "Hawkins Group",
          "Patterson, Herman and Collins",
          "Huang, Nash and Wall",
          "Fuller-Torres",
          "Alvarado, Russell and Moreno",
          "Zhang, Bailey and Burnett",
          "Smith, Shelton and Anderson",
          "Mcdowell and Sons",
          "Gomez LLC",
          "Hayes-Johnson",
          "Torres, Howell and Gomez",
          "Campbell-Serrano",
          "Herrera-Alvarez",
          "Combs, Wise and Clark",
          "Hamilton-Garcia",
          "Haley, Price and Contreras",
          "Cochran-Black",
          "Austin Inc",
          "Reeves-Elliott",
          "Fowler-Martinez",
          "Hutchinson, Roberts and Mcbride",
          "Blanchard LLC",
          "May-Snyder",
          "Mayer, Moore and Murphy",
          "Allen-Mays",
          "Fox, Burgess and White",
          "Pugh-Knight",
          "Jordan and Sons",
          "Gallagher-Kirby",
          "Cortez Group",
          "Fernandez LLC",
          "Miranda LLC",
          "Johnston Ltd",
          "Steele, Fuller and Freeman",
          "Yoder PLC",
          "Bailey Ltd",
          "Olson LLC",
          "Scott PLC",
          "Martin Inc",
          "Morgan, Burns and Gregory",
          "Carroll, Brown and Bates",
          "Kramer-Cox",
          "Yang-Coleman",
          "Owens, Grimes and Patrick",
          "Ashley, Fields and Vazquez",
          "Mayer, Fisher and White",
          "Campbell PLC",
          "Hartman, Lopez and Riley",
          "Gilbert and Sons",
          "Alvarez, Martinez and Robertson",
          "Rivera and Sons",
          "Smith, Greene and Miller",
          "Martinez, Bond and Green",
          "Franco Ltd",
          "Rogers-Rodriguez",
          "Hartman-Rodriguez",
          "Smith Group",
          "Johnson-Andrews",
          "Castillo Inc",
          "Martinez PLC",
          "Smith and Sons",
          "Santiago, Yoder and Stevens",
          "Hicks and Sons",
          "Woods-Murphy",
          "Frey LLC",
          "Moore-Ingram",
          "Aguilar-Campos",
          "Rice-Hernandez",
          "Hernandez-Davis",
          "Anderson-Cruz",
          "Hill Inc",
          "Clark Ltd",
          "Johnson LLC",
          "Gomez-Morgan",
          "Padilla, Mitchell and Clark",
          "Horne PLC",
          "Garcia Group",
          "Boyd, Hines and Higgins",
          "Lopez, Mann and Sanchez",
          "Chapman, Martinez and Powers",
          "Morrison-Stanley",
          "Johnson-Fleming",
          "Robles-Williams",
          "Brooks Ltd",
          "Lang, Brown and Stone",
          "Atkinson, Moore and Nelson",
          "Kim, Maxwell and Moore",
          "Wallace LLC"
         ],
         "type": "scatter",
         "x": [
          85,
          64,
          95,
          79,
          41,
          70,
          63,
          79,
          58,
          92,
          22,
          21,
          49,
          45,
          76,
          10,
          97,
          22,
          65,
          11,
          60,
          54,
          71,
          54,
          56,
          22,
          79,
          4,
          87,
          51,
          43,
          85,
          4,
          11,
          19,
          98,
          58,
          35,
          62,
          19,
          38,
          89,
          67,
          60,
          68,
          71,
          59,
          59,
          58,
          6,
          14,
          66,
          34,
          61,
          78,
          26,
          52,
          89,
          2,
          33,
          25,
          95,
          15,
          58,
          79,
          77,
          26,
          26,
          15,
          52,
          19,
          23,
          71,
          22,
          63,
          89,
          37,
          93,
          39,
          33,
          75,
          99,
          66,
          94,
          3,
          78,
          17,
          93,
          81,
          1,
          28,
          46,
          20,
          32,
          33,
          16,
          70,
          66,
          56,
          25,
          49,
          50,
          54,
          62,
          76,
          19,
          15,
          96,
          33,
          25,
          43,
          40,
          14,
          71,
          9,
          28,
          47,
          93,
          45,
          35,
          59,
          49,
          13,
          9,
          29,
          5,
          51,
          89,
          62,
          21,
          2,
          66,
          49,
          52,
          19,
          50,
          31,
          52,
          87,
          20,
          61,
          31,
          83,
          31,
          29,
          66,
          34,
          49,
          42,
          90,
          73,
          26,
          1,
          96,
          7,
          95,
          6,
          5,
          49,
          77,
          21,
          37,
          18,
          37,
          62,
          27,
          62,
          80,
          84,
          67,
          81,
          40,
          85,
          80,
          3,
          8,
          90,
          81,
          8,
          53,
          9,
          68,
          72,
          95,
          89,
          17,
          64,
          39,
          60,
          32,
          74,
          66,
          67,
          6,
          55,
          26,
          40,
          82,
          70,
          36,
          79,
          78,
          66,
          83,
          29,
          32,
          83,
          51,
          25,
          36,
          49,
          53,
          15,
          90,
          68,
          1,
          11,
          78,
          74,
          50,
          7,
          31,
          75,
          93,
          58,
          84,
          91,
          33,
          34,
          24,
          89,
          14,
          92,
          39,
          73,
          43,
          57,
          21,
          61,
          68,
          68,
          76,
          93,
          36,
          34,
          25,
          80,
          7,
          3,
          46,
          13,
          86,
          24,
          76,
          5,
          94,
          99,
          72,
          63,
          10,
          90,
          48,
          75,
          21,
          2,
          19,
          13,
          84,
          83,
          85,
          98,
          77,
          60,
          20,
          82,
          81,
          16,
          34,
          84,
          59,
          57,
          36,
          2,
          81,
          63,
          75,
          90,
          12,
          50,
          62,
          99,
          8,
          71,
          19,
          10,
          49,
          96,
          84,
          19,
          61,
          41,
          16,
          13,
          53,
          17,
          91,
          40,
          88,
          50,
          36,
          10,
          65,
          28,
          55,
          92,
          25,
          94,
          47,
          59,
          5,
          4,
          79,
          57,
          46,
          25,
          34,
          49,
          9,
          58,
          53,
          4,
          64,
          24,
          16,
          24,
          66,
          39,
          69,
          29,
          9,
          39,
          65,
          18,
          47,
          17,
          64,
          42,
          85,
          41,
          20,
          68,
          56,
          24,
          36,
          79,
          68,
          56,
          72,
          74,
          25,
          89,
          71,
          79,
          15,
          89,
          47,
          23,
          29,
          51,
          72,
          44,
          91,
          2,
          40,
          68,
          80,
          19,
          18,
          7,
          39,
          18,
          10,
          77,
          78,
          84,
          28,
          15,
          31,
          83,
          40,
          60,
          82,
          54,
          43,
          97,
          41,
          20,
          8,
          59,
          67,
          42,
          85,
          82,
          29,
          60,
          7,
          33,
          20,
          37,
          64,
          30,
          63,
          28,
          55,
          92,
          54,
          19,
          95,
          13,
          33,
          6,
          75,
          8,
          59,
          65,
          66,
          30,
          91,
          40,
          5,
          20,
          95,
          89,
          46,
          12,
          91,
          3,
          82,
          70,
          56,
          49,
          85,
          26,
          26,
          86,
          67,
          31,
          67,
          75,
          85,
          72,
          43,
          80,
          88,
          91,
          65,
          81,
          30,
          15,
          46,
          55,
          81,
          4,
          51,
          43,
          85,
          68,
          99,
          68,
          19,
          70,
          7,
          5,
          95,
          59,
          2,
          4,
          34,
          99,
          60,
          42,
          44,
          83,
          82,
          95,
          54,
          95,
          87,
          34,
          81,
          14,
          18,
          1,
          54,
          69,
          65,
          51,
          36,
          38,
          74,
          89,
          76,
          75,
          60,
          13,
          25,
          54,
          90,
          3,
          98,
          98,
          47,
          91,
          79,
          12,
          73,
          95,
          40,
          38,
          8,
          44,
          39,
          31,
          85,
          41,
          75,
          8,
          56,
          47,
          89,
          20,
          28,
          42,
          84,
          10,
          72,
          17,
          88,
          76,
          40,
          70,
          57,
          55,
          8,
          48,
          64,
          54,
          38,
          66,
          98,
          56,
          60,
          57,
          27,
          86,
          21,
          87,
          49,
          36,
          42,
          97,
          30,
          39,
          72,
          52,
          79,
          60,
          69,
          40,
          36,
          21,
          21,
          68,
          95,
          95,
          43,
          88,
          44,
          31,
          34,
          76,
          54,
          95,
          81,
          67,
          66,
          72,
          75,
          68,
          49,
          93,
          53,
          46,
          31,
          23,
          85,
          86,
          2,
          40,
          80,
          69,
          7,
          21,
          25,
          24,
          77,
          66,
          99,
          62,
          80,
          49,
          94,
          80,
          94,
          42,
          12,
          52,
          19,
          49,
          23,
          4,
          90,
          32,
          20,
          52,
          85,
          21,
          71,
          30,
          8,
          33,
          71,
          36,
          71,
          83,
          29,
          17,
          42,
          77,
          54,
          13,
          62,
          96,
          12,
          20,
          94,
          4,
          49,
          21,
          70,
          14,
          6,
          69,
          70,
          13,
          76,
          47,
          66,
          17,
          4,
          24,
          60,
          93,
          21,
          37,
          8,
          16,
          89,
          38,
          58,
          41,
          83,
          33,
          25,
          94,
          92,
          6,
          95,
          11,
          63,
          25,
          79,
          23,
          97,
          18,
          7,
          80,
          97,
          10,
          85,
          53,
          3,
          27,
          81,
          85,
          90,
          59,
          84,
          24,
          55,
          72,
          24,
          85,
          27,
          75,
          33,
          27,
          67,
          16,
          36,
          51,
          62,
          32,
          13,
          49,
          82,
          29,
          72,
          78,
          93,
          94,
          37,
          46,
          98,
          28,
          97,
          67,
          16,
          88,
          58,
          10,
          53,
          98,
          39,
          3,
          85,
          42,
          58,
          42,
          79,
          48,
          84,
          94,
          35,
          27,
          2,
          8,
          89,
          20,
          91,
          66,
          95,
          2,
          8,
          51,
          7,
          54,
          41,
          75,
          62,
          52,
          36,
          55,
          12,
          8,
          76,
          96,
          3,
          86,
          96,
          48,
          37,
          48,
          68,
          36,
          99,
          68,
          21,
          34,
          76,
          65,
          94,
          39,
          24,
          88,
          42,
          34,
          56,
          51,
          7,
          3,
          83,
          28,
          13,
          56,
          43,
          52,
          28,
          99,
          59,
          7,
          16,
          7,
          64,
          61,
          6,
          36,
          1,
          60,
          88,
          14,
          67,
          76,
          93,
          66,
          80,
          79,
          90,
          17,
          9,
          96,
          96,
          38,
          67,
          44,
          35,
          26,
          19,
          65,
          17,
          52,
          81,
          45,
          7,
          91,
          13,
          97,
          73,
          22,
          21,
          14,
          17,
          52,
          17,
          16,
          56,
          43,
          36,
          27,
          73,
          25,
          13,
          78,
          65,
          2,
          69,
          37,
          8,
          3,
          64,
          73,
          4,
          73,
          67,
          36,
          71,
          72,
          15,
          54,
          88,
          66,
          90,
          18,
          64,
          95,
          66,
          86,
          13,
          25,
          91,
          40,
          61,
          23,
          49,
          71,
          34,
          28,
          95,
          3,
          4,
          59,
          97,
          21,
          45,
          72,
          35,
          9,
          51,
          1,
          84,
          51,
          6,
          99,
          92,
          11,
          29,
          11,
          25,
          20,
          19,
          18,
          28,
          81,
          17,
          89,
          30,
          2,
          32,
          59,
          24,
          38,
          63,
          54,
          74,
          77,
          54,
          79,
          2,
          20,
          65,
          85,
          3,
          83,
          57,
          50,
          84,
          83,
          64,
          92,
          69,
          61,
          31,
          69,
          44,
          34,
          47,
          12,
          39,
          4,
          35,
          51,
          46,
          75,
          57,
          35,
          43,
          20,
          95,
          72,
          67,
          8,
          55,
          64,
          44,
          6,
          35,
          99,
          45,
          26,
          39,
          75,
          25,
          9,
          73,
          57,
          32,
          53,
          39,
          88,
          44,
          4,
          6,
          37,
          13,
          70,
          9,
          5,
          60,
          14,
          96,
          66,
          24,
          79,
          27,
          1,
          76,
          59,
          59,
          84,
          79
         ],
         "y": [
          1196.95,
          1010.34,
          400.8,
          338.6,
          839.79,
          1498.13,
          975.77,
          530.7,
          178.52,
          774.79,
          806.59,
          317.64,
          1460.22,
          761.48,
          965.15,
          1354.69,
          1025.05,
          1071.99,
          1415.74,
          307.58,
          678.72,
          1092.94,
          182.24,
          1431.15,
          1019.82,
          1458.52,
          1333.31,
          1481.04,
          785.38,
          421.01,
          537.32,
          192.48,
          875.91,
          546.53,
          278.72,
          335.83,
          312.97,
          411.89,
          1070.05,
          704.12,
          257.6,
          287.36,
          146.89,
          1426.06,
          293.4,
          228.77,
          189.31,
          694.54,
          270.46,
          1182.99,
          1289.42,
          433.88,
          680.7,
          189.93,
          965.16,
          1100.78,
          527.45,
          903.7,
          1377.31,
          1357.33,
          1036.47,
          773.02,
          1292.49,
          1123.18,
          288.55,
          261.06,
          167.99,
          1327.33,
          912.97,
          1467.95,
          388.88,
          1266.01,
          1371.76,
          1028.67,
          1477.41,
          1236.37,
          974.75,
          1062.8,
          118.14,
          1422.58,
          365.41,
          1418.24,
          1228.78,
          1141.24,
          1335.67,
          479.23,
          254.4,
          481.26,
          1409.49,
          157.23,
          296.24,
          1439.55,
          1187.15,
          273.35,
          950.36,
          903.82,
          1207.94,
          219.93,
          862.18,
          803.5,
          949.75,
          1115.61,
          900.04,
          907.24,
          352.6,
          897.86,
          1007.3,
          757.33,
          923.2,
          823.68,
          1330.5,
          1318.54,
          1474.17,
          992.42,
          1040.94,
          626.57,
          259.15,
          1034.38,
          613.96,
          1337.3,
          359.23,
          589.57,
          701.08,
          121.62,
          1178.86,
          1447.8,
          1423.78,
          1444.64,
          824.69,
          912.6,
          958.86,
          938.75,
          1412.91,
          1091.68,
          988.44,
          321.11,
          384.15,
          123.55,
          811.97,
          742.68,
          205.46,
          978.13,
          735.25,
          385.39,
          696.42,
          1194.98,
          464.15,
          1085.16,
          687.38,
          894.34,
          598.5,
          618.99,
          104.99,
          1269.71,
          985.83,
          1352.48,
          158.46,
          270.04,
          434.65,
          624.74,
          1278.51,
          613.3,
          1056.74,
          482.47,
          262.64,
          1237.37,
          811.73,
          422.33,
          312.37,
          1370.68,
          1245.2,
          423.8,
          1141.1,
          518.67,
          409.35,
          809.43,
          1256.1,
          782.21,
          122.76,
          1345.71,
          1273.26,
          1352.3,
          413.08,
          141.32,
          998.82,
          1136.87,
          251.06,
          960.48,
          959.18,
          1158.35,
          682.66,
          281.6,
          464.51,
          1262.78,
          806.17,
          448.12,
          505.85,
          1285.81,
          1243.41,
          850.08,
          1039.85,
          842.01,
          1368.15,
          1358.1,
          1150.87,
          132.64,
          580.86,
          1276.9,
          1119.15,
          213.05,
          574.12,
          178.98,
          1064.72,
          763.9,
          1239.52,
          1123.8,
          975.91,
          627.75,
          896.28,
          180.15,
          1493.63,
          1128.07,
          177.94,
          920.56,
          818.84,
          1360.71,
          550.72,
          927.54,
          114.6,
          959.13,
          646.09,
          249.67,
          826.54,
          1411.76,
          212.78,
          501.45,
          981.39,
          429.75,
          759.37,
          1485.6,
          867.3,
          164.03,
          992.06,
          942.27,
          609.95,
          1458.61,
          1171.07,
          894.1,
          154.91,
          382.59,
          1347.33,
          454.88,
          1481.19,
          1164.44,
          1409.33,
          189.14,
          595.16,
          1185.69,
          373.46,
          794.72,
          1045.12,
          644.86,
          457.28,
          991.09,
          1389.02,
          1122.88,
          1224.24,
          1317.86,
          796.46,
          1148.23,
          609.77,
          1252.52,
          1036.75,
          848.45,
          130.8,
          1083.43,
          323.28,
          1088.57,
          604.9,
          283.19,
          1371.75,
          1100.35,
          883.91,
          388.45,
          958.9,
          603.59,
          299.33,
          791.97,
          246.8,
          309.99,
          723.04,
          1250.45,
          883.64,
          1047.17,
          1446.33,
          319.74,
          983.28,
          661.38,
          1195.38,
          1453.57,
          1483.71,
          570.97,
          1210.29,
          687.46,
          1030.8,
          1285.42,
          1148.39,
          281.55,
          644.01,
          819.04,
          432.04,
          1460.33,
          154.06,
          1070.26,
          601.41,
          855.95,
          364.45,
          156.02,
          811.59,
          1118.63,
          764.81,
          898.28,
          507.13,
          404.89,
          1018.82,
          1231.35,
          165.06,
          170.43,
          810.9,
          1060.85,
          1409.14,
          123.45,
          377.8,
          883.09,
          985.02,
          1157.78,
          1074.85,
          1316.82,
          608.12,
          988.39,
          589.1,
          357.98,
          1297.35,
          944.16,
          1376.5,
          1138.9,
          130.68,
          1276.97,
          1158.59,
          1239.85,
          1167.79,
          339.26,
          1096.95,
          1251.71,
          655.7,
          805.15,
          781.03,
          1264.82,
          255.97,
          176.36,
          987.65,
          873.85,
          437.73,
          338.95,
          1184.54,
          972.1,
          846.09,
          865.64,
          1154.25,
          494.84,
          348.43,
          1278.82,
          381.83,
          719.28,
          1486.29,
          1378.49,
          467.93,
          833.19,
          1388.36,
          370.28,
          1307.36,
          859.92,
          563.7,
          1211.87,
          1426.72,
          546.44,
          627.54,
          1387.12,
          299.51,
          1037.17,
          157.21,
          185.13,
          573.99,
          566.73,
          921.44,
          1151.12,
          384.45,
          1074.32,
          473.48,
          1449.84,
          1108.08,
          911.36,
          1182.85,
          483.26,
          479.44,
          897.02,
          437.56,
          872.16,
          965.18,
          110.16,
          434.12,
          1217.5,
          293.24,
          249.49,
          681.33,
          298.02,
          219.99,
          733.08,
          877.61,
          1426.34,
          185.44,
          1168.22,
          1003.56,
          1474.5,
          726.99,
          911.58,
          1209.12,
          537.73,
          120.3,
          836.88,
          187.57,
          170.33,
          1118.72,
          530.21,
          1435,
          943.28,
          497.32,
          519.46,
          767.55,
          1411.66,
          636.1,
          554.03,
          1204.69,
          1037.32,
          971.16,
          1164.58,
          201.85,
          256.42,
          420.81,
          443.56,
          166.05,
          874.01,
          1137.26,
          901.21,
          269.43,
          1158.16,
          547.67,
          203.92,
          374.41,
          534.44,
          1019.36,
          965.45,
          630.85,
          1277.62,
          364.81,
          536.8,
          264.68,
          870.58,
          356.09,
          1211.43,
          884.15,
          1119.68,
          885.86,
          894.2,
          1203.42,
          1240.29,
          783.9,
          580.56,
          426.56,
          479.02,
          356.01,
          325.12,
          1143.91,
          163.19,
          619.85,
          887.6,
          443.05,
          157.5,
          463.3,
          1066.94,
          688.69,
          157.54,
          808.78,
          739.42,
          1128.1,
          784.93,
          520.93,
          245.81,
          1085.52,
          193.77,
          1178.88,
          508.76,
          208.32,
          887.06,
          1041.67,
          849.64,
          115.22,
          1477.14,
          107.05,
          221.85,
          985.15,
          1184.61,
          688.29,
          1104.15,
          732.04,
          1022.16,
          1134.19,
          551.79,
          643.18,
          325.48,
          1151.03,
          1429.03,
          203.41,
          163.62,
          1083.41,
          879.86,
          1170.21,
          1396.17,
          481.52,
          501.28,
          1201.43,
          500.75,
          184.9,
          690.06,
          260.38,
          535.11,
          1082.81,
          967.71,
          1409.21,
          1443.99,
          656.01,
          307.83,
          1252.68,
          577.49,
          866.4,
          448.06,
          1302.69,
          1218.75,
          1174.32,
          463.44,
          1205.37,
          907.71,
          315.81,
          527.16,
          1317.59,
          858.06,
          1196.33,
          857.2,
          1314.34,
          721.93,
          783.61,
          904.96,
          1415.83,
          512.52,
          818.49,
          965.34,
          945.23,
          1027.51,
          297.69,
          1302.2,
          1472.67,
          662.12,
          193.87,
          997.81,
          610.7,
          549.53,
          1042.66,
          178.22,
          1159.99,
          455.7,
          478.36,
          209.32,
          1293.55,
          314.93,
          1048.2,
          796.02,
          674.58,
          1013.86,
          941.59,
          1276.39,
          733.77,
          888.01,
          766.06,
          1171.43,
          724.55,
          1297.7,
          882.11,
          622.74,
          240.24,
          1136.68,
          735.35,
          498.83,
          342.08,
          641.22,
          338.47,
          995.72,
          678.18,
          1294.76,
          691.39,
          196.78,
          813.19,
          1345.42,
          1465.14,
          1483.91,
          113.9,
          284.83,
          723.74,
          493.05,
          1499.25,
          883.16,
          788.54,
          410.05,
          783.11,
          274.04,
          399.41,
          805.82,
          355.5,
          690.46,
          576.03,
          1391.33,
          418.73,
          533.99,
          1139.64,
          219.12,
          407.76,
          651.39,
          1314.06,
          363.28,
          1104.19,
          1183.15,
          393.24,
          118.69,
          149.81,
          498.36,
          1100.71,
          388.02,
          283.69,
          1459.69,
          1427.1,
          1212.06,
          1037.33,
          677.09,
          1319.53,
          153.61,
          1195.66,
          643.43,
          945.19,
          1265.9,
          523.9,
          1315.25,
          504.69,
          372.29,
          189.44,
          1025.19,
          652.8,
          1291.19,
          1369.06,
          530.13,
          1019.28,
          139.14,
          1387.62,
          1385.88,
          493.11,
          399.77,
          172.08,
          973.62,
          976.7,
          583.14,
          763.75,
          1082.67,
          834.45,
          1390.89,
          464.6,
          1408.39,
          198.98,
          409.55,
          741.59,
          732.93,
          898.43,
          1458.6,
          781.4,
          683.62,
          180.79,
          750.48,
          574.97,
          852.86,
          1175.92,
          298.95,
          1441.98,
          207.45,
          883.15,
          1072.63,
          1005.71,
          624.9,
          1385.71,
          835.18,
          1409.11,
          728.62,
          783.1,
          778.23,
          1350.1,
          1497.89,
          320.62,
          1228.12,
          1334.89,
          226.71,
          701.97,
          1259.98,
          117.52,
          1341.15,
          318.31,
          417.08,
          362.38,
          295.03,
          899.37,
          300.7,
          1322.73,
          1058.62,
          1016.7,
          526.11,
          468.68,
          1338.67,
          1235.36,
          1151.34,
          1359.24,
          376.75,
          167.87,
          514.23,
          143.25,
          358.15,
          660.61,
          1085.48,
          1253.69,
          869.95,
          1266.76,
          650.55,
          1218.14,
          1179.65,
          448.78,
          286.53,
          461.16,
          571.36,
          235.77,
          879.61,
          513.64,
          1422.75,
          540.51,
          1006.68,
          261.2,
          971.93,
          147.42,
          246.83,
          678.62,
          1485.67,
          671.47,
          412.76,
          747.06,
          1261.17,
          1384.31,
          1343.65,
          1068.1,
          1245.83,
          799.51,
          462.26,
          635.51,
          730.63,
          1223.93,
          1183.94,
          1443.45,
          103.32,
          944.62,
          433.44,
          933.94,
          1211.35,
          370.12,
          1494.45,
          459.53,
          1494.78,
          556.39,
          666.55,
          371.56,
          575.53,
          140.8,
          1073.31,
          341.51,
          300.03,
          1230.49,
          975.8,
          305.39,
          310.1,
          1078.6,
          829.17,
          665.49,
          1016.94,
          1201.92,
          1021.34,
          1479.23,
          294.03,
          1000.36,
          1354.53,
          1158.54,
          176.21,
          367.91,
          1110.66,
          604.24,
          1309.52,
          843.86,
          518.31,
          1393.2,
          546.36,
          1137.5,
          1217.74,
          701.18,
          1053.4,
          551.21,
          1279.24,
          1339.05,
          741.44,
          377.93,
          1468.09,
          1270.14,
          166.35,
          851.8,
          1283.7,
          318.26,
          985.58,
          402.39,
          545.15,
          398.85,
          978.57,
          498.97,
          458.48,
          1077.06,
          498.77,
          448.61,
          169.7,
          850.45,
          599.19,
          481.84,
          1321.92,
          631.91,
          587.47,
          955.3,
          1358.18,
          458.29,
          597.5,
          381.11,
          1369.73,
          784.79,
          977.58,
          831.95,
          549.92,
          712.19,
          1355.42,
          246.74,
          1174.82,
          678.21,
          1401.12,
          1131.17,
          992.14,
          585.08,
          756.49,
          1122.28,
          913.01,
          1251.55,
          329.18,
          1466.37,
          698.67,
          748.66,
          1114.73,
          151.58,
          1281.01,
          1250.06,
          1018.23,
          187.82,
          665.03,
          823.78,
          1223.95,
          1462.63,
          165.21,
          846.09,
          265.91,
          386.86,
          475.83,
          878.03,
          331.35,
          619.38,
          336.3,
          861.39,
          276.84,
          1227.05,
          1249.73,
          956.78,
          1002.94,
          1200.66,
          511.23,
          308.67,
          229.36,
          644.55,
          1283.63,
          933.63,
          298.8,
          192.16,
          506.71,
          490.28,
          951.85,
          1139.45,
          1481.7,
          1004.17,
          1488.37,
          1416.21,
          353.14,
          1298.8,
          1343,
          1159.58,
          1157.65,
          1348.6,
          1326.3,
          1418.32,
          979.95,
          281.69,
          841.69,
          753.55,
          831.78,
          708.09,
          976.1,
          1349.26,
          559.89,
          780,
          411.37,
          1318.33,
          782.06,
          705.82,
          843.61,
          865.12,
          1106.02,
          910.22,
          374.64,
          1398.62,
          321.91,
          1412.84,
          245.35,
          1486.13,
          1172.27,
          734.72,
          554.42,
          859.11,
          790.63,
          581.79,
          737.52,
          1429.56,
          1049.5,
          589.13,
          948.49,
          504.7,
          605.61,
          573.22,
          395.07,
          1484.79,
          1284.76,
          1199.91,
          240.38,
          174.42,
          1447.46,
          947.69,
          1366.7,
          781,
          557.32,
          455.29,
          416.77,
          1124.85,
          360.53,
          613.68,
          1471.33,
          919.9,
          773.39,
          1359.72,
          1076.75,
          961.14,
          665,
          715.6,
          435.43,
          1424.36,
          766.92,
          1387.23,
          1386.69,
          1159.26,
          544.31,
          331.98,
          973.97
         ]
        }
       ],
       "layout": {
        "hovermode": "closest",
        "template": {
         "data": {
          "bar": [
           {
            "error_x": {
             "color": "#2a3f5f"
            },
            "error_y": {
             "color": "#2a3f5f"
            },
            "marker": {
             "line": {
              "color": "#E5ECF6",
              "width": 0.5
             },
             "pattern": {
              "fillmode": "overlay",
              "size": 10,
              "solidity": 0.2
             }
            },
            "type": "bar"
           }
          ],
          "barpolar": [
           {
            "marker": {
             "line": {
              "color": "#E5ECF6",
              "width": 0.5
             },
             "pattern": {
              "fillmode": "overlay",
              "size": 10,
              "solidity": 0.2
             }
            },
            "type": "barpolar"
           }
          ],
          "carpet": [
           {
            "aaxis": {
             "endlinecolor": "#2a3f5f",
             "gridcolor": "white",
             "linecolor": "white",
             "minorgridcolor": "white",
             "startlinecolor": "#2a3f5f"
            },
            "baxis": {
             "endlinecolor": "#2a3f5f",
             "gridcolor": "white",
             "linecolor": "white",
             "minorgridcolor": "white",
             "startlinecolor": "#2a3f5f"
            },
            "type": "carpet"
           }
          ],
          "choropleth": [
           {
            "colorbar": {
             "outlinewidth": 0,
             "ticks": ""
            },
            "type": "choropleth"
           }
          ],
          "contour": [
           {
            "colorbar": {
             "outlinewidth": 0,
             "ticks": ""
            },
            "colorscale": [
             [
              0,
              "#0d0887"
             ],
             [
              0.1111111111111111,
              "#46039f"
             ],
             [
              0.2222222222222222,
              "#7201a8"
             ],
             [
              0.3333333333333333,
              "#9c179e"
             ],
             [
              0.4444444444444444,
              "#bd3786"
             ],
             [
              0.5555555555555556,
              "#d8576b"
             ],
             [
              0.6666666666666666,
              "#ed7953"
             ],
             [
              0.7777777777777778,
              "#fb9f3a"
             ],
             [
              0.8888888888888888,
              "#fdca26"
             ],
             [
              1,
              "#f0f921"
             ]
            ],
            "type": "contour"
           }
          ],
          "contourcarpet": [
           {
            "colorbar": {
             "outlinewidth": 0,
             "ticks": ""
            },
            "type": "contourcarpet"
           }
          ],
          "heatmap": [
           {
            "colorbar": {
             "outlinewidth": 0,
             "ticks": ""
            },
            "colorscale": [
             [
              0,
              "#0d0887"
             ],
             [
              0.1111111111111111,
              "#46039f"
             ],
             [
              0.2222222222222222,
              "#7201a8"
             ],
             [
              0.3333333333333333,
              "#9c179e"
             ],
             [
              0.4444444444444444,
              "#bd3786"
             ],
             [
              0.5555555555555556,
              "#d8576b"
             ],
             [
              0.6666666666666666,
              "#ed7953"
             ],
             [
              0.7777777777777778,
              "#fb9f3a"
             ],
             [
              0.8888888888888888,
              "#fdca26"
             ],
             [
              1,
              "#f0f921"
             ]
            ],
            "type": "heatmap"
           }
          ],
          "heatmapgl": [
           {
            "colorbar": {
             "outlinewidth": 0,
             "ticks": ""
            },
            "colorscale": [
             [
              0,
              "#0d0887"
             ],
             [
              0.1111111111111111,
              "#46039f"
             ],
             [
              0.2222222222222222,
              "#7201a8"
             ],
             [
              0.3333333333333333,
              "#9c179e"
             ],
             [
              0.4444444444444444,
              "#bd3786"
             ],
             [
              0.5555555555555556,
              "#d8576b"
             ],
             [
              0.6666666666666666,
              "#ed7953"
             ],
             [
              0.7777777777777778,
              "#fb9f3a"
             ],
             [
              0.8888888888888888,
              "#fdca26"
             ],
             [
              1,
              "#f0f921"
             ]
            ],
            "type": "heatmapgl"
           }
          ],
          "histogram": [
           {
            "marker": {
             "pattern": {
              "fillmode": "overlay",
              "size": 10,
              "solidity": 0.2
             }
            },
            "type": "histogram"
           }
          ],
          "histogram2d": [
           {
            "colorbar": {
             "outlinewidth": 0,
             "ticks": ""
            },
            "colorscale": [
             [
              0,
              "#0d0887"
             ],
             [
              0.1111111111111111,
              "#46039f"
             ],
             [
              0.2222222222222222,
              "#7201a8"
             ],
             [
              0.3333333333333333,
              "#9c179e"
             ],
             [
              0.4444444444444444,
              "#bd3786"
             ],
             [
              0.5555555555555556,
              "#d8576b"
             ],
             [
              0.6666666666666666,
              "#ed7953"
             ],
             [
              0.7777777777777778,
              "#fb9f3a"
             ],
             [
              0.8888888888888888,
              "#fdca26"
             ],
             [
              1,
              "#f0f921"
             ]
            ],
            "type": "histogram2d"
           }
          ],
          "histogram2dcontour": [
           {
            "colorbar": {
             "outlinewidth": 0,
             "ticks": ""
            },
            "colorscale": [
             [
              0,
              "#0d0887"
             ],
             [
              0.1111111111111111,
              "#46039f"
             ],
             [
              0.2222222222222222,
              "#7201a8"
             ],
             [
              0.3333333333333333,
              "#9c179e"
             ],
             [
              0.4444444444444444,
              "#bd3786"
             ],
             [
              0.5555555555555556,
              "#d8576b"
             ],
             [
              0.6666666666666666,
              "#ed7953"
             ],
             [
              0.7777777777777778,
              "#fb9f3a"
             ],
             [
              0.8888888888888888,
              "#fdca26"
             ],
             [
              1,
              "#f0f921"
             ]
            ],
            "type": "histogram2dcontour"
           }
          ],
          "mesh3d": [
           {
            "colorbar": {
             "outlinewidth": 0,
             "ticks": ""
            },
            "type": "mesh3d"
           }
          ],
          "parcoords": [
           {
            "line": {
             "colorbar": {
              "outlinewidth": 0,
              "ticks": ""
             }
            },
            "type": "parcoords"
           }
          ],
          "pie": [
           {
            "automargin": true,
            "type": "pie"
           }
          ],
          "scatter": [
           {
            "fillpattern": {
             "fillmode": "overlay",
             "size": 10,
             "solidity": 0.2
            },
            "type": "scatter"
           }
          ],
          "scatter3d": [
           {
            "line": {
             "colorbar": {
              "outlinewidth": 0,
              "ticks": ""
             }
            },
            "marker": {
             "colorbar": {
              "outlinewidth": 0,
              "ticks": ""
             }
            },
            "type": "scatter3d"
           }
          ],
          "scattercarpet": [
           {
            "marker": {
             "colorbar": {
              "outlinewidth": 0,
              "ticks": ""
             }
            },
            "type": "scattercarpet"
           }
          ],
          "scattergeo": [
           {
            "marker": {
             "colorbar": {
              "outlinewidth": 0,
              "ticks": ""
             }
            },
            "type": "scattergeo"
           }
          ],
          "scattergl": [
           {
            "marker": {
             "colorbar": {
              "outlinewidth": 0,
              "ticks": ""
             }
            },
            "type": "scattergl"
           }
          ],
          "scattermapbox": [
           {
            "marker": {
             "colorbar": {
              "outlinewidth": 0,
              "ticks": ""
             }
            },
            "type": "scattermapbox"
           }
          ],
          "scatterpolar": [
           {
            "marker": {
             "colorbar": {
              "outlinewidth": 0,
              "ticks": ""
             }
            },
            "type": "scatterpolar"
           }
          ],
          "scatterpolargl": [
           {
            "marker": {
             "colorbar": {
              "outlinewidth": 0,
              "ticks": ""
             }
            },
            "type": "scatterpolargl"
           }
          ],
          "scatterternary": [
           {
            "marker": {
             "colorbar": {
              "outlinewidth": 0,
              "ticks": ""
             }
            },
            "type": "scatterternary"
           }
          ],
          "surface": [
           {
            "colorbar": {
             "outlinewidth": 0,
             "ticks": ""
            },
            "colorscale": [
             [
              0,
              "#0d0887"
             ],
             [
              0.1111111111111111,
              "#46039f"
             ],
             [
              0.2222222222222222,
              "#7201a8"
             ],
             [
              0.3333333333333333,
              "#9c179e"
             ],
             [
              0.4444444444444444,
              "#bd3786"
             ],
             [
              0.5555555555555556,
              "#d8576b"
             ],
             [
              0.6666666666666666,
              "#ed7953"
             ],
             [
              0.7777777777777778,
              "#fb9f3a"
             ],
             [
              0.8888888888888888,
              "#fdca26"
             ],
             [
              1,
              "#f0f921"
             ]
            ],
            "type": "surface"
           }
          ],
          "table": [
           {
            "cells": {
             "fill": {
              "color": "#EBF0F8"
             },
             "line": {
              "color": "white"
             }
            },
            "header": {
             "fill": {
              "color": "#C8D4E3"
             },
             "line": {
              "color": "white"
             }
            },
            "type": "table"
           }
          ]
         },
         "layout": {
          "annotationdefaults": {
           "arrowcolor": "#2a3f5f",
           "arrowhead": 0,
           "arrowwidth": 1
          },
          "autotypenumbers": "strict",
          "coloraxis": {
           "colorbar": {
            "outlinewidth": 0,
            "ticks": ""
           }
          },
          "colorscale": {
           "diverging": [
            [
             0,
             "#8e0152"
            ],
            [
             0.1,
             "#c51b7d"
            ],
            [
             0.2,
             "#de77ae"
            ],
            [
             0.3,
             "#f1b6da"
            ],
            [
             0.4,
             "#fde0ef"
            ],
            [
             0.5,
             "#f7f7f7"
            ],
            [
             0.6,
             "#e6f5d0"
            ],
            [
             0.7,
             "#b8e186"
            ],
            [
             0.8,
             "#7fbc41"
            ],
            [
             0.9,
             "#4d9221"
            ],
            [
             1,
             "#276419"
            ]
           ],
           "sequential": [
            [
             0,
             "#0d0887"
            ],
            [
             0.1111111111111111,
             "#46039f"
            ],
            [
             0.2222222222222222,
             "#7201a8"
            ],
            [
             0.3333333333333333,
             "#9c179e"
            ],
            [
             0.4444444444444444,
             "#bd3786"
            ],
            [
             0.5555555555555556,
             "#d8576b"
            ],
            [
             0.6666666666666666,
             "#ed7953"
            ],
            [
             0.7777777777777778,
             "#fb9f3a"
            ],
            [
             0.8888888888888888,
             "#fdca26"
            ],
            [
             1,
             "#f0f921"
            ]
           ],
           "sequentialminus": [
            [
             0,
             "#0d0887"
            ],
            [
             0.1111111111111111,
             "#46039f"
            ],
            [
             0.2222222222222222,
             "#7201a8"
            ],
            [
             0.3333333333333333,
             "#9c179e"
            ],
            [
             0.4444444444444444,
             "#bd3786"
            ],
            [
             0.5555555555555556,
             "#d8576b"
            ],
            [
             0.6666666666666666,
             "#ed7953"
            ],
            [
             0.7777777777777778,
             "#fb9f3a"
            ],
            [
             0.8888888888888888,
             "#fdca26"
            ],
            [
             1,
             "#f0f921"
            ]
           ]
          },
          "colorway": [
           "#636efa",
           "#EF553B",
           "#00cc96",
           "#ab63fa",
           "#FFA15A",
           "#19d3f3",
           "#FF6692",
           "#B6E880",
           "#FF97FF",
           "#FECB52"
          ],
          "font": {
           "color": "#2a3f5f"
          },
          "geo": {
           "bgcolor": "white",
           "lakecolor": "white",
           "landcolor": "#E5ECF6",
           "showlakes": true,
           "showland": true,
           "subunitcolor": "white"
          },
          "hoverlabel": {
           "align": "left"
          },
          "hovermode": "closest",
          "mapbox": {
           "style": "light"
          },
          "paper_bgcolor": "white",
          "plot_bgcolor": "#E5ECF6",
          "polar": {
           "angularaxis": {
            "gridcolor": "white",
            "linecolor": "white",
            "ticks": ""
           },
           "bgcolor": "#E5ECF6",
           "radialaxis": {
            "gridcolor": "white",
            "linecolor": "white",
            "ticks": ""
           }
          },
          "scene": {
           "xaxis": {
            "backgroundcolor": "#E5ECF6",
            "gridcolor": "white",
            "gridwidth": 2,
            "linecolor": "white",
            "showbackground": true,
            "ticks": "",
            "zerolinecolor": "white"
           },
           "yaxis": {
            "backgroundcolor": "#E5ECF6",
            "gridcolor": "white",
            "gridwidth": 2,
            "linecolor": "white",
            "showbackground": true,
            "ticks": "",
            "zerolinecolor": "white"
           },
           "zaxis": {
            "backgroundcolor": "#E5ECF6",
            "gridcolor": "white",
            "gridwidth": 2,
            "linecolor": "white",
            "showbackground": true,
            "ticks": "",
            "zerolinecolor": "white"
           }
          },
          "shapedefaults": {
           "line": {
            "color": "#2a3f5f"
           }
          },
          "ternary": {
           "aaxis": {
            "gridcolor": "white",
            "linecolor": "white",
            "ticks": ""
           },
           "baxis": {
            "gridcolor": "white",
            "linecolor": "white",
            "ticks": ""
           },
           "bgcolor": "#E5ECF6",
           "caxis": {
            "gridcolor": "white",
            "linecolor": "white",
            "ticks": ""
           }
          },
          "title": {
           "x": 0.05
          },
          "xaxis": {
           "automargin": true,
           "gridcolor": "white",
           "linecolor": "white",
           "ticks": "",
           "title": {
            "standoff": 15
           },
           "zerolinecolor": "white",
           "zerolinewidth": 2
          },
          "yaxis": {
           "automargin": true,
           "gridcolor": "white",
           "linecolor": "white",
           "ticks": "",
           "title": {
            "standoff": 15
           },
           "zerolinecolor": "white",
           "zerolinewidth": 2
          }
         }
        },
        "title": {
         "text": "Bubble Chart of Units Sold vs. Price with Total Revenue"
        },
        "xaxis": {
         "title": {
          "text": "Units Sold"
         }
        },
        "yaxis": {
         "title": {
          "text": "Price"
         }
        }
       }
      },
      "text/html": [
       "<div>                            <div id=\"539610dc-3744-4b17-bc84-d794c67bcdfa\" class=\"plotly-graph-div\" style=\"height:525px; width:100%;\"></div>            <script type=\"text/javascript\">                require([\"plotly\"], function(Plotly) {                    window.PLOTLYENV=window.PLOTLYENV || {};                                    if (document.getElementById(\"539610dc-3744-4b17-bc84-d794c67bcdfa\")) {                    Plotly.newPlot(                        \"539610dc-3744-4b17-bc84-d794c67bcdfa\",                        [{\"marker\":{\"color\":[28002.8,2378.82,31322.56,31159.75,11523.36,9703.89,8300.22,4515.8,36150.93,24228.27,2327.26,100809.36,14547.5,36463.14,112966.65,38613.38,3751.67,34368.64,28099.3,12066.0,86889.63,2833.22,70443.92,26619.18,18108.4,21524.72,49676.78,6824.14,71119.0,86275.7,98720.64,95400.2,14448.87,90012.0,39790.85,8665.92,31428.24,125995.87,10732.82,120880.32,43959.7,73214.04,14989.2,93383.22,463.58,48586.56,67765.12,35207.2,6258.22,22699.44,96058.13,25384.0,64526.3,99262.8,32687.94,86627.31,70490.16,50154.39,74497.92,21559.2,44564.36,28896.63,87996.75,27109.12,82870.56,23637.81,20304.54,83233.36,39709.44,40111.36,12497.49,6107.76,1222.0,17203.25,947.61,26408.0,140738.88,75330.45,16586.68,105494.46,60477.25,1877.76,139249.92,98242.2,12829.6,1702.95,21331.45,11783.43,29360.24,83551.42,61793.1,31821.5,52251.76,26631.99,39469.5,4056.39,92079.92,43416.0,33927.08,34120.61,72023.6,24492.16,36582.21,16560.38,68427.18,8619.39,105106.96,55075.02,1273.98,18860.4,47621.2,29248.28,11301.76,35213.1,26492.43,28098.4,86868.48,48570.64,7728.49,1282.45,125460.8,52554.32,8176.35,746.47,13516.25,54665.04,3151.26,12646.8,32474.4,24546.72,65007.0,42781.86,56790.45,8165.82,726.36,59594.08,13896.84,24705.45,4784.6,3173.48,7050.75,22346.47,89165.25,16529.13,87906.92,14308.5,24009.0,27642.2,5406.52,37661.8,41566.36,44209.76,16544.32,72588.74,109028.0,20333.88,7755.77,1822.29,49282.7,52028.28,54799.2,16659.62,110028.42,11306.68,75988.7,80877.2,91113.25,37244.48,29250.67,37928.58,59695.92,104364.75,15373.26,11151.36,100782.75,5783.0,25697.72,22860.8,78188.49,36468.77,13790.56,60232.5,18931.5,48936.55,67369.44,32729.76,82388.89,78794.1,22439.35,16447.95,11304.04,21167.52,62075.44,47381.76,6951.3,6481.51,3112.11,27464.7,7728.35,20341.64,123975.88,10106.11,135157.83,30654.0,82840.96,95299.12,3486.21,5840.64,88626.24,6046.22,83887.86,4056.4,98794.42,59466.0,31463.25,68359.5,101627.98,19068.8,49752.32,67430.7,11973.2,14147.84,80244.08,32203.6,9343.44,65262.78,19900.5,11307.2,5227.36,37887.73,12122.0,27016.29,2752.54,51619.05,21183.48,23275.8,72410.03,2193.45,33360.67,51970.4,13649.94,21730.4,13230.08,44021.01,75107.67,8000.85,72145.19,61631.46,37240.06,7131.96,11139.93,7375.83,17456.45,3946.14,4178.4,8071.26,55089.93,76989.42,89134.12,686.77,84618.0,23593.15,23687.49,5891.46,77386.68,27842.88,2861.1,8388.09,23200.8,34241.36,22882.8,61650.63,9777.44,49001.22,55404.25,47315.84,43860.6,57562.77,9046.26,7037.22,13789.44,13985.76,4085.54,141411.84,10445.28,7232.88,12132.64,23809.47,12452.65,51159.36,37316.7,10665.6,108035.82,7936.5,1345.31,9379.68,45512.55,83295.45,25157.0,15346.38,21633.5,10176.04,16546.88,5901.2,18401.6,16868.06,4905.84,12448.36,8634.9,77838.75,56299.05,47845.66,78459.24,5859.92,37407.44,23215.71,54995.76,2215.82,1243.23,45773.52,11199.36,49230.39,18721.2,31240.3,81367.36,50171.97,51357.0,12406.49,31039.47,21440.16,12291.43,91734.93,7221.0,42980.88,44499.0,1250.11,98677.6,43512.3,28498.3,6726.3,52519.04,67292.01,1410.6,78747.4,21012.16,19171.88,13375.05,119864.64,91244.02,67192.66,55321.56,58377.96,89145.18,3803.2,34762.47,15655.6,8111.04,36931.16,29994.53,42193.32,21580.78,19372.4,3537.16,32472.44,23249.54,73044.99,11133.4,51904.36,30889.35,16306.56,15365.12,61818.67,24262.43,18261.0,39261.45,10696.96,14619.66,46234.37,30611.56,23015.02,43269.12,31456.56,10533.07,43710.92,94828.04,110721.6,95282.4,19020.25,22944.0,16283.85,16572.78,7505.82,20112.64,5598.97,59727.13,9768.66,4897.4,16380.0,67975.16,48296.02,15130.4,21926.52,13331.16,83365.65,34638.33,28765.68,67249.2,11057.97,56761.49,22848.35,86497.11,67889.27,23180.0,12647.34,15851.88,22501.97,28447.2,62334.0,86006.4,60742.36,14312.7,12914.8,15979.32,66215.85,1097.22,72555.5,8256.05,2620.83,100135.56,11545.2,37905.14,10271.2,93600.0,48768.0,131512.48,69770.9,62123.4,18697.84,128442.12,15171.6,414.6,6268.6,84222.45,25132.58,100943.96,10010.51,8320.76,1198.56,50439.99,109351.08,45433.44,23617.16,22211.4,12305.92,92400.11,4371.12,53258.79,101358.58,739.69,10318.95,43002.08,13717.3,37318.86,29912.75,39749.53,33832.47,46066.26,103732.2,108538.59,25097.8,22057.2,44442.75,22608.6,60854.66,100974.48,23336.24,14986.2,76046.4,102789.36,31592.7,85326.15,107022.69,24352.46,116998.2,43773.17,94528.0,93157.68,35169.4,6995.15,3489.54,2856.6,22911.16,48746.52,6243.01,35773.01,31601.89,68274.0,44415.36,113673.2,125672.92,33021.82,48081.0,17747.2,11017.35,99522.36,12814.43,22854.4,66427.94,80637.66,22836.78,17058.67,42990.68,13741.2,43876.56,96023.4,62694.98,55740.27,11351.7,48630.12,9619.39,18728.92,77814.75,994.22,31578.18,127366.64,5412.4,10991.67,29601.25,117410.59,25914.37,52958.06,24825.84,92377.74,104232.48,3395.25,1208.55,109166.68,33347.28,8286.95,12637.8,69202.92,15802.93,9970.35,26911.3,83129.76,5070.3,23169.36,21705.6,6250.4,38663.73,21403.8,13448.12,85998.64,96101.64,102433.02,18936.06,115585.69,16262.26,61127.54,43927.66,26851.35,20811.52,96500.6,10659.9,29583.3,102877.92,6889.92,12578.28,49628.16,49907.3,10167.08,43543.06,4183.12,38925.12,58955.44,32158.62,41129.4,69246.64,94344.8,79358.44,34481.72,41450.78,85958.04,16541.34,4489.6,53596.2,9423.0,57203.85,418.48,10477.78,70985.66,72454.0,91485.24,20990.71,10383.75,68618.72,40211.82,62231.5,11767.23,100225.82,14679.39,97077.48,24560.24,45087.84,103949.2,79491.52,33566.52,9072.42,12194.2,48499.36,30419.46,31312.96,11440.5,12619.62,59290.03,7982.08,84268.86,20957.14,11024.64,76260.0,14465.88,53107.15,44307.62,30514.54,9938.18,59485.2,77328.24,56054.1,32296.6,84083.59,63563.28,81432.39,1186.92,10462.84,17972.23,85514.94,13601.44,16676.68,16094.1,29553.54,38799.3,6603.6,8035.56,20963.58,57639.84,15952.8,9969.12,17226.06,16813.44,54563.6,14866.38,10722.4,1266.3,40581.0,7341.91,30525.87,25375.64,19416.91,721.95,16322.9,24482.88,66385.2,30138.74,114812.16,37853.44,85403.24,2055.55,6550.83,17747.2,105382.08,37191.92,9700.6,17866.64,558.74,4239.12,5805.43,19411.38,96463.62,132106.56,41037.66,9701.52,60684.54,68567.31,44118.9,82203.62,29670.72,116944.7,74919.88,79009.5,6503.25,26334.0,849.35,18471.32,13306.58,2763.88,6729.44,30732.83,31611.69,21111.13,48287.96,54891.08,87163.65,43858.3,36484.24,24011.36,30069.27,5429.61,52805.91,14592.2,59883.18,18824.64,57220.15,4104.38,30275.28,4235.82,107416.58,56297.45,62998.32,34110.18,99642.96,101815.68,5662.48,15824.28,27111.24,116.85,3591.25,53299.76,29427.3,6426.99,40165.65,13707.32,54343.68,22969.48,30322.31,19413.66,118596.04,67170.18,38678.4,14239.76,122772.87,10217.06,31433.77,65396.79,51261.16,27716.78,19137.13,56090.25,50670.65,8498.4,18304.87,67000.5,19676.25,40821.85,106676.36,11239.47,12561.08,17004.6,77122.71,63422.96,67708.96,83743.83,18778.54,37414.8,3662.61,7727.4,39129.12,8582.58,58423.05,64326.15,3301.35,54876.0,21542.76,46743.35,13356.66,63405.0,59166.08,63610.47,48029.76,56713.47,24544.8,91315.64,7070.76,10641.2,36056.64,54432.0,63030.92,82503.4,25845.56,54578.4,30444.49,7542.18,38959.2,124883.62,23713.99,15090.48,34352.76,73267.92,12735.0,135494.8,63215.81,38531.7,4384.98,1300.74,67470.06,32209.79,4937.34,125596.8,88842.9,93276.2,16047.56,54137.46,23432.15,55230.12,65983.14,8244.32,52684.5,30967.26,57134.35,30249.72,22193.5,14628.86,65193.3,61147.01,61207.68,36745.62,30831.96,49444.77,22331.2,26928.7,27941.23,119945.35,61037.76,19677.54,52935.12,66512.57,19137.78,33697.62,2169.76,9362.75,5686.05,7532.19,35913.12,2390.16,48318.64,87610.96,74077.84,107462.16,15431.68,111536.64,29245.5,59445.6,43516.76,100429.2,38634.65,28198.0,18986.4,41107.9,13189.02,8698.48,12145.32,55914.88,121071.72,28319.62,28161.1,25657.6,54939.8,35702.64,69483.57,38285.38,58208.48,14106.96,10472.85,17500.32,26757.76,31085.22,38257.05,28288.0,674.4,120191.15,7388.25,5660.13,31400.96,70563.15,70831.8,2835.0,631.1,25950.4,8217.44,12834.81,24203.3,28023.93,122804.31,33150.0,65965.5,27861.45,40851.9,47406.66,16334.85,6982.72,26161.98,7365.31,19987.84,75674.76,54851.29,27826.2,54093.24,8426.6,1027.4,2524.08,19956.86,12363.0,23535.54,37192.87,90158.04,83112.48,50048.0,4596.57,56157.8,7468.34,73197.12,31379.76,73462.8,73347.52,70333.31,46423.8,107408.16,44273.85,14706.38,34266.78,2856.78,39433.8,29165.85,39273.76,36134.87,5379.01,65819.8,98113.14,52464.04,22162.56,30928.8,65251.32,12284.73,47181.63,37046.4,10610.49,16149.6,89275.68,13319.19,11057.34,24160.5,97260.77,11894.0,2336.76,18492.14,1807.65,12752.4,22309.28,39012.28,42636.47,680.88,28008.12,5796.6,1625.1,38063.04,35192.07,40883.06,13973.56,104115.4,30505.44,52237.25,3679.38,78661.52,15000.96,73070.87,15252.45,128158.03,38333.18,124490.7,65534.62,42752.6,109723.95,20819.56,33106.0,46090.24,99154.29,59898.14,93597.24,4879.19,105929.28,6875.5,2444.3,1518.48,35283.6,7672.96,73335.88,28865.7,50471.42,1381.82,8557.32,70739.76],\"colorbar\":{\"title\":{\"text\":\"Total Revenue\"}},\"colorscale\":[[0.0,\"#440154\"],[0.1111111111111111,\"#482878\"],[0.2222222222222222,\"#3e4989\"],[0.3333333333333333,\"#31688e\"],[0.4444444444444444,\"#26828e\"],[0.5555555555555556,\"#1f9e89\"],[0.6666666666666666,\"#35b779\"],[0.7777777777777778,\"#6ece58\"],[0.8888888888888888,\"#b5de2b\"],[1.0,\"#fde725\"]],\"showscale\":true,\"size\":[28.0028,2.37882,31.322560000000003,31.15975,11.52336,9.70389,8.30022,4.5158000000000005,36.15093,24.228270000000002,2.3272600000000003,100.80936,14.5475,36.46314,112.96664999999999,38.61338,3.7516700000000003,34.36864,28.0993,12.066,86.88963000000001,2.83322,70.44391999999999,26.61918,18.108400000000003,21.524720000000002,49.67678,6.824140000000001,71.119,86.2757,98.72064,95.4002,14.448870000000001,90.012,39.79085,8.66592,31.428240000000002,125.99587,10.73282,120.88032000000001,43.9597,73.21404,14.9892,93.38322,0.46358,48.58656,67.76512,35.2072,6.258220000000001,22.69944,96.05813,25.384,64.5263,99.2628,32.68794,86.62731,70.49016,50.15439,74.49792,21.5592,44.56436,28.896630000000002,87.99675,27.109119999999997,82.87056,23.63781,20.30454,83.23336,39.70944,40.11136,12.497489999999999,6.10776,1.222,17.20325,0.9476100000000001,26.408,140.73888,75.33045,16.58668,105.49446,60.47725,1.87776,139.24992,98.2422,12.829600000000001,1.70295,21.33145,11.783430000000001,29.36024,83.55142,61.793099999999995,31.8215,52.251760000000004,26.631990000000002,39.4695,4.0563899999999995,92.07992,43.416,33.927080000000004,34.12061,72.0236,24.49216,36.582209999999996,16.560380000000002,68.42717999999999,8.61939,105.10696,55.075019999999995,1.2739800000000001,18.860400000000002,47.621199999999995,29.248279999999998,11.30176,35.2131,26.49243,28.0984,86.86847999999999,48.57064,7.72849,1.28245,125.4608,52.55432,8.176350000000001,0.7464700000000001,13.51625,54.66504,3.15126,12.646799999999999,32.4744,24.54672,65.007,42.78186,56.79045,8.16582,0.72636,59.594080000000005,13.896840000000001,24.70545,4.7846,3.17348,7.05075,22.34647,89.16525,16.529130000000002,87.90692,14.3085,24.009,27.6422,5.40652,37.6618,41.56636,44.20976,16.54432,72.58874,109.028,20.33388,7.75577,1.82229,49.2827,52.02828,54.7992,16.65962,110.02842,11.30668,75.9887,80.8772,91.11325,37.24448,29.25067,37.928580000000004,59.69592,104.36475,15.37326,11.15136,100.78275,5.783,25.69772,22.860799999999998,78.18849,36.46877,13.79056,60.2325,18.9315,48.936550000000004,67.36944,32.72976,82.38889,78.7941,22.439349999999997,16.447950000000002,11.30404,21.16752,62.07544,47.38176,6.9513,6.48151,3.11211,27.4647,7.728350000000001,20.341639999999998,123.97588,10.106110000000001,135.15783,30.654,82.84096000000001,95.29912,3.4862100000000003,5.8406400000000005,88.62624000000001,6.04622,83.88786,4.0564,98.79442,59.466,31.46325,68.3595,101.62798,19.0688,49.75232,67.4307,11.9732,14.14784,80.24408,32.2036,9.343440000000001,65.26277999999999,19.9005,11.3072,5.22736,37.887730000000005,12.122,27.01629,2.7525399999999998,51.61905,21.18348,23.2758,72.41002999999999,2.19345,33.36067,51.9704,13.64994,21.730400000000003,13.23008,44.021010000000004,75.10767,8.00085,72.14519,61.63146,37.24006,7.13196,11.13993,7.37583,17.45645,3.9461399999999998,4.1784,8.07126,55.08993,76.98942,89.13412,0.68677,84.618,23.59315,23.68749,5.89146,77.38668,27.84288,2.8611,8.38809,23.2008,34.24136,22.8828,61.65063,9.77744,49.00122,55.40425,47.315839999999994,43.8606,57.56276999999999,9.04626,7.0372200000000005,13.78944,13.98576,4.08554,141.41183999999998,10.44528,7.23288,12.132639999999999,23.80947,12.45265,51.15936,37.3167,10.6656,108.03582,7.9365,1.34531,9.37968,45.512550000000005,83.29545,25.157,15.34638,21.6335,10.17604,16.54688,5.9012,18.4016,16.86806,4.90584,12.448360000000001,8.6349,77.83875,56.29905,47.84566,78.45924000000001,5.85992,37.40744,23.215709999999998,54.995760000000004,2.2158200000000003,1.24323,45.77352,11.19936,49.23039,18.7212,31.240299999999998,81.36736,50.17197,51.357,12.40649,31.03947,21.44016,12.29143,91.73492999999999,7.221,42.98088,44.499,1.2501099999999998,98.67760000000001,43.5123,28.4983,6.7263,52.519040000000004,67.29200999999999,1.4105999999999999,78.7474,21.01216,19.17188,13.37505,119.86464,91.24402,67.19266,55.32156,58.37796,89.14518,3.8032,34.76247,15.6556,8.11104,36.931160000000006,29.994529999999997,42.19332,21.580779999999997,19.372400000000003,3.5371599999999996,32.47244,23.24954,73.04499,11.1334,51.904360000000004,30.88935,16.30656,15.365120000000001,61.81867,24.262430000000002,18.261,39.261449999999996,10.696959999999999,14.61966,46.234370000000006,30.61156,23.01502,43.26912,31.45656,10.53307,43.71092,94.82803999999999,110.72160000000001,95.2824,19.02025,22.944,16.28385,16.572779999999998,7.50582,20.11264,5.5989700000000004,59.727129999999995,9.76866,4.897399999999999,16.38,67.97516,48.29602,15.1304,21.92652,13.33116,83.36564999999999,34.63833,28.76568,67.2492,11.05797,56.761489999999995,22.84835,86.49711,67.88927000000001,23.18,12.64734,15.85188,22.50197,28.447200000000002,62.334,86.0064,60.74236,14.312700000000001,12.9148,15.97932,66.21585,1.09722,72.5555,8.25605,2.6208299999999998,100.13556,11.545200000000001,37.90514,10.2712,93.6,48.768,131.51248,69.7709,62.123400000000004,18.69784,128.44212,15.1716,0.4146,6.2686,84.22245,25.13258,100.94396,10.01051,8.32076,1.1985599999999998,50.439989999999995,109.35108,45.433440000000004,23.61716,22.2114,12.30592,92.40011,4.3711199999999995,53.25879,101.35858,0.7396900000000001,10.318950000000001,43.00208,13.7173,37.31886,29.91275,39.74953,33.83247,46.06626,103.73219999999999,108.53859,25.0978,22.0572,44.44275,22.6086,60.85466,100.97448,23.33624,14.9862,76.04639999999999,102.78936,31.5927,85.32615,107.02269,24.35246,116.9982,43.77317,94.528,93.15768,35.1694,6.99515,3.48954,2.8566,22.91116,48.74652,6.24301,35.77301,31.60189,68.274,44.41536,113.6732,125.67292,33.02182,48.081,17.7472,11.01735,99.52236,12.81443,22.854400000000002,66.42794,80.63766,22.836779999999997,17.05867,42.99068,13.741200000000001,43.87656,96.0234,62.69498,55.740269999999995,11.351700000000001,48.630120000000005,9.61939,18.72892,77.81475,0.99422,31.57818,127.36664,5.4124,10.991670000000001,29.60125,117.41059,25.914369999999998,52.958059999999996,24.82584,92.37774,104.23248,3.39525,1.20855,109.16668,33.34728,8.286950000000001,12.637799999999999,69.20291999999999,15.80293,9.97035,26.9113,83.12975999999999,5.0703000000000005,23.16936,21.705599999999997,6.2504,38.66373,21.4038,13.448120000000001,85.99864,96.10164,102.43302,18.93606,115.58569,16.26226,61.12754,43.92766,26.85135,20.81152,96.5006,10.6599,29.583299999999998,102.87792,6.88992,12.578280000000001,49.62816,49.907300000000006,10.16708,43.54306,4.18312,38.92512,58.95544,32.15862,41.129400000000004,69.24664,94.3448,79.35844,34.48172,41.45078,85.95804,16.54134,4.4896,53.596199999999996,9.423,57.203849999999996,0.41848,10.477780000000001,70.98566000000001,72.454,91.48524,20.99071,10.38375,68.61872,40.21182,62.2315,11.76723,100.22582000000001,14.67939,97.07748,24.56024,45.08784,103.94919999999999,79.49152000000001,33.56652,9.07242,12.1942,48.49936,30.41946,31.31296,11.4405,12.619620000000001,59.29003,7.98208,84.26886,20.95714,11.02464,76.26,14.465879999999999,53.107150000000004,44.30762,30.51454,9.938180000000001,59.4852,77.32824000000001,56.0541,32.2966,84.08359,63.56328,81.43239,1.18692,10.46284,17.97223,85.51494,13.60144,16.67668,16.0941,29.55354,38.7993,6.6036,8.03556,20.96358,57.63984,15.9528,9.96912,17.22606,16.81344,54.5636,14.86638,10.7224,1.2663,40.581,7.3419099999999995,30.525869999999998,25.37564,19.41691,0.7219500000000001,16.3229,24.48288,66.3852,30.138740000000002,114.81216,37.85344,85.40324000000001,2.05555,6.5508299999999995,17.7472,105.38208,37.191919999999996,9.7006,17.86664,0.55874,4.23912,5.80543,19.41138,96.46361999999999,132.10656,41.03766,9.70152,60.68454,68.56730999999999,44.118900000000004,82.20362,29.670720000000003,116.9447,74.91988,79.0095,6.50325,26.334,0.84935,18.47132,13.30658,2.76388,6.729439999999999,30.732830000000003,31.61169,21.11113,48.28796,54.89108,87.16364999999999,43.8583,36.48424,24.01136,30.06927,5.429609999999999,52.805910000000004,14.5922,59.88318,18.82464,57.220150000000004,4.10438,30.27528,4.2358199999999995,107.41658,56.29745,62.99832,34.11018,99.64296,101.81567999999999,5.6624799999999995,15.82428,27.111240000000002,0.11685,3.59125,53.29976,29.4273,6.42699,40.16565,13.70732,54.34368,22.96948,30.32231,19.41366,118.59603999999999,67.17017999999999,38.6784,14.23976,122.77287,10.21706,31.43377,65.39679,51.261160000000004,27.71678,19.137130000000003,56.09025,50.67065,8.4984,18.304869999999998,67.0005,19.67625,40.82185,106.67636,11.239469999999999,12.56108,17.0046,77.12271000000001,63.422959999999996,67.70896,83.74383,18.77854,37.4148,3.66261,7.727399999999999,39.12912,8.58258,58.42305,64.32615,3.30135,54.876,21.542759999999998,46.74335,13.35666,63.405,59.16608,63.61047,48.02976,56.71347,24.5448,91.31564,7.07076,10.641200000000001,36.05664,54.432,63.030919999999995,82.5034,25.845560000000003,54.5784,30.444490000000002,7.54218,38.959199999999996,124.88362,23.713990000000003,15.09048,34.35276,73.26792,12.735,135.4948,63.21581,38.531699999999994,4.38498,1.30074,67.47006,32.20979,4.93734,125.5968,88.8429,93.2762,16.04756,54.13746,23.43215,55.23012,65.98314,8.24432,52.6845,30.96726,57.13435,30.24972,22.1935,14.628860000000001,65.19330000000001,61.14701,61.20768,36.74562,30.83196,49.44477,22.3312,26.9287,27.94123,119.94535,61.03776,19.67754,52.935120000000005,66.51257000000001,19.13778,33.69762,2.16976,9.36275,5.68605,7.53219,35.91312,2.39016,48.31864,87.61096,74.07784,107.46216,15.43168,111.53664,29.2455,59.4456,43.516760000000005,100.4292,38.63465,28.198,18.9864,41.1079,13.189020000000001,8.69848,12.14532,55.91488,121.07172,28.31962,28.161099999999998,25.6576,54.939800000000005,35.70264,69.48357,38.285379999999996,58.20848,14.106959999999999,10.472850000000001,17.50032,26.757759999999998,31.08522,38.25705,28.288,0.6744,120.19115,7.38825,5.6601300000000005,31.400959999999998,70.56315,70.8318,2.835,0.6311,25.950400000000002,8.21744,12.83481,24.2033,28.02393,122.80431,33.15,65.9655,27.86145,40.8519,47.40666,16.33485,6.9827200000000005,26.16198,7.36531,19.98784,75.67475999999999,54.85129,27.8262,54.093239999999994,8.4266,1.0274,2.52408,19.95686,12.363,23.53554,37.19287,90.15804,83.11247999999999,50.048,4.59657,56.1578,7.46834,73.19712,31.379759999999997,73.4628,73.34752,70.33331,46.4238,107.40816000000001,44.273849999999996,14.70638,34.26678,2.85678,39.433800000000005,29.16585,39.27376,36.13487,5.37901,65.8198,98.11314,52.464040000000004,22.162560000000003,30.9288,65.25131999999999,12.28473,47.18163,37.0464,10.61049,16.1496,89.27568,13.31919,11.05734,24.1605,97.26077000000001,11.894,2.3367600000000004,18.49214,1.8076500000000002,12.7524,22.309279999999998,39.01228,42.63647,0.68088,28.008119999999998,5.796600000000001,1.6251,38.06304,35.19207,40.88306,13.973559999999999,104.1154,30.50544,52.23725,3.67938,78.66152000000001,15.00096,73.07087,15.252450000000001,128.15803,38.33318,124.4907,65.53462,42.7526,109.72395,20.819560000000003,33.106,46.09024,99.15428999999999,59.89814,93.59724,4.8791899999999995,105.92928,6.8755,2.4443,1.51848,35.2836,7.67296,73.33588,28.8657,50.471419999999995,1.3818199999999998,8.557319999999999,70.73975999999999],\"sizemin\":4,\"sizemode\":\"area\",\"sizeref\":0.17676479999999997},\"mode\":\"markers\",\"text\":[\"Green Inc\",\"Thomas-Thompson\",\"Sanchez-Williams\",\"Greer and Sons\",\"Brown and Sons\",\"Massey, Nicholson and Young\",\"Coleman-Pena\",\"Brock, Cruz and Santiago\",\"Griffin, Boyle and Dawson\",\"Arroyo, Jones and Clayton\",\"Carlson, Mcdonald and Hatfield\",\"Mckenzie LLC\",\"Cross Inc\",\"Jackson-Garza\",\"Neal-Francis\",\"Shaw-Farmer\",\"Best, Ross and Smith\",\"Burton LLC\",\"Byrd, Thompson and Rhodes\",\"Taylor-Hutchinson\",\"Graves, Turner and Crawford\",\"Villanueva-Ramirez\",\"Miller-Price\",\"Hood Inc\",\"Miller-Harper\",\"Decker Ltd\",\"Nelson and Sons\",\"Mitchell Ltd\",\"Burch, Wilson and Yang\",\"Ross, Strickland and Johns\",\"Oliver-Oconnell\",\"Ho-Porter\",\"Fisher-Marshall\",\"Watson, Carter and Woodard\",\"Walters, Bennett and Barrett\",\"Jacobs, Shepherd and Green\",\"Smith-Walters\",\"Walker PLC\",\"Hill, Mann and Martinez\",\"Brooks LLC\",\"Stewart Group\",\"Harris and Sons\",\"Smith, Bean and Gallagher\",\"White-Hood\",\"Hammond, Fernandez and Davis\",\"King, Carpenter and George\",\"Wagner, Burton and Ashley\",\"Lee LLC\",\"Sullivan Ltd\",\"Snyder LLC\",\"Webb-Davila\",\"Martin-Gardner\",\"York Inc\",\"Lane Ltd\",\"Chaney and Sons\",\"Mack Group\",\"Paul, Andersen and Carr\",\"Smith, Miller and Cooper\",\"Adams LLC\",\"Wright-Green\",\"Peters, Hayes and Sanchez\",\"Hopkins-Mahoney\",\"Dean LLC\",\"Shah PLC\",\"Garcia Inc\",\"Ramos and Sons\",\"Gonzalez PLC\",\"Bonilla, Gordon and Petersen\",\"Jones Inc\",\"Bates and Sons\",\"Lee Ltd\",\"Miller-Robinson\",\"Ward Inc\",\"Rice PLC\",\"Mitchell-Barrett\",\"Roach-Strong\",\"Ortiz-Kaiser\",\"Shah, Blackwell and Adams\",\"Hoffman PLC\",\"Simpson and Sons\",\"Joseph, Santos and Nelson\",\"Weaver Ltd\",\"Hunter PLC\",\"James, Garcia and Brown\",\"Anderson and Sons\",\"Thompson, Chapman and Jones\",\"Smith Ltd\",\"Rowland, Monroe and Owen\",\"Jordan-Williams\",\"Johnson, Rogers and Daugherty\",\"Alvarado-Carter\",\"Robinson-King\",\"Hahn, Hamilton and Johnson\",\"Bryant-Miller\",\"Bishop, Rodriguez and Bell\",\"Rojas, Kelly and Scott\",\"Williams, King and Hayes\",\"Black and Sons\",\"Matthews Ltd\",\"Carlson, Brennan and Robinson\",\"Jones-Wilson\",\"Stewart, Gutierrez and Avila\",\"Turner, Vega and Green\",\"Perez LLC\",\"Herrera LLC\",\"Castro, Briggs and Gilmore\",\"Peterson Inc\",\"Harmon Group\",\"Thompson, Johnson and Wong\",\"Collins PLC\",\"Gilbert Inc\",\"Hull, Terrell and Buchanan\",\"Mccullough-Powell\",\"Hawkins PLC\",\"Burnett Inc\",\"Clark LLC\",\"Bernard Ltd\",\"Morrison-Andersen\",\"Gilbert Inc\",\"Fitzpatrick-Miller\",\"Morton and Sons\",\"Brown PLC\",\"Porter-Mcgee\",\"Smith-Stevens\",\"Williamson, Fuller and Ward\",\"Rice-Osborne\",\"Camacho, Fox and Smith\",\"Walker-White\",\"Lane Group\",\"Williams, Coffey and Garcia\",\"Martinez-Torres\",\"Watson-Dougherty\",\"Campbell, Shelton and Walker\",\"Nelson, Carroll and Marsh\",\"Marshall-Olsen\",\"Harris Group\",\"Galvan Group\",\"Patton and Sons\",\"Foster-White\",\"Kline, Johnson and Hall\",\"Brown, Parsons and Johnson\",\"Cole, Mckinney and Maddox\",\"Townsend PLC\",\"Paul, Goodman and Richardson\",\"Stewart Ltd\",\"Baldwin-Swanson\",\"Santiago, Jones and Bell\",\"Baird-Henderson\",\"Sanchez, Johnson and Mosley\",\"Goodman, Hughes and White\",\"Sanders-Estrada\",\"Odom-Green\",\"Walters and Sons\",\"Andrews LLC\",\"Wade-Hall\",\"Hebert Inc\",\"Young, Hill and Morgan\",\"Holloway, Brown and Mills\",\"Velazquez Inc\",\"Fleming, Cooper and Wilson\",\"Decker Inc\",\"Sawyer-Ramirez\",\"Morris and Sons\",\"Garrett, Schultz and Carlson\",\"Curtis-Collier\",\"Jackson-Carroll\",\"Schultz LLC\",\"Cruz-Arias\",\"Mason, Flores and Baker\",\"Pitts-Valenzuela\",\"Bates, Pearson and Hardy\",\"Perez PLC\",\"Williams-Palmer\",\"Bennett, Foster and Moreno\",\"Cruz, Callahan and Carpenter\",\"Rogers, Baker and Holmes\",\"Martin-Carson\",\"Esparza-Baker\",\"Black PLC\",\"Galvan, Jenkins and Peck\",\"Delgado and Sons\",\"Franklin, Cox and Lopez\",\"Gutierrez Inc\",\"Boyle, Collier and Marquez\",\"Williams Ltd\",\"Harris, Stevens and Hall\",\"Knight Group\",\"Robinson-Tucker\",\"Lopez, Collins and Rosario\",\"Colon, Phillips and Watkins\",\"Peterson PLC\",\"Miller Inc\",\"Massey, Long and Nguyen\",\"Ruiz Inc\",\"White, Kirby and Cross\",\"Cooper and Sons\",\"Martinez Ltd\",\"Anderson-White\",\"Wilkerson, Suarez and Ayala\",\"Scott-Davis\",\"Moran Ltd\",\"Beasley-Bailey\",\"Johnson-Johnson\",\"Cabrera-White\",\"Roy-Dalton\",\"Burgess, Wise and Lee\",\"Nelson LLC\",\"Kelly, Esparza and Carson\",\"Anderson, Huff and Sanchez\",\"Turner-Colon\",\"Murphy Group\",\"Sutton, Parsons and Rice\",\"Lloyd, Stone and Mcguire\",\"Martinez Inc\",\"Mitchell PLC\",\"Jones, Gonzalez and Camacho\",\"Michael-Lara\",\"Martin Group\",\"Collins Ltd\",\"Camacho Inc\",\"Mills PLC\",\"Lindsey-Strickland\",\"Vargas-Perez\",\"Walker-Daniels\",\"Murphy PLC\",\"White, Ford and Andrews\",\"Schultz-Baker\",\"Bradley, Rios and Perkins\",\"Wall-Reed\",\"Harding-Thomas\",\"Schmidt LLC\",\"Hall-Swanson\",\"Jones-Jones\",\"Perry, Thompson and Vargas\",\"Bell Group\",\"Porter, Leon and Reynolds\",\"White Group\",\"Mueller, Collier and Khan\",\"Miller-Lang\",\"Ware, May and Lopez\",\"Harris-Melton\",\"Simmons Ltd\",\"Cross, Myers and Mueller\",\"Tran-Johnson\",\"Moran-Hunter\",\"Hickman Ltd\",\"Barnes, Smith and Crawford\",\"Miller, Anderson and Davis\",\"Juarez Ltd\",\"Merritt, Thomas and Patterson\",\"Hall Inc\",\"Franco-Sanders\",\"Calderon, Barry and Roberts\",\"Johnson, Brennan and Thompson\",\"Campbell-Gonzalez\",\"Moreno, Dodson and Andrews\",\"Ramirez, Duffy and Beck\",\"Wilkinson-Anderson\",\"Hawkins-Russell\",\"Sanders-Baker\",\"Wilson-Beard\",\"Bryant-Lewis\",\"Bishop and Sons\",\"Hill LLC\",\"Smith, Ramirez and Campbell\",\"Hendrix-Murphy\",\"Chen Inc\",\"Martin, Smith and Patterson\",\"Baker, Martin and Saunders\",\"Parker-Griffith\",\"Wright and Sons\",\"Fuentes PLC\",\"Hess-Little\",\"Russo Inc\",\"Marquez-Garrett\",\"Faulkner, Lewis and Armstrong\",\"Flynn PLC\",\"Fernandez, Long and Nelson\",\"Martinez Ltd\",\"Jones, Soto and Johnson\",\"Newman-Anthony\",\"Crawford, Spencer and Patel\",\"Evans-Gillespie\",\"Jacobson-Arnold\",\"Smith-Williams\",\"Martinez Ltd\",\"Smith, Short and Butler\",\"Patterson-Nelson\",\"Christensen-Daniel\",\"Ferguson PLC\",\"Ritter-Wilson\",\"Wallace, Turner and Young\",\"Jordan-Norris\",\"Peck Ltd\",\"Nelson and Sons\",\"Padilla-Hernandez\",\"Brown, Becker and Jones\",\"Jackson-Hodges\",\"Sanders, Snow and Harrell\",\"Wells, Harris and Bowman\",\"May-Williams\",\"Beck, Choi and Thomas\",\"Warner Group\",\"Anderson, Atkinson and Garza\",\"Graham LLC\",\"Torres Inc\",\"Williams and Sons\",\"Hodge LLC\",\"Peterson Ltd\",\"Reid-Gilbert\",\"Perry Group\",\"Glenn, Miller and Griffin\",\"Richardson Group\",\"Coleman-Brown\",\"Garcia, Smith and Ramos\",\"Walton Inc\",\"Edwards Group\",\"Lewis, Sanchez and Turner\",\"Smith, Terry and Obrien\",\"Green-Rogers\",\"Henson PLC\",\"Phillips, Foster and Maynard\",\"Jackson Inc\",\"Ross, Clark and Webb\",\"Turner, Kim and Leonard\",\"Hamilton, Romero and West\",\"Perry-Davis\",\"Wilson, Terrell and Kim\",\"Becker LLC\",\"Kelly PLC\",\"Mendez and Sons\",\"Porter, Taylor and Moore\",\"Finley Group\",\"Mcguire-Sanders\",\"Drake, George and Davis\",\"Chandler-Palmer\",\"Williams-Smith\",\"Jackson, Collier and Barber\",\"Hill Ltd\",\"Perez and Sons\",\"Ayers and Sons\",\"Holland PLC\",\"Hill, Thompson and Anderson\",\"Hunter-Richardson\",\"Wallace-James\",\"Gomez-Burns\",\"Lam-Gregory\",\"Cooper, Mcclain and Cook\",\"Johnson LLC\",\"Thornton, Fisher and Santiago\",\"Marsh and Sons\",\"Rodriguez Inc\",\"Strickland and Sons\",\"Mason-Ramirez\",\"Jones, Johnson and Vasquez\",\"Holmes, Ramos and Hoffman\",\"Curry, Richards and Lane\",\"Decker, Smith and Wilson\",\"Davies, Thomas and Brooks\",\"Yu-Smith\",\"Nunez, Jefferson and Glover\",\"Smith PLC\",\"Holmes-Rivera\",\"Vasquez LLC\",\"Figueroa LLC\",\"Greene-Baxter\",\"Jenkins, Jones and Jenkins\",\"Christian-Velasquez\",\"Mccoy-Stevenson\",\"Galloway, Gutierrez and Vazquez\",\"Long, Hughes and Gallegos\",\"Miller, Hill and Lawson\",\"Sanchez-Hernandez\",\"Davis Group\",\"Skinner, Ramirez and Kelley\",\"Williamson-Clay\",\"Grant, Mcdonald and Watson\",\"Pearson, Jackson and Fox\",\"Wood-Wilson\",\"Bryant, Davis and Eaton\",\"Jennings-Leon\",\"Miller and Sons\",\"Lamb Inc\",\"Oconnor, Jacobs and Wise\",\"Stein-Bridges\",\"Singleton Group\",\"Lee Inc\",\"Marshall Inc\",\"Peterson, Franklin and Bender\",\"Morales Ltd\",\"Porter Ltd\",\"Brennan-Vasquez\",\"Pittman, Williams and Mejia\",\"Wallace-Prince\",\"Pham and Sons\",\"Nielsen, Rivera and Jones\",\"Diaz, Ball and Juarez\",\"Garrett, Bush and Butler\",\"Bradford-Poole\",\"Carter PLC\",\"Thomas-Alexander\",\"Adams-Sanchez\",\"Russell, Watts and Wade\",\"Gonzalez-Horn\",\"Graham Ltd\",\"Wagner-Carrillo\",\"Lee, Simpson and West\",\"Gonzalez, Lowe and Robinson\",\"Cameron, Hughes and Lara\",\"Hays LLC\",\"Martin-Morales\",\"Wilkinson-Reyes\",\"Buck LLC\",\"Hall LLC\",\"Garrett Group\",\"Thompson, Johnson and Smith\",\"Branch Ltd\",\"Bailey-Davis\",\"Morales, Hansen and Colon\",\"Ross PLC\",\"Hill Ltd\",\"Mayo PLC\",\"Adams Group\",\"Wilson, Wilson and Smith\",\"Valencia and Sons\",\"Hernandez PLC\",\"Ball-Clay\",\"Wiggins-Wallace\",\"Edwards, Davidson and Houston\",\"Morgan PLC\",\"Hernandez Ltd\",\"Cobb, Duffy and Roberts\",\"Brown Inc\",\"Cole and Sons\",\"Baker and Sons\",\"Mcknight, Moody and Mason\",\"Morris-Davis\",\"Price, Carpenter and Adams\",\"Smith-Barr\",\"Wheeler-Summers\",\"Washington, Burns and Li\",\"Rodriguez, Adams and Smith\",\"Walter-Lynn\",\"James PLC\",\"Mata-Burns\",\"Salazar, Myers and Mcmahon\",\"Jones-Leonard\",\"Little-Perez\",\"Smith-Stokes\",\"Cain Group\",\"Glenn-Fernandez\",\"Moore Ltd\",\"Potter, Bailey and Turner\",\"Cooley-Reed\",\"Peterson and Sons\",\"Brown-Solis\",\"Wilcox and Sons\",\"Whitney-Cook\",\"Hill, Hall and Hess\",\"Howard, Wood and Rosales\",\"Aguilar-Scott\",\"Garrett Group\",\"Nelson-Wright\",\"Wilkins-Price\",\"Evans, Taylor and Peterson\",\"Nunez, Porter and Bell\",\"Brooks, Rodriguez and Knight\",\"Willis, Watson and Monroe\",\"Taylor-Keller\",\"Ruiz LLC\",\"Richardson PLC\",\"Foster Ltd\",\"West, Potts and Santos\",\"Jones, Phillips and Mckinney\",\"Boone PLC\",\"Soto, Hubbard and Kim\",\"Spencer-Cardenas\",\"Webster-Sullivan\",\"Escobar and Sons\",\"Vincent, Oneill and Bryant\",\"Becker-Smith\",\"Morris, Gay and Spencer\",\"Kelly, Velasquez and Dickerson\",\"Coleman LLC\",\"Bradshaw Inc\",\"Noble Group\",\"Jones-Gross\",\"Roth, Franklin and Hernandez\",\"Brown Group\",\"Norman, West and Mata\",\"Day-Wang\",\"Lang, Arnold and Holmes\",\"Ayers, Reyes and Lee\",\"Lee, Rodgers and Jordan\",\"Larson, Ruiz and Beasley\",\"Hernandez and Sons\",\"Hodge-Perry\",\"Ibarra, Jackson and Potter\",\"Johnson, Figueroa and Jones\",\"Bailey, Roy and Barnes\",\"Cobb LLC\",\"Miller-Cortez\",\"Obrien-Arnold\",\"Gallagher-Campbell\",\"Payne Group\",\"Kim, Ortega and Jones\",\"Webb, Orr and Benson\",\"Duncan, Mendoza and Mcdowell\",\"Conrad Ltd\",\"Cooper, Johnson and Townsend\",\"Payne and Sons\",\"Miranda, Chang and Hansen\",\"Thompson-Orr\",\"Lopez-Clements\",\"Lang-Garza\",\"Roth-Crawford\",\"Andrews-Martin\",\"Mckay-Turner\",\"George, Miller and Pitts\",\"White LLC\",\"Pope, Delgado and Wood\",\"Smith-Rice\",\"Browning-Durham\",\"Mclaughlin, Wilson and Hunter\",\"Tanner, Schwartz and Weber\",\"Cochran LLC\",\"Rivera, Garcia and Lewis\",\"Washington Inc\",\"Washington PLC\",\"Rosario-Woods\",\"Foster PLC\",\"Bates, Miller and Burns\",\"Taylor, Rowe and Nelson\",\"Nichols, Morales and Knight\",\"Frost-Sutton\",\"Joseph, Trevino and Salinas\",\"Davis, Marquez and Ray\",\"Sanchez Inc\",\"Jackson, White and Brown\",\"Gillespie-Holland\",\"Oliver-Douglas\",\"Ramirez Group\",\"Ramos, Lewis and Romero\",\"Hanson, Smith and Davidson\",\"Rocha-Chapman\",\"Sanchez, Brooks and Mason\",\"Guzman, Evans and Reynolds\",\"Reyes, Parker and Conway\",\"Wilkins PLC\",\"Martin, Anderson and Garcia\",\"White Inc\",\"Johnson, Johnson and Zimmerman\",\"Shaffer, Oliver and Sanchez\",\"Cruz Ltd\",\"Mcmahon, Jones and Baker\",\"Sanchez-Weeks\",\"Weaver-Thompson\",\"Thornton, Daniel and Jensen\",\"Price, Ashley and Coleman\",\"Carroll, Woodard and Mccarty\",\"Cowan, Hamilton and Hancock\",\"Rivera-Berry\",\"Tran-Graham\",\"Chase Ltd\",\"Rivera-Watson\",\"Harrington, Sosa and Mccarty\",\"Aguilar Ltd\",\"Maxwell, Dunlap and Sanford\",\"Sims-Mason\",\"Brandt and Sons\",\"Woods, Gutierrez and Tapia\",\"Love-Grimes\",\"Banks Group\",\"Poole, Parker and Williams\",\"Parks-Steele\",\"Wilson-Bailey\",\"Lee-Jones\",\"Gordon PLC\",\"Nguyen Inc\",\"Gilbert Group\",\"Gray, Smith and Barnes\",\"Wallace LLC\",\"Wilcox PLC\",\"Cherry-Potts\",\"Norman, Miller and Smith\",\"Mcguire, Garcia and Ingram\",\"Thomas, Henderson and Morales\",\"Stokes, Cobb and Hunter\",\"Hull, Simmons and Robinson\",\"Kelley, Blair and Mckinney\",\"Ramos LLC\",\"Clark-Figueroa\",\"Hurst, Carpenter and Hoffman\",\"Kelley-Garcia\",\"Ortiz Ltd\",\"Burns, Davila and Camacho\",\"Gilbert, Garcia and Sellers\",\"Weber Group\",\"Thompson-Nguyen\",\"Lee, Boyd and Lewis\",\"Benson-Dixon\",\"Mccormick, Barron and Mooney\",\"Ramirez-Carroll\",\"Harris, Hamilton and Rose\",\"Patrick, Bailey and West\",\"Diaz, Brooks and Dixon\",\"Peterson, Long and Ward\",\"Smith-Tucker\",\"Walker-Bradford\",\"Holder, Thornton and Young\",\"Perry PLC\",\"Kirby, Oneill and Carter\",\"Fleming Group\",\"Jensen-Lowe\",\"Woods-Li\",\"Conley PLC\",\"Benson and Sons\",\"Anderson Inc\",\"Pierce, Schaefer and Walsh\",\"Jones-Boyd\",\"Snow, Miller and Phelps\",\"Cobb LLC\",\"Munoz-Smith\",\"Palmer-Gross\",\"Smith PLC\",\"Andrews PLC\",\"George, Garner and Zhang\",\"Ford LLC\",\"Stewart, Webster and Ford\",\"Woodward-Phillips\",\"Martin, Burgess and Cameron\",\"Rubio-Williams\",\"Davis-Paul\",\"Aguilar Group\",\"Roberts Ltd\",\"Holmes, Austin and Davidson\",\"Wolf, Hamilton and Rubio\",\"Fuller, Sanders and Molina\",\"Atkins LLC\",\"Sloan, Harris and Green\",\"Brown, Jenkins and Roberts\",\"Russell Ltd\",\"Mcdonald, Bright and Ward\",\"Hall, Weaver and Cook\",\"Holden, Figueroa and Bennett\",\"Velasquez-Baker\",\"Sanford-Moore\",\"Wilson-Green\",\"Kelley, Young and Price\",\"Pittman-Nelson\",\"Hernandez-Reed\",\"Nichols, Hill and Rice\",\"Edwards, Mcbride and Gonzalez\",\"Hart Group\",\"Todd PLC\",\"Thomas, Noble and Porter\",\"Drake, Martin and Jordan\",\"Santiago LLC\",\"Rodgers-Villarreal\",\"Nelson, Bowers and Larson\",\"Taylor-Ramirez\",\"Harding, Delgado and Prince\",\"Branch-Johnson\",\"Shepard, Montoya and Parks\",\"Johnson-Alvarez\",\"Meyer PLC\",\"Jackson-Thomas\",\"Ellison-May\",\"Madden PLC\",\"Bennett and Sons\",\"Conway Group\",\"Harris-Bell\",\"Wilkerson-Wood\",\"Moore-Larson\",\"Moore-Jimenez\",\"Graham-Swanson\",\"Garcia-Montgomery\",\"Shaw-Brown\",\"Camacho PLC\",\"Sanchez, Solomon and Chapman\",\"Brown-Montgomery\",\"Cunningham-Hawkins\",\"Brooks, Ross and Suarez\",\"Flowers-Erickson\",\"Ali, Hamilton and Yates\",\"Aguirre, Morris and Tran\",\"Nolan-Stuart\",\"Walker-Grant\",\"Taylor, Huffman and Miller\",\"Vasquez, Roberts and Johnson\",\"Holland Ltd\",\"Moore and Sons\",\"Black-Hamilton\",\"Berry, Anderson and Hernandez\",\"Brewer-Morrow\",\"Curtis, Fischer and Mendez\",\"Harris-Rogers\",\"Williams Inc\",\"Perry, Smith and Smith\",\"Vincent-Greene\",\"Ritter-Reed\",\"Blake Ltd\",\"Lee-Johnson\",\"Morrison, Leonard and Hill\",\"Johnson, Mcconnell and May\",\"Adkins, Robertson and Lindsey\",\"Joyce, Bowman and Ramirez\",\"Lin LLC\",\"Henry-Brooks\",\"Williamson, Martinez and Contreras\",\"Mercer-Williams\",\"Delgado Ltd\",\"Webb Group\",\"White, Buck and Suarez\",\"Bradley, Miller and Evans\",\"Spencer-Payne\",\"Fisher Ltd\",\"Bishop, Simpson and Nash\",\"Morse, Bishop and Smith\",\"Young Inc\",\"Mcguire, Brooks and Stuart\",\"Robertson-Obrien\",\"Brooks-Schroeder\",\"Clements and Sons\",\"Carter-Wilson\",\"Evans-Shelton\",\"Byrd-Jones\",\"Collins-Becker\",\"Mendez, Watkins and Andrews\",\"Thompson-Chan\",\"Ramos and Sons\",\"Salas, Ritter and Riddle\",\"Weaver, Young and King\",\"Wilson Ltd\",\"Nielsen-Reed\",\"Mueller-Hall\",\"Turner LLC\",\"Vaughan-Perez\",\"Warren, Taylor and Cole\",\"Duffy-Mcmillan\",\"Santana-Brewer\",\"Bush and Sons\",\"Anderson-Burns\",\"Fuller-Walters\",\"Robertson, Frye and Frost\",\"Ramsey, Freeman and Hamilton\",\"Williams LLC\",\"Sampson-Kennedy\",\"Thompson-Porter\",\"Sherman-Massey\",\"Sanchez, Shaw and Acevedo\",\"Hurley-Bush\",\"Watson PLC\",\"Taylor Group\",\"Jackson LLC\",\"Wright LLC\",\"Cooper-Ross\",\"Malone Inc\",\"Henry-Duke\",\"Lindsey, Avila and Brown\",\"Cole-Davis\",\"Nunez-Smith\",\"Williams Group\",\"Russell-Alvarez\",\"Valdez-Fuller\",\"Williams, Carrillo and Rice\",\"Smith-Scott\",\"Smith Group\",\"Barrett, Figueroa and White\",\"Dennis-Sanchez\",\"Gonzalez, Coleman and Le\",\"Pope-Hensley\",\"Petty, Smith and Arnold\",\"Harris and Sons\",\"Jenkins, Phillips and Lopez\",\"Marquez Ltd\",\"Gonzales Group\",\"Lopez PLC\",\"Miller-Wolfe\",\"Douglas-Dalton\",\"Valencia-Boone\",\"Johnson, Harris and Strong\",\"Fritz-Tapia\",\"Grant, Cross and Bennett\",\"Walton-Larson\",\"Morales LLC\",\"Cole-Williams\",\"Evans, Clayton and Ross\",\"Moyer, Lee and Abbott\",\"Perkins-Long\",\"Fernandez-Fischer\",\"Kemp, Ingram and Olsen\",\"Smith-Barrett\",\"Stephens, Cox and Fisher\",\"Schneider, White and Thomas\",\"Dominguez-Franklin\",\"Bishop LLC\",\"Wolfe-Schroeder\",\"Wallace Ltd\",\"Sanchez PLC\",\"Mckay PLC\",\"Ortega Inc\",\"White-Berry\",\"Elliott, Green and Scott\",\"Maddox-Lewis\",\"Miller Ltd\",\"Arias-Mendoza\",\"King-Rocha\",\"Hester-Murphy\",\"Jones-Nguyen\",\"Thomas-Mason\",\"Jacobson-Collins\",\"Goodwin PLC\",\"Hanson, Barron and Castillo\",\"Rodriguez-Morales\",\"Hester, Lee and Kirby\",\"Gonzales Ltd\",\"Jordan-Bass\",\"Cox, Friedman and Martinez\",\"Calhoun Inc\",\"Daniels, Rojas and Pearson\",\"Thomas Ltd\",\"Sanchez PLC\",\"Miller Ltd\",\"Moran Inc\",\"Good, Davis and Smith\",\"Wheeler Ltd\",\"Garcia Ltd\",\"Williams-Thompson\",\"Williams Group\",\"Butler, Perkins and Arnold\",\"Hensley-Love\",\"Pace-Davis\",\"Fields, Christensen and Daniels\",\"Johnson, Scott and Kim\",\"Bullock LLC\",\"Cochran-Phillips\",\"Ochoa-Martin\",\"Wheeler LLC\",\"Miller, Campbell and Russell\",\"Lang-Bryant\",\"Conway-Estrada\",\"Delgado PLC\",\"Harper Ltd\",\"Gallagher-Parker\",\"Anderson-Valdez\",\"Williams Ltd\",\"Rodriguez-Dominguez\",\"Hoover Inc\",\"Morris Inc\",\"Sanchez PLC\",\"Hodge and Sons\",\"Patrick Inc\",\"Roberts, Lin and Davis\",\"Lee, Kemp and Warner\",\"Ford, Carpenter and Valdez\",\"May PLC\",\"Taylor Inc\",\"Hinton, Evans and Harrison\",\"Allen-Garza\",\"Henry-Frazier\",\"Anderson-Leach\",\"Phillips Group\",\"Guerra-Coleman\",\"Frank-Allen\",\"Wallace-Fleming\",\"Vasquez and Sons\",\"Martin Inc\",\"Durham-Lewis\",\"Harper Inc\",\"Manning-Floyd\",\"Kirby and Sons\",\"Padilla, Gibson and Ingram\",\"Smith, Davis and Gutierrez\",\"Miller-Jordan\",\"Clark-Henderson\",\"Myers, Wilcox and Beck\",\"Stokes-Mclean\",\"Dunn-Jackson\",\"Fox, Stevens and Bell\",\"Mitchell, Davidson and Summers\",\"Mason PLC\",\"Smith-Ramirez\",\"Mcdonald PLC\",\"Gill-Boyle\",\"Cooper, Ford and Heath\",\"Wagner, Martinez and Dorsey\",\"Robinson-Thompson\",\"Williams, Nichols and Oliver\",\"Parks PLC\",\"Williamson, Graham and Farrell\",\"Booker-Camacho\",\"Smith, Savage and Oneal\",\"Larsen-Russell\",\"Sanders, Jones and Keller\",\"Smith-Rodriguez\",\"Moore LLC\",\"Aguirre-Reed\",\"Friedman-Le\",\"Keller, Stevenson and Gonzalez\",\"Smith, Thompson and Vance\",\"Wilson, Torres and Rodriguez\",\"Ferrell Inc\",\"Evans-Allison\",\"Ruiz, Sullivan and Gates\",\"Wolfe PLC\",\"Miller and Sons\",\"Sanchez and Sons\",\"Gibson-Armstrong\",\"Horton, Sanchez and Mitchell\",\"Jones PLC\",\"Stevens-Ward\",\"Hawkins Group\",\"Patterson, Herman and Collins\",\"Huang, Nash and Wall\",\"Fuller-Torres\",\"Alvarado, Russell and Moreno\",\"Zhang, Bailey and Burnett\",\"Smith, Shelton and Anderson\",\"Mcdowell and Sons\",\"Gomez LLC\",\"Hayes-Johnson\",\"Torres, Howell and Gomez\",\"Campbell-Serrano\",\"Herrera-Alvarez\",\"Combs, Wise and Clark\",\"Hamilton-Garcia\",\"Haley, Price and Contreras\",\"Cochran-Black\",\"Austin Inc\",\"Reeves-Elliott\",\"Fowler-Martinez\",\"Hutchinson, Roberts and Mcbride\",\"Blanchard LLC\",\"May-Snyder\",\"Mayer, Moore and Murphy\",\"Allen-Mays\",\"Fox, Burgess and White\",\"Pugh-Knight\",\"Jordan and Sons\",\"Gallagher-Kirby\",\"Cortez Group\",\"Fernandez LLC\",\"Miranda LLC\",\"Johnston Ltd\",\"Steele, Fuller and Freeman\",\"Yoder PLC\",\"Bailey Ltd\",\"Olson LLC\",\"Scott PLC\",\"Martin Inc\",\"Morgan, Burns and Gregory\",\"Carroll, Brown and Bates\",\"Kramer-Cox\",\"Yang-Coleman\",\"Owens, Grimes and Patrick\",\"Ashley, Fields and Vazquez\",\"Mayer, Fisher and White\",\"Campbell PLC\",\"Hartman, Lopez and Riley\",\"Gilbert and Sons\",\"Alvarez, Martinez and Robertson\",\"Rivera and Sons\",\"Smith, Greene and Miller\",\"Martinez, Bond and Green\",\"Franco Ltd\",\"Rogers-Rodriguez\",\"Hartman-Rodriguez\",\"Smith Group\",\"Johnson-Andrews\",\"Castillo Inc\",\"Martinez PLC\",\"Smith and Sons\",\"Santiago, Yoder and Stevens\",\"Hicks and Sons\",\"Woods-Murphy\",\"Frey LLC\",\"Moore-Ingram\",\"Aguilar-Campos\",\"Rice-Hernandez\",\"Hernandez-Davis\",\"Anderson-Cruz\",\"Hill Inc\",\"Clark Ltd\",\"Johnson LLC\",\"Gomez-Morgan\",\"Padilla, Mitchell and Clark\",\"Horne PLC\",\"Garcia Group\",\"Boyd, Hines and Higgins\",\"Lopez, Mann and Sanchez\",\"Chapman, Martinez and Powers\",\"Morrison-Stanley\",\"Johnson-Fleming\",\"Robles-Williams\",\"Brooks Ltd\",\"Lang, Brown and Stone\",\"Atkinson, Moore and Nelson\",\"Kim, Maxwell and Moore\",\"Wallace LLC\"],\"x\":[85,64,95,79,41,70,63,79,58,92,22,21,49,45,76,10,97,22,65,11,60,54,71,54,56,22,79,4,87,51,43,85,4,11,19,98,58,35,62,19,38,89,67,60,68,71,59,59,58,6,14,66,34,61,78,26,52,89,2,33,25,95,15,58,79,77,26,26,15,52,19,23,71,22,63,89,37,93,39,33,75,99,66,94,3,78,17,93,81,1,28,46,20,32,33,16,70,66,56,25,49,50,54,62,76,19,15,96,33,25,43,40,14,71,9,28,47,93,45,35,59,49,13,9,29,5,51,89,62,21,2,66,49,52,19,50,31,52,87,20,61,31,83,31,29,66,34,49,42,90,73,26,1,96,7,95,6,5,49,77,21,37,18,37,62,27,62,80,84,67,81,40,85,80,3,8,90,81,8,53,9,68,72,95,89,17,64,39,60,32,74,66,67,6,55,26,40,82,70,36,79,78,66,83,29,32,83,51,25,36,49,53,15,90,68,1,11,78,74,50,7,31,75,93,58,84,91,33,34,24,89,14,92,39,73,43,57,21,61,68,68,76,93,36,34,25,80,7,3,46,13,86,24,76,5,94,99,72,63,10,90,48,75,21,2,19,13,84,83,85,98,77,60,20,82,81,16,34,84,59,57,36,2,81,63,75,90,12,50,62,99,8,71,19,10,49,96,84,19,61,41,16,13,53,17,91,40,88,50,36,10,65,28,55,92,25,94,47,59,5,4,79,57,46,25,34,49,9,58,53,4,64,24,16,24,66,39,69,29,9,39,65,18,47,17,64,42,85,41,20,68,56,24,36,79,68,56,72,74,25,89,71,79,15,89,47,23,29,51,72,44,91,2,40,68,80,19,18,7,39,18,10,77,78,84,28,15,31,83,40,60,82,54,43,97,41,20,8,59,67,42,85,82,29,60,7,33,20,37,64,30,63,28,55,92,54,19,95,13,33,6,75,8,59,65,66,30,91,40,5,20,95,89,46,12,91,3,82,70,56,49,85,26,26,86,67,31,67,75,85,72,43,80,88,91,65,81,30,15,46,55,81,4,51,43,85,68,99,68,19,70,7,5,95,59,2,4,34,99,60,42,44,83,82,95,54,95,87,34,81,14,18,1,54,69,65,51,36,38,74,89,76,75,60,13,25,54,90,3,98,98,47,91,79,12,73,95,40,38,8,44,39,31,85,41,75,8,56,47,89,20,28,42,84,10,72,17,88,76,40,70,57,55,8,48,64,54,38,66,98,56,60,57,27,86,21,87,49,36,42,97,30,39,72,52,79,60,69,40,36,21,21,68,95,95,43,88,44,31,34,76,54,95,81,67,66,72,75,68,49,93,53,46,31,23,85,86,2,40,80,69,7,21,25,24,77,66,99,62,80,49,94,80,94,42,12,52,19,49,23,4,90,32,20,52,85,21,71,30,8,33,71,36,71,83,29,17,42,77,54,13,62,96,12,20,94,4,49,21,70,14,6,69,70,13,76,47,66,17,4,24,60,93,21,37,8,16,89,38,58,41,83,33,25,94,92,6,95,11,63,25,79,23,97,18,7,80,97,10,85,53,3,27,81,85,90,59,84,24,55,72,24,85,27,75,33,27,67,16,36,51,62,32,13,49,82,29,72,78,93,94,37,46,98,28,97,67,16,88,58,10,53,98,39,3,85,42,58,42,79,48,84,94,35,27,2,8,89,20,91,66,95,2,8,51,7,54,41,75,62,52,36,55,12,8,76,96,3,86,96,48,37,48,68,36,99,68,21,34,76,65,94,39,24,88,42,34,56,51,7,3,83,28,13,56,43,52,28,99,59,7,16,7,64,61,6,36,1,60,88,14,67,76,93,66,80,79,90,17,9,96,96,38,67,44,35,26,19,65,17,52,81,45,7,91,13,97,73,22,21,14,17,52,17,16,56,43,36,27,73,25,13,78,65,2,69,37,8,3,64,73,4,73,67,36,71,72,15,54,88,66,90,18,64,95,66,86,13,25,91,40,61,23,49,71,34,28,95,3,4,59,97,21,45,72,35,9,51,1,84,51,6,99,92,11,29,11,25,20,19,18,28,81,17,89,30,2,32,59,24,38,63,54,74,77,54,79,2,20,65,85,3,83,57,50,84,83,64,92,69,61,31,69,44,34,47,12,39,4,35,51,46,75,57,35,43,20,95,72,67,8,55,64,44,6,35,99,45,26,39,75,25,9,73,57,32,53,39,88,44,4,6,37,13,70,9,5,60,14,96,66,24,79,27,1,76,59,59,84,79],\"y\":[1196.95,1010.34,400.8,338.6,839.79,1498.13,975.77,530.7,178.52,774.79,806.59,317.64,1460.22,761.48,965.15,1354.69,1025.05,1071.99,1415.74,307.58,678.72,1092.94,182.24,1431.15,1019.82,1458.52,1333.31,1481.04,785.38,421.01,537.32,192.48,875.91,546.53,278.72,335.83,312.97,411.89,1070.05,704.12,257.6,287.36,146.89,1426.06,293.4,228.77,189.31,694.54,270.46,1182.99,1289.42,433.88,680.7,189.93,965.16,1100.78,527.45,903.7,1377.31,1357.33,1036.47,773.02,1292.49,1123.18,288.55,261.06,167.99,1327.33,912.97,1467.95,388.88,1266.01,1371.76,1028.67,1477.41,1236.37,974.75,1062.8,118.14,1422.58,365.41,1418.24,1228.78,1141.24,1335.67,479.23,254.4,481.26,1409.49,157.23,296.24,1439.55,1187.15,273.35,950.36,903.82,1207.94,219.93,862.18,803.5,949.75,1115.61,900.04,907.24,352.6,897.86,1007.3,757.33,923.2,823.68,1330.5,1318.54,1474.17,992.42,1040.94,626.57,259.15,1034.38,613.96,1337.3,359.23,589.57,701.08,121.62,1178.86,1447.8,1423.78,1444.64,824.69,912.6,958.86,938.75,1412.91,1091.68,988.44,321.11,384.15,123.55,811.97,742.68,205.46,978.13,735.25,385.39,696.42,1194.98,464.15,1085.16,687.38,894.34,598.5,618.99,104.99,1269.71,985.83,1352.48,158.46,270.04,434.65,624.74,1278.51,613.3,1056.74,482.47,262.64,1237.37,811.73,422.33,312.37,1370.68,1245.2,423.8,1141.1,518.67,409.35,809.43,1256.1,782.21,122.76,1345.71,1273.26,1352.3,413.08,141.32,998.82,1136.87,251.06,960.48,959.18,1158.35,682.66,281.6,464.51,1262.78,806.17,448.12,505.85,1285.81,1243.41,850.08,1039.85,842.01,1368.15,1358.1,1150.87,132.64,580.86,1276.9,1119.15,213.05,574.12,178.98,1064.72,763.9,1239.52,1123.8,975.91,627.75,896.28,180.15,1493.63,1128.07,177.94,920.56,818.84,1360.71,550.72,927.54,114.6,959.13,646.09,249.67,826.54,1411.76,212.78,501.45,981.39,429.75,759.37,1485.6,867.3,164.03,992.06,942.27,609.95,1458.61,1171.07,894.1,154.91,382.59,1347.33,454.88,1481.19,1164.44,1409.33,189.14,595.16,1185.69,373.46,794.72,1045.12,644.86,457.28,991.09,1389.02,1122.88,1224.24,1317.86,796.46,1148.23,609.77,1252.52,1036.75,848.45,130.8,1083.43,323.28,1088.57,604.9,283.19,1371.75,1100.35,883.91,388.45,958.9,603.59,299.33,791.97,246.8,309.99,723.04,1250.45,883.64,1047.17,1446.33,319.74,983.28,661.38,1195.38,1453.57,1483.71,570.97,1210.29,687.46,1030.8,1285.42,1148.39,281.55,644.01,819.04,432.04,1460.33,154.06,1070.26,601.41,855.95,364.45,156.02,811.59,1118.63,764.81,898.28,507.13,404.89,1018.82,1231.35,165.06,170.43,810.9,1060.85,1409.14,123.45,377.8,883.09,985.02,1157.78,1074.85,1316.82,608.12,988.39,589.1,357.98,1297.35,944.16,1376.5,1138.9,130.68,1276.97,1158.59,1239.85,1167.79,339.26,1096.95,1251.71,655.7,805.15,781.03,1264.82,255.97,176.36,987.65,873.85,437.73,338.95,1184.54,972.1,846.09,865.64,1154.25,494.84,348.43,1278.82,381.83,719.28,1486.29,1378.49,467.93,833.19,1388.36,370.28,1307.36,859.92,563.7,1211.87,1426.72,546.44,627.54,1387.12,299.51,1037.17,157.21,185.13,573.99,566.73,921.44,1151.12,384.45,1074.32,473.48,1449.84,1108.08,911.36,1182.85,483.26,479.44,897.02,437.56,872.16,965.18,110.16,434.12,1217.5,293.24,249.49,681.33,298.02,219.99,733.08,877.61,1426.34,185.44,1168.22,1003.56,1474.5,726.99,911.58,1209.12,537.73,120.3,836.88,187.57,170.33,1118.72,530.21,1435.0,943.28,497.32,519.46,767.55,1411.66,636.1,554.03,1204.69,1037.32,971.16,1164.58,201.85,256.42,420.81,443.56,166.05,874.01,1137.26,901.21,269.43,1158.16,547.67,203.92,374.41,534.44,1019.36,965.45,630.85,1277.62,364.81,536.8,264.68,870.58,356.09,1211.43,884.15,1119.68,885.86,894.2,1203.42,1240.29,783.9,580.56,426.56,479.02,356.01,325.12,1143.91,163.19,619.85,887.6,443.05,157.5,463.3,1066.94,688.69,157.54,808.78,739.42,1128.1,784.93,520.93,245.81,1085.52,193.77,1178.88,508.76,208.32,887.06,1041.67,849.64,115.22,1477.14,107.05,221.85,985.15,1184.61,688.29,1104.15,732.04,1022.16,1134.19,551.79,643.18,325.48,1151.03,1429.03,203.41,163.62,1083.41,879.86,1170.21,1396.17,481.52,501.28,1201.43,500.75,184.9,690.06,260.38,535.11,1082.81,967.71,1409.21,1443.99,656.01,307.83,1252.68,577.49,866.4,448.06,1302.69,1218.75,1174.32,463.44,1205.37,907.71,315.81,527.16,1317.59,858.06,1196.33,857.2,1314.34,721.93,783.61,904.96,1415.83,512.52,818.49,965.34,945.23,1027.51,297.69,1302.2,1472.67,662.12,193.87,997.81,610.7,549.53,1042.66,178.22,1159.99,455.7,478.36,209.32,1293.55,314.93,1048.2,796.02,674.58,1013.86,941.59,1276.39,733.77,888.01,766.06,1171.43,724.55,1297.7,882.11,622.74,240.24,1136.68,735.35,498.83,342.08,641.22,338.47,995.72,678.18,1294.76,691.39,196.78,813.19,1345.42,1465.14,1483.91,113.9,284.83,723.74,493.05,1499.25,883.16,788.54,410.05,783.11,274.04,399.41,805.82,355.5,690.46,576.03,1391.33,418.73,533.99,1139.64,219.12,407.76,651.39,1314.06,363.28,1104.19,1183.15,393.24,118.69,149.81,498.36,1100.71,388.02,283.69,1459.69,1427.1,1212.06,1037.33,677.09,1319.53,153.61,1195.66,643.43,945.19,1265.9,523.9,1315.25,504.69,372.29,189.44,1025.19,652.8,1291.19,1369.06,530.13,1019.28,139.14,1387.62,1385.88,493.11,399.77,172.08,973.62,976.7,583.14,763.75,1082.67,834.45,1390.89,464.6,1408.39,198.98,409.55,741.59,732.93,898.43,1458.6,781.4,683.62,180.79,750.48,574.97,852.86,1175.92,298.95,1441.98,207.45,883.15,1072.63,1005.71,624.9,1385.71,835.18,1409.11,728.62,783.1,778.23,1350.1,1497.89,320.62,1228.12,1334.89,226.71,701.97,1259.98,117.52,1341.15,318.31,417.08,362.38,295.03,899.37,300.7,1322.73,1058.62,1016.7,526.11,468.68,1338.67,1235.36,1151.34,1359.24,376.75,167.87,514.23,143.25,358.15,660.61,1085.48,1253.69,869.95,1266.76,650.55,1218.14,1179.65,448.78,286.53,461.16,571.36,235.77,879.61,513.64,1422.75,540.51,1006.68,261.2,971.93,147.42,246.83,678.62,1485.67,671.47,412.76,747.06,1261.17,1384.31,1343.65,1068.1,1245.83,799.51,462.26,635.51,730.63,1223.93,1183.94,1443.45,103.32,944.62,433.44,933.94,1211.35,370.12,1494.45,459.53,1494.78,556.39,666.55,371.56,575.53,140.8,1073.31,341.51,300.03,1230.49,975.8,305.39,310.1,1078.6,829.17,665.49,1016.94,1201.92,1021.34,1479.23,294.03,1000.36,1354.53,1158.54,176.21,367.91,1110.66,604.24,1309.52,843.86,518.31,1393.2,546.36,1137.5,1217.74,701.18,1053.4,551.21,1279.24,1339.05,741.44,377.93,1468.09,1270.14,166.35,851.8,1283.7,318.26,985.58,402.39,545.15,398.85,978.57,498.97,458.48,1077.06,498.77,448.61,169.7,850.45,599.19,481.84,1321.92,631.91,587.47,955.3,1358.18,458.29,597.5,381.11,1369.73,784.79,977.58,831.95,549.92,712.19,1355.42,246.74,1174.82,678.21,1401.12,1131.17,992.14,585.08,756.49,1122.28,913.01,1251.55,329.18,1466.37,698.67,748.66,1114.73,151.58,1281.01,1250.06,1018.23,187.82,665.03,823.78,1223.95,1462.63,165.21,846.09,265.91,386.86,475.83,878.03,331.35,619.38,336.3,861.39,276.84,1227.05,1249.73,956.78,1002.94,1200.66,511.23,308.67,229.36,644.55,1283.63,933.63,298.8,192.16,506.71,490.28,951.85,1139.45,1481.7,1004.17,1488.37,1416.21,353.14,1298.8,1343.0,1159.58,1157.65,1348.6,1326.3,1418.32,979.95,281.69,841.69,753.55,831.78,708.09,976.1,1349.26,559.89,780.0,411.37,1318.33,782.06,705.82,843.61,865.12,1106.02,910.22,374.64,1398.62,321.91,1412.84,245.35,1486.13,1172.27,734.72,554.42,859.11,790.63,581.79,737.52,1429.56,1049.5,589.13,948.49,504.7,605.61,573.22,395.07,1484.79,1284.76,1199.91,240.38,174.42,1447.46,947.69,1366.7,781.0,557.32,455.29,416.77,1124.85,360.53,613.68,1471.33,919.9,773.39,1359.72,1076.75,961.14,665.0,715.6,435.43,1424.36,766.92,1387.23,1386.69,1159.26,544.31,331.98,973.97],\"type\":\"scatter\"}],                        {\"hovermode\":\"closest\",\"template\":{\"data\":{\"barpolar\":[{\"marker\":{\"line\":{\"color\":\"#E5ECF6\",\"width\":0.5},\"pattern\":{\"fillmode\":\"overlay\",\"size\":10,\"solidity\":0.2}},\"type\":\"barpolar\"}],\"bar\":[{\"error_x\":{\"color\":\"#2a3f5f\"},\"error_y\":{\"color\":\"#2a3f5f\"},\"marker\":{\"line\":{\"color\":\"#E5ECF6\",\"width\":0.5},\"pattern\":{\"fillmode\":\"overlay\",\"size\":10,\"solidity\":0.2}},\"type\":\"bar\"}],\"carpet\":[{\"aaxis\":{\"endlinecolor\":\"#2a3f5f\",\"gridcolor\":\"white\",\"linecolor\":\"white\",\"minorgridcolor\":\"white\",\"startlinecolor\":\"#2a3f5f\"},\"baxis\":{\"endlinecolor\":\"#2a3f5f\",\"gridcolor\":\"white\",\"linecolor\":\"white\",\"minorgridcolor\":\"white\",\"startlinecolor\":\"#2a3f5f\"},\"type\":\"carpet\"}],\"choropleth\":[{\"colorbar\":{\"outlinewidth\":0,\"ticks\":\"\"},\"type\":\"choropleth\"}],\"contourcarpet\":[{\"colorbar\":{\"outlinewidth\":0,\"ticks\":\"\"},\"type\":\"contourcarpet\"}],\"contour\":[{\"colorbar\":{\"outlinewidth\":0,\"ticks\":\"\"},\"colorscale\":[[0.0,\"#0d0887\"],[0.1111111111111111,\"#46039f\"],[0.2222222222222222,\"#7201a8\"],[0.3333333333333333,\"#9c179e\"],[0.4444444444444444,\"#bd3786\"],[0.5555555555555556,\"#d8576b\"],[0.6666666666666666,\"#ed7953\"],[0.7777777777777778,\"#fb9f3a\"],[0.8888888888888888,\"#fdca26\"],[1.0,\"#f0f921\"]],\"type\":\"contour\"}],\"heatmapgl\":[{\"colorbar\":{\"outlinewidth\":0,\"ticks\":\"\"},\"colorscale\":[[0.0,\"#0d0887\"],[0.1111111111111111,\"#46039f\"],[0.2222222222222222,\"#7201a8\"],[0.3333333333333333,\"#9c179e\"],[0.4444444444444444,\"#bd3786\"],[0.5555555555555556,\"#d8576b\"],[0.6666666666666666,\"#ed7953\"],[0.7777777777777778,\"#fb9f3a\"],[0.8888888888888888,\"#fdca26\"],[1.0,\"#f0f921\"]],\"type\":\"heatmapgl\"}],\"heatmap\":[{\"colorbar\":{\"outlinewidth\":0,\"ticks\":\"\"},\"colorscale\":[[0.0,\"#0d0887\"],[0.1111111111111111,\"#46039f\"],[0.2222222222222222,\"#7201a8\"],[0.3333333333333333,\"#9c179e\"],[0.4444444444444444,\"#bd3786\"],[0.5555555555555556,\"#d8576b\"],[0.6666666666666666,\"#ed7953\"],[0.7777777777777778,\"#fb9f3a\"],[0.8888888888888888,\"#fdca26\"],[1.0,\"#f0f921\"]],\"type\":\"heatmap\"}],\"histogram2dcontour\":[{\"colorbar\":{\"outlinewidth\":0,\"ticks\":\"\"},\"colorscale\":[[0.0,\"#0d0887\"],[0.1111111111111111,\"#46039f\"],[0.2222222222222222,\"#7201a8\"],[0.3333333333333333,\"#9c179e\"],[0.4444444444444444,\"#bd3786\"],[0.5555555555555556,\"#d8576b\"],[0.6666666666666666,\"#ed7953\"],[0.7777777777777778,\"#fb9f3a\"],[0.8888888888888888,\"#fdca26\"],[1.0,\"#f0f921\"]],\"type\":\"histogram2dcontour\"}],\"histogram2d\":[{\"colorbar\":{\"outlinewidth\":0,\"ticks\":\"\"},\"colorscale\":[[0.0,\"#0d0887\"],[0.1111111111111111,\"#46039f\"],[0.2222222222222222,\"#7201a8\"],[0.3333333333333333,\"#9c179e\"],[0.4444444444444444,\"#bd3786\"],[0.5555555555555556,\"#d8576b\"],[0.6666666666666666,\"#ed7953\"],[0.7777777777777778,\"#fb9f3a\"],[0.8888888888888888,\"#fdca26\"],[1.0,\"#f0f921\"]],\"type\":\"histogram2d\"}],\"histogram\":[{\"marker\":{\"pattern\":{\"fillmode\":\"overlay\",\"size\":10,\"solidity\":0.2}},\"type\":\"histogram\"}],\"mesh3d\":[{\"colorbar\":{\"outlinewidth\":0,\"ticks\":\"\"},\"type\":\"mesh3d\"}],\"parcoords\":[{\"line\":{\"colorbar\":{\"outlinewidth\":0,\"ticks\":\"\"}},\"type\":\"parcoords\"}],\"pie\":[{\"automargin\":true,\"type\":\"pie\"}],\"scatter3d\":[{\"line\":{\"colorbar\":{\"outlinewidth\":0,\"ticks\":\"\"}},\"marker\":{\"colorbar\":{\"outlinewidth\":0,\"ticks\":\"\"}},\"type\":\"scatter3d\"}],\"scattercarpet\":[{\"marker\":{\"colorbar\":{\"outlinewidth\":0,\"ticks\":\"\"}},\"type\":\"scattercarpet\"}],\"scattergeo\":[{\"marker\":{\"colorbar\":{\"outlinewidth\":0,\"ticks\":\"\"}},\"type\":\"scattergeo\"}],\"scattergl\":[{\"marker\":{\"colorbar\":{\"outlinewidth\":0,\"ticks\":\"\"}},\"type\":\"scattergl\"}],\"scattermapbox\":[{\"marker\":{\"colorbar\":{\"outlinewidth\":0,\"ticks\":\"\"}},\"type\":\"scattermapbox\"}],\"scatterpolargl\":[{\"marker\":{\"colorbar\":{\"outlinewidth\":0,\"ticks\":\"\"}},\"type\":\"scatterpolargl\"}],\"scatterpolar\":[{\"marker\":{\"colorbar\":{\"outlinewidth\":0,\"ticks\":\"\"}},\"type\":\"scatterpolar\"}],\"scatter\":[{\"fillpattern\":{\"fillmode\":\"overlay\",\"size\":10,\"solidity\":0.2},\"type\":\"scatter\"}],\"scatterternary\":[{\"marker\":{\"colorbar\":{\"outlinewidth\":0,\"ticks\":\"\"}},\"type\":\"scatterternary\"}],\"surface\":[{\"colorbar\":{\"outlinewidth\":0,\"ticks\":\"\"},\"colorscale\":[[0.0,\"#0d0887\"],[0.1111111111111111,\"#46039f\"],[0.2222222222222222,\"#7201a8\"],[0.3333333333333333,\"#9c179e\"],[0.4444444444444444,\"#bd3786\"],[0.5555555555555556,\"#d8576b\"],[0.6666666666666666,\"#ed7953\"],[0.7777777777777778,\"#fb9f3a\"],[0.8888888888888888,\"#fdca26\"],[1.0,\"#f0f921\"]],\"type\":\"surface\"}],\"table\":[{\"cells\":{\"fill\":{\"color\":\"#EBF0F8\"},\"line\":{\"color\":\"white\"}},\"header\":{\"fill\":{\"color\":\"#C8D4E3\"},\"line\":{\"color\":\"white\"}},\"type\":\"table\"}]},\"layout\":{\"annotationdefaults\":{\"arrowcolor\":\"#2a3f5f\",\"arrowhead\":0,\"arrowwidth\":1},\"autotypenumbers\":\"strict\",\"coloraxis\":{\"colorbar\":{\"outlinewidth\":0,\"ticks\":\"\"}},\"colorscale\":{\"diverging\":[[0,\"#8e0152\"],[0.1,\"#c51b7d\"],[0.2,\"#de77ae\"],[0.3,\"#f1b6da\"],[0.4,\"#fde0ef\"],[0.5,\"#f7f7f7\"],[0.6,\"#e6f5d0\"],[0.7,\"#b8e186\"],[0.8,\"#7fbc41\"],[0.9,\"#4d9221\"],[1,\"#276419\"]],\"sequential\":[[0.0,\"#0d0887\"],[0.1111111111111111,\"#46039f\"],[0.2222222222222222,\"#7201a8\"],[0.3333333333333333,\"#9c179e\"],[0.4444444444444444,\"#bd3786\"],[0.5555555555555556,\"#d8576b\"],[0.6666666666666666,\"#ed7953\"],[0.7777777777777778,\"#fb9f3a\"],[0.8888888888888888,\"#fdca26\"],[1.0,\"#f0f921\"]],\"sequentialminus\":[[0.0,\"#0d0887\"],[0.1111111111111111,\"#46039f\"],[0.2222222222222222,\"#7201a8\"],[0.3333333333333333,\"#9c179e\"],[0.4444444444444444,\"#bd3786\"],[0.5555555555555556,\"#d8576b\"],[0.6666666666666666,\"#ed7953\"],[0.7777777777777778,\"#fb9f3a\"],[0.8888888888888888,\"#fdca26\"],[1.0,\"#f0f921\"]]},\"colorway\":[\"#636efa\",\"#EF553B\",\"#00cc96\",\"#ab63fa\",\"#FFA15A\",\"#19d3f3\",\"#FF6692\",\"#B6E880\",\"#FF97FF\",\"#FECB52\"],\"font\":{\"color\":\"#2a3f5f\"},\"geo\":{\"bgcolor\":\"white\",\"lakecolor\":\"white\",\"landcolor\":\"#E5ECF6\",\"showlakes\":true,\"showland\":true,\"subunitcolor\":\"white\"},\"hoverlabel\":{\"align\":\"left\"},\"hovermode\":\"closest\",\"mapbox\":{\"style\":\"light\"},\"paper_bgcolor\":\"white\",\"plot_bgcolor\":\"#E5ECF6\",\"polar\":{\"angularaxis\":{\"gridcolor\":\"white\",\"linecolor\":\"white\",\"ticks\":\"\"},\"bgcolor\":\"#E5ECF6\",\"radialaxis\":{\"gridcolor\":\"white\",\"linecolor\":\"white\",\"ticks\":\"\"}},\"scene\":{\"xaxis\":{\"backgroundcolor\":\"#E5ECF6\",\"gridcolor\":\"white\",\"gridwidth\":2,\"linecolor\":\"white\",\"showbackground\":true,\"ticks\":\"\",\"zerolinecolor\":\"white\"},\"yaxis\":{\"backgroundcolor\":\"#E5ECF6\",\"gridcolor\":\"white\",\"gridwidth\":2,\"linecolor\":\"white\",\"showbackground\":true,\"ticks\":\"\",\"zerolinecolor\":\"white\"},\"zaxis\":{\"backgroundcolor\":\"#E5ECF6\",\"gridcolor\":\"white\",\"gridwidth\":2,\"linecolor\":\"white\",\"showbackground\":true,\"ticks\":\"\",\"zerolinecolor\":\"white\"}},\"shapedefaults\":{\"line\":{\"color\":\"#2a3f5f\"}},\"ternary\":{\"aaxis\":{\"gridcolor\":\"white\",\"linecolor\":\"white\",\"ticks\":\"\"},\"baxis\":{\"gridcolor\":\"white\",\"linecolor\":\"white\",\"ticks\":\"\"},\"bgcolor\":\"#E5ECF6\",\"caxis\":{\"gridcolor\":\"white\",\"linecolor\":\"white\",\"ticks\":\"\"}},\"title\":{\"x\":0.05},\"xaxis\":{\"automargin\":true,\"gridcolor\":\"white\",\"linecolor\":\"white\",\"ticks\":\"\",\"title\":{\"standoff\":15},\"zerolinecolor\":\"white\",\"zerolinewidth\":2},\"yaxis\":{\"automargin\":true,\"gridcolor\":\"white\",\"linecolor\":\"white\",\"ticks\":\"\",\"title\":{\"standoff\":15},\"zerolinecolor\":\"white\",\"zerolinewidth\":2}}},\"title\":{\"text\":\"Bubble Chart of Units Sold vs. Price with Total Revenue\"},\"xaxis\":{\"title\":{\"text\":\"Units Sold\"}},\"yaxis\":{\"title\":{\"text\":\"Price\"}}},                        {\"responsive\": true}                    ).then(function(){\n",
       "                            \n",
       "var gd = document.getElementById('539610dc-3744-4b17-bc84-d794c67bcdfa');\n",
       "var x = new MutationObserver(function (mutations, observer) {{\n",
       "        var display = window.getComputedStyle(gd).display;\n",
       "        if (!display || display === 'none') {{\n",
       "            console.log([gd, 'removed!']);\n",
       "            Plotly.purge(gd);\n",
       "            observer.disconnect();\n",
       "        }}\n",
       "}});\n",
       "\n",
       "// Listen for the removal of the full notebook cells\n",
       "var notebookContainer = gd.closest('#notebook-container');\n",
       "if (notebookContainer) {{\n",
       "    x.observe(notebookContainer, {childList: true});\n",
       "}}\n",
       "\n",
       "// Listen for the clearing of the current output cell\n",
       "var outputEl = gd.closest('.output');\n",
       "if (outputEl) {{\n",
       "    x.observe(outputEl, {childList: true});\n",
       "}}\n",
       "\n",
       "                        })                };                });            </script>        </div>"
      ]
     },
     "metadata": {},
     "output_type": "display_data"
    }
   ],
   "source": [
    "# Extract data for plotting\n",
    "x = df['UnitsSold']\n",
    "y = df['Price']\n",
    "size = df['TotalRevenue']\n",
    "\n",
    "# Create the bubble chart\n",
    "fig = go.Figure(data=[go.Scatter(\n",
    "    x=x,\n",
    "    y=y,\n",
    "    text=df['Brand'],  # Hover text with brand information\n",
    "    mode='markers',\n",
    "    marker=dict(\n",
    "        size=size / 1000,  # Scale down the size for better visualization\n",
    "        sizemode='area',\n",
    "        sizeref=2.*max(size/1000)/(40.**2),\n",
    "        sizemin=4,\n",
    "        color=size,\n",
    "        colorscale='Viridis',\n",
    "        showscale=True,\n",
    "        colorbar=dict(title='Total Revenue')\n",
    "    )\n",
    ")])\n",
    "\n",
    "# Update layout\n",
    "fig.update_layout(\n",
    "    title='Bubble Chart of Units Sold vs. Price with Total Revenue',\n",
    "    xaxis=dict(title='Units Sold'),\n",
    "    yaxis=dict(title='Price'),\n",
    "    hovermode='closest'\n",
    ")\n",
    "\n",
    "# Plot the figure\n",
    "iplot(fig)"
   ]
  },
  {
   "cell_type": "code",
   "execution_count": 18,
   "id": "145852b9",
   "metadata": {},
   "outputs": [
    {
     "data": {
      "application/vnd.plotly.v1+json": {
       "config": {
        "linkText": "Export to plot.ly",
        "plotlyServerURL": "https://plot.ly",
        "showLink": false
       },
       "data": [
        {
         "marker": {
          "color": [
           68359.5,
           6982.72,
           88842.9,
           83551.42,
           73335.88,
           16544.32,
           48746.52,
           74497.92,
           24262.43,
           4596.57,
           23336.24,
           40821.85,
           19137.13,
           14706.38,
           4085.54,
           65007,
           28198,
           62231.5,
           77386.68,
           58423.05
          ],
          "showscale": true,
          "size": [
           68.3595,
           6.9827200000000005,
           88.8429,
           83.55142,
           73.33588,
           16.54432,
           48.74652,
           74.49792,
           24.262430000000002,
           4.59657,
           23.33624,
           40.82185,
           19.137130000000003,
           14.70638,
           4.08554,
           65.007,
           28.198,
           62.2315,
           77.38668,
           58.42305
          ],
          "sizemode": "area"
         },
         "mode": "markers",
         "text": [
          "Jones, Gonzalez and Camacho",
          "Friedman-Le",
          "King-Rocha",
          "Johnson, Rogers and Daugherty",
          "Robles-Williams",
          "Walters and Sons",
          "Ayers, Reyes and Lee",
          "Adams LLC",
          "Sanchez-Hernandez",
          "Alvarado, Russell and Moreno",
          "Soto, Hubbard and Kim",
          "Watson PLC",
          "Ramsey, Freeman and Hamilton",
          "Haley, Price and Contreras",
          "Evans-Gillespie",
          "Martinez-Torres",
          "Lee, Kemp and Warner",
          "Weber Group",
          "Smith, Ramirez and Campbell",
          "Smith Group"
         ],
         "type": "scatter",
         "x": [
          1,
          1,
          1,
          1,
          1,
          1,
          1,
          2,
          2,
          2,
          2,
          2,
          2,
          2,
          2,
          2,
          2,
          2,
          2,
          3
         ],
         "y": [
          1123.8,
          861.39,
          294.03,
          157.23,
          1387.23,
          104.99,
          808.78,
          1377.31,
          381.83,
          1139.45,
          1240.29,
          235.77,
          650.55,
          1326.3,
          883.91,
          958.86,
          458.29,
          622.74,
          1389.02,
          1261.17
         ]
        }
       ],
       "layout": {
        "hovermode": "closest",
        "template": {
         "data": {
          "bar": [
           {
            "error_x": {
             "color": "#2a3f5f"
            },
            "error_y": {
             "color": "#2a3f5f"
            },
            "marker": {
             "line": {
              "color": "#E5ECF6",
              "width": 0.5
             },
             "pattern": {
              "fillmode": "overlay",
              "size": 10,
              "solidity": 0.2
             }
            },
            "type": "bar"
           }
          ],
          "barpolar": [
           {
            "marker": {
             "line": {
              "color": "#E5ECF6",
              "width": 0.5
             },
             "pattern": {
              "fillmode": "overlay",
              "size": 10,
              "solidity": 0.2
             }
            },
            "type": "barpolar"
           }
          ],
          "carpet": [
           {
            "aaxis": {
             "endlinecolor": "#2a3f5f",
             "gridcolor": "white",
             "linecolor": "white",
             "minorgridcolor": "white",
             "startlinecolor": "#2a3f5f"
            },
            "baxis": {
             "endlinecolor": "#2a3f5f",
             "gridcolor": "white",
             "linecolor": "white",
             "minorgridcolor": "white",
             "startlinecolor": "#2a3f5f"
            },
            "type": "carpet"
           }
          ],
          "choropleth": [
           {
            "colorbar": {
             "outlinewidth": 0,
             "ticks": ""
            },
            "type": "choropleth"
           }
          ],
          "contour": [
           {
            "colorbar": {
             "outlinewidth": 0,
             "ticks": ""
            },
            "colorscale": [
             [
              0,
              "#0d0887"
             ],
             [
              0.1111111111111111,
              "#46039f"
             ],
             [
              0.2222222222222222,
              "#7201a8"
             ],
             [
              0.3333333333333333,
              "#9c179e"
             ],
             [
              0.4444444444444444,
              "#bd3786"
             ],
             [
              0.5555555555555556,
              "#d8576b"
             ],
             [
              0.6666666666666666,
              "#ed7953"
             ],
             [
              0.7777777777777778,
              "#fb9f3a"
             ],
             [
              0.8888888888888888,
              "#fdca26"
             ],
             [
              1,
              "#f0f921"
             ]
            ],
            "type": "contour"
           }
          ],
          "contourcarpet": [
           {
            "colorbar": {
             "outlinewidth": 0,
             "ticks": ""
            },
            "type": "contourcarpet"
           }
          ],
          "heatmap": [
           {
            "colorbar": {
             "outlinewidth": 0,
             "ticks": ""
            },
            "colorscale": [
             [
              0,
              "#0d0887"
             ],
             [
              0.1111111111111111,
              "#46039f"
             ],
             [
              0.2222222222222222,
              "#7201a8"
             ],
             [
              0.3333333333333333,
              "#9c179e"
             ],
             [
              0.4444444444444444,
              "#bd3786"
             ],
             [
              0.5555555555555556,
              "#d8576b"
             ],
             [
              0.6666666666666666,
              "#ed7953"
             ],
             [
              0.7777777777777778,
              "#fb9f3a"
             ],
             [
              0.8888888888888888,
              "#fdca26"
             ],
             [
              1,
              "#f0f921"
             ]
            ],
            "type": "heatmap"
           }
          ],
          "heatmapgl": [
           {
            "colorbar": {
             "outlinewidth": 0,
             "ticks": ""
            },
            "colorscale": [
             [
              0,
              "#0d0887"
             ],
             [
              0.1111111111111111,
              "#46039f"
             ],
             [
              0.2222222222222222,
              "#7201a8"
             ],
             [
              0.3333333333333333,
              "#9c179e"
             ],
             [
              0.4444444444444444,
              "#bd3786"
             ],
             [
              0.5555555555555556,
              "#d8576b"
             ],
             [
              0.6666666666666666,
              "#ed7953"
             ],
             [
              0.7777777777777778,
              "#fb9f3a"
             ],
             [
              0.8888888888888888,
              "#fdca26"
             ],
             [
              1,
              "#f0f921"
             ]
            ],
            "type": "heatmapgl"
           }
          ],
          "histogram": [
           {
            "marker": {
             "pattern": {
              "fillmode": "overlay",
              "size": 10,
              "solidity": 0.2
             }
            },
            "type": "histogram"
           }
          ],
          "histogram2d": [
           {
            "colorbar": {
             "outlinewidth": 0,
             "ticks": ""
            },
            "colorscale": [
             [
              0,
              "#0d0887"
             ],
             [
              0.1111111111111111,
              "#46039f"
             ],
             [
              0.2222222222222222,
              "#7201a8"
             ],
             [
              0.3333333333333333,
              "#9c179e"
             ],
             [
              0.4444444444444444,
              "#bd3786"
             ],
             [
              0.5555555555555556,
              "#d8576b"
             ],
             [
              0.6666666666666666,
              "#ed7953"
             ],
             [
              0.7777777777777778,
              "#fb9f3a"
             ],
             [
              0.8888888888888888,
              "#fdca26"
             ],
             [
              1,
              "#f0f921"
             ]
            ],
            "type": "histogram2d"
           }
          ],
          "histogram2dcontour": [
           {
            "colorbar": {
             "outlinewidth": 0,
             "ticks": ""
            },
            "colorscale": [
             [
              0,
              "#0d0887"
             ],
             [
              0.1111111111111111,
              "#46039f"
             ],
             [
              0.2222222222222222,
              "#7201a8"
             ],
             [
              0.3333333333333333,
              "#9c179e"
             ],
             [
              0.4444444444444444,
              "#bd3786"
             ],
             [
              0.5555555555555556,
              "#d8576b"
             ],
             [
              0.6666666666666666,
              "#ed7953"
             ],
             [
              0.7777777777777778,
              "#fb9f3a"
             ],
             [
              0.8888888888888888,
              "#fdca26"
             ],
             [
              1,
              "#f0f921"
             ]
            ],
            "type": "histogram2dcontour"
           }
          ],
          "mesh3d": [
           {
            "colorbar": {
             "outlinewidth": 0,
             "ticks": ""
            },
            "type": "mesh3d"
           }
          ],
          "parcoords": [
           {
            "line": {
             "colorbar": {
              "outlinewidth": 0,
              "ticks": ""
             }
            },
            "type": "parcoords"
           }
          ],
          "pie": [
           {
            "automargin": true,
            "type": "pie"
           }
          ],
          "scatter": [
           {
            "fillpattern": {
             "fillmode": "overlay",
             "size": 10,
             "solidity": 0.2
            },
            "type": "scatter"
           }
          ],
          "scatter3d": [
           {
            "line": {
             "colorbar": {
              "outlinewidth": 0,
              "ticks": ""
             }
            },
            "marker": {
             "colorbar": {
              "outlinewidth": 0,
              "ticks": ""
             }
            },
            "type": "scatter3d"
           }
          ],
          "scattercarpet": [
           {
            "marker": {
             "colorbar": {
              "outlinewidth": 0,
              "ticks": ""
             }
            },
            "type": "scattercarpet"
           }
          ],
          "scattergeo": [
           {
            "marker": {
             "colorbar": {
              "outlinewidth": 0,
              "ticks": ""
             }
            },
            "type": "scattergeo"
           }
          ],
          "scattergl": [
           {
            "marker": {
             "colorbar": {
              "outlinewidth": 0,
              "ticks": ""
             }
            },
            "type": "scattergl"
           }
          ],
          "scattermapbox": [
           {
            "marker": {
             "colorbar": {
              "outlinewidth": 0,
              "ticks": ""
             }
            },
            "type": "scattermapbox"
           }
          ],
          "scatterpolar": [
           {
            "marker": {
             "colorbar": {
              "outlinewidth": 0,
              "ticks": ""
             }
            },
            "type": "scatterpolar"
           }
          ],
          "scatterpolargl": [
           {
            "marker": {
             "colorbar": {
              "outlinewidth": 0,
              "ticks": ""
             }
            },
            "type": "scatterpolargl"
           }
          ],
          "scatterternary": [
           {
            "marker": {
             "colorbar": {
              "outlinewidth": 0,
              "ticks": ""
             }
            },
            "type": "scatterternary"
           }
          ],
          "surface": [
           {
            "colorbar": {
             "outlinewidth": 0,
             "ticks": ""
            },
            "colorscale": [
             [
              0,
              "#0d0887"
             ],
             [
              0.1111111111111111,
              "#46039f"
             ],
             [
              0.2222222222222222,
              "#7201a8"
             ],
             [
              0.3333333333333333,
              "#9c179e"
             ],
             [
              0.4444444444444444,
              "#bd3786"
             ],
             [
              0.5555555555555556,
              "#d8576b"
             ],
             [
              0.6666666666666666,
              "#ed7953"
             ],
             [
              0.7777777777777778,
              "#fb9f3a"
             ],
             [
              0.8888888888888888,
              "#fdca26"
             ],
             [
              1,
              "#f0f921"
             ]
            ],
            "type": "surface"
           }
          ],
          "table": [
           {
            "cells": {
             "fill": {
              "color": "#EBF0F8"
             },
             "line": {
              "color": "white"
             }
            },
            "header": {
             "fill": {
              "color": "#C8D4E3"
             },
             "line": {
              "color": "white"
             }
            },
            "type": "table"
           }
          ]
         },
         "layout": {
          "annotationdefaults": {
           "arrowcolor": "#2a3f5f",
           "arrowhead": 0,
           "arrowwidth": 1
          },
          "autotypenumbers": "strict",
          "coloraxis": {
           "colorbar": {
            "outlinewidth": 0,
            "ticks": ""
           }
          },
          "colorscale": {
           "diverging": [
            [
             0,
             "#8e0152"
            ],
            [
             0.1,
             "#c51b7d"
            ],
            [
             0.2,
             "#de77ae"
            ],
            [
             0.3,
             "#f1b6da"
            ],
            [
             0.4,
             "#fde0ef"
            ],
            [
             0.5,
             "#f7f7f7"
            ],
            [
             0.6,
             "#e6f5d0"
            ],
            [
             0.7,
             "#b8e186"
            ],
            [
             0.8,
             "#7fbc41"
            ],
            [
             0.9,
             "#4d9221"
            ],
            [
             1,
             "#276419"
            ]
           ],
           "sequential": [
            [
             0,
             "#0d0887"
            ],
            [
             0.1111111111111111,
             "#46039f"
            ],
            [
             0.2222222222222222,
             "#7201a8"
            ],
            [
             0.3333333333333333,
             "#9c179e"
            ],
            [
             0.4444444444444444,
             "#bd3786"
            ],
            [
             0.5555555555555556,
             "#d8576b"
            ],
            [
             0.6666666666666666,
             "#ed7953"
            ],
            [
             0.7777777777777778,
             "#fb9f3a"
            ],
            [
             0.8888888888888888,
             "#fdca26"
            ],
            [
             1,
             "#f0f921"
            ]
           ],
           "sequentialminus": [
            [
             0,
             "#0d0887"
            ],
            [
             0.1111111111111111,
             "#46039f"
            ],
            [
             0.2222222222222222,
             "#7201a8"
            ],
            [
             0.3333333333333333,
             "#9c179e"
            ],
            [
             0.4444444444444444,
             "#bd3786"
            ],
            [
             0.5555555555555556,
             "#d8576b"
            ],
            [
             0.6666666666666666,
             "#ed7953"
            ],
            [
             0.7777777777777778,
             "#fb9f3a"
            ],
            [
             0.8888888888888888,
             "#fdca26"
            ],
            [
             1,
             "#f0f921"
            ]
           ]
          },
          "colorway": [
           "#636efa",
           "#EF553B",
           "#00cc96",
           "#ab63fa",
           "#FFA15A",
           "#19d3f3",
           "#FF6692",
           "#B6E880",
           "#FF97FF",
           "#FECB52"
          ],
          "font": {
           "color": "#2a3f5f"
          },
          "geo": {
           "bgcolor": "white",
           "lakecolor": "white",
           "landcolor": "#E5ECF6",
           "showlakes": true,
           "showland": true,
           "subunitcolor": "white"
          },
          "hoverlabel": {
           "align": "left"
          },
          "hovermode": "closest",
          "mapbox": {
           "style": "light"
          },
          "paper_bgcolor": "white",
          "plot_bgcolor": "#E5ECF6",
          "polar": {
           "angularaxis": {
            "gridcolor": "white",
            "linecolor": "white",
            "ticks": ""
           },
           "bgcolor": "#E5ECF6",
           "radialaxis": {
            "gridcolor": "white",
            "linecolor": "white",
            "ticks": ""
           }
          },
          "scene": {
           "xaxis": {
            "backgroundcolor": "#E5ECF6",
            "gridcolor": "white",
            "gridwidth": 2,
            "linecolor": "white",
            "showbackground": true,
            "ticks": "",
            "zerolinecolor": "white"
           },
           "yaxis": {
            "backgroundcolor": "#E5ECF6",
            "gridcolor": "white",
            "gridwidth": 2,
            "linecolor": "white",
            "showbackground": true,
            "ticks": "",
            "zerolinecolor": "white"
           },
           "zaxis": {
            "backgroundcolor": "#E5ECF6",
            "gridcolor": "white",
            "gridwidth": 2,
            "linecolor": "white",
            "showbackground": true,
            "ticks": "",
            "zerolinecolor": "white"
           }
          },
          "shapedefaults": {
           "line": {
            "color": "#2a3f5f"
           }
          },
          "ternary": {
           "aaxis": {
            "gridcolor": "white",
            "linecolor": "white",
            "ticks": ""
           },
           "baxis": {
            "gridcolor": "white",
            "linecolor": "white",
            "ticks": ""
           },
           "bgcolor": "#E5ECF6",
           "caxis": {
            "gridcolor": "white",
            "linecolor": "white",
            "ticks": ""
           }
          },
          "title": {
           "x": 0.05
          },
          "xaxis": {
           "automargin": true,
           "gridcolor": "white",
           "linecolor": "white",
           "ticks": "",
           "title": {
            "standoff": 15
           },
           "zerolinecolor": "white",
           "zerolinewidth": 2
          },
          "yaxis": {
           "automargin": true,
           "gridcolor": "white",
           "linecolor": "white",
           "ticks": "",
           "title": {
            "standoff": 15
           },
           "zerolinecolor": "white",
           "zerolinewidth": 2
          }
         }
        },
        "title": {
         "text": "Bubble Chart: Units Sold vs. Price"
        },
        "xaxis": {
         "title": {
          "text": "Units Sold"
         }
        },
        "yaxis": {
         "title": {
          "text": "Price"
         }
        }
       }
      },
      "text/html": [
       "<div>                            <div id=\"7c187911-0930-46ae-97b2-c5daf9cf8a7e\" class=\"plotly-graph-div\" style=\"height:525px; width:100%;\"></div>            <script type=\"text/javascript\">                require([\"plotly\"], function(Plotly) {                    window.PLOTLYENV=window.PLOTLYENV || {};                                    if (document.getElementById(\"7c187911-0930-46ae-97b2-c5daf9cf8a7e\")) {                    Plotly.newPlot(                        \"7c187911-0930-46ae-97b2-c5daf9cf8a7e\",                        [{\"marker\":{\"color\":[68359.5,6982.72,88842.9,83551.42,73335.88,16544.32,48746.52,74497.92,24262.43,4596.57,23336.24,40821.85,19137.13,14706.38,4085.54,65007.0,28198.0,62231.5,77386.68,58423.05],\"showscale\":true,\"size\":[68.3595,6.9827200000000005,88.8429,83.55142,73.33588,16.54432,48.74652,74.49792,24.262430000000002,4.59657,23.33624,40.82185,19.137130000000003,14.70638,4.08554,65.007,28.198,62.2315,77.38668,58.42305],\"sizemode\":\"area\"},\"mode\":\"markers\",\"text\":[\"Jones, Gonzalez and Camacho\",\"Friedman-Le\",\"King-Rocha\",\"Johnson, Rogers and Daugherty\",\"Robles-Williams\",\"Walters and Sons\",\"Ayers, Reyes and Lee\",\"Adams LLC\",\"Sanchez-Hernandez\",\"Alvarado, Russell and Moreno\",\"Soto, Hubbard and Kim\",\"Watson PLC\",\"Ramsey, Freeman and Hamilton\",\"Haley, Price and Contreras\",\"Evans-Gillespie\",\"Martinez-Torres\",\"Lee, Kemp and Warner\",\"Weber Group\",\"Smith, Ramirez and Campbell\",\"Smith Group\"],\"x\":[1,1,1,1,1,1,1,2,2,2,2,2,2,2,2,2,2,2,2,3],\"y\":[1123.8,861.39,294.03,157.23,1387.23,104.99,808.78,1377.31,381.83,1139.45,1240.29,235.77,650.55,1326.3,883.91,958.86,458.29,622.74,1389.02,1261.17],\"type\":\"scatter\"}],                        {\"hovermode\":\"closest\",\"template\":{\"data\":{\"barpolar\":[{\"marker\":{\"line\":{\"color\":\"#E5ECF6\",\"width\":0.5},\"pattern\":{\"fillmode\":\"overlay\",\"size\":10,\"solidity\":0.2}},\"type\":\"barpolar\"}],\"bar\":[{\"error_x\":{\"color\":\"#2a3f5f\"},\"error_y\":{\"color\":\"#2a3f5f\"},\"marker\":{\"line\":{\"color\":\"#E5ECF6\",\"width\":0.5},\"pattern\":{\"fillmode\":\"overlay\",\"size\":10,\"solidity\":0.2}},\"type\":\"bar\"}],\"carpet\":[{\"aaxis\":{\"endlinecolor\":\"#2a3f5f\",\"gridcolor\":\"white\",\"linecolor\":\"white\",\"minorgridcolor\":\"white\",\"startlinecolor\":\"#2a3f5f\"},\"baxis\":{\"endlinecolor\":\"#2a3f5f\",\"gridcolor\":\"white\",\"linecolor\":\"white\",\"minorgridcolor\":\"white\",\"startlinecolor\":\"#2a3f5f\"},\"type\":\"carpet\"}],\"choropleth\":[{\"colorbar\":{\"outlinewidth\":0,\"ticks\":\"\"},\"type\":\"choropleth\"}],\"contourcarpet\":[{\"colorbar\":{\"outlinewidth\":0,\"ticks\":\"\"},\"type\":\"contourcarpet\"}],\"contour\":[{\"colorbar\":{\"outlinewidth\":0,\"ticks\":\"\"},\"colorscale\":[[0.0,\"#0d0887\"],[0.1111111111111111,\"#46039f\"],[0.2222222222222222,\"#7201a8\"],[0.3333333333333333,\"#9c179e\"],[0.4444444444444444,\"#bd3786\"],[0.5555555555555556,\"#d8576b\"],[0.6666666666666666,\"#ed7953\"],[0.7777777777777778,\"#fb9f3a\"],[0.8888888888888888,\"#fdca26\"],[1.0,\"#f0f921\"]],\"type\":\"contour\"}],\"heatmapgl\":[{\"colorbar\":{\"outlinewidth\":0,\"ticks\":\"\"},\"colorscale\":[[0.0,\"#0d0887\"],[0.1111111111111111,\"#46039f\"],[0.2222222222222222,\"#7201a8\"],[0.3333333333333333,\"#9c179e\"],[0.4444444444444444,\"#bd3786\"],[0.5555555555555556,\"#d8576b\"],[0.6666666666666666,\"#ed7953\"],[0.7777777777777778,\"#fb9f3a\"],[0.8888888888888888,\"#fdca26\"],[1.0,\"#f0f921\"]],\"type\":\"heatmapgl\"}],\"heatmap\":[{\"colorbar\":{\"outlinewidth\":0,\"ticks\":\"\"},\"colorscale\":[[0.0,\"#0d0887\"],[0.1111111111111111,\"#46039f\"],[0.2222222222222222,\"#7201a8\"],[0.3333333333333333,\"#9c179e\"],[0.4444444444444444,\"#bd3786\"],[0.5555555555555556,\"#d8576b\"],[0.6666666666666666,\"#ed7953\"],[0.7777777777777778,\"#fb9f3a\"],[0.8888888888888888,\"#fdca26\"],[1.0,\"#f0f921\"]],\"type\":\"heatmap\"}],\"histogram2dcontour\":[{\"colorbar\":{\"outlinewidth\":0,\"ticks\":\"\"},\"colorscale\":[[0.0,\"#0d0887\"],[0.1111111111111111,\"#46039f\"],[0.2222222222222222,\"#7201a8\"],[0.3333333333333333,\"#9c179e\"],[0.4444444444444444,\"#bd3786\"],[0.5555555555555556,\"#d8576b\"],[0.6666666666666666,\"#ed7953\"],[0.7777777777777778,\"#fb9f3a\"],[0.8888888888888888,\"#fdca26\"],[1.0,\"#f0f921\"]],\"type\":\"histogram2dcontour\"}],\"histogram2d\":[{\"colorbar\":{\"outlinewidth\":0,\"ticks\":\"\"},\"colorscale\":[[0.0,\"#0d0887\"],[0.1111111111111111,\"#46039f\"],[0.2222222222222222,\"#7201a8\"],[0.3333333333333333,\"#9c179e\"],[0.4444444444444444,\"#bd3786\"],[0.5555555555555556,\"#d8576b\"],[0.6666666666666666,\"#ed7953\"],[0.7777777777777778,\"#fb9f3a\"],[0.8888888888888888,\"#fdca26\"],[1.0,\"#f0f921\"]],\"type\":\"histogram2d\"}],\"histogram\":[{\"marker\":{\"pattern\":{\"fillmode\":\"overlay\",\"size\":10,\"solidity\":0.2}},\"type\":\"histogram\"}],\"mesh3d\":[{\"colorbar\":{\"outlinewidth\":0,\"ticks\":\"\"},\"type\":\"mesh3d\"}],\"parcoords\":[{\"line\":{\"colorbar\":{\"outlinewidth\":0,\"ticks\":\"\"}},\"type\":\"parcoords\"}],\"pie\":[{\"automargin\":true,\"type\":\"pie\"}],\"scatter3d\":[{\"line\":{\"colorbar\":{\"outlinewidth\":0,\"ticks\":\"\"}},\"marker\":{\"colorbar\":{\"outlinewidth\":0,\"ticks\":\"\"}},\"type\":\"scatter3d\"}],\"scattercarpet\":[{\"marker\":{\"colorbar\":{\"outlinewidth\":0,\"ticks\":\"\"}},\"type\":\"scattercarpet\"}],\"scattergeo\":[{\"marker\":{\"colorbar\":{\"outlinewidth\":0,\"ticks\":\"\"}},\"type\":\"scattergeo\"}],\"scattergl\":[{\"marker\":{\"colorbar\":{\"outlinewidth\":0,\"ticks\":\"\"}},\"type\":\"scattergl\"}],\"scattermapbox\":[{\"marker\":{\"colorbar\":{\"outlinewidth\":0,\"ticks\":\"\"}},\"type\":\"scattermapbox\"}],\"scatterpolargl\":[{\"marker\":{\"colorbar\":{\"outlinewidth\":0,\"ticks\":\"\"}},\"type\":\"scatterpolargl\"}],\"scatterpolar\":[{\"marker\":{\"colorbar\":{\"outlinewidth\":0,\"ticks\":\"\"}},\"type\":\"scatterpolar\"}],\"scatter\":[{\"fillpattern\":{\"fillmode\":\"overlay\",\"size\":10,\"solidity\":0.2},\"type\":\"scatter\"}],\"scatterternary\":[{\"marker\":{\"colorbar\":{\"outlinewidth\":0,\"ticks\":\"\"}},\"type\":\"scatterternary\"}],\"surface\":[{\"colorbar\":{\"outlinewidth\":0,\"ticks\":\"\"},\"colorscale\":[[0.0,\"#0d0887\"],[0.1111111111111111,\"#46039f\"],[0.2222222222222222,\"#7201a8\"],[0.3333333333333333,\"#9c179e\"],[0.4444444444444444,\"#bd3786\"],[0.5555555555555556,\"#d8576b\"],[0.6666666666666666,\"#ed7953\"],[0.7777777777777778,\"#fb9f3a\"],[0.8888888888888888,\"#fdca26\"],[1.0,\"#f0f921\"]],\"type\":\"surface\"}],\"table\":[{\"cells\":{\"fill\":{\"color\":\"#EBF0F8\"},\"line\":{\"color\":\"white\"}},\"header\":{\"fill\":{\"color\":\"#C8D4E3\"},\"line\":{\"color\":\"white\"}},\"type\":\"table\"}]},\"layout\":{\"annotationdefaults\":{\"arrowcolor\":\"#2a3f5f\",\"arrowhead\":0,\"arrowwidth\":1},\"autotypenumbers\":\"strict\",\"coloraxis\":{\"colorbar\":{\"outlinewidth\":0,\"ticks\":\"\"}},\"colorscale\":{\"diverging\":[[0,\"#8e0152\"],[0.1,\"#c51b7d\"],[0.2,\"#de77ae\"],[0.3,\"#f1b6da\"],[0.4,\"#fde0ef\"],[0.5,\"#f7f7f7\"],[0.6,\"#e6f5d0\"],[0.7,\"#b8e186\"],[0.8,\"#7fbc41\"],[0.9,\"#4d9221\"],[1,\"#276419\"]],\"sequential\":[[0.0,\"#0d0887\"],[0.1111111111111111,\"#46039f\"],[0.2222222222222222,\"#7201a8\"],[0.3333333333333333,\"#9c179e\"],[0.4444444444444444,\"#bd3786\"],[0.5555555555555556,\"#d8576b\"],[0.6666666666666666,\"#ed7953\"],[0.7777777777777778,\"#fb9f3a\"],[0.8888888888888888,\"#fdca26\"],[1.0,\"#f0f921\"]],\"sequentialminus\":[[0.0,\"#0d0887\"],[0.1111111111111111,\"#46039f\"],[0.2222222222222222,\"#7201a8\"],[0.3333333333333333,\"#9c179e\"],[0.4444444444444444,\"#bd3786\"],[0.5555555555555556,\"#d8576b\"],[0.6666666666666666,\"#ed7953\"],[0.7777777777777778,\"#fb9f3a\"],[0.8888888888888888,\"#fdca26\"],[1.0,\"#f0f921\"]]},\"colorway\":[\"#636efa\",\"#EF553B\",\"#00cc96\",\"#ab63fa\",\"#FFA15A\",\"#19d3f3\",\"#FF6692\",\"#B6E880\",\"#FF97FF\",\"#FECB52\"],\"font\":{\"color\":\"#2a3f5f\"},\"geo\":{\"bgcolor\":\"white\",\"lakecolor\":\"white\",\"landcolor\":\"#E5ECF6\",\"showlakes\":true,\"showland\":true,\"subunitcolor\":\"white\"},\"hoverlabel\":{\"align\":\"left\"},\"hovermode\":\"closest\",\"mapbox\":{\"style\":\"light\"},\"paper_bgcolor\":\"white\",\"plot_bgcolor\":\"#E5ECF6\",\"polar\":{\"angularaxis\":{\"gridcolor\":\"white\",\"linecolor\":\"white\",\"ticks\":\"\"},\"bgcolor\":\"#E5ECF6\",\"radialaxis\":{\"gridcolor\":\"white\",\"linecolor\":\"white\",\"ticks\":\"\"}},\"scene\":{\"xaxis\":{\"backgroundcolor\":\"#E5ECF6\",\"gridcolor\":\"white\",\"gridwidth\":2,\"linecolor\":\"white\",\"showbackground\":true,\"ticks\":\"\",\"zerolinecolor\":\"white\"},\"yaxis\":{\"backgroundcolor\":\"#E5ECF6\",\"gridcolor\":\"white\",\"gridwidth\":2,\"linecolor\":\"white\",\"showbackground\":true,\"ticks\":\"\",\"zerolinecolor\":\"white\"},\"zaxis\":{\"backgroundcolor\":\"#E5ECF6\",\"gridcolor\":\"white\",\"gridwidth\":2,\"linecolor\":\"white\",\"showbackground\":true,\"ticks\":\"\",\"zerolinecolor\":\"white\"}},\"shapedefaults\":{\"line\":{\"color\":\"#2a3f5f\"}},\"ternary\":{\"aaxis\":{\"gridcolor\":\"white\",\"linecolor\":\"white\",\"ticks\":\"\"},\"baxis\":{\"gridcolor\":\"white\",\"linecolor\":\"white\",\"ticks\":\"\"},\"bgcolor\":\"#E5ECF6\",\"caxis\":{\"gridcolor\":\"white\",\"linecolor\":\"white\",\"ticks\":\"\"}},\"title\":{\"x\":0.05},\"xaxis\":{\"automargin\":true,\"gridcolor\":\"white\",\"linecolor\":\"white\",\"ticks\":\"\",\"title\":{\"standoff\":15},\"zerolinecolor\":\"white\",\"zerolinewidth\":2},\"yaxis\":{\"automargin\":true,\"gridcolor\":\"white\",\"linecolor\":\"white\",\"ticks\":\"\",\"title\":{\"standoff\":15},\"zerolinecolor\":\"white\",\"zerolinewidth\":2}}},\"title\":{\"text\":\"Bubble Chart: Units Sold vs. Price\"},\"xaxis\":{\"title\":{\"text\":\"Units Sold\"}},\"yaxis\":{\"title\":{\"text\":\"Price\"}}},                        {\"responsive\": true}                    ).then(function(){\n",
       "                            \n",
       "var gd = document.getElementById('7c187911-0930-46ae-97b2-c5daf9cf8a7e');\n",
       "var x = new MutationObserver(function (mutations, observer) {{\n",
       "        var display = window.getComputedStyle(gd).display;\n",
       "        if (!display || display === 'none') {{\n",
       "            console.log([gd, 'removed!']);\n",
       "            Plotly.purge(gd);\n",
       "            observer.disconnect();\n",
       "        }}\n",
       "}});\n",
       "\n",
       "// Listen for the removal of the full notebook cells\n",
       "var notebookContainer = gd.closest('#notebook-container');\n",
       "if (notebookContainer) {{\n",
       "    x.observe(notebookContainer, {childList: true});\n",
       "}}\n",
       "\n",
       "// Listen for the clearing of the current output cell\n",
       "var outputEl = gd.closest('.output');\n",
       "if (outputEl) {{\n",
       "    x.observe(outputEl, {childList: true});\n",
       "}}\n",
       "\n",
       "                        })                };                });            </script>        </div>"
      ]
     },
     "metadata": {},
     "output_type": "display_data"
    }
   ],
   "source": [
    "import plotly.graph_objs as go\n",
    "import plotly.offline as pyo\n",
    "\n",
    "data_sorted = df.sort_values(by='UnitsSold', ascending=True)\n",
    "data = data_sorted.iloc[:20, :]\n",
    "data.index = range(len(data))\n",
    "\n",
    "# Create bubble chart\n",
    "trace = go.Scatter(\n",
    "    x=data['UnitsSold'],\n",
    "    y=data['Price'],\n",
    "    mode='markers',\n",
    "    marker=dict(\n",
    "        color=data['TotalRevenue'],\n",
    "        size=data['TotalRevenue'] / 1000,  # Scale down size for better visualization\n",
    "        showscale=True,\n",
    "        sizemode='area'\n",
    "    ),\n",
    "    text=data['Brand']  # Hover text with brand information\n",
    ")\n",
    "\n",
    "# Define layout\n",
    "layout = go.Layout(\n",
    "    title='Bubble Chart: Units Sold vs. Price',\n",
    "    xaxis=dict(title='Units Sold'),\n",
    "    yaxis=dict(title='Price'),\n",
    "    hovermode='closest'\n",
    ")\n",
    "\n",
    "# Create figure and plot\n",
    "fig = go.Figure(data=[trace], layout=layout)\n",
    "pyo.iplot(fig)"
   ]
  },
  {
   "cell_type": "code",
   "execution_count": 19,
   "id": "63e2ab3d",
   "metadata": {},
   "outputs": [
    {
     "data": {
      "text/html": [
       "<div>\n",
       "<style scoped>\n",
       "    .dataframe tbody tr th:only-of-type {\n",
       "        vertical-align: middle;\n",
       "    }\n",
       "\n",
       "    .dataframe tbody tr th {\n",
       "        vertical-align: top;\n",
       "    }\n",
       "\n",
       "    .dataframe thead th {\n",
       "        text-align: right;\n",
       "    }\n",
       "</style>\n",
       "<table border=\"1\" class=\"dataframe\">\n",
       "  <thead>\n",
       "    <tr style=\"text-align: right;\">\n",
       "      <th></th>\n",
       "      <th>TransactionID</th>\n",
       "      <th>Date</th>\n",
       "      <th>MobileModel</th>\n",
       "      <th>Brand</th>\n",
       "      <th>Price</th>\n",
       "      <th>UnitsSold</th>\n",
       "      <th>TotalRevenue</th>\n",
       "      <th>CustomerAge</th>\n",
       "      <th>CustomerGender</th>\n",
       "      <th>Location</th>\n",
       "      <th>PaymentMethod</th>\n",
       "      <th>Year</th>\n",
       "      <th>Month</th>\n",
       "      <th>Day</th>\n",
       "    </tr>\n",
       "  </thead>\n",
       "  <tbody>\n",
       "    <tr>\n",
       "      <th>0</th>\n",
       "      <td>79397f68-61ed-4ea8-bcb2-f918d4e6c05b</td>\n",
       "      <td>2024-01-06</td>\n",
       "      <td>direction</td>\n",
       "      <td>Green Inc</td>\n",
       "      <td>1196.95</td>\n",
       "      <td>85</td>\n",
       "      <td>28002.80</td>\n",
       "      <td>32</td>\n",
       "      <td>Female</td>\n",
       "      <td>Port Erik</td>\n",
       "      <td>Online</td>\n",
       "      <td>2024</td>\n",
       "      <td>1</td>\n",
       "      <td>6</td>\n",
       "    </tr>\n",
       "    <tr>\n",
       "      <th>1</th>\n",
       "      <td>4f87d114-f522-4ead-93e3-f336402df6aa</td>\n",
       "      <td>2024-04-05</td>\n",
       "      <td>right</td>\n",
       "      <td>Thomas-Thompson</td>\n",
       "      <td>1010.34</td>\n",
       "      <td>64</td>\n",
       "      <td>2378.82</td>\n",
       "      <td>55</td>\n",
       "      <td>Female</td>\n",
       "      <td>East Linda</td>\n",
       "      <td>Credit Card</td>\n",
       "      <td>2024</td>\n",
       "      <td>4</td>\n",
       "      <td>5</td>\n",
       "    </tr>\n",
       "    <tr>\n",
       "      <th>2</th>\n",
       "      <td>6750b7d6-dcc5-48c5-a76a-b6fc9d540fe1</td>\n",
       "      <td>2024-02-13</td>\n",
       "      <td>summer</td>\n",
       "      <td>Sanchez-Williams</td>\n",
       "      <td>400.80</td>\n",
       "      <td>95</td>\n",
       "      <td>31322.56</td>\n",
       "      <td>57</td>\n",
       "      <td>Male</td>\n",
       "      <td>East Angelicastad</td>\n",
       "      <td>Online</td>\n",
       "      <td>2024</td>\n",
       "      <td>2</td>\n",
       "      <td>13</td>\n",
       "    </tr>\n",
       "    <tr>\n",
       "      <th>3</th>\n",
       "      <td>7da7de95-f772-4cc2-bce0-b0873f98233e</td>\n",
       "      <td>2024-04-17</td>\n",
       "      <td>keep</td>\n",
       "      <td>Greer and Sons</td>\n",
       "      <td>338.60</td>\n",
       "      <td>79</td>\n",
       "      <td>31159.75</td>\n",
       "      <td>46</td>\n",
       "      <td>Other</td>\n",
       "      <td>East Kevin</td>\n",
       "      <td>Cash</td>\n",
       "      <td>2024</td>\n",
       "      <td>4</td>\n",
       "      <td>17</td>\n",
       "    </tr>\n",
       "    <tr>\n",
       "      <th>4</th>\n",
       "      <td>469044af-0d60-4d87-af66-c6603e844057</td>\n",
       "      <td>2024-06-02</td>\n",
       "      <td>option</td>\n",
       "      <td>Brown and Sons</td>\n",
       "      <td>839.79</td>\n",
       "      <td>41</td>\n",
       "      <td>11523.36</td>\n",
       "      <td>38</td>\n",
       "      <td>Male</td>\n",
       "      <td>New Lindaborough</td>\n",
       "      <td>Online</td>\n",
       "      <td>2024</td>\n",
       "      <td>6</td>\n",
       "      <td>2</td>\n",
       "    </tr>\n",
       "    <tr>\n",
       "      <th>...</th>\n",
       "      <td>...</td>\n",
       "      <td>...</td>\n",
       "      <td>...</td>\n",
       "      <td>...</td>\n",
       "      <td>...</td>\n",
       "      <td>...</td>\n",
       "      <td>...</td>\n",
       "      <td>...</td>\n",
       "      <td>...</td>\n",
       "      <td>...</td>\n",
       "      <td>...</td>\n",
       "      <td>...</td>\n",
       "      <td>...</td>\n",
       "      <td>...</td>\n",
       "    </tr>\n",
       "    <tr>\n",
       "      <th>995</th>\n",
       "      <td>41f08915-addb-4966-8628-038c479c619a</td>\n",
       "      <td>2024-01-28</td>\n",
       "      <td>challenge</td>\n",
       "      <td>Brooks Ltd</td>\n",
       "      <td>1386.69</td>\n",
       "      <td>76</td>\n",
       "      <td>28865.70</td>\n",
       "      <td>39</td>\n",
       "      <td>Male</td>\n",
       "      <td>Ronaldchester</td>\n",
       "      <td>Credit Card</td>\n",
       "      <td>2024</td>\n",
       "      <td>1</td>\n",
       "      <td>28</td>\n",
       "    </tr>\n",
       "    <tr>\n",
       "      <th>996</th>\n",
       "      <td>bcfa1912-5bd8-4894-900f-376fa48f022d</td>\n",
       "      <td>2024-07-13</td>\n",
       "      <td>least</td>\n",
       "      <td>Lang, Brown and Stone</td>\n",
       "      <td>1159.26</td>\n",
       "      <td>59</td>\n",
       "      <td>50471.42</td>\n",
       "      <td>21</td>\n",
       "      <td>Other</td>\n",
       "      <td>West Jenniferport</td>\n",
       "      <td>Credit Card</td>\n",
       "      <td>2024</td>\n",
       "      <td>7</td>\n",
       "      <td>13</td>\n",
       "    </tr>\n",
       "    <tr>\n",
       "      <th>997</th>\n",
       "      <td>e6839305-a177-4cda-aada-3ac1f49eeeec</td>\n",
       "      <td>2024-01-13</td>\n",
       "      <td>enjoy</td>\n",
       "      <td>Atkinson, Moore and Nelson</td>\n",
       "      <td>544.31</td>\n",
       "      <td>59</td>\n",
       "      <td>1381.82</td>\n",
       "      <td>26</td>\n",
       "      <td>Female</td>\n",
       "      <td>Barneschester</td>\n",
       "      <td>Credit Card</td>\n",
       "      <td>2024</td>\n",
       "      <td>1</td>\n",
       "      <td>13</td>\n",
       "    </tr>\n",
       "    <tr>\n",
       "      <th>998</th>\n",
       "      <td>12f7ac32-9063-4ae5-a122-385b06ba77af</td>\n",
       "      <td>2024-01-25</td>\n",
       "      <td>half</td>\n",
       "      <td>Kim, Maxwell and Moore</td>\n",
       "      <td>331.98</td>\n",
       "      <td>84</td>\n",
       "      <td>8557.32</td>\n",
       "      <td>20</td>\n",
       "      <td>Male</td>\n",
       "      <td>Jonesborough</td>\n",
       "      <td>Online</td>\n",
       "      <td>2024</td>\n",
       "      <td>1</td>\n",
       "      <td>25</td>\n",
       "    </tr>\n",
       "    <tr>\n",
       "      <th>999</th>\n",
       "      <td>d3e82026-2084-40f2-8d5d-d2a94a198af9</td>\n",
       "      <td>2024-01-17</td>\n",
       "      <td>fill</td>\n",
       "      <td>Wallace LLC</td>\n",
       "      <td>973.97</td>\n",
       "      <td>79</td>\n",
       "      <td>70739.76</td>\n",
       "      <td>44</td>\n",
       "      <td>Female</td>\n",
       "      <td>Port Luis</td>\n",
       "      <td>Credit Card</td>\n",
       "      <td>2024</td>\n",
       "      <td>1</td>\n",
       "      <td>17</td>\n",
       "    </tr>\n",
       "  </tbody>\n",
       "</table>\n",
       "<p>1000 rows × 14 columns</p>\n",
       "</div>"
      ],
      "text/plain": [
       "                            TransactionID       Date MobileModel  \\\n",
       "0    79397f68-61ed-4ea8-bcb2-f918d4e6c05b 2024-01-06   direction   \n",
       "1    4f87d114-f522-4ead-93e3-f336402df6aa 2024-04-05       right   \n",
       "2    6750b7d6-dcc5-48c5-a76a-b6fc9d540fe1 2024-02-13      summer   \n",
       "3    7da7de95-f772-4cc2-bce0-b0873f98233e 2024-04-17        keep   \n",
       "4    469044af-0d60-4d87-af66-c6603e844057 2024-06-02      option   \n",
       "..                                    ...        ...         ...   \n",
       "995  41f08915-addb-4966-8628-038c479c619a 2024-01-28   challenge   \n",
       "996  bcfa1912-5bd8-4894-900f-376fa48f022d 2024-07-13       least   \n",
       "997  e6839305-a177-4cda-aada-3ac1f49eeeec 2024-01-13       enjoy   \n",
       "998  12f7ac32-9063-4ae5-a122-385b06ba77af 2024-01-25        half   \n",
       "999  d3e82026-2084-40f2-8d5d-d2a94a198af9 2024-01-17        fill   \n",
       "\n",
       "                          Brand    Price  UnitsSold  TotalRevenue  \\\n",
       "0                     Green Inc  1196.95         85      28002.80   \n",
       "1               Thomas-Thompson  1010.34         64       2378.82   \n",
       "2              Sanchez-Williams   400.80         95      31322.56   \n",
       "3                Greer and Sons   338.60         79      31159.75   \n",
       "4                Brown and Sons   839.79         41      11523.36   \n",
       "..                          ...      ...        ...           ...   \n",
       "995                  Brooks Ltd  1386.69         76      28865.70   \n",
       "996       Lang, Brown and Stone  1159.26         59      50471.42   \n",
       "997  Atkinson, Moore and Nelson   544.31         59       1381.82   \n",
       "998      Kim, Maxwell and Moore   331.98         84       8557.32   \n",
       "999                 Wallace LLC   973.97         79      70739.76   \n",
       "\n",
       "     CustomerAge CustomerGender           Location PaymentMethod  Year  Month  \\\n",
       "0             32         Female          Port Erik        Online  2024      1   \n",
       "1             55         Female         East Linda   Credit Card  2024      4   \n",
       "2             57           Male  East Angelicastad        Online  2024      2   \n",
       "3             46          Other         East Kevin          Cash  2024      4   \n",
       "4             38           Male   New Lindaborough        Online  2024      6   \n",
       "..           ...            ...                ...           ...   ...    ...   \n",
       "995           39           Male      Ronaldchester   Credit Card  2024      1   \n",
       "996           21          Other  West Jenniferport   Credit Card  2024      7   \n",
       "997           26         Female      Barneschester   Credit Card  2024      1   \n",
       "998           20           Male       Jonesborough        Online  2024      1   \n",
       "999           44         Female          Port Luis   Credit Card  2024      1   \n",
       "\n",
       "     Day  \n",
       "0      6  \n",
       "1      5  \n",
       "2     13  \n",
       "3     17  \n",
       "4      2  \n",
       "..   ...  \n",
       "995   28  \n",
       "996   13  \n",
       "997   13  \n",
       "998   25  \n",
       "999   17  \n",
       "\n",
       "[1000 rows x 14 columns]"
      ]
     },
     "execution_count": 19,
     "metadata": {},
     "output_type": "execute_result"
    }
   ],
   "source": [
    "df"
   ]
  },
  {
   "cell_type": "markdown",
   "id": "48caa551",
   "metadata": {},
   "source": [
    "# 3D Scatter Plot"
   ]
  },
  {
   "cell_type": "code",
   "execution_count": 22,
   "id": "d4c425c7",
   "metadata": {},
   "outputs": [
    {
     "data": {
      "application/vnd.plotly.v1+json": {
       "config": {
        "linkText": "Export to plot.ly",
        "plotlyServerURL": "https://plot.ly",
        "showLink": false
       },
       "data": [
        {
         "marker": {
          "color": [
           0.07984147776637693,
           1.5166662164679316,
           0.8735562946104628,
           0.6794660790376936,
           1.433437922041025,
           1.8386985610853872,
           0.972536583471167,
           -1.4215027512895761,
           -1.7264692468566611,
           0.3042330563099006,
           0.025590389592367934,
           -1.6927200028511373,
           0.6581838922812229,
           -0.3146713873300375,
           -0.31269304158109396,
           -0.0025980211506350624,
           0.3814510839202301,
           1.0560158512512148,
           -0.3168031587491949,
           -0.38861097242414333,
           0.6871085327215412,
           -0.43595422302777437,
           0.47163476327215825,
           1.0266619244429338,
           -0.5541000481028223,
           -1.0572035471849146,
           -1.5956801653260413,
           -0.6337647257585857,
           0.34168620277058126,
           0.5996650173355329,
           0.10088406057957479,
           -0.11689177020740955,
           -1.4753029923227088,
           -0.3466165377787851,
           1.4997780758607426,
           0.6752201700991596,
           -1.6462707743316911,
           0.23850884848400994,
           0.3162045103360085,
           -1.3157611016667154,
           1.1968630748103324,
           -0.5768824870435794,
           -0.8467645114936406,
           0.6028502395181397,
           0.13299278675747164,
           -1.8382751632840084,
           -1.4349183260025582,
           -0.7464112879658521,
           2.0410937237614024,
           -0.13421837809964113,
           0.9903707868785592,
           -1.662334561918747,
           0.1905025349844868,
           -0.15056744388263307,
           1.4352293637044464,
           -0.5878575714700655,
           -0.7931998662978061,
           -0.24443755951450827,
           0.2881165035636068,
           0.45533319601427874,
           -0.024946280701405765,
           -2.583526067237523,
           0.9630429089300238,
           0.4397037714950096,
           -0.7123144806874355,
           -1.3615347547357828,
           -0.3844453963368533,
           1.9113661664617336,
           -1.024030050186933,
           -0.19187801390708958,
           0.15157301619850355,
           -0.6370775216627192,
           0.054665190714401644,
           -0.002324514805231691,
           -0.9548328057240734,
           0.1672908763575314,
           1.6412140037110268,
           -0.45740978444913055,
           0.7858848371884372,
           -0.804798815938957,
           0.5903501478566588,
           1.8453083731817668,
           1.5252179988325107,
           0.5257773727092359,
           1.2671345389981952,
           -0.9602261794320464,
           -0.5185612852989202,
           0.3166467804299192,
           -1.3363037404176714,
           -1.0082014005798017,
           1.0890043367566484,
           -0.563550538063959,
           -0.39731814587901915,
           0.8510046831457693,
           -0.10708512735746233,
           -1.1321696812870043,
           0.6856503836891447,
           0.5614709707138958,
           0.46703313860315576,
           -0.7914693176424858,
           0.08156057981169075,
           -1.2853736673503866,
           0.3003758203194164,
           -1.2279251005908187,
           -0.658956511511263,
           -1.127832506209544,
           -1.9342163792529359,
           2.1746123440613117,
           1.7985789058887358,
           1.944466438118061,
           0.4579693457103134,
           -1.8080650799279456,
           -1.4881232795538268,
           0.21526972649386084,
           -1.1021236959139495,
           -1.747415286062608,
           1.6135836008129096,
           -1.0709818469686898,
           0.69510791722492,
           0.07861223009299906,
           0.6522588737199019,
           0.7597754764972272,
           0.18222472550322563,
           -0.5636200137576977,
           -0.13462670355220088,
           0.7674743369014346,
           -0.36266225936652846,
           -1.1318682017843422,
           0.5645380574532055,
           -0.3768686963125952,
           -0.37076850265575056,
           -0.21291632831343774,
           0.6310732781733613,
           -0.3555761074546177,
           0.08386069229041623,
           1.205469390060998,
           0.43117889128558134,
           -2.103599544288632,
           0.5629481258388449,
           0.09507263825675481,
           -0.13141018284053127,
           -1.7337978795798614,
           0.3066851832524526,
           0.1167849290941456,
           -1.0952799932872486,
           -0.4032148221472017,
           0.8020819903412091,
           0.7035876763918013,
           -1.4369475562763492,
           0.575040609799194
          ],
          "colorscale": [
           [
            0,
            "#440154"
           ],
           [
            0.1111111111111111,
            "#482878"
           ],
           [
            0.2222222222222222,
            "#3e4989"
           ],
           [
            0.3333333333333333,
            "#31688e"
           ],
           [
            0.4444444444444444,
            "#26828e"
           ],
           [
            0.5555555555555556,
            "#1f9e89"
           ],
           [
            0.6666666666666666,
            "#35b779"
           ],
           [
            0.7777777777777778,
            "#6ece58"
           ],
           [
            0.8888888888888888,
            "#b5de2b"
           ],
           [
            1,
            "#fde725"
           ]
          ],
          "opacity": 0.8,
          "size": 12
         },
         "mode": "markers",
         "text": [
          "Green Inc",
          "Thomas-Thompson",
          "Sanchez-Williams",
          "Greer and Sons",
          "Brown and Sons",
          "Massey, Nicholson and Young",
          "Coleman-Pena",
          "Brock, Cruz and Santiago",
          "Griffin, Boyle and Dawson",
          "Arroyo, Jones and Clayton",
          "Carlson, Mcdonald and Hatfield",
          "Mckenzie LLC",
          "Cross Inc",
          "Jackson-Garza",
          "Neal-Francis",
          "Shaw-Farmer",
          "Best, Ross and Smith",
          "Burton LLC",
          "Byrd, Thompson and Rhodes",
          "Taylor-Hutchinson",
          "Graves, Turner and Crawford",
          "Villanueva-Ramirez",
          "Miller-Price",
          "Hood Inc",
          "Miller-Harper",
          "Decker Ltd",
          "Nelson and Sons",
          "Mitchell Ltd",
          "Burch, Wilson and Yang",
          "Ross, Strickland and Johns",
          "Oliver-Oconnell",
          "Ho-Porter",
          "Fisher-Marshall",
          "Watson, Carter and Woodard",
          "Walters, Bennett and Barrett",
          "Jacobs, Shepherd and Green",
          "Smith-Walters",
          "Walker PLC",
          "Hill, Mann and Martinez",
          "Brooks LLC",
          "Stewart Group",
          "Harris and Sons",
          "Smith, Bean and Gallagher",
          "White-Hood",
          "Hammond, Fernandez and Davis",
          "King, Carpenter and George",
          "Wagner, Burton and Ashley",
          "Lee LLC",
          "Sullivan Ltd",
          "Snyder LLC",
          "Webb-Davila",
          "Martin-Gardner",
          "York Inc",
          "Lane Ltd",
          "Chaney and Sons",
          "Mack Group",
          "Paul, Andersen and Carr",
          "Smith, Miller and Cooper",
          "Adams LLC",
          "Wright-Green",
          "Peters, Hayes and Sanchez",
          "Hopkins-Mahoney",
          "Dean LLC",
          "Shah PLC",
          "Garcia Inc",
          "Ramos and Sons",
          "Gonzalez PLC",
          "Bonilla, Gordon and Petersen",
          "Jones Inc",
          "Bates and Sons",
          "Lee Ltd",
          "Miller-Robinson",
          "Ward Inc",
          "Rice PLC",
          "Mitchell-Barrett",
          "Roach-Strong",
          "Ortiz-Kaiser",
          "Shah, Blackwell and Adams",
          "Hoffman PLC",
          "Simpson and Sons",
          "Joseph, Santos and Nelson",
          "Weaver Ltd",
          "Hunter PLC",
          "James, Garcia and Brown",
          "Anderson and Sons",
          "Thompson, Chapman and Jones",
          "Smith Ltd",
          "Rowland, Monroe and Owen",
          "Jordan-Williams",
          "Johnson, Rogers and Daugherty",
          "Alvarado-Carter",
          "Robinson-King",
          "Hahn, Hamilton and Johnson",
          "Bryant-Miller",
          "Bishop, Rodriguez and Bell",
          "Rojas, Kelly and Scott",
          "Williams, King and Hayes",
          "Black and Sons",
          "Matthews Ltd",
          "Carlson, Brennan and Robinson",
          "Jones-Wilson",
          "Stewart, Gutierrez and Avila",
          "Turner, Vega and Green",
          "Perez LLC",
          "Herrera LLC",
          "Castro, Briggs and Gilmore",
          "Peterson Inc",
          "Harmon Group",
          "Thompson, Johnson and Wong",
          "Collins PLC",
          "Gilbert Inc",
          "Hull, Terrell and Buchanan",
          "Mccullough-Powell",
          "Hawkins PLC",
          "Burnett Inc",
          "Clark LLC",
          "Bernard Ltd",
          "Morrison-Andersen",
          "Gilbert Inc",
          "Fitzpatrick-Miller",
          "Morton and Sons",
          "Brown PLC",
          "Porter-Mcgee",
          "Smith-Stevens",
          "Williamson, Fuller and Ward",
          "Rice-Osborne",
          "Camacho, Fox and Smith",
          "Walker-White",
          "Lane Group",
          "Williams, Coffey and Garcia",
          "Martinez-Torres",
          "Watson-Dougherty",
          "Campbell, Shelton and Walker",
          "Nelson, Carroll and Marsh",
          "Marshall-Olsen",
          "Harris Group",
          "Galvan Group",
          "Patton and Sons",
          "Foster-White",
          "Kline, Johnson and Hall",
          "Brown, Parsons and Johnson",
          "Cole, Mckinney and Maddox",
          "Townsend PLC",
          "Paul, Goodman and Richardson",
          "Stewart Ltd",
          "Baldwin-Swanson",
          "Santiago, Jones and Bell",
          "Baird-Henderson",
          "Sanchez, Johnson and Mosley",
          "Goodman, Hughes and White",
          "Sanders-Estrada",
          "Odom-Green",
          "Walters and Sons",
          "Andrews LLC",
          "Wade-Hall",
          "Hebert Inc",
          "Young, Hill and Morgan",
          "Holloway, Brown and Mills",
          "Velazquez Inc",
          "Fleming, Cooper and Wilson",
          "Decker Inc",
          "Sawyer-Ramirez",
          "Morris and Sons",
          "Garrett, Schultz and Carlson",
          "Curtis-Collier",
          "Jackson-Carroll",
          "Schultz LLC",
          "Cruz-Arias",
          "Mason, Flores and Baker",
          "Pitts-Valenzuela",
          "Bates, Pearson and Hardy",
          "Perez PLC",
          "Williams-Palmer",
          "Bennett, Foster and Moreno",
          "Cruz, Callahan and Carpenter",
          "Rogers, Baker and Holmes",
          "Martin-Carson",
          "Esparza-Baker",
          "Black PLC",
          "Galvan, Jenkins and Peck",
          "Delgado and Sons",
          "Franklin, Cox and Lopez",
          "Gutierrez Inc",
          "Boyle, Collier and Marquez",
          "Williams Ltd",
          "Harris, Stevens and Hall",
          "Knight Group",
          "Robinson-Tucker",
          "Lopez, Collins and Rosario",
          "Colon, Phillips and Watkins",
          "Peterson PLC",
          "Miller Inc",
          "Massey, Long and Nguyen",
          "Ruiz Inc",
          "White, Kirby and Cross",
          "Cooper and Sons",
          "Martinez Ltd",
          "Anderson-White",
          "Wilkerson, Suarez and Ayala",
          "Scott-Davis",
          "Moran Ltd",
          "Beasley-Bailey",
          "Johnson-Johnson",
          "Cabrera-White",
          "Roy-Dalton",
          "Burgess, Wise and Lee",
          "Nelson LLC",
          "Kelly, Esparza and Carson",
          "Anderson, Huff and Sanchez",
          "Turner-Colon",
          "Murphy Group",
          "Sutton, Parsons and Rice",
          "Lloyd, Stone and Mcguire",
          "Martinez Inc",
          "Mitchell PLC",
          "Jones, Gonzalez and Camacho",
          "Michael-Lara",
          "Martin Group",
          "Collins Ltd",
          "Camacho Inc",
          "Mills PLC",
          "Lindsey-Strickland",
          "Vargas-Perez",
          "Walker-Daniels",
          "Murphy PLC",
          "White, Ford and Andrews",
          "Schultz-Baker",
          "Bradley, Rios and Perkins",
          "Wall-Reed",
          "Harding-Thomas",
          "Schmidt LLC",
          "Hall-Swanson",
          "Jones-Jones",
          "Perry, Thompson and Vargas",
          "Bell Group",
          "Porter, Leon and Reynolds",
          "White Group",
          "Mueller, Collier and Khan",
          "Miller-Lang",
          "Ware, May and Lopez",
          "Harris-Melton",
          "Simmons Ltd",
          "Cross, Myers and Mueller",
          "Tran-Johnson",
          "Moran-Hunter",
          "Hickman Ltd",
          "Barnes, Smith and Crawford",
          "Miller, Anderson and Davis",
          "Juarez Ltd",
          "Merritt, Thomas and Patterson",
          "Hall Inc",
          "Franco-Sanders",
          "Calderon, Barry and Roberts",
          "Johnson, Brennan and Thompson",
          "Campbell-Gonzalez",
          "Moreno, Dodson and Andrews",
          "Ramirez, Duffy and Beck",
          "Wilkinson-Anderson",
          "Hawkins-Russell",
          "Sanders-Baker",
          "Wilson-Beard",
          "Bryant-Lewis",
          "Bishop and Sons",
          "Hill LLC",
          "Smith, Ramirez and Campbell",
          "Hendrix-Murphy",
          "Chen Inc",
          "Martin, Smith and Patterson",
          "Baker, Martin and Saunders",
          "Parker-Griffith",
          "Wright and Sons",
          "Fuentes PLC",
          "Hess-Little",
          "Russo Inc",
          "Marquez-Garrett",
          "Faulkner, Lewis and Armstrong",
          "Flynn PLC",
          "Fernandez, Long and Nelson",
          "Martinez Ltd",
          "Jones, Soto and Johnson",
          "Newman-Anthony",
          "Crawford, Spencer and Patel",
          "Evans-Gillespie",
          "Jacobson-Arnold",
          "Smith-Williams",
          "Martinez Ltd",
          "Smith, Short and Butler",
          "Patterson-Nelson",
          "Christensen-Daniel",
          "Ferguson PLC",
          "Ritter-Wilson",
          "Wallace, Turner and Young",
          "Jordan-Norris",
          "Peck Ltd",
          "Nelson and Sons",
          "Padilla-Hernandez",
          "Brown, Becker and Jones",
          "Jackson-Hodges",
          "Sanders, Snow and Harrell",
          "Wells, Harris and Bowman",
          "May-Williams",
          "Beck, Choi and Thomas",
          "Warner Group",
          "Anderson, Atkinson and Garza",
          "Graham LLC",
          "Torres Inc",
          "Williams and Sons",
          "Hodge LLC",
          "Peterson Ltd",
          "Reid-Gilbert",
          "Perry Group",
          "Glenn, Miller and Griffin",
          "Richardson Group",
          "Coleman-Brown",
          "Garcia, Smith and Ramos",
          "Walton Inc",
          "Edwards Group",
          "Lewis, Sanchez and Turner",
          "Smith, Terry and Obrien",
          "Green-Rogers",
          "Henson PLC",
          "Phillips, Foster and Maynard",
          "Jackson Inc",
          "Ross, Clark and Webb",
          "Turner, Kim and Leonard",
          "Hamilton, Romero and West",
          "Perry-Davis",
          "Wilson, Terrell and Kim",
          "Becker LLC",
          "Kelly PLC",
          "Mendez and Sons",
          "Porter, Taylor and Moore",
          "Finley Group",
          "Mcguire-Sanders",
          "Drake, George and Davis",
          "Chandler-Palmer",
          "Williams-Smith",
          "Jackson, Collier and Barber",
          "Hill Ltd",
          "Perez and Sons",
          "Ayers and Sons",
          "Holland PLC",
          "Hill, Thompson and Anderson",
          "Hunter-Richardson",
          "Wallace-James",
          "Gomez-Burns",
          "Lam-Gregory",
          "Cooper, Mcclain and Cook",
          "Johnson LLC",
          "Thornton, Fisher and Santiago",
          "Marsh and Sons",
          "Rodriguez Inc",
          "Strickland and Sons",
          "Mason-Ramirez",
          "Jones, Johnson and Vasquez",
          "Holmes, Ramos and Hoffman",
          "Curry, Richards and Lane",
          "Decker, Smith and Wilson",
          "Davies, Thomas and Brooks",
          "Yu-Smith",
          "Nunez, Jefferson and Glover",
          "Smith PLC",
          "Holmes-Rivera",
          "Vasquez LLC",
          "Figueroa LLC",
          "Greene-Baxter",
          "Jenkins, Jones and Jenkins",
          "Christian-Velasquez",
          "Mccoy-Stevenson",
          "Galloway, Gutierrez and Vazquez",
          "Long, Hughes and Gallegos",
          "Miller, Hill and Lawson",
          "Sanchez-Hernandez",
          "Davis Group",
          "Skinner, Ramirez and Kelley",
          "Williamson-Clay",
          "Grant, Mcdonald and Watson",
          "Pearson, Jackson and Fox",
          "Wood-Wilson",
          "Bryant, Davis and Eaton",
          "Jennings-Leon",
          "Miller and Sons",
          "Lamb Inc",
          "Oconnor, Jacobs and Wise",
          "Stein-Bridges",
          "Singleton Group",
          "Lee Inc",
          "Marshall Inc",
          "Peterson, Franklin and Bender",
          "Morales Ltd",
          "Porter Ltd",
          "Brennan-Vasquez",
          "Pittman, Williams and Mejia",
          "Wallace-Prince",
          "Pham and Sons",
          "Nielsen, Rivera and Jones",
          "Diaz, Ball and Juarez",
          "Garrett, Bush and Butler",
          "Bradford-Poole",
          "Carter PLC",
          "Thomas-Alexander",
          "Adams-Sanchez",
          "Russell, Watts and Wade",
          "Gonzalez-Horn",
          "Graham Ltd",
          "Wagner-Carrillo",
          "Lee, Simpson and West",
          "Gonzalez, Lowe and Robinson",
          "Cameron, Hughes and Lara",
          "Hays LLC",
          "Martin-Morales",
          "Wilkinson-Reyes",
          "Buck LLC",
          "Hall LLC",
          "Garrett Group",
          "Thompson, Johnson and Smith",
          "Branch Ltd",
          "Bailey-Davis",
          "Morales, Hansen and Colon",
          "Ross PLC",
          "Hill Ltd",
          "Mayo PLC",
          "Adams Group",
          "Wilson, Wilson and Smith",
          "Valencia and Sons",
          "Hernandez PLC",
          "Ball-Clay",
          "Wiggins-Wallace",
          "Edwards, Davidson and Houston",
          "Morgan PLC",
          "Hernandez Ltd",
          "Cobb, Duffy and Roberts",
          "Brown Inc",
          "Cole and Sons",
          "Baker and Sons",
          "Mcknight, Moody and Mason",
          "Morris-Davis",
          "Price, Carpenter and Adams",
          "Smith-Barr",
          "Wheeler-Summers",
          "Washington, Burns and Li",
          "Rodriguez, Adams and Smith",
          "Walter-Lynn",
          "James PLC",
          "Mata-Burns",
          "Salazar, Myers and Mcmahon",
          "Jones-Leonard",
          "Little-Perez",
          "Smith-Stokes",
          "Cain Group",
          "Glenn-Fernandez",
          "Moore Ltd",
          "Potter, Bailey and Turner",
          "Cooley-Reed",
          "Peterson and Sons",
          "Brown-Solis",
          "Wilcox and Sons",
          "Whitney-Cook",
          "Hill, Hall and Hess",
          "Howard, Wood and Rosales",
          "Aguilar-Scott",
          "Garrett Group",
          "Nelson-Wright",
          "Wilkins-Price",
          "Evans, Taylor and Peterson",
          "Nunez, Porter and Bell",
          "Brooks, Rodriguez and Knight",
          "Willis, Watson and Monroe",
          "Taylor-Keller",
          "Ruiz LLC",
          "Richardson PLC",
          "Foster Ltd",
          "West, Potts and Santos",
          "Jones, Phillips and Mckinney",
          "Boone PLC",
          "Soto, Hubbard and Kim",
          "Spencer-Cardenas",
          "Webster-Sullivan",
          "Escobar and Sons",
          "Vincent, Oneill and Bryant",
          "Becker-Smith",
          "Morris, Gay and Spencer",
          "Kelly, Velasquez and Dickerson",
          "Coleman LLC",
          "Bradshaw Inc",
          "Noble Group",
          "Jones-Gross",
          "Roth, Franklin and Hernandez",
          "Brown Group",
          "Norman, West and Mata",
          "Day-Wang",
          "Lang, Arnold and Holmes",
          "Ayers, Reyes and Lee",
          "Lee, Rodgers and Jordan",
          "Larson, Ruiz and Beasley",
          "Hernandez and Sons",
          "Hodge-Perry",
          "Ibarra, Jackson and Potter",
          "Johnson, Figueroa and Jones",
          "Bailey, Roy and Barnes",
          "Cobb LLC",
          "Miller-Cortez",
          "Obrien-Arnold",
          "Gallagher-Campbell",
          "Payne Group",
          "Kim, Ortega and Jones",
          "Webb, Orr and Benson",
          "Duncan, Mendoza and Mcdowell",
          "Conrad Ltd",
          "Cooper, Johnson and Townsend",
          "Payne and Sons",
          "Miranda, Chang and Hansen",
          "Thompson-Orr",
          "Lopez-Clements",
          "Lang-Garza",
          "Roth-Crawford",
          "Andrews-Martin",
          "Mckay-Turner",
          "George, Miller and Pitts",
          "White LLC",
          "Pope, Delgado and Wood",
          "Smith-Rice",
          "Browning-Durham",
          "Mclaughlin, Wilson and Hunter",
          "Tanner, Schwartz and Weber",
          "Cochran LLC",
          "Rivera, Garcia and Lewis",
          "Washington Inc",
          "Washington PLC",
          "Rosario-Woods",
          "Foster PLC",
          "Bates, Miller and Burns",
          "Taylor, Rowe and Nelson",
          "Nichols, Morales and Knight",
          "Frost-Sutton",
          "Joseph, Trevino and Salinas",
          "Davis, Marquez and Ray",
          "Sanchez Inc",
          "Jackson, White and Brown",
          "Gillespie-Holland",
          "Oliver-Douglas",
          "Ramirez Group",
          "Ramos, Lewis and Romero",
          "Hanson, Smith and Davidson",
          "Rocha-Chapman",
          "Sanchez, Brooks and Mason",
          "Guzman, Evans and Reynolds",
          "Reyes, Parker and Conway",
          "Wilkins PLC",
          "Martin, Anderson and Garcia",
          "White Inc",
          "Johnson, Johnson and Zimmerman",
          "Shaffer, Oliver and Sanchez",
          "Cruz Ltd",
          "Mcmahon, Jones and Baker",
          "Sanchez-Weeks",
          "Weaver-Thompson",
          "Thornton, Daniel and Jensen",
          "Price, Ashley and Coleman",
          "Carroll, Woodard and Mccarty",
          "Cowan, Hamilton and Hancock",
          "Rivera-Berry",
          "Tran-Graham",
          "Chase Ltd",
          "Rivera-Watson",
          "Harrington, Sosa and Mccarty",
          "Aguilar Ltd",
          "Maxwell, Dunlap and Sanford",
          "Sims-Mason",
          "Brandt and Sons",
          "Woods, Gutierrez and Tapia",
          "Love-Grimes",
          "Banks Group",
          "Poole, Parker and Williams",
          "Parks-Steele",
          "Wilson-Bailey",
          "Lee-Jones",
          "Gordon PLC",
          "Nguyen Inc",
          "Gilbert Group",
          "Gray, Smith and Barnes",
          "Wallace LLC",
          "Wilcox PLC",
          "Cherry-Potts",
          "Norman, Miller and Smith",
          "Mcguire, Garcia and Ingram",
          "Thomas, Henderson and Morales",
          "Stokes, Cobb and Hunter",
          "Hull, Simmons and Robinson",
          "Kelley, Blair and Mckinney",
          "Ramos LLC",
          "Clark-Figueroa",
          "Hurst, Carpenter and Hoffman",
          "Kelley-Garcia",
          "Ortiz Ltd",
          "Burns, Davila and Camacho",
          "Gilbert, Garcia and Sellers",
          "Weber Group",
          "Thompson-Nguyen",
          "Lee, Boyd and Lewis",
          "Benson-Dixon",
          "Mccormick, Barron and Mooney",
          "Ramirez-Carroll",
          "Harris, Hamilton and Rose",
          "Patrick, Bailey and West",
          "Diaz, Brooks and Dixon",
          "Peterson, Long and Ward",
          "Smith-Tucker",
          "Walker-Bradford",
          "Holder, Thornton and Young",
          "Perry PLC",
          "Kirby, Oneill and Carter",
          "Fleming Group",
          "Jensen-Lowe",
          "Woods-Li",
          "Conley PLC",
          "Benson and Sons",
          "Anderson Inc",
          "Pierce, Schaefer and Walsh",
          "Jones-Boyd",
          "Snow, Miller and Phelps",
          "Cobb LLC",
          "Munoz-Smith",
          "Palmer-Gross",
          "Smith PLC",
          "Andrews PLC",
          "George, Garner and Zhang",
          "Ford LLC",
          "Stewart, Webster and Ford",
          "Woodward-Phillips",
          "Martin, Burgess and Cameron",
          "Rubio-Williams",
          "Davis-Paul",
          "Aguilar Group",
          "Roberts Ltd",
          "Holmes, Austin and Davidson",
          "Wolf, Hamilton and Rubio",
          "Fuller, Sanders and Molina",
          "Atkins LLC",
          "Sloan, Harris and Green",
          "Brown, Jenkins and Roberts",
          "Russell Ltd",
          "Mcdonald, Bright and Ward",
          "Hall, Weaver and Cook",
          "Holden, Figueroa and Bennett",
          "Velasquez-Baker",
          "Sanford-Moore",
          "Wilson-Green",
          "Kelley, Young and Price",
          "Pittman-Nelson",
          "Hernandez-Reed",
          "Nichols, Hill and Rice",
          "Edwards, Mcbride and Gonzalez",
          "Hart Group",
          "Todd PLC",
          "Thomas, Noble and Porter",
          "Drake, Martin and Jordan",
          "Santiago LLC",
          "Rodgers-Villarreal",
          "Nelson, Bowers and Larson",
          "Taylor-Ramirez",
          "Harding, Delgado and Prince",
          "Branch-Johnson",
          "Shepard, Montoya and Parks",
          "Johnson-Alvarez",
          "Meyer PLC",
          "Jackson-Thomas",
          "Ellison-May",
          "Madden PLC",
          "Bennett and Sons",
          "Conway Group",
          "Harris-Bell",
          "Wilkerson-Wood",
          "Moore-Larson",
          "Moore-Jimenez",
          "Graham-Swanson",
          "Garcia-Montgomery",
          "Shaw-Brown",
          "Camacho PLC",
          "Sanchez, Solomon and Chapman",
          "Brown-Montgomery",
          "Cunningham-Hawkins",
          "Brooks, Ross and Suarez",
          "Flowers-Erickson",
          "Ali, Hamilton and Yates",
          "Aguirre, Morris and Tran",
          "Nolan-Stuart",
          "Walker-Grant",
          "Taylor, Huffman and Miller",
          "Vasquez, Roberts and Johnson",
          "Holland Ltd",
          "Moore and Sons",
          "Black-Hamilton",
          "Berry, Anderson and Hernandez",
          "Brewer-Morrow",
          "Curtis, Fischer and Mendez",
          "Harris-Rogers",
          "Williams Inc",
          "Perry, Smith and Smith",
          "Vincent-Greene",
          "Ritter-Reed",
          "Blake Ltd",
          "Lee-Johnson",
          "Morrison, Leonard and Hill",
          "Johnson, Mcconnell and May",
          "Adkins, Robertson and Lindsey",
          "Joyce, Bowman and Ramirez",
          "Lin LLC",
          "Henry-Brooks",
          "Williamson, Martinez and Contreras",
          "Mercer-Williams",
          "Delgado Ltd",
          "Webb Group",
          "White, Buck and Suarez",
          "Bradley, Miller and Evans",
          "Spencer-Payne",
          "Fisher Ltd",
          "Bishop, Simpson and Nash",
          "Morse, Bishop and Smith",
          "Young Inc",
          "Mcguire, Brooks and Stuart",
          "Robertson-Obrien",
          "Brooks-Schroeder",
          "Clements and Sons",
          "Carter-Wilson",
          "Evans-Shelton",
          "Byrd-Jones",
          "Collins-Becker",
          "Mendez, Watkins and Andrews",
          "Thompson-Chan",
          "Ramos and Sons",
          "Salas, Ritter and Riddle",
          "Weaver, Young and King",
          "Wilson Ltd",
          "Nielsen-Reed",
          "Mueller-Hall",
          "Turner LLC",
          "Vaughan-Perez",
          "Warren, Taylor and Cole",
          "Duffy-Mcmillan",
          "Santana-Brewer",
          "Bush and Sons",
          "Anderson-Burns",
          "Fuller-Walters",
          "Robertson, Frye and Frost",
          "Ramsey, Freeman and Hamilton",
          "Williams LLC",
          "Sampson-Kennedy",
          "Thompson-Porter",
          "Sherman-Massey",
          "Sanchez, Shaw and Acevedo",
          "Hurley-Bush",
          "Watson PLC",
          "Taylor Group",
          "Jackson LLC",
          "Wright LLC",
          "Cooper-Ross",
          "Malone Inc",
          "Henry-Duke",
          "Lindsey, Avila and Brown",
          "Cole-Davis",
          "Nunez-Smith",
          "Williams Group",
          "Russell-Alvarez",
          "Valdez-Fuller",
          "Williams, Carrillo and Rice",
          "Smith-Scott",
          "Smith Group",
          "Barrett, Figueroa and White",
          "Dennis-Sanchez",
          "Gonzalez, Coleman and Le",
          "Pope-Hensley",
          "Petty, Smith and Arnold",
          "Harris and Sons",
          "Jenkins, Phillips and Lopez",
          "Marquez Ltd",
          "Gonzales Group",
          "Lopez PLC",
          "Miller-Wolfe",
          "Douglas-Dalton",
          "Valencia-Boone",
          "Johnson, Harris and Strong",
          "Fritz-Tapia",
          "Grant, Cross and Bennett",
          "Walton-Larson",
          "Morales LLC",
          "Cole-Williams",
          "Evans, Clayton and Ross",
          "Moyer, Lee and Abbott",
          "Perkins-Long",
          "Fernandez-Fischer",
          "Kemp, Ingram and Olsen",
          "Smith-Barrett",
          "Stephens, Cox and Fisher",
          "Schneider, White and Thomas",
          "Dominguez-Franklin",
          "Bishop LLC",
          "Wolfe-Schroeder",
          "Wallace Ltd",
          "Sanchez PLC",
          "Mckay PLC",
          "Ortega Inc",
          "White-Berry",
          "Elliott, Green and Scott",
          "Maddox-Lewis",
          "Miller Ltd",
          "Arias-Mendoza",
          "King-Rocha",
          "Hester-Murphy",
          "Jones-Nguyen",
          "Thomas-Mason",
          "Jacobson-Collins",
          "Goodwin PLC",
          "Hanson, Barron and Castillo",
          "Rodriguez-Morales",
          "Hester, Lee and Kirby",
          "Gonzales Ltd",
          "Jordan-Bass",
          "Cox, Friedman and Martinez",
          "Calhoun Inc",
          "Daniels, Rojas and Pearson",
          "Thomas Ltd",
          "Sanchez PLC",
          "Miller Ltd",
          "Moran Inc",
          "Good, Davis and Smith",
          "Wheeler Ltd",
          "Garcia Ltd",
          "Williams-Thompson",
          "Williams Group",
          "Butler, Perkins and Arnold",
          "Hensley-Love",
          "Pace-Davis",
          "Fields, Christensen and Daniels",
          "Johnson, Scott and Kim",
          "Bullock LLC",
          "Cochran-Phillips",
          "Ochoa-Martin",
          "Wheeler LLC",
          "Miller, Campbell and Russell",
          "Lang-Bryant",
          "Conway-Estrada",
          "Delgado PLC",
          "Harper Ltd",
          "Gallagher-Parker",
          "Anderson-Valdez",
          "Williams Ltd",
          "Rodriguez-Dominguez",
          "Hoover Inc",
          "Morris Inc",
          "Sanchez PLC",
          "Hodge and Sons",
          "Patrick Inc",
          "Roberts, Lin and Davis",
          "Lee, Kemp and Warner",
          "Ford, Carpenter and Valdez",
          "May PLC",
          "Taylor Inc",
          "Hinton, Evans and Harrison",
          "Allen-Garza",
          "Henry-Frazier",
          "Anderson-Leach",
          "Phillips Group",
          "Guerra-Coleman",
          "Frank-Allen",
          "Wallace-Fleming",
          "Vasquez and Sons",
          "Martin Inc",
          "Durham-Lewis",
          "Harper Inc",
          "Manning-Floyd",
          "Kirby and Sons",
          "Padilla, Gibson and Ingram",
          "Smith, Davis and Gutierrez",
          "Miller-Jordan",
          "Clark-Henderson",
          "Myers, Wilcox and Beck",
          "Stokes-Mclean",
          "Dunn-Jackson",
          "Fox, Stevens and Bell",
          "Mitchell, Davidson and Summers",
          "Mason PLC",
          "Smith-Ramirez",
          "Mcdonald PLC",
          "Gill-Boyle",
          "Cooper, Ford and Heath",
          "Wagner, Martinez and Dorsey",
          "Robinson-Thompson",
          "Williams, Nichols and Oliver",
          "Parks PLC",
          "Williamson, Graham and Farrell",
          "Booker-Camacho",
          "Smith, Savage and Oneal",
          "Larsen-Russell",
          "Sanders, Jones and Keller",
          "Smith-Rodriguez",
          "Moore LLC",
          "Aguirre-Reed",
          "Friedman-Le",
          "Keller, Stevenson and Gonzalez",
          "Smith, Thompson and Vance",
          "Wilson, Torres and Rodriguez",
          "Ferrell Inc",
          "Evans-Allison",
          "Ruiz, Sullivan and Gates",
          "Wolfe PLC",
          "Miller and Sons",
          "Sanchez and Sons",
          "Gibson-Armstrong",
          "Horton, Sanchez and Mitchell",
          "Jones PLC",
          "Stevens-Ward",
          "Hawkins Group",
          "Patterson, Herman and Collins",
          "Huang, Nash and Wall",
          "Fuller-Torres",
          "Alvarado, Russell and Moreno",
          "Zhang, Bailey and Burnett",
          "Smith, Shelton and Anderson",
          "Mcdowell and Sons",
          "Gomez LLC",
          "Hayes-Johnson",
          "Torres, Howell and Gomez",
          "Campbell-Serrano",
          "Herrera-Alvarez",
          "Combs, Wise and Clark",
          "Hamilton-Garcia",
          "Haley, Price and Contreras",
          "Cochran-Black",
          "Austin Inc",
          "Reeves-Elliott",
          "Fowler-Martinez",
          "Hutchinson, Roberts and Mcbride",
          "Blanchard LLC",
          "May-Snyder",
          "Mayer, Moore and Murphy",
          "Allen-Mays",
          "Fox, Burgess and White",
          "Pugh-Knight",
          "Jordan and Sons",
          "Gallagher-Kirby",
          "Cortez Group",
          "Fernandez LLC",
          "Miranda LLC",
          "Johnston Ltd",
          "Steele, Fuller and Freeman",
          "Yoder PLC",
          "Bailey Ltd",
          "Olson LLC",
          "Scott PLC",
          "Martin Inc",
          "Morgan, Burns and Gregory",
          "Carroll, Brown and Bates",
          "Kramer-Cox",
          "Yang-Coleman",
          "Owens, Grimes and Patrick",
          "Ashley, Fields and Vazquez",
          "Mayer, Fisher and White",
          "Campbell PLC",
          "Hartman, Lopez and Riley",
          "Gilbert and Sons",
          "Alvarez, Martinez and Robertson",
          "Rivera and Sons",
          "Smith, Greene and Miller",
          "Martinez, Bond and Green",
          "Franco Ltd",
          "Rogers-Rodriguez",
          "Hartman-Rodriguez",
          "Smith Group",
          "Johnson-Andrews",
          "Castillo Inc",
          "Martinez PLC",
          "Smith and Sons",
          "Santiago, Yoder and Stevens",
          "Hicks and Sons",
          "Woods-Murphy",
          "Frey LLC",
          "Moore-Ingram",
          "Aguilar-Campos",
          "Rice-Hernandez",
          "Hernandez-Davis",
          "Anderson-Cruz",
          "Hill Inc",
          "Clark Ltd",
          "Johnson LLC",
          "Gomez-Morgan",
          "Padilla, Mitchell and Clark",
          "Horne PLC",
          "Garcia Group",
          "Boyd, Hines and Higgins",
          "Lopez, Mann and Sanchez",
          "Chapman, Martinez and Powers",
          "Morrison-Stanley",
          "Johnson-Fleming",
          "Robles-Williams",
          "Brooks Ltd",
          "Lang, Brown and Stone",
          "Atkinson, Moore and Nelson",
          "Kim, Maxwell and Moore",
          "Wallace LLC"
         ],
         "type": "scatter3d",
         "x": [
          1,
          2,
          3,
          4,
          5,
          6,
          7,
          8,
          9,
          10,
          11,
          12,
          13,
          14,
          15,
          16,
          17,
          18,
          19,
          20,
          21,
          22,
          23,
          24,
          25,
          26,
          27,
          28,
          29,
          30,
          31,
          32,
          33,
          34,
          35,
          36,
          37,
          38,
          39,
          40,
          41,
          42,
          43,
          44,
          45,
          46,
          47,
          48,
          49,
          50,
          51,
          52,
          53,
          54,
          55,
          56,
          57,
          58,
          59,
          60,
          61,
          62,
          63,
          64,
          65,
          66,
          67,
          68,
          69,
          70,
          71,
          72,
          73,
          74,
          75,
          76,
          77,
          78,
          79,
          80,
          81,
          82,
          83,
          84,
          85,
          86,
          87,
          88,
          89,
          90,
          91,
          92,
          93,
          94,
          95,
          96,
          97,
          98,
          99,
          100,
          101,
          102,
          103,
          104,
          105,
          106,
          107,
          108,
          109,
          110,
          111,
          112,
          113,
          114,
          115,
          116,
          117,
          118,
          119,
          120,
          121,
          122,
          123,
          124,
          125,
          126,
          127,
          128,
          129,
          130,
          131,
          132,
          133,
          134,
          135,
          136,
          137,
          138,
          139,
          140,
          141,
          142,
          143,
          144,
          145,
          146,
          147,
          148,
          149,
          150
         ],
         "y": [
          426.56,
          1294.76,
          870.58,
          595.16,
          305.39,
          956.78,
          723.04,
          730.63,
          1418.24,
          573.22,
          335.83,
          463.44,
          1235.36,
          295.03,
          221.85,
          985.15,
          609.77,
          1408.39,
          1025.05,
          732.93,
          783.61,
          265.91,
          300.7,
          402.39,
          921.44,
          983.28,
          149.81,
          747.06,
          1343.65,
          1269.71,
          665,
          1137.5,
          757.33,
          1217.74,
          894.2,
          733.08,
          170.33,
          583.14,
          1223.95,
          773.02,
          141.32,
          610.7,
          1293.55,
          443.05,
          997.81,
          790.63,
          1352.48,
          400.8,
          1251.55,
          1134.19,
          619.85,
          571.36,
          433.44,
          1253.69,
          364.45,
          1345.42,
          1483.91,
          189.14,
          388.02,
          172.08,
          1141.24,
          318.31,
          189.44,
          1110.66,
          992.06,
          920.56,
          1062.8,
          1341.15,
          733.77,
          481.26,
          1034.38,
          780,
          826.54,
          681.33,
          601.41,
          774.79,
          973.62,
          1002.94,
          286.53,
          1285.42,
          318.26,
          688.29,
          537.73,
          269.43,
          1278.82,
          550.72,
          1114.73,
          943.28,
          1477.14,
          299.33,
          894.34,
          410.05,
          852.86,
          1045.12,
          518.31,
          763.9,
          756.49,
          1256.1,
          1184.54,
          987.65,
          1444.64,
          646.09,
          998.82,
          1118.72,
          1178.88,
          1236.37,
          287.36,
          903.7,
          490.28,
          501.28,
          530.13,
          1179.65,
          1042.66,
          1016.7,
          370.12,
          1354.53,
          281.55,
          992.14,
          967.71,
          901.21,
          455.29,
          1196.33,
          811.97,
          157.5,
          785.38,
          1466.37,
          882.11,
          1317.59,
          971.16,
          1384.31,
          454.88,
          281.69,
          1141.1,
          554.03,
          376.75,
          1148.23,
          1005.71,
          574.97,
          805.82,
          1297.7,
          1276.97,
          911.36,
          163.62,
          536.8,
          443.56,
          1458.6,
          1196.95,
          192.48,
          690.06,
          298.95
         ],
         "z": [
          102789.36,
          9072.42,
          103732.2,
          55089.93,
          135494.8,
          75674.76,
          37316.7,
          59166.08,
          1877.76,
          13973.56,
          8665.92,
          38663.73,
          22969.48,
          27111.24,
          22836.78,
          17058.67,
          22882.8,
          44118.9,
          3751.67,
          74919.88,
          26851.35,
          122804.31,
          3591.25,
          33697.62,
          59727.13,
          45512.55,
          8035.56,
          8582.58,
          3301.35,
          72588.74,
          6875.5,
          14628.86,
          55075.02,
          65193.3,
          60854.66,
          62334,
          10271.2,
          96463.62,
          8217.44,
          28896.63,
          48936.55,
          58955.44,
          85958.04,
          93157.68,
          38925.12,
          39012.28,
          20333.88,
          31322.56,
          31085.22,
          55740.27,
          43773.17,
          19676.25,
          7070.76,
          65396.79,
          54995.76,
          31312.96,
          12619.62,
          8071.26,
          15952.8,
          4239.12,
          98242.2,
          101815.68,
          30138.74,
          65983.14,
          13230.08,
          32203.6,
          75330.45,
          99642.96,
          70985.66,
          11783.43,
          48570.64,
          22162.56,
          2752.54,
          15851.88,
          37407.44,
          24228.27,
          5805.43,
          54851.29,
          18304.87,
          16868.06,
          66512.57,
          13741.2,
          2620.83,
          92400.11,
          61818.67,
          19900.5,
          7388.25,
          69770.9,
          66427.94,
          12132.64,
          37661.8,
          53107.15,
          6729.44,
          84618,
          57134.35,
          59466,
          10472.85,
          25697.72,
          23249.54,
          21580.78,
          12646.8,
          12122,
          67369.44,
          93600,
          33021.82,
          26408,
          73214.04,
          50154.39,
          83112.48,
          25914.37,
          6550.83,
          50670.65,
          41129.4,
          6426.99,
          54432,
          16047.56,
          12448.36,
          58208.48,
          33347.28,
          12305.92,
          65534.62,
          115585.69,
          4784.6,
          35169.4,
          71119,
          28288,
          40211.82,
          102433.02,
          100943.96,
          64326.15,
          7375.83,
          39433.8,
          15373.26,
          6268.6,
          118596.04,
          34241.36,
          43858.3,
          2763.88,
          59485.2,
          68618.72,
          119864.64,
          21926.52,
          31578.18,
          33832.47,
          109351.08,
          6503.25,
          28002.8,
          95400.2,
          104232.48,
          31611.69
         ]
        }
       ],
       "layout": {
        "margin": {
         "b": 0,
         "l": 0,
         "r": 0,
         "t": 0
        },
        "template": {
         "data": {
          "bar": [
           {
            "error_x": {
             "color": "#2a3f5f"
            },
            "error_y": {
             "color": "#2a3f5f"
            },
            "marker": {
             "line": {
              "color": "#E5ECF6",
              "width": 0.5
             },
             "pattern": {
              "fillmode": "overlay",
              "size": 10,
              "solidity": 0.2
             }
            },
            "type": "bar"
           }
          ],
          "barpolar": [
           {
            "marker": {
             "line": {
              "color": "#E5ECF6",
              "width": 0.5
             },
             "pattern": {
              "fillmode": "overlay",
              "size": 10,
              "solidity": 0.2
             }
            },
            "type": "barpolar"
           }
          ],
          "carpet": [
           {
            "aaxis": {
             "endlinecolor": "#2a3f5f",
             "gridcolor": "white",
             "linecolor": "white",
             "minorgridcolor": "white",
             "startlinecolor": "#2a3f5f"
            },
            "baxis": {
             "endlinecolor": "#2a3f5f",
             "gridcolor": "white",
             "linecolor": "white",
             "minorgridcolor": "white",
             "startlinecolor": "#2a3f5f"
            },
            "type": "carpet"
           }
          ],
          "choropleth": [
           {
            "colorbar": {
             "outlinewidth": 0,
             "ticks": ""
            },
            "type": "choropleth"
           }
          ],
          "contour": [
           {
            "colorbar": {
             "outlinewidth": 0,
             "ticks": ""
            },
            "colorscale": [
             [
              0,
              "#0d0887"
             ],
             [
              0.1111111111111111,
              "#46039f"
             ],
             [
              0.2222222222222222,
              "#7201a8"
             ],
             [
              0.3333333333333333,
              "#9c179e"
             ],
             [
              0.4444444444444444,
              "#bd3786"
             ],
             [
              0.5555555555555556,
              "#d8576b"
             ],
             [
              0.6666666666666666,
              "#ed7953"
             ],
             [
              0.7777777777777778,
              "#fb9f3a"
             ],
             [
              0.8888888888888888,
              "#fdca26"
             ],
             [
              1,
              "#f0f921"
             ]
            ],
            "type": "contour"
           }
          ],
          "contourcarpet": [
           {
            "colorbar": {
             "outlinewidth": 0,
             "ticks": ""
            },
            "type": "contourcarpet"
           }
          ],
          "heatmap": [
           {
            "colorbar": {
             "outlinewidth": 0,
             "ticks": ""
            },
            "colorscale": [
             [
              0,
              "#0d0887"
             ],
             [
              0.1111111111111111,
              "#46039f"
             ],
             [
              0.2222222222222222,
              "#7201a8"
             ],
             [
              0.3333333333333333,
              "#9c179e"
             ],
             [
              0.4444444444444444,
              "#bd3786"
             ],
             [
              0.5555555555555556,
              "#d8576b"
             ],
             [
              0.6666666666666666,
              "#ed7953"
             ],
             [
              0.7777777777777778,
              "#fb9f3a"
             ],
             [
              0.8888888888888888,
              "#fdca26"
             ],
             [
              1,
              "#f0f921"
             ]
            ],
            "type": "heatmap"
           }
          ],
          "heatmapgl": [
           {
            "colorbar": {
             "outlinewidth": 0,
             "ticks": ""
            },
            "colorscale": [
             [
              0,
              "#0d0887"
             ],
             [
              0.1111111111111111,
              "#46039f"
             ],
             [
              0.2222222222222222,
              "#7201a8"
             ],
             [
              0.3333333333333333,
              "#9c179e"
             ],
             [
              0.4444444444444444,
              "#bd3786"
             ],
             [
              0.5555555555555556,
              "#d8576b"
             ],
             [
              0.6666666666666666,
              "#ed7953"
             ],
             [
              0.7777777777777778,
              "#fb9f3a"
             ],
             [
              0.8888888888888888,
              "#fdca26"
             ],
             [
              1,
              "#f0f921"
             ]
            ],
            "type": "heatmapgl"
           }
          ],
          "histogram": [
           {
            "marker": {
             "pattern": {
              "fillmode": "overlay",
              "size": 10,
              "solidity": 0.2
             }
            },
            "type": "histogram"
           }
          ],
          "histogram2d": [
           {
            "colorbar": {
             "outlinewidth": 0,
             "ticks": ""
            },
            "colorscale": [
             [
              0,
              "#0d0887"
             ],
             [
              0.1111111111111111,
              "#46039f"
             ],
             [
              0.2222222222222222,
              "#7201a8"
             ],
             [
              0.3333333333333333,
              "#9c179e"
             ],
             [
              0.4444444444444444,
              "#bd3786"
             ],
             [
              0.5555555555555556,
              "#d8576b"
             ],
             [
              0.6666666666666666,
              "#ed7953"
             ],
             [
              0.7777777777777778,
              "#fb9f3a"
             ],
             [
              0.8888888888888888,
              "#fdca26"
             ],
             [
              1,
              "#f0f921"
             ]
            ],
            "type": "histogram2d"
           }
          ],
          "histogram2dcontour": [
           {
            "colorbar": {
             "outlinewidth": 0,
             "ticks": ""
            },
            "colorscale": [
             [
              0,
              "#0d0887"
             ],
             [
              0.1111111111111111,
              "#46039f"
             ],
             [
              0.2222222222222222,
              "#7201a8"
             ],
             [
              0.3333333333333333,
              "#9c179e"
             ],
             [
              0.4444444444444444,
              "#bd3786"
             ],
             [
              0.5555555555555556,
              "#d8576b"
             ],
             [
              0.6666666666666666,
              "#ed7953"
             ],
             [
              0.7777777777777778,
              "#fb9f3a"
             ],
             [
              0.8888888888888888,
              "#fdca26"
             ],
             [
              1,
              "#f0f921"
             ]
            ],
            "type": "histogram2dcontour"
           }
          ],
          "mesh3d": [
           {
            "colorbar": {
             "outlinewidth": 0,
             "ticks": ""
            },
            "type": "mesh3d"
           }
          ],
          "parcoords": [
           {
            "line": {
             "colorbar": {
              "outlinewidth": 0,
              "ticks": ""
             }
            },
            "type": "parcoords"
           }
          ],
          "pie": [
           {
            "automargin": true,
            "type": "pie"
           }
          ],
          "scatter": [
           {
            "fillpattern": {
             "fillmode": "overlay",
             "size": 10,
             "solidity": 0.2
            },
            "type": "scatter"
           }
          ],
          "scatter3d": [
           {
            "line": {
             "colorbar": {
              "outlinewidth": 0,
              "ticks": ""
             }
            },
            "marker": {
             "colorbar": {
              "outlinewidth": 0,
              "ticks": ""
             }
            },
            "type": "scatter3d"
           }
          ],
          "scattercarpet": [
           {
            "marker": {
             "colorbar": {
              "outlinewidth": 0,
              "ticks": ""
             }
            },
            "type": "scattercarpet"
           }
          ],
          "scattergeo": [
           {
            "marker": {
             "colorbar": {
              "outlinewidth": 0,
              "ticks": ""
             }
            },
            "type": "scattergeo"
           }
          ],
          "scattergl": [
           {
            "marker": {
             "colorbar": {
              "outlinewidth": 0,
              "ticks": ""
             }
            },
            "type": "scattergl"
           }
          ],
          "scattermapbox": [
           {
            "marker": {
             "colorbar": {
              "outlinewidth": 0,
              "ticks": ""
             }
            },
            "type": "scattermapbox"
           }
          ],
          "scatterpolar": [
           {
            "marker": {
             "colorbar": {
              "outlinewidth": 0,
              "ticks": ""
             }
            },
            "type": "scatterpolar"
           }
          ],
          "scatterpolargl": [
           {
            "marker": {
             "colorbar": {
              "outlinewidth": 0,
              "ticks": ""
             }
            },
            "type": "scatterpolargl"
           }
          ],
          "scatterternary": [
           {
            "marker": {
             "colorbar": {
              "outlinewidth": 0,
              "ticks": ""
             }
            },
            "type": "scatterternary"
           }
          ],
          "surface": [
           {
            "colorbar": {
             "outlinewidth": 0,
             "ticks": ""
            },
            "colorscale": [
             [
              0,
              "#0d0887"
             ],
             [
              0.1111111111111111,
              "#46039f"
             ],
             [
              0.2222222222222222,
              "#7201a8"
             ],
             [
              0.3333333333333333,
              "#9c179e"
             ],
             [
              0.4444444444444444,
              "#bd3786"
             ],
             [
              0.5555555555555556,
              "#d8576b"
             ],
             [
              0.6666666666666666,
              "#ed7953"
             ],
             [
              0.7777777777777778,
              "#fb9f3a"
             ],
             [
              0.8888888888888888,
              "#fdca26"
             ],
             [
              1,
              "#f0f921"
             ]
            ],
            "type": "surface"
           }
          ],
          "table": [
           {
            "cells": {
             "fill": {
              "color": "#EBF0F8"
             },
             "line": {
              "color": "white"
             }
            },
            "header": {
             "fill": {
              "color": "#C8D4E3"
             },
             "line": {
              "color": "white"
             }
            },
            "type": "table"
           }
          ]
         },
         "layout": {
          "annotationdefaults": {
           "arrowcolor": "#2a3f5f",
           "arrowhead": 0,
           "arrowwidth": 1
          },
          "autotypenumbers": "strict",
          "coloraxis": {
           "colorbar": {
            "outlinewidth": 0,
            "ticks": ""
           }
          },
          "colorscale": {
           "diverging": [
            [
             0,
             "#8e0152"
            ],
            [
             0.1,
             "#c51b7d"
            ],
            [
             0.2,
             "#de77ae"
            ],
            [
             0.3,
             "#f1b6da"
            ],
            [
             0.4,
             "#fde0ef"
            ],
            [
             0.5,
             "#f7f7f7"
            ],
            [
             0.6,
             "#e6f5d0"
            ],
            [
             0.7,
             "#b8e186"
            ],
            [
             0.8,
             "#7fbc41"
            ],
            [
             0.9,
             "#4d9221"
            ],
            [
             1,
             "#276419"
            ]
           ],
           "sequential": [
            [
             0,
             "#0d0887"
            ],
            [
             0.1111111111111111,
             "#46039f"
            ],
            [
             0.2222222222222222,
             "#7201a8"
            ],
            [
             0.3333333333333333,
             "#9c179e"
            ],
            [
             0.4444444444444444,
             "#bd3786"
            ],
            [
             0.5555555555555556,
             "#d8576b"
            ],
            [
             0.6666666666666666,
             "#ed7953"
            ],
            [
             0.7777777777777778,
             "#fb9f3a"
            ],
            [
             0.8888888888888888,
             "#fdca26"
            ],
            [
             1,
             "#f0f921"
            ]
           ],
           "sequentialminus": [
            [
             0,
             "#0d0887"
            ],
            [
             0.1111111111111111,
             "#46039f"
            ],
            [
             0.2222222222222222,
             "#7201a8"
            ],
            [
             0.3333333333333333,
             "#9c179e"
            ],
            [
             0.4444444444444444,
             "#bd3786"
            ],
            [
             0.5555555555555556,
             "#d8576b"
            ],
            [
             0.6666666666666666,
             "#ed7953"
            ],
            [
             0.7777777777777778,
             "#fb9f3a"
            ],
            [
             0.8888888888888888,
             "#fdca26"
            ],
            [
             1,
             "#f0f921"
            ]
           ]
          },
          "colorway": [
           "#636efa",
           "#EF553B",
           "#00cc96",
           "#ab63fa",
           "#FFA15A",
           "#19d3f3",
           "#FF6692",
           "#B6E880",
           "#FF97FF",
           "#FECB52"
          ],
          "font": {
           "color": "#2a3f5f"
          },
          "geo": {
           "bgcolor": "white",
           "lakecolor": "white",
           "landcolor": "#E5ECF6",
           "showlakes": true,
           "showland": true,
           "subunitcolor": "white"
          },
          "hoverlabel": {
           "align": "left"
          },
          "hovermode": "closest",
          "mapbox": {
           "style": "light"
          },
          "paper_bgcolor": "white",
          "plot_bgcolor": "#E5ECF6",
          "polar": {
           "angularaxis": {
            "gridcolor": "white",
            "linecolor": "white",
            "ticks": ""
           },
           "bgcolor": "#E5ECF6",
           "radialaxis": {
            "gridcolor": "white",
            "linecolor": "white",
            "ticks": ""
           }
          },
          "scene": {
           "xaxis": {
            "backgroundcolor": "#E5ECF6",
            "gridcolor": "white",
            "gridwidth": 2,
            "linecolor": "white",
            "showbackground": true,
            "ticks": "",
            "zerolinecolor": "white"
           },
           "yaxis": {
            "backgroundcolor": "#E5ECF6",
            "gridcolor": "white",
            "gridwidth": 2,
            "linecolor": "white",
            "showbackground": true,
            "ticks": "",
            "zerolinecolor": "white"
           },
           "zaxis": {
            "backgroundcolor": "#E5ECF6",
            "gridcolor": "white",
            "gridwidth": 2,
            "linecolor": "white",
            "showbackground": true,
            "ticks": "",
            "zerolinecolor": "white"
           }
          },
          "shapedefaults": {
           "line": {
            "color": "#2a3f5f"
           }
          },
          "ternary": {
           "aaxis": {
            "gridcolor": "white",
            "linecolor": "white",
            "ticks": ""
           },
           "baxis": {
            "gridcolor": "white",
            "linecolor": "white",
            "ticks": ""
           },
           "bgcolor": "#E5ECF6",
           "caxis": {
            "gridcolor": "white",
            "linecolor": "white",
            "ticks": ""
           }
          },
          "title": {
           "x": 0.05
          },
          "xaxis": {
           "automargin": true,
           "gridcolor": "white",
           "linecolor": "white",
           "ticks": "",
           "title": {
            "standoff": 15
           },
           "zerolinecolor": "white",
           "zerolinewidth": 2
          },
          "yaxis": {
           "automargin": true,
           "gridcolor": "white",
           "linecolor": "white",
           "ticks": "",
           "title": {
            "standoff": 15
           },
           "zerolinecolor": "white",
           "zerolinewidth": 2
          }
         }
        }
       }
      },
      "text/html": [
       "<div>                            <div id=\"85f4767d-b47c-41de-897e-72db0f9919be\" class=\"plotly-graph-div\" style=\"height:525px; width:100%;\"></div>            <script type=\"text/javascript\">                require([\"plotly\"], function(Plotly) {                    window.PLOTLYENV=window.PLOTLYENV || {};                                    if (document.getElementById(\"85f4767d-b47c-41de-897e-72db0f9919be\")) {                    Plotly.newPlot(                        \"85f4767d-b47c-41de-897e-72db0f9919be\",                        [{\"marker\":{\"color\":[0.07984147776637693,1.5166662164679316,0.8735562946104628,0.6794660790376936,1.433437922041025,1.8386985610853872,0.972536583471167,-1.4215027512895761,-1.7264692468566611,0.3042330563099006,0.025590389592367934,-1.6927200028511373,0.6581838922812229,-0.3146713873300375,-0.31269304158109396,-0.0025980211506350624,0.3814510839202301,1.0560158512512148,-0.3168031587491949,-0.38861097242414333,0.6871085327215412,-0.43595422302777437,0.47163476327215825,1.0266619244429338,-0.5541000481028223,-1.0572035471849146,-1.5956801653260413,-0.6337647257585857,0.34168620277058126,0.5996650173355329,0.10088406057957479,-0.11689177020740955,-1.4753029923227088,-0.3466165377787851,1.4997780758607426,0.6752201700991596,-1.6462707743316911,0.23850884848400994,0.3162045103360085,-1.3157611016667154,1.1968630748103324,-0.5768824870435794,-0.8467645114936406,0.6028502395181397,0.13299278675747164,-1.8382751632840084,-1.4349183260025582,-0.7464112879658521,2.0410937237614024,-0.13421837809964113,0.9903707868785592,-1.662334561918747,0.1905025349844868,-0.15056744388263307,1.4352293637044464,-0.5878575714700655,-0.7931998662978061,-0.24443755951450827,0.2881165035636068,0.45533319601427874,-0.024946280701405765,-2.583526067237523,0.9630429089300238,0.4397037714950096,-0.7123144806874355,-1.3615347547357828,-0.3844453963368533,1.9113661664617336,-1.024030050186933,-0.19187801390708958,0.15157301619850355,-0.6370775216627192,0.054665190714401644,-0.002324514805231691,-0.9548328057240734,0.1672908763575314,1.6412140037110268,-0.45740978444913055,0.7858848371884372,-0.804798815938957,0.5903501478566588,1.8453083731817668,1.5252179988325107,0.5257773727092359,1.2671345389981952,-0.9602261794320464,-0.5185612852989202,0.3166467804299192,-1.3363037404176714,-1.0082014005798017,1.0890043367566484,-0.563550538063959,-0.39731814587901915,0.8510046831457693,-0.10708512735746233,-1.1321696812870043,0.6856503836891447,0.5614709707138958,0.46703313860315576,-0.7914693176424858,0.08156057981169075,-1.2853736673503866,0.3003758203194164,-1.2279251005908187,-0.658956511511263,-1.127832506209544,-1.9342163792529359,2.1746123440613117,1.7985789058887358,1.944466438118061,0.4579693457103134,-1.8080650799279456,-1.4881232795538268,0.21526972649386084,-1.1021236959139495,-1.747415286062608,1.6135836008129096,-1.0709818469686898,0.69510791722492,0.07861223009299906,0.6522588737199019,0.7597754764972272,0.18222472550322563,-0.5636200137576977,-0.13462670355220088,0.7674743369014346,-0.36266225936652846,-1.1318682017843422,0.5645380574532055,-0.3768686963125952,-0.37076850265575056,-0.21291632831343774,0.6310732781733613,-0.3555761074546177,0.08386069229041623,1.205469390060998,0.43117889128558134,-2.103599544288632,0.5629481258388449,0.09507263825675481,-0.13141018284053127,-1.7337978795798614,0.3066851832524526,0.1167849290941456,-1.0952799932872486,-0.4032148221472017,0.8020819903412091,0.7035876763918013,-1.4369475562763492,0.575040609799194],\"colorscale\":[[0.0,\"#440154\"],[0.1111111111111111,\"#482878\"],[0.2222222222222222,\"#3e4989\"],[0.3333333333333333,\"#31688e\"],[0.4444444444444444,\"#26828e\"],[0.5555555555555556,\"#1f9e89\"],[0.6666666666666666,\"#35b779\"],[0.7777777777777778,\"#6ece58\"],[0.8888888888888888,\"#b5de2b\"],[1.0,\"#fde725\"]],\"opacity\":0.8,\"size\":12},\"mode\":\"markers\",\"text\":[\"Green Inc\",\"Thomas-Thompson\",\"Sanchez-Williams\",\"Greer and Sons\",\"Brown and Sons\",\"Massey, Nicholson and Young\",\"Coleman-Pena\",\"Brock, Cruz and Santiago\",\"Griffin, Boyle and Dawson\",\"Arroyo, Jones and Clayton\",\"Carlson, Mcdonald and Hatfield\",\"Mckenzie LLC\",\"Cross Inc\",\"Jackson-Garza\",\"Neal-Francis\",\"Shaw-Farmer\",\"Best, Ross and Smith\",\"Burton LLC\",\"Byrd, Thompson and Rhodes\",\"Taylor-Hutchinson\",\"Graves, Turner and Crawford\",\"Villanueva-Ramirez\",\"Miller-Price\",\"Hood Inc\",\"Miller-Harper\",\"Decker Ltd\",\"Nelson and Sons\",\"Mitchell Ltd\",\"Burch, Wilson and Yang\",\"Ross, Strickland and Johns\",\"Oliver-Oconnell\",\"Ho-Porter\",\"Fisher-Marshall\",\"Watson, Carter and Woodard\",\"Walters, Bennett and Barrett\",\"Jacobs, Shepherd and Green\",\"Smith-Walters\",\"Walker PLC\",\"Hill, Mann and Martinez\",\"Brooks LLC\",\"Stewart Group\",\"Harris and Sons\",\"Smith, Bean and Gallagher\",\"White-Hood\",\"Hammond, Fernandez and Davis\",\"King, Carpenter and George\",\"Wagner, Burton and Ashley\",\"Lee LLC\",\"Sullivan Ltd\",\"Snyder LLC\",\"Webb-Davila\",\"Martin-Gardner\",\"York Inc\",\"Lane Ltd\",\"Chaney and Sons\",\"Mack Group\",\"Paul, Andersen and Carr\",\"Smith, Miller and Cooper\",\"Adams LLC\",\"Wright-Green\",\"Peters, Hayes and Sanchez\",\"Hopkins-Mahoney\",\"Dean LLC\",\"Shah PLC\",\"Garcia Inc\",\"Ramos and Sons\",\"Gonzalez PLC\",\"Bonilla, Gordon and Petersen\",\"Jones Inc\",\"Bates and Sons\",\"Lee Ltd\",\"Miller-Robinson\",\"Ward Inc\",\"Rice PLC\",\"Mitchell-Barrett\",\"Roach-Strong\",\"Ortiz-Kaiser\",\"Shah, Blackwell and Adams\",\"Hoffman PLC\",\"Simpson and Sons\",\"Joseph, Santos and Nelson\",\"Weaver Ltd\",\"Hunter PLC\",\"James, Garcia and Brown\",\"Anderson and Sons\",\"Thompson, Chapman and Jones\",\"Smith Ltd\",\"Rowland, Monroe and Owen\",\"Jordan-Williams\",\"Johnson, Rogers and Daugherty\",\"Alvarado-Carter\",\"Robinson-King\",\"Hahn, Hamilton and Johnson\",\"Bryant-Miller\",\"Bishop, Rodriguez and Bell\",\"Rojas, Kelly and Scott\",\"Williams, King and Hayes\",\"Black and Sons\",\"Matthews Ltd\",\"Carlson, Brennan and Robinson\",\"Jones-Wilson\",\"Stewart, Gutierrez and Avila\",\"Turner, Vega and Green\",\"Perez LLC\",\"Herrera LLC\",\"Castro, Briggs and Gilmore\",\"Peterson Inc\",\"Harmon Group\",\"Thompson, Johnson and Wong\",\"Collins PLC\",\"Gilbert Inc\",\"Hull, Terrell and Buchanan\",\"Mccullough-Powell\",\"Hawkins PLC\",\"Burnett Inc\",\"Clark LLC\",\"Bernard Ltd\",\"Morrison-Andersen\",\"Gilbert Inc\",\"Fitzpatrick-Miller\",\"Morton and Sons\",\"Brown PLC\",\"Porter-Mcgee\",\"Smith-Stevens\",\"Williamson, Fuller and Ward\",\"Rice-Osborne\",\"Camacho, Fox and Smith\",\"Walker-White\",\"Lane Group\",\"Williams, Coffey and Garcia\",\"Martinez-Torres\",\"Watson-Dougherty\",\"Campbell, Shelton and Walker\",\"Nelson, Carroll and Marsh\",\"Marshall-Olsen\",\"Harris Group\",\"Galvan Group\",\"Patton and Sons\",\"Foster-White\",\"Kline, Johnson and Hall\",\"Brown, Parsons and Johnson\",\"Cole, Mckinney and Maddox\",\"Townsend PLC\",\"Paul, Goodman and Richardson\",\"Stewart Ltd\",\"Baldwin-Swanson\",\"Santiago, Jones and Bell\",\"Baird-Henderson\",\"Sanchez, Johnson and Mosley\",\"Goodman, Hughes and White\",\"Sanders-Estrada\",\"Odom-Green\",\"Walters and Sons\",\"Andrews LLC\",\"Wade-Hall\",\"Hebert Inc\",\"Young, Hill and Morgan\",\"Holloway, Brown and Mills\",\"Velazquez Inc\",\"Fleming, Cooper and Wilson\",\"Decker Inc\",\"Sawyer-Ramirez\",\"Morris and Sons\",\"Garrett, Schultz and Carlson\",\"Curtis-Collier\",\"Jackson-Carroll\",\"Schultz LLC\",\"Cruz-Arias\",\"Mason, Flores and Baker\",\"Pitts-Valenzuela\",\"Bates, Pearson and Hardy\",\"Perez PLC\",\"Williams-Palmer\",\"Bennett, Foster and Moreno\",\"Cruz, Callahan and Carpenter\",\"Rogers, Baker and Holmes\",\"Martin-Carson\",\"Esparza-Baker\",\"Black PLC\",\"Galvan, Jenkins and Peck\",\"Delgado and Sons\",\"Franklin, Cox and Lopez\",\"Gutierrez Inc\",\"Boyle, Collier and Marquez\",\"Williams Ltd\",\"Harris, Stevens and Hall\",\"Knight Group\",\"Robinson-Tucker\",\"Lopez, Collins and Rosario\",\"Colon, Phillips and Watkins\",\"Peterson PLC\",\"Miller Inc\",\"Massey, Long and Nguyen\",\"Ruiz Inc\",\"White, Kirby and Cross\",\"Cooper and Sons\",\"Martinez Ltd\",\"Anderson-White\",\"Wilkerson, Suarez and Ayala\",\"Scott-Davis\",\"Moran Ltd\",\"Beasley-Bailey\",\"Johnson-Johnson\",\"Cabrera-White\",\"Roy-Dalton\",\"Burgess, Wise and Lee\",\"Nelson LLC\",\"Kelly, Esparza and Carson\",\"Anderson, Huff and Sanchez\",\"Turner-Colon\",\"Murphy Group\",\"Sutton, Parsons and Rice\",\"Lloyd, Stone and Mcguire\",\"Martinez Inc\",\"Mitchell PLC\",\"Jones, Gonzalez and Camacho\",\"Michael-Lara\",\"Martin Group\",\"Collins Ltd\",\"Camacho Inc\",\"Mills PLC\",\"Lindsey-Strickland\",\"Vargas-Perez\",\"Walker-Daniels\",\"Murphy PLC\",\"White, Ford and Andrews\",\"Schultz-Baker\",\"Bradley, Rios and Perkins\",\"Wall-Reed\",\"Harding-Thomas\",\"Schmidt LLC\",\"Hall-Swanson\",\"Jones-Jones\",\"Perry, Thompson and Vargas\",\"Bell Group\",\"Porter, Leon and Reynolds\",\"White Group\",\"Mueller, Collier and Khan\",\"Miller-Lang\",\"Ware, May and Lopez\",\"Harris-Melton\",\"Simmons Ltd\",\"Cross, Myers and Mueller\",\"Tran-Johnson\",\"Moran-Hunter\",\"Hickman Ltd\",\"Barnes, Smith and Crawford\",\"Miller, Anderson and Davis\",\"Juarez Ltd\",\"Merritt, Thomas and Patterson\",\"Hall Inc\",\"Franco-Sanders\",\"Calderon, Barry and Roberts\",\"Johnson, Brennan and Thompson\",\"Campbell-Gonzalez\",\"Moreno, Dodson and Andrews\",\"Ramirez, Duffy and Beck\",\"Wilkinson-Anderson\",\"Hawkins-Russell\",\"Sanders-Baker\",\"Wilson-Beard\",\"Bryant-Lewis\",\"Bishop and Sons\",\"Hill LLC\",\"Smith, Ramirez and Campbell\",\"Hendrix-Murphy\",\"Chen Inc\",\"Martin, Smith and Patterson\",\"Baker, Martin and Saunders\",\"Parker-Griffith\",\"Wright and Sons\",\"Fuentes PLC\",\"Hess-Little\",\"Russo Inc\",\"Marquez-Garrett\",\"Faulkner, Lewis and Armstrong\",\"Flynn PLC\",\"Fernandez, Long and Nelson\",\"Martinez Ltd\",\"Jones, Soto and Johnson\",\"Newman-Anthony\",\"Crawford, Spencer and Patel\",\"Evans-Gillespie\",\"Jacobson-Arnold\",\"Smith-Williams\",\"Martinez Ltd\",\"Smith, Short and Butler\",\"Patterson-Nelson\",\"Christensen-Daniel\",\"Ferguson PLC\",\"Ritter-Wilson\",\"Wallace, Turner and Young\",\"Jordan-Norris\",\"Peck Ltd\",\"Nelson and Sons\",\"Padilla-Hernandez\",\"Brown, Becker and Jones\",\"Jackson-Hodges\",\"Sanders, Snow and Harrell\",\"Wells, Harris and Bowman\",\"May-Williams\",\"Beck, Choi and Thomas\",\"Warner Group\",\"Anderson, Atkinson and Garza\",\"Graham LLC\",\"Torres Inc\",\"Williams and Sons\",\"Hodge LLC\",\"Peterson Ltd\",\"Reid-Gilbert\",\"Perry Group\",\"Glenn, Miller and Griffin\",\"Richardson Group\",\"Coleman-Brown\",\"Garcia, Smith and Ramos\",\"Walton Inc\",\"Edwards Group\",\"Lewis, Sanchez and Turner\",\"Smith, Terry and Obrien\",\"Green-Rogers\",\"Henson PLC\",\"Phillips, Foster and Maynard\",\"Jackson Inc\",\"Ross, Clark and Webb\",\"Turner, Kim and Leonard\",\"Hamilton, Romero and West\",\"Perry-Davis\",\"Wilson, Terrell and Kim\",\"Becker LLC\",\"Kelly PLC\",\"Mendez and Sons\",\"Porter, Taylor and Moore\",\"Finley Group\",\"Mcguire-Sanders\",\"Drake, George and Davis\",\"Chandler-Palmer\",\"Williams-Smith\",\"Jackson, Collier and Barber\",\"Hill Ltd\",\"Perez and Sons\",\"Ayers and Sons\",\"Holland PLC\",\"Hill, Thompson and Anderson\",\"Hunter-Richardson\",\"Wallace-James\",\"Gomez-Burns\",\"Lam-Gregory\",\"Cooper, Mcclain and Cook\",\"Johnson LLC\",\"Thornton, Fisher and Santiago\",\"Marsh and Sons\",\"Rodriguez Inc\",\"Strickland and Sons\",\"Mason-Ramirez\",\"Jones, Johnson and Vasquez\",\"Holmes, Ramos and Hoffman\",\"Curry, Richards and Lane\",\"Decker, Smith and Wilson\",\"Davies, Thomas and Brooks\",\"Yu-Smith\",\"Nunez, Jefferson and Glover\",\"Smith PLC\",\"Holmes-Rivera\",\"Vasquez LLC\",\"Figueroa LLC\",\"Greene-Baxter\",\"Jenkins, Jones and Jenkins\",\"Christian-Velasquez\",\"Mccoy-Stevenson\",\"Galloway, Gutierrez and Vazquez\",\"Long, Hughes and Gallegos\",\"Miller, Hill and Lawson\",\"Sanchez-Hernandez\",\"Davis Group\",\"Skinner, Ramirez and Kelley\",\"Williamson-Clay\",\"Grant, Mcdonald and Watson\",\"Pearson, Jackson and Fox\",\"Wood-Wilson\",\"Bryant, Davis and Eaton\",\"Jennings-Leon\",\"Miller and Sons\",\"Lamb Inc\",\"Oconnor, Jacobs and Wise\",\"Stein-Bridges\",\"Singleton Group\",\"Lee Inc\",\"Marshall Inc\",\"Peterson, Franklin and Bender\",\"Morales Ltd\",\"Porter Ltd\",\"Brennan-Vasquez\",\"Pittman, Williams and Mejia\",\"Wallace-Prince\",\"Pham and Sons\",\"Nielsen, Rivera and Jones\",\"Diaz, Ball and Juarez\",\"Garrett, Bush and Butler\",\"Bradford-Poole\",\"Carter PLC\",\"Thomas-Alexander\",\"Adams-Sanchez\",\"Russell, Watts and Wade\",\"Gonzalez-Horn\",\"Graham Ltd\",\"Wagner-Carrillo\",\"Lee, Simpson and West\",\"Gonzalez, Lowe and Robinson\",\"Cameron, Hughes and Lara\",\"Hays LLC\",\"Martin-Morales\",\"Wilkinson-Reyes\",\"Buck LLC\",\"Hall LLC\",\"Garrett Group\",\"Thompson, Johnson and Smith\",\"Branch Ltd\",\"Bailey-Davis\",\"Morales, Hansen and Colon\",\"Ross PLC\",\"Hill Ltd\",\"Mayo PLC\",\"Adams Group\",\"Wilson, Wilson and Smith\",\"Valencia and Sons\",\"Hernandez PLC\",\"Ball-Clay\",\"Wiggins-Wallace\",\"Edwards, Davidson and Houston\",\"Morgan PLC\",\"Hernandez Ltd\",\"Cobb, Duffy and Roberts\",\"Brown Inc\",\"Cole and Sons\",\"Baker and Sons\",\"Mcknight, Moody and Mason\",\"Morris-Davis\",\"Price, Carpenter and Adams\",\"Smith-Barr\",\"Wheeler-Summers\",\"Washington, Burns and Li\",\"Rodriguez, Adams and Smith\",\"Walter-Lynn\",\"James PLC\",\"Mata-Burns\",\"Salazar, Myers and Mcmahon\",\"Jones-Leonard\",\"Little-Perez\",\"Smith-Stokes\",\"Cain Group\",\"Glenn-Fernandez\",\"Moore Ltd\",\"Potter, Bailey and Turner\",\"Cooley-Reed\",\"Peterson and Sons\",\"Brown-Solis\",\"Wilcox and Sons\",\"Whitney-Cook\",\"Hill, Hall and Hess\",\"Howard, Wood and Rosales\",\"Aguilar-Scott\",\"Garrett Group\",\"Nelson-Wright\",\"Wilkins-Price\",\"Evans, Taylor and Peterson\",\"Nunez, Porter and Bell\",\"Brooks, Rodriguez and Knight\",\"Willis, Watson and Monroe\",\"Taylor-Keller\",\"Ruiz LLC\",\"Richardson PLC\",\"Foster Ltd\",\"West, Potts and Santos\",\"Jones, Phillips and Mckinney\",\"Boone PLC\",\"Soto, Hubbard and Kim\",\"Spencer-Cardenas\",\"Webster-Sullivan\",\"Escobar and Sons\",\"Vincent, Oneill and Bryant\",\"Becker-Smith\",\"Morris, Gay and Spencer\",\"Kelly, Velasquez and Dickerson\",\"Coleman LLC\",\"Bradshaw Inc\",\"Noble Group\",\"Jones-Gross\",\"Roth, Franklin and Hernandez\",\"Brown Group\",\"Norman, West and Mata\",\"Day-Wang\",\"Lang, Arnold and Holmes\",\"Ayers, Reyes and Lee\",\"Lee, Rodgers and Jordan\",\"Larson, Ruiz and Beasley\",\"Hernandez and Sons\",\"Hodge-Perry\",\"Ibarra, Jackson and Potter\",\"Johnson, Figueroa and Jones\",\"Bailey, Roy and Barnes\",\"Cobb LLC\",\"Miller-Cortez\",\"Obrien-Arnold\",\"Gallagher-Campbell\",\"Payne Group\",\"Kim, Ortega and Jones\",\"Webb, Orr and Benson\",\"Duncan, Mendoza and Mcdowell\",\"Conrad Ltd\",\"Cooper, Johnson and Townsend\",\"Payne and Sons\",\"Miranda, Chang and Hansen\",\"Thompson-Orr\",\"Lopez-Clements\",\"Lang-Garza\",\"Roth-Crawford\",\"Andrews-Martin\",\"Mckay-Turner\",\"George, Miller and Pitts\",\"White LLC\",\"Pope, Delgado and Wood\",\"Smith-Rice\",\"Browning-Durham\",\"Mclaughlin, Wilson and Hunter\",\"Tanner, Schwartz and Weber\",\"Cochran LLC\",\"Rivera, Garcia and Lewis\",\"Washington Inc\",\"Washington PLC\",\"Rosario-Woods\",\"Foster PLC\",\"Bates, Miller and Burns\",\"Taylor, Rowe and Nelson\",\"Nichols, Morales and Knight\",\"Frost-Sutton\",\"Joseph, Trevino and Salinas\",\"Davis, Marquez and Ray\",\"Sanchez Inc\",\"Jackson, White and Brown\",\"Gillespie-Holland\",\"Oliver-Douglas\",\"Ramirez Group\",\"Ramos, Lewis and Romero\",\"Hanson, Smith and Davidson\",\"Rocha-Chapman\",\"Sanchez, Brooks and Mason\",\"Guzman, Evans and Reynolds\",\"Reyes, Parker and Conway\",\"Wilkins PLC\",\"Martin, Anderson and Garcia\",\"White Inc\",\"Johnson, Johnson and Zimmerman\",\"Shaffer, Oliver and Sanchez\",\"Cruz Ltd\",\"Mcmahon, Jones and Baker\",\"Sanchez-Weeks\",\"Weaver-Thompson\",\"Thornton, Daniel and Jensen\",\"Price, Ashley and Coleman\",\"Carroll, Woodard and Mccarty\",\"Cowan, Hamilton and Hancock\",\"Rivera-Berry\",\"Tran-Graham\",\"Chase Ltd\",\"Rivera-Watson\",\"Harrington, Sosa and Mccarty\",\"Aguilar Ltd\",\"Maxwell, Dunlap and Sanford\",\"Sims-Mason\",\"Brandt and Sons\",\"Woods, Gutierrez and Tapia\",\"Love-Grimes\",\"Banks Group\",\"Poole, Parker and Williams\",\"Parks-Steele\",\"Wilson-Bailey\",\"Lee-Jones\",\"Gordon PLC\",\"Nguyen Inc\",\"Gilbert Group\",\"Gray, Smith and Barnes\",\"Wallace LLC\",\"Wilcox PLC\",\"Cherry-Potts\",\"Norman, Miller and Smith\",\"Mcguire, Garcia and Ingram\",\"Thomas, Henderson and Morales\",\"Stokes, Cobb and Hunter\",\"Hull, Simmons and Robinson\",\"Kelley, Blair and Mckinney\",\"Ramos LLC\",\"Clark-Figueroa\",\"Hurst, Carpenter and Hoffman\",\"Kelley-Garcia\",\"Ortiz Ltd\",\"Burns, Davila and Camacho\",\"Gilbert, Garcia and Sellers\",\"Weber Group\",\"Thompson-Nguyen\",\"Lee, Boyd and Lewis\",\"Benson-Dixon\",\"Mccormick, Barron and Mooney\",\"Ramirez-Carroll\",\"Harris, Hamilton and Rose\",\"Patrick, Bailey and West\",\"Diaz, Brooks and Dixon\",\"Peterson, Long and Ward\",\"Smith-Tucker\",\"Walker-Bradford\",\"Holder, Thornton and Young\",\"Perry PLC\",\"Kirby, Oneill and Carter\",\"Fleming Group\",\"Jensen-Lowe\",\"Woods-Li\",\"Conley PLC\",\"Benson and Sons\",\"Anderson Inc\",\"Pierce, Schaefer and Walsh\",\"Jones-Boyd\",\"Snow, Miller and Phelps\",\"Cobb LLC\",\"Munoz-Smith\",\"Palmer-Gross\",\"Smith PLC\",\"Andrews PLC\",\"George, Garner and Zhang\",\"Ford LLC\",\"Stewart, Webster and Ford\",\"Woodward-Phillips\",\"Martin, Burgess and Cameron\",\"Rubio-Williams\",\"Davis-Paul\",\"Aguilar Group\",\"Roberts Ltd\",\"Holmes, Austin and Davidson\",\"Wolf, Hamilton and Rubio\",\"Fuller, Sanders and Molina\",\"Atkins LLC\",\"Sloan, Harris and Green\",\"Brown, Jenkins and Roberts\",\"Russell Ltd\",\"Mcdonald, Bright and Ward\",\"Hall, Weaver and Cook\",\"Holden, Figueroa and Bennett\",\"Velasquez-Baker\",\"Sanford-Moore\",\"Wilson-Green\",\"Kelley, Young and Price\",\"Pittman-Nelson\",\"Hernandez-Reed\",\"Nichols, Hill and Rice\",\"Edwards, Mcbride and Gonzalez\",\"Hart Group\",\"Todd PLC\",\"Thomas, Noble and Porter\",\"Drake, Martin and Jordan\",\"Santiago LLC\",\"Rodgers-Villarreal\",\"Nelson, Bowers and Larson\",\"Taylor-Ramirez\",\"Harding, Delgado and Prince\",\"Branch-Johnson\",\"Shepard, Montoya and Parks\",\"Johnson-Alvarez\",\"Meyer PLC\",\"Jackson-Thomas\",\"Ellison-May\",\"Madden PLC\",\"Bennett and Sons\",\"Conway Group\",\"Harris-Bell\",\"Wilkerson-Wood\",\"Moore-Larson\",\"Moore-Jimenez\",\"Graham-Swanson\",\"Garcia-Montgomery\",\"Shaw-Brown\",\"Camacho PLC\",\"Sanchez, Solomon and Chapman\",\"Brown-Montgomery\",\"Cunningham-Hawkins\",\"Brooks, Ross and Suarez\",\"Flowers-Erickson\",\"Ali, Hamilton and Yates\",\"Aguirre, Morris and Tran\",\"Nolan-Stuart\",\"Walker-Grant\",\"Taylor, Huffman and Miller\",\"Vasquez, Roberts and Johnson\",\"Holland Ltd\",\"Moore and Sons\",\"Black-Hamilton\",\"Berry, Anderson and Hernandez\",\"Brewer-Morrow\",\"Curtis, Fischer and Mendez\",\"Harris-Rogers\",\"Williams Inc\",\"Perry, Smith and Smith\",\"Vincent-Greene\",\"Ritter-Reed\",\"Blake Ltd\",\"Lee-Johnson\",\"Morrison, Leonard and Hill\",\"Johnson, Mcconnell and May\",\"Adkins, Robertson and Lindsey\",\"Joyce, Bowman and Ramirez\",\"Lin LLC\",\"Henry-Brooks\",\"Williamson, Martinez and Contreras\",\"Mercer-Williams\",\"Delgado Ltd\",\"Webb Group\",\"White, Buck and Suarez\",\"Bradley, Miller and Evans\",\"Spencer-Payne\",\"Fisher Ltd\",\"Bishop, Simpson and Nash\",\"Morse, Bishop and Smith\",\"Young Inc\",\"Mcguire, Brooks and Stuart\",\"Robertson-Obrien\",\"Brooks-Schroeder\",\"Clements and Sons\",\"Carter-Wilson\",\"Evans-Shelton\",\"Byrd-Jones\",\"Collins-Becker\",\"Mendez, Watkins and Andrews\",\"Thompson-Chan\",\"Ramos and Sons\",\"Salas, Ritter and Riddle\",\"Weaver, Young and King\",\"Wilson Ltd\",\"Nielsen-Reed\",\"Mueller-Hall\",\"Turner LLC\",\"Vaughan-Perez\",\"Warren, Taylor and Cole\",\"Duffy-Mcmillan\",\"Santana-Brewer\",\"Bush and Sons\",\"Anderson-Burns\",\"Fuller-Walters\",\"Robertson, Frye and Frost\",\"Ramsey, Freeman and Hamilton\",\"Williams LLC\",\"Sampson-Kennedy\",\"Thompson-Porter\",\"Sherman-Massey\",\"Sanchez, Shaw and Acevedo\",\"Hurley-Bush\",\"Watson PLC\",\"Taylor Group\",\"Jackson LLC\",\"Wright LLC\",\"Cooper-Ross\",\"Malone Inc\",\"Henry-Duke\",\"Lindsey, Avila and Brown\",\"Cole-Davis\",\"Nunez-Smith\",\"Williams Group\",\"Russell-Alvarez\",\"Valdez-Fuller\",\"Williams, Carrillo and Rice\",\"Smith-Scott\",\"Smith Group\",\"Barrett, Figueroa and White\",\"Dennis-Sanchez\",\"Gonzalez, Coleman and Le\",\"Pope-Hensley\",\"Petty, Smith and Arnold\",\"Harris and Sons\",\"Jenkins, Phillips and Lopez\",\"Marquez Ltd\",\"Gonzales Group\",\"Lopez PLC\",\"Miller-Wolfe\",\"Douglas-Dalton\",\"Valencia-Boone\",\"Johnson, Harris and Strong\",\"Fritz-Tapia\",\"Grant, Cross and Bennett\",\"Walton-Larson\",\"Morales LLC\",\"Cole-Williams\",\"Evans, Clayton and Ross\",\"Moyer, Lee and Abbott\",\"Perkins-Long\",\"Fernandez-Fischer\",\"Kemp, Ingram and Olsen\",\"Smith-Barrett\",\"Stephens, Cox and Fisher\",\"Schneider, White and Thomas\",\"Dominguez-Franklin\",\"Bishop LLC\",\"Wolfe-Schroeder\",\"Wallace Ltd\",\"Sanchez PLC\",\"Mckay PLC\",\"Ortega Inc\",\"White-Berry\",\"Elliott, Green and Scott\",\"Maddox-Lewis\",\"Miller Ltd\",\"Arias-Mendoza\",\"King-Rocha\",\"Hester-Murphy\",\"Jones-Nguyen\",\"Thomas-Mason\",\"Jacobson-Collins\",\"Goodwin PLC\",\"Hanson, Barron and Castillo\",\"Rodriguez-Morales\",\"Hester, Lee and Kirby\",\"Gonzales Ltd\",\"Jordan-Bass\",\"Cox, Friedman and Martinez\",\"Calhoun Inc\",\"Daniels, Rojas and Pearson\",\"Thomas Ltd\",\"Sanchez PLC\",\"Miller Ltd\",\"Moran Inc\",\"Good, Davis and Smith\",\"Wheeler Ltd\",\"Garcia Ltd\",\"Williams-Thompson\",\"Williams Group\",\"Butler, Perkins and Arnold\",\"Hensley-Love\",\"Pace-Davis\",\"Fields, Christensen and Daniels\",\"Johnson, Scott and Kim\",\"Bullock LLC\",\"Cochran-Phillips\",\"Ochoa-Martin\",\"Wheeler LLC\",\"Miller, Campbell and Russell\",\"Lang-Bryant\",\"Conway-Estrada\",\"Delgado PLC\",\"Harper Ltd\",\"Gallagher-Parker\",\"Anderson-Valdez\",\"Williams Ltd\",\"Rodriguez-Dominguez\",\"Hoover Inc\",\"Morris Inc\",\"Sanchez PLC\",\"Hodge and Sons\",\"Patrick Inc\",\"Roberts, Lin and Davis\",\"Lee, Kemp and Warner\",\"Ford, Carpenter and Valdez\",\"May PLC\",\"Taylor Inc\",\"Hinton, Evans and Harrison\",\"Allen-Garza\",\"Henry-Frazier\",\"Anderson-Leach\",\"Phillips Group\",\"Guerra-Coleman\",\"Frank-Allen\",\"Wallace-Fleming\",\"Vasquez and Sons\",\"Martin Inc\",\"Durham-Lewis\",\"Harper Inc\",\"Manning-Floyd\",\"Kirby and Sons\",\"Padilla, Gibson and Ingram\",\"Smith, Davis and Gutierrez\",\"Miller-Jordan\",\"Clark-Henderson\",\"Myers, Wilcox and Beck\",\"Stokes-Mclean\",\"Dunn-Jackson\",\"Fox, Stevens and Bell\",\"Mitchell, Davidson and Summers\",\"Mason PLC\",\"Smith-Ramirez\",\"Mcdonald PLC\",\"Gill-Boyle\",\"Cooper, Ford and Heath\",\"Wagner, Martinez and Dorsey\",\"Robinson-Thompson\",\"Williams, Nichols and Oliver\",\"Parks PLC\",\"Williamson, Graham and Farrell\",\"Booker-Camacho\",\"Smith, Savage and Oneal\",\"Larsen-Russell\",\"Sanders, Jones and Keller\",\"Smith-Rodriguez\",\"Moore LLC\",\"Aguirre-Reed\",\"Friedman-Le\",\"Keller, Stevenson and Gonzalez\",\"Smith, Thompson and Vance\",\"Wilson, Torres and Rodriguez\",\"Ferrell Inc\",\"Evans-Allison\",\"Ruiz, Sullivan and Gates\",\"Wolfe PLC\",\"Miller and Sons\",\"Sanchez and Sons\",\"Gibson-Armstrong\",\"Horton, Sanchez and Mitchell\",\"Jones PLC\",\"Stevens-Ward\",\"Hawkins Group\",\"Patterson, Herman and Collins\",\"Huang, Nash and Wall\",\"Fuller-Torres\",\"Alvarado, Russell and Moreno\",\"Zhang, Bailey and Burnett\",\"Smith, Shelton and Anderson\",\"Mcdowell and Sons\",\"Gomez LLC\",\"Hayes-Johnson\",\"Torres, Howell and Gomez\",\"Campbell-Serrano\",\"Herrera-Alvarez\",\"Combs, Wise and Clark\",\"Hamilton-Garcia\",\"Haley, Price and Contreras\",\"Cochran-Black\",\"Austin Inc\",\"Reeves-Elliott\",\"Fowler-Martinez\",\"Hutchinson, Roberts and Mcbride\",\"Blanchard LLC\",\"May-Snyder\",\"Mayer, Moore and Murphy\",\"Allen-Mays\",\"Fox, Burgess and White\",\"Pugh-Knight\",\"Jordan and Sons\",\"Gallagher-Kirby\",\"Cortez Group\",\"Fernandez LLC\",\"Miranda LLC\",\"Johnston Ltd\",\"Steele, Fuller and Freeman\",\"Yoder PLC\",\"Bailey Ltd\",\"Olson LLC\",\"Scott PLC\",\"Martin Inc\",\"Morgan, Burns and Gregory\",\"Carroll, Brown and Bates\",\"Kramer-Cox\",\"Yang-Coleman\",\"Owens, Grimes and Patrick\",\"Ashley, Fields and Vazquez\",\"Mayer, Fisher and White\",\"Campbell PLC\",\"Hartman, Lopez and Riley\",\"Gilbert and Sons\",\"Alvarez, Martinez and Robertson\",\"Rivera and Sons\",\"Smith, Greene and Miller\",\"Martinez, Bond and Green\",\"Franco Ltd\",\"Rogers-Rodriguez\",\"Hartman-Rodriguez\",\"Smith Group\",\"Johnson-Andrews\",\"Castillo Inc\",\"Martinez PLC\",\"Smith and Sons\",\"Santiago, Yoder and Stevens\",\"Hicks and Sons\",\"Woods-Murphy\",\"Frey LLC\",\"Moore-Ingram\",\"Aguilar-Campos\",\"Rice-Hernandez\",\"Hernandez-Davis\",\"Anderson-Cruz\",\"Hill Inc\",\"Clark Ltd\",\"Johnson LLC\",\"Gomez-Morgan\",\"Padilla, Mitchell and Clark\",\"Horne PLC\",\"Garcia Group\",\"Boyd, Hines and Higgins\",\"Lopez, Mann and Sanchez\",\"Chapman, Martinez and Powers\",\"Morrison-Stanley\",\"Johnson-Fleming\",\"Robles-Williams\",\"Brooks Ltd\",\"Lang, Brown and Stone\",\"Atkinson, Moore and Nelson\",\"Kim, Maxwell and Moore\",\"Wallace LLC\"],\"x\":[1,2,3,4,5,6,7,8,9,10,11,12,13,14,15,16,17,18,19,20,21,22,23,24,25,26,27,28,29,30,31,32,33,34,35,36,37,38,39,40,41,42,43,44,45,46,47,48,49,50,51,52,53,54,55,56,57,58,59,60,61,62,63,64,65,66,67,68,69,70,71,72,73,74,75,76,77,78,79,80,81,82,83,84,85,86,87,88,89,90,91,92,93,94,95,96,97,98,99,100,101,102,103,104,105,106,107,108,109,110,111,112,113,114,115,116,117,118,119,120,121,122,123,124,125,126,127,128,129,130,131,132,133,134,135,136,137,138,139,140,141,142,143,144,145,146,147,148,149,150],\"y\":[426.56,1294.76,870.58,595.16,305.39,956.78,723.04,730.63,1418.24,573.22,335.83,463.44,1235.36,295.03,221.85,985.15,609.77,1408.39,1025.05,732.93,783.61,265.91,300.7,402.39,921.44,983.28,149.81,747.06,1343.65,1269.71,665.0,1137.5,757.33,1217.74,894.2,733.08,170.33,583.14,1223.95,773.02,141.32,610.7,1293.55,443.05,997.81,790.63,1352.48,400.8,1251.55,1134.19,619.85,571.36,433.44,1253.69,364.45,1345.42,1483.91,189.14,388.02,172.08,1141.24,318.31,189.44,1110.66,992.06,920.56,1062.8,1341.15,733.77,481.26,1034.38,780.0,826.54,681.33,601.41,774.79,973.62,1002.94,286.53,1285.42,318.26,688.29,537.73,269.43,1278.82,550.72,1114.73,943.28,1477.14,299.33,894.34,410.05,852.86,1045.12,518.31,763.9,756.49,1256.1,1184.54,987.65,1444.64,646.09,998.82,1118.72,1178.88,1236.37,287.36,903.7,490.28,501.28,530.13,1179.65,1042.66,1016.7,370.12,1354.53,281.55,992.14,967.71,901.21,455.29,1196.33,811.97,157.5,785.38,1466.37,882.11,1317.59,971.16,1384.31,454.88,281.69,1141.1,554.03,376.75,1148.23,1005.71,574.97,805.82,1297.7,1276.97,911.36,163.62,536.8,443.56,1458.6,1196.95,192.48,690.06,298.95],\"z\":[102789.36,9072.42,103732.2,55089.93,135494.8,75674.76,37316.7,59166.08,1877.76,13973.56,8665.92,38663.73,22969.48,27111.24,22836.78,17058.67,22882.8,44118.9,3751.67,74919.88,26851.35,122804.31,3591.25,33697.62,59727.13,45512.55,8035.56,8582.58,3301.35,72588.74,6875.5,14628.86,55075.02,65193.3,60854.66,62334.0,10271.2,96463.62,8217.44,28896.63,48936.55,58955.44,85958.04,93157.68,38925.12,39012.28,20333.88,31322.56,31085.22,55740.27,43773.17,19676.25,7070.76,65396.79,54995.76,31312.96,12619.62,8071.26,15952.8,4239.12,98242.2,101815.68,30138.74,65983.14,13230.08,32203.6,75330.45,99642.96,70985.66,11783.43,48570.64,22162.56,2752.54,15851.88,37407.44,24228.27,5805.43,54851.29,18304.87,16868.06,66512.57,13741.2,2620.83,92400.11,61818.67,19900.5,7388.25,69770.9,66427.94,12132.64,37661.8,53107.15,6729.44,84618.0,57134.35,59466.0,10472.85,25697.72,23249.54,21580.78,12646.8,12122.0,67369.44,93600.0,33021.82,26408.0,73214.04,50154.39,83112.48,25914.37,6550.83,50670.65,41129.4,6426.99,54432.0,16047.56,12448.36,58208.48,33347.28,12305.92,65534.62,115585.69,4784.6,35169.4,71119.0,28288.0,40211.82,102433.02,100943.96,64326.15,7375.83,39433.8,15373.26,6268.6,118596.04,34241.36,43858.3,2763.88,59485.2,68618.72,119864.64,21926.52,31578.18,33832.47,109351.08,6503.25,28002.8,95400.2,104232.48,31611.69],\"type\":\"scatter3d\"}],                        {\"margin\":{\"b\":0,\"l\":0,\"r\":0,\"t\":0},\"template\":{\"data\":{\"barpolar\":[{\"marker\":{\"line\":{\"color\":\"#E5ECF6\",\"width\":0.5},\"pattern\":{\"fillmode\":\"overlay\",\"size\":10,\"solidity\":0.2}},\"type\":\"barpolar\"}],\"bar\":[{\"error_x\":{\"color\":\"#2a3f5f\"},\"error_y\":{\"color\":\"#2a3f5f\"},\"marker\":{\"line\":{\"color\":\"#E5ECF6\",\"width\":0.5},\"pattern\":{\"fillmode\":\"overlay\",\"size\":10,\"solidity\":0.2}},\"type\":\"bar\"}],\"carpet\":[{\"aaxis\":{\"endlinecolor\":\"#2a3f5f\",\"gridcolor\":\"white\",\"linecolor\":\"white\",\"minorgridcolor\":\"white\",\"startlinecolor\":\"#2a3f5f\"},\"baxis\":{\"endlinecolor\":\"#2a3f5f\",\"gridcolor\":\"white\",\"linecolor\":\"white\",\"minorgridcolor\":\"white\",\"startlinecolor\":\"#2a3f5f\"},\"type\":\"carpet\"}],\"choropleth\":[{\"colorbar\":{\"outlinewidth\":0,\"ticks\":\"\"},\"type\":\"choropleth\"}],\"contourcarpet\":[{\"colorbar\":{\"outlinewidth\":0,\"ticks\":\"\"},\"type\":\"contourcarpet\"}],\"contour\":[{\"colorbar\":{\"outlinewidth\":0,\"ticks\":\"\"},\"colorscale\":[[0.0,\"#0d0887\"],[0.1111111111111111,\"#46039f\"],[0.2222222222222222,\"#7201a8\"],[0.3333333333333333,\"#9c179e\"],[0.4444444444444444,\"#bd3786\"],[0.5555555555555556,\"#d8576b\"],[0.6666666666666666,\"#ed7953\"],[0.7777777777777778,\"#fb9f3a\"],[0.8888888888888888,\"#fdca26\"],[1.0,\"#f0f921\"]],\"type\":\"contour\"}],\"heatmapgl\":[{\"colorbar\":{\"outlinewidth\":0,\"ticks\":\"\"},\"colorscale\":[[0.0,\"#0d0887\"],[0.1111111111111111,\"#46039f\"],[0.2222222222222222,\"#7201a8\"],[0.3333333333333333,\"#9c179e\"],[0.4444444444444444,\"#bd3786\"],[0.5555555555555556,\"#d8576b\"],[0.6666666666666666,\"#ed7953\"],[0.7777777777777778,\"#fb9f3a\"],[0.8888888888888888,\"#fdca26\"],[1.0,\"#f0f921\"]],\"type\":\"heatmapgl\"}],\"heatmap\":[{\"colorbar\":{\"outlinewidth\":0,\"ticks\":\"\"},\"colorscale\":[[0.0,\"#0d0887\"],[0.1111111111111111,\"#46039f\"],[0.2222222222222222,\"#7201a8\"],[0.3333333333333333,\"#9c179e\"],[0.4444444444444444,\"#bd3786\"],[0.5555555555555556,\"#d8576b\"],[0.6666666666666666,\"#ed7953\"],[0.7777777777777778,\"#fb9f3a\"],[0.8888888888888888,\"#fdca26\"],[1.0,\"#f0f921\"]],\"type\":\"heatmap\"}],\"histogram2dcontour\":[{\"colorbar\":{\"outlinewidth\":0,\"ticks\":\"\"},\"colorscale\":[[0.0,\"#0d0887\"],[0.1111111111111111,\"#46039f\"],[0.2222222222222222,\"#7201a8\"],[0.3333333333333333,\"#9c179e\"],[0.4444444444444444,\"#bd3786\"],[0.5555555555555556,\"#d8576b\"],[0.6666666666666666,\"#ed7953\"],[0.7777777777777778,\"#fb9f3a\"],[0.8888888888888888,\"#fdca26\"],[1.0,\"#f0f921\"]],\"type\":\"histogram2dcontour\"}],\"histogram2d\":[{\"colorbar\":{\"outlinewidth\":0,\"ticks\":\"\"},\"colorscale\":[[0.0,\"#0d0887\"],[0.1111111111111111,\"#46039f\"],[0.2222222222222222,\"#7201a8\"],[0.3333333333333333,\"#9c179e\"],[0.4444444444444444,\"#bd3786\"],[0.5555555555555556,\"#d8576b\"],[0.6666666666666666,\"#ed7953\"],[0.7777777777777778,\"#fb9f3a\"],[0.8888888888888888,\"#fdca26\"],[1.0,\"#f0f921\"]],\"type\":\"histogram2d\"}],\"histogram\":[{\"marker\":{\"pattern\":{\"fillmode\":\"overlay\",\"size\":10,\"solidity\":0.2}},\"type\":\"histogram\"}],\"mesh3d\":[{\"colorbar\":{\"outlinewidth\":0,\"ticks\":\"\"},\"type\":\"mesh3d\"}],\"parcoords\":[{\"line\":{\"colorbar\":{\"outlinewidth\":0,\"ticks\":\"\"}},\"type\":\"parcoords\"}],\"pie\":[{\"automargin\":true,\"type\":\"pie\"}],\"scatter3d\":[{\"line\":{\"colorbar\":{\"outlinewidth\":0,\"ticks\":\"\"}},\"marker\":{\"colorbar\":{\"outlinewidth\":0,\"ticks\":\"\"}},\"type\":\"scatter3d\"}],\"scattercarpet\":[{\"marker\":{\"colorbar\":{\"outlinewidth\":0,\"ticks\":\"\"}},\"type\":\"scattercarpet\"}],\"scattergeo\":[{\"marker\":{\"colorbar\":{\"outlinewidth\":0,\"ticks\":\"\"}},\"type\":\"scattergeo\"}],\"scattergl\":[{\"marker\":{\"colorbar\":{\"outlinewidth\":0,\"ticks\":\"\"}},\"type\":\"scattergl\"}],\"scattermapbox\":[{\"marker\":{\"colorbar\":{\"outlinewidth\":0,\"ticks\":\"\"}},\"type\":\"scattermapbox\"}],\"scatterpolargl\":[{\"marker\":{\"colorbar\":{\"outlinewidth\":0,\"ticks\":\"\"}},\"type\":\"scatterpolargl\"}],\"scatterpolar\":[{\"marker\":{\"colorbar\":{\"outlinewidth\":0,\"ticks\":\"\"}},\"type\":\"scatterpolar\"}],\"scatter\":[{\"fillpattern\":{\"fillmode\":\"overlay\",\"size\":10,\"solidity\":0.2},\"type\":\"scatter\"}],\"scatterternary\":[{\"marker\":{\"colorbar\":{\"outlinewidth\":0,\"ticks\":\"\"}},\"type\":\"scatterternary\"}],\"surface\":[{\"colorbar\":{\"outlinewidth\":0,\"ticks\":\"\"},\"colorscale\":[[0.0,\"#0d0887\"],[0.1111111111111111,\"#46039f\"],[0.2222222222222222,\"#7201a8\"],[0.3333333333333333,\"#9c179e\"],[0.4444444444444444,\"#bd3786\"],[0.5555555555555556,\"#d8576b\"],[0.6666666666666666,\"#ed7953\"],[0.7777777777777778,\"#fb9f3a\"],[0.8888888888888888,\"#fdca26\"],[1.0,\"#f0f921\"]],\"type\":\"surface\"}],\"table\":[{\"cells\":{\"fill\":{\"color\":\"#EBF0F8\"},\"line\":{\"color\":\"white\"}},\"header\":{\"fill\":{\"color\":\"#C8D4E3\"},\"line\":{\"color\":\"white\"}},\"type\":\"table\"}]},\"layout\":{\"annotationdefaults\":{\"arrowcolor\":\"#2a3f5f\",\"arrowhead\":0,\"arrowwidth\":1},\"autotypenumbers\":\"strict\",\"coloraxis\":{\"colorbar\":{\"outlinewidth\":0,\"ticks\":\"\"}},\"colorscale\":{\"diverging\":[[0,\"#8e0152\"],[0.1,\"#c51b7d\"],[0.2,\"#de77ae\"],[0.3,\"#f1b6da\"],[0.4,\"#fde0ef\"],[0.5,\"#f7f7f7\"],[0.6,\"#e6f5d0\"],[0.7,\"#b8e186\"],[0.8,\"#7fbc41\"],[0.9,\"#4d9221\"],[1,\"#276419\"]],\"sequential\":[[0.0,\"#0d0887\"],[0.1111111111111111,\"#46039f\"],[0.2222222222222222,\"#7201a8\"],[0.3333333333333333,\"#9c179e\"],[0.4444444444444444,\"#bd3786\"],[0.5555555555555556,\"#d8576b\"],[0.6666666666666666,\"#ed7953\"],[0.7777777777777778,\"#fb9f3a\"],[0.8888888888888888,\"#fdca26\"],[1.0,\"#f0f921\"]],\"sequentialminus\":[[0.0,\"#0d0887\"],[0.1111111111111111,\"#46039f\"],[0.2222222222222222,\"#7201a8\"],[0.3333333333333333,\"#9c179e\"],[0.4444444444444444,\"#bd3786\"],[0.5555555555555556,\"#d8576b\"],[0.6666666666666666,\"#ed7953\"],[0.7777777777777778,\"#fb9f3a\"],[0.8888888888888888,\"#fdca26\"],[1.0,\"#f0f921\"]]},\"colorway\":[\"#636efa\",\"#EF553B\",\"#00cc96\",\"#ab63fa\",\"#FFA15A\",\"#19d3f3\",\"#FF6692\",\"#B6E880\",\"#FF97FF\",\"#FECB52\"],\"font\":{\"color\":\"#2a3f5f\"},\"geo\":{\"bgcolor\":\"white\",\"lakecolor\":\"white\",\"landcolor\":\"#E5ECF6\",\"showlakes\":true,\"showland\":true,\"subunitcolor\":\"white\"},\"hoverlabel\":{\"align\":\"left\"},\"hovermode\":\"closest\",\"mapbox\":{\"style\":\"light\"},\"paper_bgcolor\":\"white\",\"plot_bgcolor\":\"#E5ECF6\",\"polar\":{\"angularaxis\":{\"gridcolor\":\"white\",\"linecolor\":\"white\",\"ticks\":\"\"},\"bgcolor\":\"#E5ECF6\",\"radialaxis\":{\"gridcolor\":\"white\",\"linecolor\":\"white\",\"ticks\":\"\"}},\"scene\":{\"xaxis\":{\"backgroundcolor\":\"#E5ECF6\",\"gridcolor\":\"white\",\"gridwidth\":2,\"linecolor\":\"white\",\"showbackground\":true,\"ticks\":\"\",\"zerolinecolor\":\"white\"},\"yaxis\":{\"backgroundcolor\":\"#E5ECF6\",\"gridcolor\":\"white\",\"gridwidth\":2,\"linecolor\":\"white\",\"showbackground\":true,\"ticks\":\"\",\"zerolinecolor\":\"white\"},\"zaxis\":{\"backgroundcolor\":\"#E5ECF6\",\"gridcolor\":\"white\",\"gridwidth\":2,\"linecolor\":\"white\",\"showbackground\":true,\"ticks\":\"\",\"zerolinecolor\":\"white\"}},\"shapedefaults\":{\"line\":{\"color\":\"#2a3f5f\"}},\"ternary\":{\"aaxis\":{\"gridcolor\":\"white\",\"linecolor\":\"white\",\"ticks\":\"\"},\"baxis\":{\"gridcolor\":\"white\",\"linecolor\":\"white\",\"ticks\":\"\"},\"bgcolor\":\"#E5ECF6\",\"caxis\":{\"gridcolor\":\"white\",\"linecolor\":\"white\",\"ticks\":\"\"}},\"title\":{\"x\":0.05},\"xaxis\":{\"automargin\":true,\"gridcolor\":\"white\",\"linecolor\":\"white\",\"ticks\":\"\",\"title\":{\"standoff\":15},\"zerolinecolor\":\"white\",\"zerolinewidth\":2},\"yaxis\":{\"automargin\":true,\"gridcolor\":\"white\",\"linecolor\":\"white\",\"ticks\":\"\",\"title\":{\"standoff\":15},\"zerolinecolor\":\"white\",\"zerolinewidth\":2}}}},                        {\"responsive\": true}                    ).then(function(){\n",
       "                            \n",
       "var gd = document.getElementById('85f4767d-b47c-41de-897e-72db0f9919be');\n",
       "var x = new MutationObserver(function (mutations, observer) {{\n",
       "        var display = window.getComputedStyle(gd).display;\n",
       "        if (!display || display === 'none') {{\n",
       "            console.log([gd, 'removed!']);\n",
       "            Plotly.purge(gd);\n",
       "            observer.disconnect();\n",
       "        }}\n",
       "}});\n",
       "\n",
       "// Listen for the removal of the full notebook cells\n",
       "var notebookContainer = gd.closest('#notebook-container');\n",
       "if (notebookContainer) {{\n",
       "    x.observe(notebookContainer, {childList: true});\n",
       "}}\n",
       "\n",
       "// Listen for the clearing of the current output cell\n",
       "var outputEl = gd.closest('.output');\n",
       "if (outputEl) {{\n",
       "    x.observe(outputEl, {childList: true});\n",
       "}}\n",
       "\n",
       "                        })                };                });            </script>        </div>"
      ]
     },
     "metadata": {},
     "output_type": "display_data"
    }
   ],
   "source": [
    "data_sorted2 = df.sort_values(by='UnitsSold', ascending=False)\n",
    "df_150 = data_sorted2.iloc[:150,:]\n",
    "df_150['CustomerAge'] = np.arange(1, len(df_150)+1)\n",
    "\n",
    "x, y, z = np.random.multivariate_normal(np.array([0,0,0]), np.eye(3), 150).transpose()\n",
    "trace1 = go.Scatter3d(\n",
    "    x = df_150.CustomerAge,\n",
    "    y=df_150.Price,\n",
    "    z=df_150.TotalRevenue,\n",
    "    mode='markers',\n",
    "    marker=dict(\n",
    "        size=12,\n",
    "        color=z,\n",
    "        colorscale='Viridis',\n",
    "        opacity=0.8\n",
    "    ),\n",
    "    text=df.Brand,)\n",
    "data = [trace1]\n",
    "layout = go.Layout(\n",
    "    margin=dict(\n",
    "        l=0,\n",
    "        r=0,\n",
    "        b=0,\n",
    "        t=0\n",
    "    ))\n",
    "fig = go.Figure(data=data, layout=layout)\n",
    "iplot(fig)"
   ]
  },
  {
   "cell_type": "code",
   "execution_count": 21,
   "id": "e012e7dc",
   "metadata": {},
   "outputs": [
    {
     "data": {
      "application/vnd.plotly.v1+json": {
       "config": {
        "linkText": "Export to plot.ly",
        "plotlyServerURL": "https://plot.ly",
        "showLink": false
       },
       "data": [
        {
         "mode": "markers",
         "name": "comments",
         "type": "scatter",
         "x": [
          426.56,
          1294.76,
          870.58,
          595.16,
          305.39,
          956.78,
          723.04,
          730.63,
          1418.24,
          573.22,
          335.83,
          463.44,
          1235.36,
          295.03,
          221.85,
          985.15,
          609.77,
          1408.39,
          1025.05,
          732.93,
          783.61,
          265.91,
          300.7,
          402.39,
          921.44,
          983.28,
          149.81,
          747.06,
          1343.65,
          1269.71,
          665,
          1137.5,
          757.33,
          1217.74,
          894.2,
          733.08,
          170.33,
          583.14,
          1223.95,
          773.02,
          141.32,
          610.7,
          1293.55,
          443.05,
          997.81,
          790.63,
          1352.48,
          400.8,
          1251.55,
          1134.19,
          619.85,
          571.36,
          433.44,
          1253.69,
          364.45,
          1345.42,
          1483.91,
          189.14,
          388.02,
          172.08,
          1141.24,
          318.31,
          189.44,
          1110.66,
          992.06,
          920.56,
          1062.8,
          1341.15,
          733.77,
          481.26,
          1034.38,
          780,
          826.54,
          681.33,
          601.41,
          774.79,
          973.62,
          1002.94,
          286.53,
          1285.42,
          318.26,
          688.29,
          537.73,
          269.43,
          1278.82,
          550.72,
          1114.73,
          943.28,
          1477.14,
          299.33,
          894.34,
          410.05,
          852.86,
          1045.12,
          518.31,
          763.9,
          756.49,
          1256.1,
          1184.54,
          987.65,
          1444.64,
          646.09,
          998.82,
          1118.72,
          1178.88,
          1236.37,
          287.36,
          903.7,
          490.28,
          501.28,
          530.13,
          1179.65,
          1042.66,
          1016.7,
          370.12,
          1354.53,
          281.55,
          992.14,
          967.71,
          901.21,
          455.29,
          1196.33,
          811.97,
          157.5,
          785.38,
          1466.37,
          882.11,
          1317.59,
          971.16,
          1384.31,
          454.88,
          281.69,
          1141.1,
          554.03,
          376.75,
          1148.23,
          1005.71,
          574.97,
          805.82,
          1297.7,
          1276.97,
          911.36,
          163.62,
          536.8,
          443.56,
          1458.6,
          1196.95,
          192.48,
          690.06,
          298.95
         ],
         "y": [
          99,
          99,
          99,
          99,
          99,
          99,
          99,
          99,
          99,
          99,
          98,
          98,
          98,
          98,
          98,
          98,
          98,
          97,
          97,
          97,
          97,
          97,
          97,
          97,
          97,
          96,
          96,
          96,
          96,
          96,
          96,
          96,
          96,
          96,
          95,
          95,
          95,
          95,
          95,
          95,
          95,
          95,
          95,
          95,
          95,
          95,
          95,
          95,
          95,
          95,
          95,
          95,
          94,
          94,
          94,
          94,
          94,
          94,
          94,
          94,
          94,
          94,
          93,
          93,
          93,
          93,
          93,
          93,
          93,
          93,
          93,
          92,
          92,
          92,
          92,
          92,
          92,
          92,
          91,
          91,
          91,
          91,
          91,
          91,
          91,
          91,
          91,
          91,
          90,
          90,
          90,
          90,
          90,
          90,
          90,
          90,
          90,
          90,
          89,
          89,
          89,
          89,
          89,
          89,
          89,
          89,
          89,
          89,
          89,
          89,
          89,
          89,
          88,
          88,
          88,
          88,
          88,
          88,
          88,
          88,
          88,
          87,
          87,
          87,
          87,
          86,
          86,
          86,
          86,
          86,
          86,
          85,
          85,
          85,
          85,
          85,
          85,
          85,
          85,
          85,
          85,
          85,
          85,
          85,
          85,
          85,
          85,
          85,
          84,
          84
         ]
        },
        {
         "mode": "markers",
         "name": "duration",
         "type": "scatter",
         "x": [
          426.56,
          1294.76,
          870.58,
          595.16,
          305.39,
          956.78,
          723.04,
          730.63,
          1418.24,
          573.22,
          335.83,
          463.44,
          1235.36,
          295.03,
          221.85,
          985.15,
          609.77,
          1408.39,
          1025.05,
          732.93,
          783.61,
          265.91,
          300.7,
          402.39,
          921.44,
          983.28,
          149.81,
          747.06,
          1343.65,
          1269.71,
          665,
          1137.5,
          757.33,
          1217.74,
          894.2,
          733.08,
          170.33,
          583.14,
          1223.95,
          773.02,
          141.32,
          610.7,
          1293.55,
          443.05,
          997.81,
          790.63,
          1352.48,
          400.8,
          1251.55,
          1134.19,
          619.85,
          571.36,
          433.44,
          1253.69,
          364.45,
          1345.42,
          1483.91,
          189.14,
          388.02,
          172.08,
          1141.24,
          318.31,
          189.44,
          1110.66,
          992.06,
          920.56,
          1062.8,
          1341.15,
          733.77,
          481.26,
          1034.38,
          780,
          826.54,
          681.33,
          601.41,
          774.79,
          973.62,
          1002.94,
          286.53,
          1285.42,
          318.26,
          688.29,
          537.73,
          269.43,
          1278.82,
          550.72,
          1114.73,
          943.28,
          1477.14,
          299.33,
          894.34,
          410.05,
          852.86,
          1045.12,
          518.31,
          763.9,
          756.49,
          1256.1,
          1184.54,
          987.65,
          1444.64,
          646.09,
          998.82,
          1118.72,
          1178.88,
          1236.37,
          287.36,
          903.7,
          490.28,
          501.28,
          530.13,
          1179.65,
          1042.66,
          1016.7,
          370.12,
          1354.53,
          281.55,
          992.14,
          967.71,
          901.21,
          455.29,
          1196.33,
          811.97,
          157.5,
          785.38,
          1466.37,
          882.11,
          1317.59,
          971.16,
          1384.31,
          454.88,
          281.69,
          1141.1,
          554.03,
          376.75,
          1148.23,
          1005.71,
          574.97,
          805.82,
          1297.7,
          1276.97,
          911.36,
          163.62,
          536.8,
          443.56,
          1458.6,
          1196.95,
          192.48,
          690.06,
          298.95
         ],
         "y": [
          102789.36,
          9072.42,
          103732.2,
          55089.93,
          135494.8,
          75674.76,
          37316.7,
          59166.08,
          1877.76,
          13973.56,
          8665.92,
          38663.73,
          22969.48,
          27111.24,
          22836.78,
          17058.67,
          22882.8,
          44118.9,
          3751.67,
          74919.88,
          26851.35,
          122804.31,
          3591.25,
          33697.62,
          59727.13,
          45512.55,
          8035.56,
          8582.58,
          3301.35,
          72588.74,
          6875.5,
          14628.86,
          55075.02,
          65193.3,
          60854.66,
          62334,
          10271.2,
          96463.62,
          8217.44,
          28896.63,
          48936.55,
          58955.44,
          85958.04,
          93157.68,
          38925.12,
          39012.28,
          20333.88,
          31322.56,
          31085.22,
          55740.27,
          43773.17,
          19676.25,
          7070.76,
          65396.79,
          54995.76,
          31312.96,
          12619.62,
          8071.26,
          15952.8,
          4239.12,
          98242.2,
          101815.68,
          30138.74,
          65983.14,
          13230.08,
          32203.6,
          75330.45,
          99642.96,
          70985.66,
          11783.43,
          48570.64,
          22162.56,
          2752.54,
          15851.88,
          37407.44,
          24228.27,
          5805.43,
          54851.29,
          18304.87,
          16868.06,
          66512.57,
          13741.2,
          2620.83,
          92400.11,
          61818.67,
          19900.5,
          7388.25,
          69770.9,
          66427.94,
          12132.64,
          37661.8,
          53107.15,
          6729.44,
          84618,
          57134.35,
          59466,
          10472.85,
          25697.72,
          23249.54,
          21580.78,
          12646.8,
          12122,
          67369.44,
          93600,
          33021.82,
          26408,
          73214.04,
          50154.39,
          83112.48,
          25914.37,
          6550.83,
          50670.65,
          41129.4,
          6426.99,
          54432,
          16047.56,
          12448.36,
          58208.48,
          33347.28,
          12305.92,
          65534.62,
          115585.69,
          4784.6,
          35169.4,
          71119,
          28288,
          40211.82,
          102433.02,
          100943.96,
          64326.15,
          7375.83,
          39433.8,
          15373.26,
          6268.6,
          118596.04,
          34241.36,
          43858.3,
          2763.88,
          59485.2,
          68618.72,
          119864.64,
          21926.52,
          31578.18,
          33832.47,
          109351.08,
          6503.25,
          28002.8,
          95400.2,
          104232.48,
          31611.69
         ]
        }
       ],
       "layout": {
        "template": {
         "data": {
          "bar": [
           {
            "error_x": {
             "color": "#2a3f5f"
            },
            "error_y": {
             "color": "#2a3f5f"
            },
            "marker": {
             "line": {
              "color": "#E5ECF6",
              "width": 0.5
             },
             "pattern": {
              "fillmode": "overlay",
              "size": 10,
              "solidity": 0.2
             }
            },
            "type": "bar"
           }
          ],
          "barpolar": [
           {
            "marker": {
             "line": {
              "color": "#E5ECF6",
              "width": 0.5
             },
             "pattern": {
              "fillmode": "overlay",
              "size": 10,
              "solidity": 0.2
             }
            },
            "type": "barpolar"
           }
          ],
          "carpet": [
           {
            "aaxis": {
             "endlinecolor": "#2a3f5f",
             "gridcolor": "white",
             "linecolor": "white",
             "minorgridcolor": "white",
             "startlinecolor": "#2a3f5f"
            },
            "baxis": {
             "endlinecolor": "#2a3f5f",
             "gridcolor": "white",
             "linecolor": "white",
             "minorgridcolor": "white",
             "startlinecolor": "#2a3f5f"
            },
            "type": "carpet"
           }
          ],
          "choropleth": [
           {
            "colorbar": {
             "outlinewidth": 0,
             "ticks": ""
            },
            "type": "choropleth"
           }
          ],
          "contour": [
           {
            "colorbar": {
             "outlinewidth": 0,
             "ticks": ""
            },
            "colorscale": [
             [
              0,
              "#0d0887"
             ],
             [
              0.1111111111111111,
              "#46039f"
             ],
             [
              0.2222222222222222,
              "#7201a8"
             ],
             [
              0.3333333333333333,
              "#9c179e"
             ],
             [
              0.4444444444444444,
              "#bd3786"
             ],
             [
              0.5555555555555556,
              "#d8576b"
             ],
             [
              0.6666666666666666,
              "#ed7953"
             ],
             [
              0.7777777777777778,
              "#fb9f3a"
             ],
             [
              0.8888888888888888,
              "#fdca26"
             ],
             [
              1,
              "#f0f921"
             ]
            ],
            "type": "contour"
           }
          ],
          "contourcarpet": [
           {
            "colorbar": {
             "outlinewidth": 0,
             "ticks": ""
            },
            "type": "contourcarpet"
           }
          ],
          "heatmap": [
           {
            "colorbar": {
             "outlinewidth": 0,
             "ticks": ""
            },
            "colorscale": [
             [
              0,
              "#0d0887"
             ],
             [
              0.1111111111111111,
              "#46039f"
             ],
             [
              0.2222222222222222,
              "#7201a8"
             ],
             [
              0.3333333333333333,
              "#9c179e"
             ],
             [
              0.4444444444444444,
              "#bd3786"
             ],
             [
              0.5555555555555556,
              "#d8576b"
             ],
             [
              0.6666666666666666,
              "#ed7953"
             ],
             [
              0.7777777777777778,
              "#fb9f3a"
             ],
             [
              0.8888888888888888,
              "#fdca26"
             ],
             [
              1,
              "#f0f921"
             ]
            ],
            "type": "heatmap"
           }
          ],
          "heatmapgl": [
           {
            "colorbar": {
             "outlinewidth": 0,
             "ticks": ""
            },
            "colorscale": [
             [
              0,
              "#0d0887"
             ],
             [
              0.1111111111111111,
              "#46039f"
             ],
             [
              0.2222222222222222,
              "#7201a8"
             ],
             [
              0.3333333333333333,
              "#9c179e"
             ],
             [
              0.4444444444444444,
              "#bd3786"
             ],
             [
              0.5555555555555556,
              "#d8576b"
             ],
             [
              0.6666666666666666,
              "#ed7953"
             ],
             [
              0.7777777777777778,
              "#fb9f3a"
             ],
             [
              0.8888888888888888,
              "#fdca26"
             ],
             [
              1,
              "#f0f921"
             ]
            ],
            "type": "heatmapgl"
           }
          ],
          "histogram": [
           {
            "marker": {
             "pattern": {
              "fillmode": "overlay",
              "size": 10,
              "solidity": 0.2
             }
            },
            "type": "histogram"
           }
          ],
          "histogram2d": [
           {
            "colorbar": {
             "outlinewidth": 0,
             "ticks": ""
            },
            "colorscale": [
             [
              0,
              "#0d0887"
             ],
             [
              0.1111111111111111,
              "#46039f"
             ],
             [
              0.2222222222222222,
              "#7201a8"
             ],
             [
              0.3333333333333333,
              "#9c179e"
             ],
             [
              0.4444444444444444,
              "#bd3786"
             ],
             [
              0.5555555555555556,
              "#d8576b"
             ],
             [
              0.6666666666666666,
              "#ed7953"
             ],
             [
              0.7777777777777778,
              "#fb9f3a"
             ],
             [
              0.8888888888888888,
              "#fdca26"
             ],
             [
              1,
              "#f0f921"
             ]
            ],
            "type": "histogram2d"
           }
          ],
          "histogram2dcontour": [
           {
            "colorbar": {
             "outlinewidth": 0,
             "ticks": ""
            },
            "colorscale": [
             [
              0,
              "#0d0887"
             ],
             [
              0.1111111111111111,
              "#46039f"
             ],
             [
              0.2222222222222222,
              "#7201a8"
             ],
             [
              0.3333333333333333,
              "#9c179e"
             ],
             [
              0.4444444444444444,
              "#bd3786"
             ],
             [
              0.5555555555555556,
              "#d8576b"
             ],
             [
              0.6666666666666666,
              "#ed7953"
             ],
             [
              0.7777777777777778,
              "#fb9f3a"
             ],
             [
              0.8888888888888888,
              "#fdca26"
             ],
             [
              1,
              "#f0f921"
             ]
            ],
            "type": "histogram2dcontour"
           }
          ],
          "mesh3d": [
           {
            "colorbar": {
             "outlinewidth": 0,
             "ticks": ""
            },
            "type": "mesh3d"
           }
          ],
          "parcoords": [
           {
            "line": {
             "colorbar": {
              "outlinewidth": 0,
              "ticks": ""
             }
            },
            "type": "parcoords"
           }
          ],
          "pie": [
           {
            "automargin": true,
            "type": "pie"
           }
          ],
          "scatter": [
           {
            "fillpattern": {
             "fillmode": "overlay",
             "size": 10,
             "solidity": 0.2
            },
            "type": "scatter"
           }
          ],
          "scatter3d": [
           {
            "line": {
             "colorbar": {
              "outlinewidth": 0,
              "ticks": ""
             }
            },
            "marker": {
             "colorbar": {
              "outlinewidth": 0,
              "ticks": ""
             }
            },
            "type": "scatter3d"
           }
          ],
          "scattercarpet": [
           {
            "marker": {
             "colorbar": {
              "outlinewidth": 0,
              "ticks": ""
             }
            },
            "type": "scattercarpet"
           }
          ],
          "scattergeo": [
           {
            "marker": {
             "colorbar": {
              "outlinewidth": 0,
              "ticks": ""
             }
            },
            "type": "scattergeo"
           }
          ],
          "scattergl": [
           {
            "marker": {
             "colorbar": {
              "outlinewidth": 0,
              "ticks": ""
             }
            },
            "type": "scattergl"
           }
          ],
          "scattermapbox": [
           {
            "marker": {
             "colorbar": {
              "outlinewidth": 0,
              "ticks": ""
             }
            },
            "type": "scattermapbox"
           }
          ],
          "scatterpolar": [
           {
            "marker": {
             "colorbar": {
              "outlinewidth": 0,
              "ticks": ""
             }
            },
            "type": "scatterpolar"
           }
          ],
          "scatterpolargl": [
           {
            "marker": {
             "colorbar": {
              "outlinewidth": 0,
              "ticks": ""
             }
            },
            "type": "scatterpolargl"
           }
          ],
          "scatterternary": [
           {
            "marker": {
             "colorbar": {
              "outlinewidth": 0,
              "ticks": ""
             }
            },
            "type": "scatterternary"
           }
          ],
          "surface": [
           {
            "colorbar": {
             "outlinewidth": 0,
             "ticks": ""
            },
            "colorscale": [
             [
              0,
              "#0d0887"
             ],
             [
              0.1111111111111111,
              "#46039f"
             ],
             [
              0.2222222222222222,
              "#7201a8"
             ],
             [
              0.3333333333333333,
              "#9c179e"
             ],
             [
              0.4444444444444444,
              "#bd3786"
             ],
             [
              0.5555555555555556,
              "#d8576b"
             ],
             [
              0.6666666666666666,
              "#ed7953"
             ],
             [
              0.7777777777777778,
              "#fb9f3a"
             ],
             [
              0.8888888888888888,
              "#fdca26"
             ],
             [
              1,
              "#f0f921"
             ]
            ],
            "type": "surface"
           }
          ],
          "table": [
           {
            "cells": {
             "fill": {
              "color": "#EBF0F8"
             },
             "line": {
              "color": "white"
             }
            },
            "header": {
             "fill": {
              "color": "#C8D4E3"
             },
             "line": {
              "color": "white"
             }
            },
            "type": "table"
           }
          ]
         },
         "layout": {
          "annotationdefaults": {
           "arrowcolor": "#2a3f5f",
           "arrowhead": 0,
           "arrowwidth": 1
          },
          "autotypenumbers": "strict",
          "coloraxis": {
           "colorbar": {
            "outlinewidth": 0,
            "ticks": ""
           }
          },
          "colorscale": {
           "diverging": [
            [
             0,
             "#8e0152"
            ],
            [
             0.1,
             "#c51b7d"
            ],
            [
             0.2,
             "#de77ae"
            ],
            [
             0.3,
             "#f1b6da"
            ],
            [
             0.4,
             "#fde0ef"
            ],
            [
             0.5,
             "#f7f7f7"
            ],
            [
             0.6,
             "#e6f5d0"
            ],
            [
             0.7,
             "#b8e186"
            ],
            [
             0.8,
             "#7fbc41"
            ],
            [
             0.9,
             "#4d9221"
            ],
            [
             1,
             "#276419"
            ]
           ],
           "sequential": [
            [
             0,
             "#0d0887"
            ],
            [
             0.1111111111111111,
             "#46039f"
            ],
            [
             0.2222222222222222,
             "#7201a8"
            ],
            [
             0.3333333333333333,
             "#9c179e"
            ],
            [
             0.4444444444444444,
             "#bd3786"
            ],
            [
             0.5555555555555556,
             "#d8576b"
            ],
            [
             0.6666666666666666,
             "#ed7953"
            ],
            [
             0.7777777777777778,
             "#fb9f3a"
            ],
            [
             0.8888888888888888,
             "#fdca26"
            ],
            [
             1,
             "#f0f921"
            ]
           ],
           "sequentialminus": [
            [
             0,
             "#0d0887"
            ],
            [
             0.1111111111111111,
             "#46039f"
            ],
            [
             0.2222222222222222,
             "#7201a8"
            ],
            [
             0.3333333333333333,
             "#9c179e"
            ],
            [
             0.4444444444444444,
             "#bd3786"
            ],
            [
             0.5555555555555556,
             "#d8576b"
            ],
            [
             0.6666666666666666,
             "#ed7953"
            ],
            [
             0.7777777777777778,
             "#fb9f3a"
            ],
            [
             0.8888888888888888,
             "#fdca26"
            ],
            [
             1,
             "#f0f921"
            ]
           ]
          },
          "colorway": [
           "#636efa",
           "#EF553B",
           "#00cc96",
           "#ab63fa",
           "#FFA15A",
           "#19d3f3",
           "#FF6692",
           "#B6E880",
           "#FF97FF",
           "#FECB52"
          ],
          "font": {
           "color": "#2a3f5f"
          },
          "geo": {
           "bgcolor": "white",
           "lakecolor": "white",
           "landcolor": "#E5ECF6",
           "showlakes": true,
           "showland": true,
           "subunitcolor": "white"
          },
          "hoverlabel": {
           "align": "left"
          },
          "hovermode": "closest",
          "mapbox": {
           "style": "light"
          },
          "paper_bgcolor": "white",
          "plot_bgcolor": "#E5ECF6",
          "polar": {
           "angularaxis": {
            "gridcolor": "white",
            "linecolor": "white",
            "ticks": ""
           },
           "bgcolor": "#E5ECF6",
           "radialaxis": {
            "gridcolor": "white",
            "linecolor": "white",
            "ticks": ""
           }
          },
          "scene": {
           "xaxis": {
            "backgroundcolor": "#E5ECF6",
            "gridcolor": "white",
            "gridwidth": 2,
            "linecolor": "white",
            "showbackground": true,
            "ticks": "",
            "zerolinecolor": "white"
           },
           "yaxis": {
            "backgroundcolor": "#E5ECF6",
            "gridcolor": "white",
            "gridwidth": 2,
            "linecolor": "white",
            "showbackground": true,
            "ticks": "",
            "zerolinecolor": "white"
           },
           "zaxis": {
            "backgroundcolor": "#E5ECF6",
            "gridcolor": "white",
            "gridwidth": 2,
            "linecolor": "white",
            "showbackground": true,
            "ticks": "",
            "zerolinecolor": "white"
           }
          },
          "shapedefaults": {
           "line": {
            "color": "#2a3f5f"
           }
          },
          "ternary": {
           "aaxis": {
            "gridcolor": "white",
            "linecolor": "white",
            "ticks": ""
           },
           "baxis": {
            "gridcolor": "white",
            "linecolor": "white",
            "ticks": ""
           },
           "bgcolor": "#E5ECF6",
           "caxis": {
            "gridcolor": "white",
            "linecolor": "white",
            "ticks": ""
           }
          },
          "title": {
           "x": 0.05
          },
          "xaxis": {
           "automargin": true,
           "gridcolor": "white",
           "linecolor": "white",
           "ticks": "",
           "title": {
            "standoff": 15
           },
           "zerolinecolor": "white",
           "zerolinewidth": 2
          },
          "yaxis": {
           "automargin": true,
           "gridcolor": "white",
           "linecolor": "white",
           "ticks": "",
           "title": {
            "standoff": 15
           },
           "zerolinecolor": "white",
           "zerolinewidth": 2
          }
         }
        }
       }
      },
      "text/html": [
       "<div>                            <div id=\"70a61e99-b80b-4f41-97cc-709a466b64d0\" class=\"plotly-graph-div\" style=\"height:525px; width:100%;\"></div>            <script type=\"text/javascript\">                require([\"plotly\"], function(Plotly) {                    window.PLOTLYENV=window.PLOTLYENV || {};                                    if (document.getElementById(\"70a61e99-b80b-4f41-97cc-709a466b64d0\")) {                    Plotly.newPlot(                        \"70a61e99-b80b-4f41-97cc-709a466b64d0\",                        [{\"mode\":\"markers\",\"name\":\"comments\",\"x\":[426.56,1294.76,870.58,595.16,305.39,956.78,723.04,730.63,1418.24,573.22,335.83,463.44,1235.36,295.03,221.85,985.15,609.77,1408.39,1025.05,732.93,783.61,265.91,300.7,402.39,921.44,983.28,149.81,747.06,1343.65,1269.71,665.0,1137.5,757.33,1217.74,894.2,733.08,170.33,583.14,1223.95,773.02,141.32,610.7,1293.55,443.05,997.81,790.63,1352.48,400.8,1251.55,1134.19,619.85,571.36,433.44,1253.69,364.45,1345.42,1483.91,189.14,388.02,172.08,1141.24,318.31,189.44,1110.66,992.06,920.56,1062.8,1341.15,733.77,481.26,1034.38,780.0,826.54,681.33,601.41,774.79,973.62,1002.94,286.53,1285.42,318.26,688.29,537.73,269.43,1278.82,550.72,1114.73,943.28,1477.14,299.33,894.34,410.05,852.86,1045.12,518.31,763.9,756.49,1256.1,1184.54,987.65,1444.64,646.09,998.82,1118.72,1178.88,1236.37,287.36,903.7,490.28,501.28,530.13,1179.65,1042.66,1016.7,370.12,1354.53,281.55,992.14,967.71,901.21,455.29,1196.33,811.97,157.5,785.38,1466.37,882.11,1317.59,971.16,1384.31,454.88,281.69,1141.1,554.03,376.75,1148.23,1005.71,574.97,805.82,1297.7,1276.97,911.36,163.62,536.8,443.56,1458.6,1196.95,192.48,690.06,298.95],\"y\":[99,99,99,99,99,99,99,99,99,99,98,98,98,98,98,98,98,97,97,97,97,97,97,97,97,96,96,96,96,96,96,96,96,96,95,95,95,95,95,95,95,95,95,95,95,95,95,95,95,95,95,95,94,94,94,94,94,94,94,94,94,94,93,93,93,93,93,93,93,93,93,92,92,92,92,92,92,92,91,91,91,91,91,91,91,91,91,91,90,90,90,90,90,90,90,90,90,90,89,89,89,89,89,89,89,89,89,89,89,89,89,89,88,88,88,88,88,88,88,88,88,87,87,87,87,86,86,86,86,86,86,85,85,85,85,85,85,85,85,85,85,85,85,85,85,85,85,85,84,84],\"type\":\"scatter\"},{\"mode\":\"markers\",\"name\":\"duration\",\"x\":[426.56,1294.76,870.58,595.16,305.39,956.78,723.04,730.63,1418.24,573.22,335.83,463.44,1235.36,295.03,221.85,985.15,609.77,1408.39,1025.05,732.93,783.61,265.91,300.7,402.39,921.44,983.28,149.81,747.06,1343.65,1269.71,665.0,1137.5,757.33,1217.74,894.2,733.08,170.33,583.14,1223.95,773.02,141.32,610.7,1293.55,443.05,997.81,790.63,1352.48,400.8,1251.55,1134.19,619.85,571.36,433.44,1253.69,364.45,1345.42,1483.91,189.14,388.02,172.08,1141.24,318.31,189.44,1110.66,992.06,920.56,1062.8,1341.15,733.77,481.26,1034.38,780.0,826.54,681.33,601.41,774.79,973.62,1002.94,286.53,1285.42,318.26,688.29,537.73,269.43,1278.82,550.72,1114.73,943.28,1477.14,299.33,894.34,410.05,852.86,1045.12,518.31,763.9,756.49,1256.1,1184.54,987.65,1444.64,646.09,998.82,1118.72,1178.88,1236.37,287.36,903.7,490.28,501.28,530.13,1179.65,1042.66,1016.7,370.12,1354.53,281.55,992.14,967.71,901.21,455.29,1196.33,811.97,157.5,785.38,1466.37,882.11,1317.59,971.16,1384.31,454.88,281.69,1141.1,554.03,376.75,1148.23,1005.71,574.97,805.82,1297.7,1276.97,911.36,163.62,536.8,443.56,1458.6,1196.95,192.48,690.06,298.95],\"y\":[102789.36,9072.42,103732.2,55089.93,135494.8,75674.76,37316.7,59166.08,1877.76,13973.56,8665.92,38663.73,22969.48,27111.24,22836.78,17058.67,22882.8,44118.9,3751.67,74919.88,26851.35,122804.31,3591.25,33697.62,59727.13,45512.55,8035.56,8582.58,3301.35,72588.74,6875.5,14628.86,55075.02,65193.3,60854.66,62334.0,10271.2,96463.62,8217.44,28896.63,48936.55,58955.44,85958.04,93157.68,38925.12,39012.28,20333.88,31322.56,31085.22,55740.27,43773.17,19676.25,7070.76,65396.79,54995.76,31312.96,12619.62,8071.26,15952.8,4239.12,98242.2,101815.68,30138.74,65983.14,13230.08,32203.6,75330.45,99642.96,70985.66,11783.43,48570.64,22162.56,2752.54,15851.88,37407.44,24228.27,5805.43,54851.29,18304.87,16868.06,66512.57,13741.2,2620.83,92400.11,61818.67,19900.5,7388.25,69770.9,66427.94,12132.64,37661.8,53107.15,6729.44,84618.0,57134.35,59466.0,10472.85,25697.72,23249.54,21580.78,12646.8,12122.0,67369.44,93600.0,33021.82,26408.0,73214.04,50154.39,83112.48,25914.37,6550.83,50670.65,41129.4,6426.99,54432.0,16047.56,12448.36,58208.48,33347.28,12305.92,65534.62,115585.69,4784.6,35169.4,71119.0,28288.0,40211.82,102433.02,100943.96,64326.15,7375.83,39433.8,15373.26,6268.6,118596.04,34241.36,43858.3,2763.88,59485.2,68618.72,119864.64,21926.52,31578.18,33832.47,109351.08,6503.25,28002.8,95400.2,104232.48,31611.69],\"type\":\"scatter\"}],                        {\"template\":{\"data\":{\"barpolar\":[{\"marker\":{\"line\":{\"color\":\"#E5ECF6\",\"width\":0.5},\"pattern\":{\"fillmode\":\"overlay\",\"size\":10,\"solidity\":0.2}},\"type\":\"barpolar\"}],\"bar\":[{\"error_x\":{\"color\":\"#2a3f5f\"},\"error_y\":{\"color\":\"#2a3f5f\"},\"marker\":{\"line\":{\"color\":\"#E5ECF6\",\"width\":0.5},\"pattern\":{\"fillmode\":\"overlay\",\"size\":10,\"solidity\":0.2}},\"type\":\"bar\"}],\"carpet\":[{\"aaxis\":{\"endlinecolor\":\"#2a3f5f\",\"gridcolor\":\"white\",\"linecolor\":\"white\",\"minorgridcolor\":\"white\",\"startlinecolor\":\"#2a3f5f\"},\"baxis\":{\"endlinecolor\":\"#2a3f5f\",\"gridcolor\":\"white\",\"linecolor\":\"white\",\"minorgridcolor\":\"white\",\"startlinecolor\":\"#2a3f5f\"},\"type\":\"carpet\"}],\"choropleth\":[{\"colorbar\":{\"outlinewidth\":0,\"ticks\":\"\"},\"type\":\"choropleth\"}],\"contourcarpet\":[{\"colorbar\":{\"outlinewidth\":0,\"ticks\":\"\"},\"type\":\"contourcarpet\"}],\"contour\":[{\"colorbar\":{\"outlinewidth\":0,\"ticks\":\"\"},\"colorscale\":[[0.0,\"#0d0887\"],[0.1111111111111111,\"#46039f\"],[0.2222222222222222,\"#7201a8\"],[0.3333333333333333,\"#9c179e\"],[0.4444444444444444,\"#bd3786\"],[0.5555555555555556,\"#d8576b\"],[0.6666666666666666,\"#ed7953\"],[0.7777777777777778,\"#fb9f3a\"],[0.8888888888888888,\"#fdca26\"],[1.0,\"#f0f921\"]],\"type\":\"contour\"}],\"heatmapgl\":[{\"colorbar\":{\"outlinewidth\":0,\"ticks\":\"\"},\"colorscale\":[[0.0,\"#0d0887\"],[0.1111111111111111,\"#46039f\"],[0.2222222222222222,\"#7201a8\"],[0.3333333333333333,\"#9c179e\"],[0.4444444444444444,\"#bd3786\"],[0.5555555555555556,\"#d8576b\"],[0.6666666666666666,\"#ed7953\"],[0.7777777777777778,\"#fb9f3a\"],[0.8888888888888888,\"#fdca26\"],[1.0,\"#f0f921\"]],\"type\":\"heatmapgl\"}],\"heatmap\":[{\"colorbar\":{\"outlinewidth\":0,\"ticks\":\"\"},\"colorscale\":[[0.0,\"#0d0887\"],[0.1111111111111111,\"#46039f\"],[0.2222222222222222,\"#7201a8\"],[0.3333333333333333,\"#9c179e\"],[0.4444444444444444,\"#bd3786\"],[0.5555555555555556,\"#d8576b\"],[0.6666666666666666,\"#ed7953\"],[0.7777777777777778,\"#fb9f3a\"],[0.8888888888888888,\"#fdca26\"],[1.0,\"#f0f921\"]],\"type\":\"heatmap\"}],\"histogram2dcontour\":[{\"colorbar\":{\"outlinewidth\":0,\"ticks\":\"\"},\"colorscale\":[[0.0,\"#0d0887\"],[0.1111111111111111,\"#46039f\"],[0.2222222222222222,\"#7201a8\"],[0.3333333333333333,\"#9c179e\"],[0.4444444444444444,\"#bd3786\"],[0.5555555555555556,\"#d8576b\"],[0.6666666666666666,\"#ed7953\"],[0.7777777777777778,\"#fb9f3a\"],[0.8888888888888888,\"#fdca26\"],[1.0,\"#f0f921\"]],\"type\":\"histogram2dcontour\"}],\"histogram2d\":[{\"colorbar\":{\"outlinewidth\":0,\"ticks\":\"\"},\"colorscale\":[[0.0,\"#0d0887\"],[0.1111111111111111,\"#46039f\"],[0.2222222222222222,\"#7201a8\"],[0.3333333333333333,\"#9c179e\"],[0.4444444444444444,\"#bd3786\"],[0.5555555555555556,\"#d8576b\"],[0.6666666666666666,\"#ed7953\"],[0.7777777777777778,\"#fb9f3a\"],[0.8888888888888888,\"#fdca26\"],[1.0,\"#f0f921\"]],\"type\":\"histogram2d\"}],\"histogram\":[{\"marker\":{\"pattern\":{\"fillmode\":\"overlay\",\"size\":10,\"solidity\":0.2}},\"type\":\"histogram\"}],\"mesh3d\":[{\"colorbar\":{\"outlinewidth\":0,\"ticks\":\"\"},\"type\":\"mesh3d\"}],\"parcoords\":[{\"line\":{\"colorbar\":{\"outlinewidth\":0,\"ticks\":\"\"}},\"type\":\"parcoords\"}],\"pie\":[{\"automargin\":true,\"type\":\"pie\"}],\"scatter3d\":[{\"line\":{\"colorbar\":{\"outlinewidth\":0,\"ticks\":\"\"}},\"marker\":{\"colorbar\":{\"outlinewidth\":0,\"ticks\":\"\"}},\"type\":\"scatter3d\"}],\"scattercarpet\":[{\"marker\":{\"colorbar\":{\"outlinewidth\":0,\"ticks\":\"\"}},\"type\":\"scattercarpet\"}],\"scattergeo\":[{\"marker\":{\"colorbar\":{\"outlinewidth\":0,\"ticks\":\"\"}},\"type\":\"scattergeo\"}],\"scattergl\":[{\"marker\":{\"colorbar\":{\"outlinewidth\":0,\"ticks\":\"\"}},\"type\":\"scattergl\"}],\"scattermapbox\":[{\"marker\":{\"colorbar\":{\"outlinewidth\":0,\"ticks\":\"\"}},\"type\":\"scattermapbox\"}],\"scatterpolargl\":[{\"marker\":{\"colorbar\":{\"outlinewidth\":0,\"ticks\":\"\"}},\"type\":\"scatterpolargl\"}],\"scatterpolar\":[{\"marker\":{\"colorbar\":{\"outlinewidth\":0,\"ticks\":\"\"}},\"type\":\"scatterpolar\"}],\"scatter\":[{\"fillpattern\":{\"fillmode\":\"overlay\",\"size\":10,\"solidity\":0.2},\"type\":\"scatter\"}],\"scatterternary\":[{\"marker\":{\"colorbar\":{\"outlinewidth\":0,\"ticks\":\"\"}},\"type\":\"scatterternary\"}],\"surface\":[{\"colorbar\":{\"outlinewidth\":0,\"ticks\":\"\"},\"colorscale\":[[0.0,\"#0d0887\"],[0.1111111111111111,\"#46039f\"],[0.2222222222222222,\"#7201a8\"],[0.3333333333333333,\"#9c179e\"],[0.4444444444444444,\"#bd3786\"],[0.5555555555555556,\"#d8576b\"],[0.6666666666666666,\"#ed7953\"],[0.7777777777777778,\"#fb9f3a\"],[0.8888888888888888,\"#fdca26\"],[1.0,\"#f0f921\"]],\"type\":\"surface\"}],\"table\":[{\"cells\":{\"fill\":{\"color\":\"#EBF0F8\"},\"line\":{\"color\":\"white\"}},\"header\":{\"fill\":{\"color\":\"#C8D4E3\"},\"line\":{\"color\":\"white\"}},\"type\":\"table\"}]},\"layout\":{\"annotationdefaults\":{\"arrowcolor\":\"#2a3f5f\",\"arrowhead\":0,\"arrowwidth\":1},\"autotypenumbers\":\"strict\",\"coloraxis\":{\"colorbar\":{\"outlinewidth\":0,\"ticks\":\"\"}},\"colorscale\":{\"diverging\":[[0,\"#8e0152\"],[0.1,\"#c51b7d\"],[0.2,\"#de77ae\"],[0.3,\"#f1b6da\"],[0.4,\"#fde0ef\"],[0.5,\"#f7f7f7\"],[0.6,\"#e6f5d0\"],[0.7,\"#b8e186\"],[0.8,\"#7fbc41\"],[0.9,\"#4d9221\"],[1,\"#276419\"]],\"sequential\":[[0.0,\"#0d0887\"],[0.1111111111111111,\"#46039f\"],[0.2222222222222222,\"#7201a8\"],[0.3333333333333333,\"#9c179e\"],[0.4444444444444444,\"#bd3786\"],[0.5555555555555556,\"#d8576b\"],[0.6666666666666666,\"#ed7953\"],[0.7777777777777778,\"#fb9f3a\"],[0.8888888888888888,\"#fdca26\"],[1.0,\"#f0f921\"]],\"sequentialminus\":[[0.0,\"#0d0887\"],[0.1111111111111111,\"#46039f\"],[0.2222222222222222,\"#7201a8\"],[0.3333333333333333,\"#9c179e\"],[0.4444444444444444,\"#bd3786\"],[0.5555555555555556,\"#d8576b\"],[0.6666666666666666,\"#ed7953\"],[0.7777777777777778,\"#fb9f3a\"],[0.8888888888888888,\"#fdca26\"],[1.0,\"#f0f921\"]]},\"colorway\":[\"#636efa\",\"#EF553B\",\"#00cc96\",\"#ab63fa\",\"#FFA15A\",\"#19d3f3\",\"#FF6692\",\"#B6E880\",\"#FF97FF\",\"#FECB52\"],\"font\":{\"color\":\"#2a3f5f\"},\"geo\":{\"bgcolor\":\"white\",\"lakecolor\":\"white\",\"landcolor\":\"#E5ECF6\",\"showlakes\":true,\"showland\":true,\"subunitcolor\":\"white\"},\"hoverlabel\":{\"align\":\"left\"},\"hovermode\":\"closest\",\"mapbox\":{\"style\":\"light\"},\"paper_bgcolor\":\"white\",\"plot_bgcolor\":\"#E5ECF6\",\"polar\":{\"angularaxis\":{\"gridcolor\":\"white\",\"linecolor\":\"white\",\"ticks\":\"\"},\"bgcolor\":\"#E5ECF6\",\"radialaxis\":{\"gridcolor\":\"white\",\"linecolor\":\"white\",\"ticks\":\"\"}},\"scene\":{\"xaxis\":{\"backgroundcolor\":\"#E5ECF6\",\"gridcolor\":\"white\",\"gridwidth\":2,\"linecolor\":\"white\",\"showbackground\":true,\"ticks\":\"\",\"zerolinecolor\":\"white\"},\"yaxis\":{\"backgroundcolor\":\"#E5ECF6\",\"gridcolor\":\"white\",\"gridwidth\":2,\"linecolor\":\"white\",\"showbackground\":true,\"ticks\":\"\",\"zerolinecolor\":\"white\"},\"zaxis\":{\"backgroundcolor\":\"#E5ECF6\",\"gridcolor\":\"white\",\"gridwidth\":2,\"linecolor\":\"white\",\"showbackground\":true,\"ticks\":\"\",\"zerolinecolor\":\"white\"}},\"shapedefaults\":{\"line\":{\"color\":\"#2a3f5f\"}},\"ternary\":{\"aaxis\":{\"gridcolor\":\"white\",\"linecolor\":\"white\",\"ticks\":\"\"},\"baxis\":{\"gridcolor\":\"white\",\"linecolor\":\"white\",\"ticks\":\"\"},\"bgcolor\":\"#E5ECF6\",\"caxis\":{\"gridcolor\":\"white\",\"linecolor\":\"white\",\"ticks\":\"\"}},\"title\":{\"x\":0.05},\"xaxis\":{\"automargin\":true,\"gridcolor\":\"white\",\"linecolor\":\"white\",\"ticks\":\"\",\"title\":{\"standoff\":15},\"zerolinecolor\":\"white\",\"zerolinewidth\":2},\"yaxis\":{\"automargin\":true,\"gridcolor\":\"white\",\"linecolor\":\"white\",\"ticks\":\"\",\"title\":{\"standoff\":15},\"zerolinecolor\":\"white\",\"zerolinewidth\":2}}}},                        {\"responsive\": true}                    ).then(function(){\n",
       "                            \n",
       "var gd = document.getElementById('70a61e99-b80b-4f41-97cc-709a466b64d0');\n",
       "var x = new MutationObserver(function (mutations, observer) {{\n",
       "        var display = window.getComputedStyle(gd).display;\n",
       "        if (!display || display === 'none') {{\n",
       "            console.log([gd, 'removed!']);\n",
       "            Plotly.purge(gd);\n",
       "            observer.disconnect();\n",
       "        }}\n",
       "}});\n",
       "\n",
       "// Listen for the removal of the full notebook cells\n",
       "var notebookContainer = gd.closest('#notebook-container');\n",
       "if (notebookContainer) {{\n",
       "    x.observe(notebookContainer, {childList: true});\n",
       "}}\n",
       "\n",
       "// Listen for the clearing of the current output cell\n",
       "var outputEl = gd.closest('.output');\n",
       "if (outputEl) {{\n",
       "    x.observe(outputEl, {childList: true});\n",
       "}}\n",
       "\n",
       "                        })                };                });            </script>        </div>"
      ]
     },
     "metadata": {},
     "output_type": "display_data"
    }
   ],
   "source": [
    "trace1 = go.Scatter(\n",
    "    x = df_150.Price,\n",
    "    y = df_150.UnitsSold,\n",
    "    mode = 'markers',\n",
    "    name = \"comments\"\n",
    ")\n",
    "\n",
    "trace2 = go.Scatter(\n",
    "    x = df_150.Price,\n",
    "    y = df_150.TotalRevenue,\n",
    "    mode = 'markers',\n",
    "    name = \"duration\"\n",
    ")\n",
    "\n",
    "data = [trace1, trace2]\n",
    "\n",
    "layout = go.Layout(\n",
    "    xaxis3 = dict(domain = [0, 0.45], anchor = 'y3'),\n",
    "    yaxis3 = dict(domain = [0.55, 1], anchor = 'x3', title = 'Units Sold'),\n",
    "    xaxis4 = dict(domain = [0.55, 1], anchor = 'y4'),\n",
    "    yaxis4 = dict(domain =[0.55, 1], anchor = 'x4', title = 'Total Revenue'),\n",
    "    \n",
    "    title = 'Units Sold Vs Total Revenue'\n",
    ")\n",
    "\n",
    "fig = go.Figure(data = data, layout = layout)\n",
    "iplot(data)"
   ]
  },
  {
   "cell_type": "code",
   "execution_count": null,
   "id": "cf584cad",
   "metadata": {},
   "outputs": [],
   "source": []
  }
 ],
 "metadata": {
  "kernelspec": {
   "display_name": "Python 3 (ipykernel)",
   "language": "python",
   "name": "python3"
  },
  "language_info": {
   "codemirror_mode": {
    "name": "ipython",
    "version": 3
   },
   "file_extension": ".py",
   "mimetype": "text/x-python",
   "name": "python",
   "nbconvert_exporter": "python",
   "pygments_lexer": "ipython3",
   "version": "3.11.5"
  }
 },
 "nbformat": 4,
 "nbformat_minor": 5
}
